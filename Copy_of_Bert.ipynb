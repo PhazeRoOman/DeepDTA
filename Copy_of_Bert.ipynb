{
  "nbformat": 4,
  "nbformat_minor": 0,
  "metadata": {
    "kernelspec": {
      "display_name": "Python 3",
      "language": "python",
      "name": "python3"
    },
    "language_info": {
      "codemirror_mode": {
        "name": "ipython",
        "version": 3
      },
      "file_extension": ".py",
      "mimetype": "text/x-python",
      "name": "python",
      "nbconvert_exporter": "python",
      "pygments_lexer": "ipython3",
      "version": "3.7.2"
    },
    "colab": {
      "provenance": [],
      "include_colab_link": true
    },
    "accelerator": "GPU",
    "widgets": {
      "application/vnd.jupyter.widget-state+json": {
        "16f5717d7a3147f88a1ad3f8b6824630": {
          "model_module": "@jupyter-widgets/controls",
          "model_name": "HBoxModel",
          "model_module_version": "1.5.0",
          "state": {
            "_dom_classes": [],
            "_model_module": "@jupyter-widgets/controls",
            "_model_module_version": "1.5.0",
            "_model_name": "HBoxModel",
            "_view_count": null,
            "_view_module": "@jupyter-widgets/controls",
            "_view_module_version": "1.5.0",
            "_view_name": "HBoxView",
            "box_style": "",
            "children": [
              "IPY_MODEL_d6ffd88327994f61a1b73a59a75a3135",
              "IPY_MODEL_9c479a1be812406a9100b8ced40a8c0f",
              "IPY_MODEL_7fbecbfc7e0544b0afebafcb00c18fcc"
            ],
            "layout": "IPY_MODEL_3539b2e4d965495ab3363caf2c85505f"
          }
        },
        "d6ffd88327994f61a1b73a59a75a3135": {
          "model_module": "@jupyter-widgets/controls",
          "model_name": "HTMLModel",
          "model_module_version": "1.5.0",
          "state": {
            "_dom_classes": [],
            "_model_module": "@jupyter-widgets/controls",
            "_model_module_version": "1.5.0",
            "_model_name": "HTMLModel",
            "_view_count": null,
            "_view_module": "@jupyter-widgets/controls",
            "_view_module_version": "1.5.0",
            "_view_name": "HTMLView",
            "description": "",
            "description_tooltip": null,
            "layout": "IPY_MODEL_ebe49b4bde434c7c86ec0a3f0e9f9a29",
            "placeholder": "​",
            "style": "IPY_MODEL_c77c68d80cb945a99e702b89572ff611",
            "value": "Downloading (…)okenizer_config.json: 100%"
          }
        },
        "9c479a1be812406a9100b8ced40a8c0f": {
          "model_module": "@jupyter-widgets/controls",
          "model_name": "FloatProgressModel",
          "model_module_version": "1.5.0",
          "state": {
            "_dom_classes": [],
            "_model_module": "@jupyter-widgets/controls",
            "_model_module_version": "1.5.0",
            "_model_name": "FloatProgressModel",
            "_view_count": null,
            "_view_module": "@jupyter-widgets/controls",
            "_view_module_version": "1.5.0",
            "_view_name": "ProgressView",
            "bar_style": "success",
            "description": "",
            "description_tooltip": null,
            "layout": "IPY_MODEL_738972cbbb654cc68ededb2260a5596c",
            "max": 86,
            "min": 0,
            "orientation": "horizontal",
            "style": "IPY_MODEL_5bb9f757039b48aabc5b628fee42146f",
            "value": 86
          }
        },
        "7fbecbfc7e0544b0afebafcb00c18fcc": {
          "model_module": "@jupyter-widgets/controls",
          "model_name": "HTMLModel",
          "model_module_version": "1.5.0",
          "state": {
            "_dom_classes": [],
            "_model_module": "@jupyter-widgets/controls",
            "_model_module_version": "1.5.0",
            "_model_name": "HTMLModel",
            "_view_count": null,
            "_view_module": "@jupyter-widgets/controls",
            "_view_module_version": "1.5.0",
            "_view_name": "HTMLView",
            "description": "",
            "description_tooltip": null,
            "layout": "IPY_MODEL_0da64823617b4aa180f7827ab247fea4",
            "placeholder": "​",
            "style": "IPY_MODEL_fe5d130825f84fff8bc98df423bf1119",
            "value": " 86.0/86.0 [00:00&lt;00:00, 5.69kB/s]"
          }
        },
        "3539b2e4d965495ab3363caf2c85505f": {
          "model_module": "@jupyter-widgets/base",
          "model_name": "LayoutModel",
          "model_module_version": "1.2.0",
          "state": {
            "_model_module": "@jupyter-widgets/base",
            "_model_module_version": "1.2.0",
            "_model_name": "LayoutModel",
            "_view_count": null,
            "_view_module": "@jupyter-widgets/base",
            "_view_module_version": "1.2.0",
            "_view_name": "LayoutView",
            "align_content": null,
            "align_items": null,
            "align_self": null,
            "border": null,
            "bottom": null,
            "display": null,
            "flex": null,
            "flex_flow": null,
            "grid_area": null,
            "grid_auto_columns": null,
            "grid_auto_flow": null,
            "grid_auto_rows": null,
            "grid_column": null,
            "grid_gap": null,
            "grid_row": null,
            "grid_template_areas": null,
            "grid_template_columns": null,
            "grid_template_rows": null,
            "height": null,
            "justify_content": null,
            "justify_items": null,
            "left": null,
            "margin": null,
            "max_height": null,
            "max_width": null,
            "min_height": null,
            "min_width": null,
            "object_fit": null,
            "object_position": null,
            "order": null,
            "overflow": null,
            "overflow_x": null,
            "overflow_y": null,
            "padding": null,
            "right": null,
            "top": null,
            "visibility": null,
            "width": null
          }
        },
        "ebe49b4bde434c7c86ec0a3f0e9f9a29": {
          "model_module": "@jupyter-widgets/base",
          "model_name": "LayoutModel",
          "model_module_version": "1.2.0",
          "state": {
            "_model_module": "@jupyter-widgets/base",
            "_model_module_version": "1.2.0",
            "_model_name": "LayoutModel",
            "_view_count": null,
            "_view_module": "@jupyter-widgets/base",
            "_view_module_version": "1.2.0",
            "_view_name": "LayoutView",
            "align_content": null,
            "align_items": null,
            "align_self": null,
            "border": null,
            "bottom": null,
            "display": null,
            "flex": null,
            "flex_flow": null,
            "grid_area": null,
            "grid_auto_columns": null,
            "grid_auto_flow": null,
            "grid_auto_rows": null,
            "grid_column": null,
            "grid_gap": null,
            "grid_row": null,
            "grid_template_areas": null,
            "grid_template_columns": null,
            "grid_template_rows": null,
            "height": null,
            "justify_content": null,
            "justify_items": null,
            "left": null,
            "margin": null,
            "max_height": null,
            "max_width": null,
            "min_height": null,
            "min_width": null,
            "object_fit": null,
            "object_position": null,
            "order": null,
            "overflow": null,
            "overflow_x": null,
            "overflow_y": null,
            "padding": null,
            "right": null,
            "top": null,
            "visibility": null,
            "width": null
          }
        },
        "c77c68d80cb945a99e702b89572ff611": {
          "model_module": "@jupyter-widgets/controls",
          "model_name": "DescriptionStyleModel",
          "model_module_version": "1.5.0",
          "state": {
            "_model_module": "@jupyter-widgets/controls",
            "_model_module_version": "1.5.0",
            "_model_name": "DescriptionStyleModel",
            "_view_count": null,
            "_view_module": "@jupyter-widgets/base",
            "_view_module_version": "1.2.0",
            "_view_name": "StyleView",
            "description_width": ""
          }
        },
        "738972cbbb654cc68ededb2260a5596c": {
          "model_module": "@jupyter-widgets/base",
          "model_name": "LayoutModel",
          "model_module_version": "1.2.0",
          "state": {
            "_model_module": "@jupyter-widgets/base",
            "_model_module_version": "1.2.0",
            "_model_name": "LayoutModel",
            "_view_count": null,
            "_view_module": "@jupyter-widgets/base",
            "_view_module_version": "1.2.0",
            "_view_name": "LayoutView",
            "align_content": null,
            "align_items": null,
            "align_self": null,
            "border": null,
            "bottom": null,
            "display": null,
            "flex": null,
            "flex_flow": null,
            "grid_area": null,
            "grid_auto_columns": null,
            "grid_auto_flow": null,
            "grid_auto_rows": null,
            "grid_column": null,
            "grid_gap": null,
            "grid_row": null,
            "grid_template_areas": null,
            "grid_template_columns": null,
            "grid_template_rows": null,
            "height": null,
            "justify_content": null,
            "justify_items": null,
            "left": null,
            "margin": null,
            "max_height": null,
            "max_width": null,
            "min_height": null,
            "min_width": null,
            "object_fit": null,
            "object_position": null,
            "order": null,
            "overflow": null,
            "overflow_x": null,
            "overflow_y": null,
            "padding": null,
            "right": null,
            "top": null,
            "visibility": null,
            "width": null
          }
        },
        "5bb9f757039b48aabc5b628fee42146f": {
          "model_module": "@jupyter-widgets/controls",
          "model_name": "ProgressStyleModel",
          "model_module_version": "1.5.0",
          "state": {
            "_model_module": "@jupyter-widgets/controls",
            "_model_module_version": "1.5.0",
            "_model_name": "ProgressStyleModel",
            "_view_count": null,
            "_view_module": "@jupyter-widgets/base",
            "_view_module_version": "1.2.0",
            "_view_name": "StyleView",
            "bar_color": null,
            "description_width": ""
          }
        },
        "0da64823617b4aa180f7827ab247fea4": {
          "model_module": "@jupyter-widgets/base",
          "model_name": "LayoutModel",
          "model_module_version": "1.2.0",
          "state": {
            "_model_module": "@jupyter-widgets/base",
            "_model_module_version": "1.2.0",
            "_model_name": "LayoutModel",
            "_view_count": null,
            "_view_module": "@jupyter-widgets/base",
            "_view_module_version": "1.2.0",
            "_view_name": "LayoutView",
            "align_content": null,
            "align_items": null,
            "align_self": null,
            "border": null,
            "bottom": null,
            "display": null,
            "flex": null,
            "flex_flow": null,
            "grid_area": null,
            "grid_auto_columns": null,
            "grid_auto_flow": null,
            "grid_auto_rows": null,
            "grid_column": null,
            "grid_gap": null,
            "grid_row": null,
            "grid_template_areas": null,
            "grid_template_columns": null,
            "grid_template_rows": null,
            "height": null,
            "justify_content": null,
            "justify_items": null,
            "left": null,
            "margin": null,
            "max_height": null,
            "max_width": null,
            "min_height": null,
            "min_width": null,
            "object_fit": null,
            "object_position": null,
            "order": null,
            "overflow": null,
            "overflow_x": null,
            "overflow_y": null,
            "padding": null,
            "right": null,
            "top": null,
            "visibility": null,
            "width": null
          }
        },
        "fe5d130825f84fff8bc98df423bf1119": {
          "model_module": "@jupyter-widgets/controls",
          "model_name": "DescriptionStyleModel",
          "model_module_version": "1.5.0",
          "state": {
            "_model_module": "@jupyter-widgets/controls",
            "_model_module_version": "1.5.0",
            "_model_name": "DescriptionStyleModel",
            "_view_count": null,
            "_view_module": "@jupyter-widgets/base",
            "_view_module_version": "1.2.0",
            "_view_name": "StyleView",
            "description_width": ""
          }
        },
        "3a743a3e842b482a84866016105ab825": {
          "model_module": "@jupyter-widgets/controls",
          "model_name": "HBoxModel",
          "model_module_version": "1.5.0",
          "state": {
            "_dom_classes": [],
            "_model_module": "@jupyter-widgets/controls",
            "_model_module_version": "1.5.0",
            "_model_name": "HBoxModel",
            "_view_count": null,
            "_view_module": "@jupyter-widgets/controls",
            "_view_module_version": "1.5.0",
            "_view_name": "HBoxView",
            "box_style": "",
            "children": [
              "IPY_MODEL_b92b79b8cb29487a9ad78829cd58b16f",
              "IPY_MODEL_d63f7adbe7064ef6a2b71e572d9e4499",
              "IPY_MODEL_c3a23424886f42c785572d0fb5348c9d"
            ],
            "layout": "IPY_MODEL_806c4397a05a4b3a8994e541e91cad83"
          }
        },
        "b92b79b8cb29487a9ad78829cd58b16f": {
          "model_module": "@jupyter-widgets/controls",
          "model_name": "HTMLModel",
          "model_module_version": "1.5.0",
          "state": {
            "_dom_classes": [],
            "_model_module": "@jupyter-widgets/controls",
            "_model_module_version": "1.5.0",
            "_model_name": "HTMLModel",
            "_view_count": null,
            "_view_module": "@jupyter-widgets/controls",
            "_view_module_version": "1.5.0",
            "_view_name": "HTMLView",
            "description": "",
            "description_tooltip": null,
            "layout": "IPY_MODEL_fd4d701e08c64b769c171ad24f77d316",
            "placeholder": "​",
            "style": "IPY_MODEL_f5e987488fb147f48a65e1cd1fb2ff62",
            "value": "Downloading (…)lve/main/config.json: 100%"
          }
        },
        "d63f7adbe7064ef6a2b71e572d9e4499": {
          "model_module": "@jupyter-widgets/controls",
          "model_name": "FloatProgressModel",
          "model_module_version": "1.5.0",
          "state": {
            "_dom_classes": [],
            "_model_module": "@jupyter-widgets/controls",
            "_model_module_version": "1.5.0",
            "_model_name": "FloatProgressModel",
            "_view_count": null,
            "_view_module": "@jupyter-widgets/controls",
            "_view_module_version": "1.5.0",
            "_view_name": "ProgressView",
            "bar_style": "success",
            "description": "",
            "description_tooltip": null,
            "layout": "IPY_MODEL_2c44221d71884bf48e4283d5291487f9",
            "max": 361,
            "min": 0,
            "orientation": "horizontal",
            "style": "IPY_MODEL_64b2d42cd13b4479b8e6ff6eed8e129e",
            "value": 361
          }
        },
        "c3a23424886f42c785572d0fb5348c9d": {
          "model_module": "@jupyter-widgets/controls",
          "model_name": "HTMLModel",
          "model_module_version": "1.5.0",
          "state": {
            "_dom_classes": [],
            "_model_module": "@jupyter-widgets/controls",
            "_model_module_version": "1.5.0",
            "_model_name": "HTMLModel",
            "_view_count": null,
            "_view_module": "@jupyter-widgets/controls",
            "_view_module_version": "1.5.0",
            "_view_name": "HTMLView",
            "description": "",
            "description_tooltip": null,
            "layout": "IPY_MODEL_2a331332051042218817d37d3dd80ed5",
            "placeholder": "​",
            "style": "IPY_MODEL_01f468fb38344a648e47953fb4b7134e",
            "value": " 361/361 [00:00&lt;00:00, 23.3kB/s]"
          }
        },
        "806c4397a05a4b3a8994e541e91cad83": {
          "model_module": "@jupyter-widgets/base",
          "model_name": "LayoutModel",
          "model_module_version": "1.2.0",
          "state": {
            "_model_module": "@jupyter-widgets/base",
            "_model_module_version": "1.2.0",
            "_model_name": "LayoutModel",
            "_view_count": null,
            "_view_module": "@jupyter-widgets/base",
            "_view_module_version": "1.2.0",
            "_view_name": "LayoutView",
            "align_content": null,
            "align_items": null,
            "align_self": null,
            "border": null,
            "bottom": null,
            "display": null,
            "flex": null,
            "flex_flow": null,
            "grid_area": null,
            "grid_auto_columns": null,
            "grid_auto_flow": null,
            "grid_auto_rows": null,
            "grid_column": null,
            "grid_gap": null,
            "grid_row": null,
            "grid_template_areas": null,
            "grid_template_columns": null,
            "grid_template_rows": null,
            "height": null,
            "justify_content": null,
            "justify_items": null,
            "left": null,
            "margin": null,
            "max_height": null,
            "max_width": null,
            "min_height": null,
            "min_width": null,
            "object_fit": null,
            "object_position": null,
            "order": null,
            "overflow": null,
            "overflow_x": null,
            "overflow_y": null,
            "padding": null,
            "right": null,
            "top": null,
            "visibility": null,
            "width": null
          }
        },
        "fd4d701e08c64b769c171ad24f77d316": {
          "model_module": "@jupyter-widgets/base",
          "model_name": "LayoutModel",
          "model_module_version": "1.2.0",
          "state": {
            "_model_module": "@jupyter-widgets/base",
            "_model_module_version": "1.2.0",
            "_model_name": "LayoutModel",
            "_view_count": null,
            "_view_module": "@jupyter-widgets/base",
            "_view_module_version": "1.2.0",
            "_view_name": "LayoutView",
            "align_content": null,
            "align_items": null,
            "align_self": null,
            "border": null,
            "bottom": null,
            "display": null,
            "flex": null,
            "flex_flow": null,
            "grid_area": null,
            "grid_auto_columns": null,
            "grid_auto_flow": null,
            "grid_auto_rows": null,
            "grid_column": null,
            "grid_gap": null,
            "grid_row": null,
            "grid_template_areas": null,
            "grid_template_columns": null,
            "grid_template_rows": null,
            "height": null,
            "justify_content": null,
            "justify_items": null,
            "left": null,
            "margin": null,
            "max_height": null,
            "max_width": null,
            "min_height": null,
            "min_width": null,
            "object_fit": null,
            "object_position": null,
            "order": null,
            "overflow": null,
            "overflow_x": null,
            "overflow_y": null,
            "padding": null,
            "right": null,
            "top": null,
            "visibility": null,
            "width": null
          }
        },
        "f5e987488fb147f48a65e1cd1fb2ff62": {
          "model_module": "@jupyter-widgets/controls",
          "model_name": "DescriptionStyleModel",
          "model_module_version": "1.5.0",
          "state": {
            "_model_module": "@jupyter-widgets/controls",
            "_model_module_version": "1.5.0",
            "_model_name": "DescriptionStyleModel",
            "_view_count": null,
            "_view_module": "@jupyter-widgets/base",
            "_view_module_version": "1.2.0",
            "_view_name": "StyleView",
            "description_width": ""
          }
        },
        "2c44221d71884bf48e4283d5291487f9": {
          "model_module": "@jupyter-widgets/base",
          "model_name": "LayoutModel",
          "model_module_version": "1.2.0",
          "state": {
            "_model_module": "@jupyter-widgets/base",
            "_model_module_version": "1.2.0",
            "_model_name": "LayoutModel",
            "_view_count": null,
            "_view_module": "@jupyter-widgets/base",
            "_view_module_version": "1.2.0",
            "_view_name": "LayoutView",
            "align_content": null,
            "align_items": null,
            "align_self": null,
            "border": null,
            "bottom": null,
            "display": null,
            "flex": null,
            "flex_flow": null,
            "grid_area": null,
            "grid_auto_columns": null,
            "grid_auto_flow": null,
            "grid_auto_rows": null,
            "grid_column": null,
            "grid_gap": null,
            "grid_row": null,
            "grid_template_areas": null,
            "grid_template_columns": null,
            "grid_template_rows": null,
            "height": null,
            "justify_content": null,
            "justify_items": null,
            "left": null,
            "margin": null,
            "max_height": null,
            "max_width": null,
            "min_height": null,
            "min_width": null,
            "object_fit": null,
            "object_position": null,
            "order": null,
            "overflow": null,
            "overflow_x": null,
            "overflow_y": null,
            "padding": null,
            "right": null,
            "top": null,
            "visibility": null,
            "width": null
          }
        },
        "64b2d42cd13b4479b8e6ff6eed8e129e": {
          "model_module": "@jupyter-widgets/controls",
          "model_name": "ProgressStyleModel",
          "model_module_version": "1.5.0",
          "state": {
            "_model_module": "@jupyter-widgets/controls",
            "_model_module_version": "1.5.0",
            "_model_name": "ProgressStyleModel",
            "_view_count": null,
            "_view_module": "@jupyter-widgets/base",
            "_view_module_version": "1.2.0",
            "_view_name": "StyleView",
            "bar_color": null,
            "description_width": ""
          }
        },
        "2a331332051042218817d37d3dd80ed5": {
          "model_module": "@jupyter-widgets/base",
          "model_name": "LayoutModel",
          "model_module_version": "1.2.0",
          "state": {
            "_model_module": "@jupyter-widgets/base",
            "_model_module_version": "1.2.0",
            "_model_name": "LayoutModel",
            "_view_count": null,
            "_view_module": "@jupyter-widgets/base",
            "_view_module_version": "1.2.0",
            "_view_name": "LayoutView",
            "align_content": null,
            "align_items": null,
            "align_self": null,
            "border": null,
            "bottom": null,
            "display": null,
            "flex": null,
            "flex_flow": null,
            "grid_area": null,
            "grid_auto_columns": null,
            "grid_auto_flow": null,
            "grid_auto_rows": null,
            "grid_column": null,
            "grid_gap": null,
            "grid_row": null,
            "grid_template_areas": null,
            "grid_template_columns": null,
            "grid_template_rows": null,
            "height": null,
            "justify_content": null,
            "justify_items": null,
            "left": null,
            "margin": null,
            "max_height": null,
            "max_width": null,
            "min_height": null,
            "min_width": null,
            "object_fit": null,
            "object_position": null,
            "order": null,
            "overflow": null,
            "overflow_x": null,
            "overflow_y": null,
            "padding": null,
            "right": null,
            "top": null,
            "visibility": null,
            "width": null
          }
        },
        "01f468fb38344a648e47953fb4b7134e": {
          "model_module": "@jupyter-widgets/controls",
          "model_name": "DescriptionStyleModel",
          "model_module_version": "1.5.0",
          "state": {
            "_model_module": "@jupyter-widgets/controls",
            "_model_module_version": "1.5.0",
            "_model_name": "DescriptionStyleModel",
            "_view_count": null,
            "_view_module": "@jupyter-widgets/base",
            "_view_module_version": "1.2.0",
            "_view_name": "StyleView",
            "description_width": ""
          }
        },
        "22c01891115f4acf930bca5750a0db73": {
          "model_module": "@jupyter-widgets/controls",
          "model_name": "HBoxModel",
          "model_module_version": "1.5.0",
          "state": {
            "_dom_classes": [],
            "_model_module": "@jupyter-widgets/controls",
            "_model_module_version": "1.5.0",
            "_model_name": "HBoxModel",
            "_view_count": null,
            "_view_module": "@jupyter-widgets/controls",
            "_view_module_version": "1.5.0",
            "_view_name": "HBoxView",
            "box_style": "",
            "children": [
              "IPY_MODEL_333ea5b9dd174e0f92d7314ad0ed44d6",
              "IPY_MODEL_70dbfe38049f4547b446f4f33f1cedb1",
              "IPY_MODEL_b571c23ef97848798c670e1825f660fc"
            ],
            "layout": "IPY_MODEL_c947d8d085d8461fa7e6deb86b5be98b"
          }
        },
        "333ea5b9dd174e0f92d7314ad0ed44d6": {
          "model_module": "@jupyter-widgets/controls",
          "model_name": "HTMLModel",
          "model_module_version": "1.5.0",
          "state": {
            "_dom_classes": [],
            "_model_module": "@jupyter-widgets/controls",
            "_model_module_version": "1.5.0",
            "_model_name": "HTMLModel",
            "_view_count": null,
            "_view_module": "@jupyter-widgets/controls",
            "_view_module_version": "1.5.0",
            "_view_name": "HTMLView",
            "description": "",
            "description_tooltip": null,
            "layout": "IPY_MODEL_95bd8b40a3264498a2090bb1c9d89a54",
            "placeholder": "​",
            "style": "IPY_MODEL_575a6a4fa98b47d2929c3a76e2343fde",
            "value": "Downloading (…)solve/main/vocab.txt: 100%"
          }
        },
        "70dbfe38049f4547b446f4f33f1cedb1": {
          "model_module": "@jupyter-widgets/controls",
          "model_name": "FloatProgressModel",
          "model_module_version": "1.5.0",
          "state": {
            "_dom_classes": [],
            "_model_module": "@jupyter-widgets/controls",
            "_model_module_version": "1.5.0",
            "_model_name": "FloatProgressModel",
            "_view_count": null,
            "_view_module": "@jupyter-widgets/controls",
            "_view_module_version": "1.5.0",
            "_view_name": "ProgressView",
            "bar_style": "success",
            "description": "",
            "description_tooltip": null,
            "layout": "IPY_MODEL_1d101a15889a4cdb964fa0d69ce40cec",
            "max": 81,
            "min": 0,
            "orientation": "horizontal",
            "style": "IPY_MODEL_a429ffac2e404c20a5807bd3a328eb82",
            "value": 81
          }
        },
        "b571c23ef97848798c670e1825f660fc": {
          "model_module": "@jupyter-widgets/controls",
          "model_name": "HTMLModel",
          "model_module_version": "1.5.0",
          "state": {
            "_dom_classes": [],
            "_model_module": "@jupyter-widgets/controls",
            "_model_module_version": "1.5.0",
            "_model_name": "HTMLModel",
            "_view_count": null,
            "_view_module": "@jupyter-widgets/controls",
            "_view_module_version": "1.5.0",
            "_view_name": "HTMLView",
            "description": "",
            "description_tooltip": null,
            "layout": "IPY_MODEL_978fec3095444c22a588d8e230accd24",
            "placeholder": "​",
            "style": "IPY_MODEL_c8e0f86b8dd842208f47fba01413e1d2",
            "value": " 81.0/81.0 [00:00&lt;00:00, 4.89kB/s]"
          }
        },
        "c947d8d085d8461fa7e6deb86b5be98b": {
          "model_module": "@jupyter-widgets/base",
          "model_name": "LayoutModel",
          "model_module_version": "1.2.0",
          "state": {
            "_model_module": "@jupyter-widgets/base",
            "_model_module_version": "1.2.0",
            "_model_name": "LayoutModel",
            "_view_count": null,
            "_view_module": "@jupyter-widgets/base",
            "_view_module_version": "1.2.0",
            "_view_name": "LayoutView",
            "align_content": null,
            "align_items": null,
            "align_self": null,
            "border": null,
            "bottom": null,
            "display": null,
            "flex": null,
            "flex_flow": null,
            "grid_area": null,
            "grid_auto_columns": null,
            "grid_auto_flow": null,
            "grid_auto_rows": null,
            "grid_column": null,
            "grid_gap": null,
            "grid_row": null,
            "grid_template_areas": null,
            "grid_template_columns": null,
            "grid_template_rows": null,
            "height": null,
            "justify_content": null,
            "justify_items": null,
            "left": null,
            "margin": null,
            "max_height": null,
            "max_width": null,
            "min_height": null,
            "min_width": null,
            "object_fit": null,
            "object_position": null,
            "order": null,
            "overflow": null,
            "overflow_x": null,
            "overflow_y": null,
            "padding": null,
            "right": null,
            "top": null,
            "visibility": null,
            "width": null
          }
        },
        "95bd8b40a3264498a2090bb1c9d89a54": {
          "model_module": "@jupyter-widgets/base",
          "model_name": "LayoutModel",
          "model_module_version": "1.2.0",
          "state": {
            "_model_module": "@jupyter-widgets/base",
            "_model_module_version": "1.2.0",
            "_model_name": "LayoutModel",
            "_view_count": null,
            "_view_module": "@jupyter-widgets/base",
            "_view_module_version": "1.2.0",
            "_view_name": "LayoutView",
            "align_content": null,
            "align_items": null,
            "align_self": null,
            "border": null,
            "bottom": null,
            "display": null,
            "flex": null,
            "flex_flow": null,
            "grid_area": null,
            "grid_auto_columns": null,
            "grid_auto_flow": null,
            "grid_auto_rows": null,
            "grid_column": null,
            "grid_gap": null,
            "grid_row": null,
            "grid_template_areas": null,
            "grid_template_columns": null,
            "grid_template_rows": null,
            "height": null,
            "justify_content": null,
            "justify_items": null,
            "left": null,
            "margin": null,
            "max_height": null,
            "max_width": null,
            "min_height": null,
            "min_width": null,
            "object_fit": null,
            "object_position": null,
            "order": null,
            "overflow": null,
            "overflow_x": null,
            "overflow_y": null,
            "padding": null,
            "right": null,
            "top": null,
            "visibility": null,
            "width": null
          }
        },
        "575a6a4fa98b47d2929c3a76e2343fde": {
          "model_module": "@jupyter-widgets/controls",
          "model_name": "DescriptionStyleModel",
          "model_module_version": "1.5.0",
          "state": {
            "_model_module": "@jupyter-widgets/controls",
            "_model_module_version": "1.5.0",
            "_model_name": "DescriptionStyleModel",
            "_view_count": null,
            "_view_module": "@jupyter-widgets/base",
            "_view_module_version": "1.2.0",
            "_view_name": "StyleView",
            "description_width": ""
          }
        },
        "1d101a15889a4cdb964fa0d69ce40cec": {
          "model_module": "@jupyter-widgets/base",
          "model_name": "LayoutModel",
          "model_module_version": "1.2.0",
          "state": {
            "_model_module": "@jupyter-widgets/base",
            "_model_module_version": "1.2.0",
            "_model_name": "LayoutModel",
            "_view_count": null,
            "_view_module": "@jupyter-widgets/base",
            "_view_module_version": "1.2.0",
            "_view_name": "LayoutView",
            "align_content": null,
            "align_items": null,
            "align_self": null,
            "border": null,
            "bottom": null,
            "display": null,
            "flex": null,
            "flex_flow": null,
            "grid_area": null,
            "grid_auto_columns": null,
            "grid_auto_flow": null,
            "grid_auto_rows": null,
            "grid_column": null,
            "grid_gap": null,
            "grid_row": null,
            "grid_template_areas": null,
            "grid_template_columns": null,
            "grid_template_rows": null,
            "height": null,
            "justify_content": null,
            "justify_items": null,
            "left": null,
            "margin": null,
            "max_height": null,
            "max_width": null,
            "min_height": null,
            "min_width": null,
            "object_fit": null,
            "object_position": null,
            "order": null,
            "overflow": null,
            "overflow_x": null,
            "overflow_y": null,
            "padding": null,
            "right": null,
            "top": null,
            "visibility": null,
            "width": null
          }
        },
        "a429ffac2e404c20a5807bd3a328eb82": {
          "model_module": "@jupyter-widgets/controls",
          "model_name": "ProgressStyleModel",
          "model_module_version": "1.5.0",
          "state": {
            "_model_module": "@jupyter-widgets/controls",
            "_model_module_version": "1.5.0",
            "_model_name": "ProgressStyleModel",
            "_view_count": null,
            "_view_module": "@jupyter-widgets/base",
            "_view_module_version": "1.2.0",
            "_view_name": "StyleView",
            "bar_color": null,
            "description_width": ""
          }
        },
        "978fec3095444c22a588d8e230accd24": {
          "model_module": "@jupyter-widgets/base",
          "model_name": "LayoutModel",
          "model_module_version": "1.2.0",
          "state": {
            "_model_module": "@jupyter-widgets/base",
            "_model_module_version": "1.2.0",
            "_model_name": "LayoutModel",
            "_view_count": null,
            "_view_module": "@jupyter-widgets/base",
            "_view_module_version": "1.2.0",
            "_view_name": "LayoutView",
            "align_content": null,
            "align_items": null,
            "align_self": null,
            "border": null,
            "bottom": null,
            "display": null,
            "flex": null,
            "flex_flow": null,
            "grid_area": null,
            "grid_auto_columns": null,
            "grid_auto_flow": null,
            "grid_auto_rows": null,
            "grid_column": null,
            "grid_gap": null,
            "grid_row": null,
            "grid_template_areas": null,
            "grid_template_columns": null,
            "grid_template_rows": null,
            "height": null,
            "justify_content": null,
            "justify_items": null,
            "left": null,
            "margin": null,
            "max_height": null,
            "max_width": null,
            "min_height": null,
            "min_width": null,
            "object_fit": null,
            "object_position": null,
            "order": null,
            "overflow": null,
            "overflow_x": null,
            "overflow_y": null,
            "padding": null,
            "right": null,
            "top": null,
            "visibility": null,
            "width": null
          }
        },
        "c8e0f86b8dd842208f47fba01413e1d2": {
          "model_module": "@jupyter-widgets/controls",
          "model_name": "DescriptionStyleModel",
          "model_module_version": "1.5.0",
          "state": {
            "_model_module": "@jupyter-widgets/controls",
            "_model_module_version": "1.5.0",
            "_model_name": "DescriptionStyleModel",
            "_view_count": null,
            "_view_module": "@jupyter-widgets/base",
            "_view_module_version": "1.2.0",
            "_view_name": "StyleView",
            "description_width": ""
          }
        },
        "98f1322bbd544614980de9d96e0943db": {
          "model_module": "@jupyter-widgets/controls",
          "model_name": "HBoxModel",
          "model_module_version": "1.5.0",
          "state": {
            "_dom_classes": [],
            "_model_module": "@jupyter-widgets/controls",
            "_model_module_version": "1.5.0",
            "_model_name": "HBoxModel",
            "_view_count": null,
            "_view_module": "@jupyter-widgets/controls",
            "_view_module_version": "1.5.0",
            "_view_name": "HBoxView",
            "box_style": "",
            "children": [
              "IPY_MODEL_c9f931f036f84ef4b3a7a223c1cee22a",
              "IPY_MODEL_b4696daa2b3a450e82a2a690bc6eed45",
              "IPY_MODEL_40c92230d7a24c259622132c2f678c8f"
            ],
            "layout": "IPY_MODEL_1eb9c003de4c449aa93c4c8bc3bd6ad3"
          }
        },
        "c9f931f036f84ef4b3a7a223c1cee22a": {
          "model_module": "@jupyter-widgets/controls",
          "model_name": "HTMLModel",
          "model_module_version": "1.5.0",
          "state": {
            "_dom_classes": [],
            "_model_module": "@jupyter-widgets/controls",
            "_model_module_version": "1.5.0",
            "_model_name": "HTMLModel",
            "_view_count": null,
            "_view_module": "@jupyter-widgets/controls",
            "_view_module_version": "1.5.0",
            "_view_name": "HTMLView",
            "description": "",
            "description_tooltip": null,
            "layout": "IPY_MODEL_ed96d5b132bc4fb2bb740b0b9978cae2",
            "placeholder": "​",
            "style": "IPY_MODEL_db26939563da489ba0c443c28c208a66",
            "value": "Downloading (…)cial_tokens_map.json: 100%"
          }
        },
        "b4696daa2b3a450e82a2a690bc6eed45": {
          "model_module": "@jupyter-widgets/controls",
          "model_name": "FloatProgressModel",
          "model_module_version": "1.5.0",
          "state": {
            "_dom_classes": [],
            "_model_module": "@jupyter-widgets/controls",
            "_model_module_version": "1.5.0",
            "_model_name": "FloatProgressModel",
            "_view_count": null,
            "_view_module": "@jupyter-widgets/controls",
            "_view_module_version": "1.5.0",
            "_view_name": "ProgressView",
            "bar_style": "success",
            "description": "",
            "description_tooltip": null,
            "layout": "IPY_MODEL_d47cee31b2b240b9939fb8aa351b3df8",
            "max": 112,
            "min": 0,
            "orientation": "horizontal",
            "style": "IPY_MODEL_8c1194db22204a27b1577024a6eb3060",
            "value": 112
          }
        },
        "40c92230d7a24c259622132c2f678c8f": {
          "model_module": "@jupyter-widgets/controls",
          "model_name": "HTMLModel",
          "model_module_version": "1.5.0",
          "state": {
            "_dom_classes": [],
            "_model_module": "@jupyter-widgets/controls",
            "_model_module_version": "1.5.0",
            "_model_name": "HTMLModel",
            "_view_count": null,
            "_view_module": "@jupyter-widgets/controls",
            "_view_module_version": "1.5.0",
            "_view_name": "HTMLView",
            "description": "",
            "description_tooltip": null,
            "layout": "IPY_MODEL_d8138990556e41bc9729e845da0251fe",
            "placeholder": "​",
            "style": "IPY_MODEL_4430e90c9dc0466cb743d1da05aa69da",
            "value": " 112/112 [00:00&lt;00:00, 7.12kB/s]"
          }
        },
        "1eb9c003de4c449aa93c4c8bc3bd6ad3": {
          "model_module": "@jupyter-widgets/base",
          "model_name": "LayoutModel",
          "model_module_version": "1.2.0",
          "state": {
            "_model_module": "@jupyter-widgets/base",
            "_model_module_version": "1.2.0",
            "_model_name": "LayoutModel",
            "_view_count": null,
            "_view_module": "@jupyter-widgets/base",
            "_view_module_version": "1.2.0",
            "_view_name": "LayoutView",
            "align_content": null,
            "align_items": null,
            "align_self": null,
            "border": null,
            "bottom": null,
            "display": null,
            "flex": null,
            "flex_flow": null,
            "grid_area": null,
            "grid_auto_columns": null,
            "grid_auto_flow": null,
            "grid_auto_rows": null,
            "grid_column": null,
            "grid_gap": null,
            "grid_row": null,
            "grid_template_areas": null,
            "grid_template_columns": null,
            "grid_template_rows": null,
            "height": null,
            "justify_content": null,
            "justify_items": null,
            "left": null,
            "margin": null,
            "max_height": null,
            "max_width": null,
            "min_height": null,
            "min_width": null,
            "object_fit": null,
            "object_position": null,
            "order": null,
            "overflow": null,
            "overflow_x": null,
            "overflow_y": null,
            "padding": null,
            "right": null,
            "top": null,
            "visibility": null,
            "width": null
          }
        },
        "ed96d5b132bc4fb2bb740b0b9978cae2": {
          "model_module": "@jupyter-widgets/base",
          "model_name": "LayoutModel",
          "model_module_version": "1.2.0",
          "state": {
            "_model_module": "@jupyter-widgets/base",
            "_model_module_version": "1.2.0",
            "_model_name": "LayoutModel",
            "_view_count": null,
            "_view_module": "@jupyter-widgets/base",
            "_view_module_version": "1.2.0",
            "_view_name": "LayoutView",
            "align_content": null,
            "align_items": null,
            "align_self": null,
            "border": null,
            "bottom": null,
            "display": null,
            "flex": null,
            "flex_flow": null,
            "grid_area": null,
            "grid_auto_columns": null,
            "grid_auto_flow": null,
            "grid_auto_rows": null,
            "grid_column": null,
            "grid_gap": null,
            "grid_row": null,
            "grid_template_areas": null,
            "grid_template_columns": null,
            "grid_template_rows": null,
            "height": null,
            "justify_content": null,
            "justify_items": null,
            "left": null,
            "margin": null,
            "max_height": null,
            "max_width": null,
            "min_height": null,
            "min_width": null,
            "object_fit": null,
            "object_position": null,
            "order": null,
            "overflow": null,
            "overflow_x": null,
            "overflow_y": null,
            "padding": null,
            "right": null,
            "top": null,
            "visibility": null,
            "width": null
          }
        },
        "db26939563da489ba0c443c28c208a66": {
          "model_module": "@jupyter-widgets/controls",
          "model_name": "DescriptionStyleModel",
          "model_module_version": "1.5.0",
          "state": {
            "_model_module": "@jupyter-widgets/controls",
            "_model_module_version": "1.5.0",
            "_model_name": "DescriptionStyleModel",
            "_view_count": null,
            "_view_module": "@jupyter-widgets/base",
            "_view_module_version": "1.2.0",
            "_view_name": "StyleView",
            "description_width": ""
          }
        },
        "d47cee31b2b240b9939fb8aa351b3df8": {
          "model_module": "@jupyter-widgets/base",
          "model_name": "LayoutModel",
          "model_module_version": "1.2.0",
          "state": {
            "_model_module": "@jupyter-widgets/base",
            "_model_module_version": "1.2.0",
            "_model_name": "LayoutModel",
            "_view_count": null,
            "_view_module": "@jupyter-widgets/base",
            "_view_module_version": "1.2.0",
            "_view_name": "LayoutView",
            "align_content": null,
            "align_items": null,
            "align_self": null,
            "border": null,
            "bottom": null,
            "display": null,
            "flex": null,
            "flex_flow": null,
            "grid_area": null,
            "grid_auto_columns": null,
            "grid_auto_flow": null,
            "grid_auto_rows": null,
            "grid_column": null,
            "grid_gap": null,
            "grid_row": null,
            "grid_template_areas": null,
            "grid_template_columns": null,
            "grid_template_rows": null,
            "height": null,
            "justify_content": null,
            "justify_items": null,
            "left": null,
            "margin": null,
            "max_height": null,
            "max_width": null,
            "min_height": null,
            "min_width": null,
            "object_fit": null,
            "object_position": null,
            "order": null,
            "overflow": null,
            "overflow_x": null,
            "overflow_y": null,
            "padding": null,
            "right": null,
            "top": null,
            "visibility": null,
            "width": null
          }
        },
        "8c1194db22204a27b1577024a6eb3060": {
          "model_module": "@jupyter-widgets/controls",
          "model_name": "ProgressStyleModel",
          "model_module_version": "1.5.0",
          "state": {
            "_model_module": "@jupyter-widgets/controls",
            "_model_module_version": "1.5.0",
            "_model_name": "ProgressStyleModel",
            "_view_count": null,
            "_view_module": "@jupyter-widgets/base",
            "_view_module_version": "1.2.0",
            "_view_name": "StyleView",
            "bar_color": null,
            "description_width": ""
          }
        },
        "d8138990556e41bc9729e845da0251fe": {
          "model_module": "@jupyter-widgets/base",
          "model_name": "LayoutModel",
          "model_module_version": "1.2.0",
          "state": {
            "_model_module": "@jupyter-widgets/base",
            "_model_module_version": "1.2.0",
            "_model_name": "LayoutModel",
            "_view_count": null,
            "_view_module": "@jupyter-widgets/base",
            "_view_module_version": "1.2.0",
            "_view_name": "LayoutView",
            "align_content": null,
            "align_items": null,
            "align_self": null,
            "border": null,
            "bottom": null,
            "display": null,
            "flex": null,
            "flex_flow": null,
            "grid_area": null,
            "grid_auto_columns": null,
            "grid_auto_flow": null,
            "grid_auto_rows": null,
            "grid_column": null,
            "grid_gap": null,
            "grid_row": null,
            "grid_template_areas": null,
            "grid_template_columns": null,
            "grid_template_rows": null,
            "height": null,
            "justify_content": null,
            "justify_items": null,
            "left": null,
            "margin": null,
            "max_height": null,
            "max_width": null,
            "min_height": null,
            "min_width": null,
            "object_fit": null,
            "object_position": null,
            "order": null,
            "overflow": null,
            "overflow_x": null,
            "overflow_y": null,
            "padding": null,
            "right": null,
            "top": null,
            "visibility": null,
            "width": null
          }
        },
        "4430e90c9dc0466cb743d1da05aa69da": {
          "model_module": "@jupyter-widgets/controls",
          "model_name": "DescriptionStyleModel",
          "model_module_version": "1.5.0",
          "state": {
            "_model_module": "@jupyter-widgets/controls",
            "_model_module_version": "1.5.0",
            "_model_name": "DescriptionStyleModel",
            "_view_count": null,
            "_view_module": "@jupyter-widgets/base",
            "_view_module_version": "1.2.0",
            "_view_name": "StyleView",
            "description_width": ""
          }
        },
        "1d02d1c4f69b4c2ba7347190dc668a20": {
          "model_module": "@jupyter-widgets/controls",
          "model_name": "HBoxModel",
          "model_module_version": "1.5.0",
          "state": {
            "_dom_classes": [],
            "_model_module": "@jupyter-widgets/controls",
            "_model_module_version": "1.5.0",
            "_model_name": "HBoxModel",
            "_view_count": null,
            "_view_module": "@jupyter-widgets/controls",
            "_view_module_version": "1.5.0",
            "_view_name": "HBoxView",
            "box_style": "",
            "children": [
              "IPY_MODEL_8cf8f315f18840cf85ceeb87a626d083",
              "IPY_MODEL_3746bd40c78f47fe924242495382034a",
              "IPY_MODEL_7b336b9b817949a9ba450cb5c014aa5a"
            ],
            "layout": "IPY_MODEL_8f023ab535fe46d48faf90f5f35fe17a"
          }
        },
        "8cf8f315f18840cf85ceeb87a626d083": {
          "model_module": "@jupyter-widgets/controls",
          "model_name": "HTMLModel",
          "model_module_version": "1.5.0",
          "state": {
            "_dom_classes": [],
            "_model_module": "@jupyter-widgets/controls",
            "_model_module_version": "1.5.0",
            "_model_name": "HTMLModel",
            "_view_count": null,
            "_view_module": "@jupyter-widgets/controls",
            "_view_module_version": "1.5.0",
            "_view_name": "HTMLView",
            "description": "",
            "description_tooltip": null,
            "layout": "IPY_MODEL_919b8fce6fda48dcaa615aea3d169cea",
            "placeholder": "​",
            "style": "IPY_MODEL_229e1ad6e16e4f1ca1c96c8e1d316423",
            "value": "Downloading pytorch_model.bin: 100%"
          }
        },
        "3746bd40c78f47fe924242495382034a": {
          "model_module": "@jupyter-widgets/controls",
          "model_name": "FloatProgressModel",
          "model_module_version": "1.5.0",
          "state": {
            "_dom_classes": [],
            "_model_module": "@jupyter-widgets/controls",
            "_model_module_version": "1.5.0",
            "_model_name": "FloatProgressModel",
            "_view_count": null,
            "_view_module": "@jupyter-widgets/controls",
            "_view_module_version": "1.5.0",
            "_view_name": "ProgressView",
            "bar_style": "success",
            "description": "",
            "description_tooltip": null,
            "layout": "IPY_MODEL_aa978edb4f6c4b7da2bdb5be17f8cfda",
            "max": 1684058277,
            "min": 0,
            "orientation": "horizontal",
            "style": "IPY_MODEL_6dd6bcf03cb346e4be0b5b2040a871d1",
            "value": 1684058277
          }
        },
        "7b336b9b817949a9ba450cb5c014aa5a": {
          "model_module": "@jupyter-widgets/controls",
          "model_name": "HTMLModel",
          "model_module_version": "1.5.0",
          "state": {
            "_dom_classes": [],
            "_model_module": "@jupyter-widgets/controls",
            "_model_module_version": "1.5.0",
            "_model_name": "HTMLModel",
            "_view_count": null,
            "_view_module": "@jupyter-widgets/controls",
            "_view_module_version": "1.5.0",
            "_view_name": "HTMLView",
            "description": "",
            "description_tooltip": null,
            "layout": "IPY_MODEL_a856a2e846c34f328dddf4c99874ee8b",
            "placeholder": "​",
            "style": "IPY_MODEL_45cfc0cd1f6745d884d410dec2f26c9f",
            "value": " 1.68G/1.68G [00:06&lt;00:00, 214MB/s]"
          }
        },
        "8f023ab535fe46d48faf90f5f35fe17a": {
          "model_module": "@jupyter-widgets/base",
          "model_name": "LayoutModel",
          "model_module_version": "1.2.0",
          "state": {
            "_model_module": "@jupyter-widgets/base",
            "_model_module_version": "1.2.0",
            "_model_name": "LayoutModel",
            "_view_count": null,
            "_view_module": "@jupyter-widgets/base",
            "_view_module_version": "1.2.0",
            "_view_name": "LayoutView",
            "align_content": null,
            "align_items": null,
            "align_self": null,
            "border": null,
            "bottom": null,
            "display": null,
            "flex": null,
            "flex_flow": null,
            "grid_area": null,
            "grid_auto_columns": null,
            "grid_auto_flow": null,
            "grid_auto_rows": null,
            "grid_column": null,
            "grid_gap": null,
            "grid_row": null,
            "grid_template_areas": null,
            "grid_template_columns": null,
            "grid_template_rows": null,
            "height": null,
            "justify_content": null,
            "justify_items": null,
            "left": null,
            "margin": null,
            "max_height": null,
            "max_width": null,
            "min_height": null,
            "min_width": null,
            "object_fit": null,
            "object_position": null,
            "order": null,
            "overflow": null,
            "overflow_x": null,
            "overflow_y": null,
            "padding": null,
            "right": null,
            "top": null,
            "visibility": null,
            "width": null
          }
        },
        "919b8fce6fda48dcaa615aea3d169cea": {
          "model_module": "@jupyter-widgets/base",
          "model_name": "LayoutModel",
          "model_module_version": "1.2.0",
          "state": {
            "_model_module": "@jupyter-widgets/base",
            "_model_module_version": "1.2.0",
            "_model_name": "LayoutModel",
            "_view_count": null,
            "_view_module": "@jupyter-widgets/base",
            "_view_module_version": "1.2.0",
            "_view_name": "LayoutView",
            "align_content": null,
            "align_items": null,
            "align_self": null,
            "border": null,
            "bottom": null,
            "display": null,
            "flex": null,
            "flex_flow": null,
            "grid_area": null,
            "grid_auto_columns": null,
            "grid_auto_flow": null,
            "grid_auto_rows": null,
            "grid_column": null,
            "grid_gap": null,
            "grid_row": null,
            "grid_template_areas": null,
            "grid_template_columns": null,
            "grid_template_rows": null,
            "height": null,
            "justify_content": null,
            "justify_items": null,
            "left": null,
            "margin": null,
            "max_height": null,
            "max_width": null,
            "min_height": null,
            "min_width": null,
            "object_fit": null,
            "object_position": null,
            "order": null,
            "overflow": null,
            "overflow_x": null,
            "overflow_y": null,
            "padding": null,
            "right": null,
            "top": null,
            "visibility": null,
            "width": null
          }
        },
        "229e1ad6e16e4f1ca1c96c8e1d316423": {
          "model_module": "@jupyter-widgets/controls",
          "model_name": "DescriptionStyleModel",
          "model_module_version": "1.5.0",
          "state": {
            "_model_module": "@jupyter-widgets/controls",
            "_model_module_version": "1.5.0",
            "_model_name": "DescriptionStyleModel",
            "_view_count": null,
            "_view_module": "@jupyter-widgets/base",
            "_view_module_version": "1.2.0",
            "_view_name": "StyleView",
            "description_width": ""
          }
        },
        "aa978edb4f6c4b7da2bdb5be17f8cfda": {
          "model_module": "@jupyter-widgets/base",
          "model_name": "LayoutModel",
          "model_module_version": "1.2.0",
          "state": {
            "_model_module": "@jupyter-widgets/base",
            "_model_module_version": "1.2.0",
            "_model_name": "LayoutModel",
            "_view_count": null,
            "_view_module": "@jupyter-widgets/base",
            "_view_module_version": "1.2.0",
            "_view_name": "LayoutView",
            "align_content": null,
            "align_items": null,
            "align_self": null,
            "border": null,
            "bottom": null,
            "display": null,
            "flex": null,
            "flex_flow": null,
            "grid_area": null,
            "grid_auto_columns": null,
            "grid_auto_flow": null,
            "grid_auto_rows": null,
            "grid_column": null,
            "grid_gap": null,
            "grid_row": null,
            "grid_template_areas": null,
            "grid_template_columns": null,
            "grid_template_rows": null,
            "height": null,
            "justify_content": null,
            "justify_items": null,
            "left": null,
            "margin": null,
            "max_height": null,
            "max_width": null,
            "min_height": null,
            "min_width": null,
            "object_fit": null,
            "object_position": null,
            "order": null,
            "overflow": null,
            "overflow_x": null,
            "overflow_y": null,
            "padding": null,
            "right": null,
            "top": null,
            "visibility": null,
            "width": null
          }
        },
        "6dd6bcf03cb346e4be0b5b2040a871d1": {
          "model_module": "@jupyter-widgets/controls",
          "model_name": "ProgressStyleModel",
          "model_module_version": "1.5.0",
          "state": {
            "_model_module": "@jupyter-widgets/controls",
            "_model_module_version": "1.5.0",
            "_model_name": "ProgressStyleModel",
            "_view_count": null,
            "_view_module": "@jupyter-widgets/base",
            "_view_module_version": "1.2.0",
            "_view_name": "StyleView",
            "bar_color": null,
            "description_width": ""
          }
        },
        "a856a2e846c34f328dddf4c99874ee8b": {
          "model_module": "@jupyter-widgets/base",
          "model_name": "LayoutModel",
          "model_module_version": "1.2.0",
          "state": {
            "_model_module": "@jupyter-widgets/base",
            "_model_module_version": "1.2.0",
            "_model_name": "LayoutModel",
            "_view_count": null,
            "_view_module": "@jupyter-widgets/base",
            "_view_module_version": "1.2.0",
            "_view_name": "LayoutView",
            "align_content": null,
            "align_items": null,
            "align_self": null,
            "border": null,
            "bottom": null,
            "display": null,
            "flex": null,
            "flex_flow": null,
            "grid_area": null,
            "grid_auto_columns": null,
            "grid_auto_flow": null,
            "grid_auto_rows": null,
            "grid_column": null,
            "grid_gap": null,
            "grid_row": null,
            "grid_template_areas": null,
            "grid_template_columns": null,
            "grid_template_rows": null,
            "height": null,
            "justify_content": null,
            "justify_items": null,
            "left": null,
            "margin": null,
            "max_height": null,
            "max_width": null,
            "min_height": null,
            "min_width": null,
            "object_fit": null,
            "object_position": null,
            "order": null,
            "overflow": null,
            "overflow_x": null,
            "overflow_y": null,
            "padding": null,
            "right": null,
            "top": null,
            "visibility": null,
            "width": null
          }
        },
        "45cfc0cd1f6745d884d410dec2f26c9f": {
          "model_module": "@jupyter-widgets/controls",
          "model_name": "DescriptionStyleModel",
          "model_module_version": "1.5.0",
          "state": {
            "_model_module": "@jupyter-widgets/controls",
            "_model_module_version": "1.5.0",
            "_model_name": "DescriptionStyleModel",
            "_view_count": null,
            "_view_module": "@jupyter-widgets/base",
            "_view_module_version": "1.2.0",
            "_view_name": "StyleView",
            "description_width": ""
          }
        }
      }
    }
  },
  "cells": [
    {
      "cell_type": "markdown",
      "metadata": {
        "id": "view-in-github",
        "colab_type": "text"
      },
      "source": [
        "<a href=\"https://colab.research.google.com/github/PhazeRoOman/DeepDTA/blob/Menna's-branch/Copy_of_Bert.ipynb\" target=\"_parent\"><img src=\"https://colab.research.google.com/assets/colab-badge.svg\" alt=\"Open In Colab\"/></a>"
      ]
    },
    {
      "cell_type": "markdown",
      "metadata": {
        "id": "fXFGYhQo-h2F"
      },
      "source": [
        "<h3> Extracting protein sequences' features using ProtBert pretrained-model <h3>"
      ]
    },
    {
      "cell_type": "markdown",
      "metadata": {
        "id": "eRKqEJ5L-h2H"
      },
      "source": [
        "<b>1. Load necessry libraries including huggingface transformers<b>"
      ]
    },
    {
      "cell_type": "code",
      "metadata": {
        "id": "GXAKFATm-mbs",
        "colab": {
          "base_uri": "https://localhost:8080/"
        },
        "outputId": "253ff587-56a0-4f9e-edae-ac60a0f3de43"
      },
      "source": [
        "!pip install -q transformers"
      ],
      "execution_count": 1,
      "outputs": [
        {
          "output_type": "stream",
          "name": "stdout",
          "text": [
            "\u001b[2K     \u001b[90m━━━━━━━━━━━━━━━━━━━━━━━━━━━━━━━━━━━━━━━━\u001b[0m \u001b[32m7.4/7.4 MB\u001b[0m \u001b[31m56.8 MB/s\u001b[0m eta \u001b[36m0:00:00\u001b[0m\n",
            "\u001b[2K     \u001b[90m━━━━━━━━━━━━━━━━━━━━━━━━━━━━━━━━━━━━━━\u001b[0m \u001b[32m268.8/268.8 kB\u001b[0m \u001b[31m32.2 MB/s\u001b[0m eta \u001b[36m0:00:00\u001b[0m\n",
            "\u001b[2K     \u001b[90m━━━━━━━━━━━━━━━━━━━━━━━━━━━━━━━━━━━━━━━━\u001b[0m \u001b[32m7.8/7.8 MB\u001b[0m \u001b[31m106.6 MB/s\u001b[0m eta \u001b[36m0:00:00\u001b[0m\n",
            "\u001b[2K     \u001b[90m━━━━━━━━━━━━━━━━━━━━━━━━━━━━━━━━━━━━━━━━\u001b[0m \u001b[32m1.3/1.3 MB\u001b[0m \u001b[31m80.3 MB/s\u001b[0m eta \u001b[36m0:00:00\u001b[0m\n",
            "\u001b[?25h"
          ]
        }
      ]
    },
    {
      "cell_type": "code",
      "metadata": {
        "id": "jd3YQUd1-h2I"
      },
      "source": [
        "import torch\n",
        "from transformers import AutoTokenizer, AutoModel, pipeline\n",
        "import re\n",
        "import numpy as np\n",
        "import os\n",
        "import requests\n",
        "from tqdm.auto import tqdm"
      ],
      "execution_count": 2,
      "outputs": []
    },
    {
      "cell_type": "markdown",
      "metadata": {
        "id": "hAKCMu_2-h2V"
      },
      "source": [
        "<b>2. Load the vocabulary and ProtBert Model<b>"
      ]
    },
    {
      "cell_type": "code",
      "metadata": {
        "id": "HS8i5sOJ-h2W",
        "colab": {
          "base_uri": "https://localhost:8080/",
          "height": 145,
          "referenced_widgets": [
            "16f5717d7a3147f88a1ad3f8b6824630",
            "d6ffd88327994f61a1b73a59a75a3135",
            "9c479a1be812406a9100b8ced40a8c0f",
            "7fbecbfc7e0544b0afebafcb00c18fcc",
            "3539b2e4d965495ab3363caf2c85505f",
            "ebe49b4bde434c7c86ec0a3f0e9f9a29",
            "c77c68d80cb945a99e702b89572ff611",
            "738972cbbb654cc68ededb2260a5596c",
            "5bb9f757039b48aabc5b628fee42146f",
            "0da64823617b4aa180f7827ab247fea4",
            "fe5d130825f84fff8bc98df423bf1119",
            "3a743a3e842b482a84866016105ab825",
            "b92b79b8cb29487a9ad78829cd58b16f",
            "d63f7adbe7064ef6a2b71e572d9e4499",
            "c3a23424886f42c785572d0fb5348c9d",
            "806c4397a05a4b3a8994e541e91cad83",
            "fd4d701e08c64b769c171ad24f77d316",
            "f5e987488fb147f48a65e1cd1fb2ff62",
            "2c44221d71884bf48e4283d5291487f9",
            "64b2d42cd13b4479b8e6ff6eed8e129e",
            "2a331332051042218817d37d3dd80ed5",
            "01f468fb38344a648e47953fb4b7134e",
            "22c01891115f4acf930bca5750a0db73",
            "333ea5b9dd174e0f92d7314ad0ed44d6",
            "70dbfe38049f4547b446f4f33f1cedb1",
            "b571c23ef97848798c670e1825f660fc",
            "c947d8d085d8461fa7e6deb86b5be98b",
            "95bd8b40a3264498a2090bb1c9d89a54",
            "575a6a4fa98b47d2929c3a76e2343fde",
            "1d101a15889a4cdb964fa0d69ce40cec",
            "a429ffac2e404c20a5807bd3a328eb82",
            "978fec3095444c22a588d8e230accd24",
            "c8e0f86b8dd842208f47fba01413e1d2",
            "98f1322bbd544614980de9d96e0943db",
            "c9f931f036f84ef4b3a7a223c1cee22a",
            "b4696daa2b3a450e82a2a690bc6eed45",
            "40c92230d7a24c259622132c2f678c8f",
            "1eb9c003de4c449aa93c4c8bc3bd6ad3",
            "ed96d5b132bc4fb2bb740b0b9978cae2",
            "db26939563da489ba0c443c28c208a66",
            "d47cee31b2b240b9939fb8aa351b3df8",
            "8c1194db22204a27b1577024a6eb3060",
            "d8138990556e41bc9729e845da0251fe",
            "4430e90c9dc0466cb743d1da05aa69da"
          ]
        },
        "outputId": "d3b8c399-1df7-4bbc-974d-5559a3fef79d"
      },
      "source": [
        "tokenizer = AutoTokenizer.from_pretrained(\"Rostlab/prot_bert\", do_lower_case=False)"
      ],
      "execution_count": 3,
      "outputs": [
        {
          "output_type": "display_data",
          "data": {
            "text/plain": [
              "Downloading (…)okenizer_config.json:   0%|          | 0.00/86.0 [00:00<?, ?B/s]"
            ],
            "application/vnd.jupyter.widget-view+json": {
              "version_major": 2,
              "version_minor": 0,
              "model_id": "16f5717d7a3147f88a1ad3f8b6824630"
            }
          },
          "metadata": {}
        },
        {
          "output_type": "display_data",
          "data": {
            "text/plain": [
              "Downloading (…)lve/main/config.json:   0%|          | 0.00/361 [00:00<?, ?B/s]"
            ],
            "application/vnd.jupyter.widget-view+json": {
              "version_major": 2,
              "version_minor": 0,
              "model_id": "3a743a3e842b482a84866016105ab825"
            }
          },
          "metadata": {}
        },
        {
          "output_type": "display_data",
          "data": {
            "text/plain": [
              "Downloading (…)solve/main/vocab.txt:   0%|          | 0.00/81.0 [00:00<?, ?B/s]"
            ],
            "application/vnd.jupyter.widget-view+json": {
              "version_major": 2,
              "version_minor": 0,
              "model_id": "22c01891115f4acf930bca5750a0db73"
            }
          },
          "metadata": {}
        },
        {
          "output_type": "display_data",
          "data": {
            "text/plain": [
              "Downloading (…)cial_tokens_map.json:   0%|          | 0.00/112 [00:00<?, ?B/s]"
            ],
            "application/vnd.jupyter.widget-view+json": {
              "version_major": 2,
              "version_minor": 0,
              "model_id": "98f1322bbd544614980de9d96e0943db"
            }
          },
          "metadata": {}
        }
      ]
    },
    {
      "cell_type": "code",
      "metadata": {
        "id": "ERtkR05t-h2c",
        "colab": {
          "base_uri": "https://localhost:8080/",
          "height": 49,
          "referenced_widgets": [
            "1d02d1c4f69b4c2ba7347190dc668a20",
            "8cf8f315f18840cf85ceeb87a626d083",
            "3746bd40c78f47fe924242495382034a",
            "7b336b9b817949a9ba450cb5c014aa5a",
            "8f023ab535fe46d48faf90f5f35fe17a",
            "919b8fce6fda48dcaa615aea3d169cea",
            "229e1ad6e16e4f1ca1c96c8e1d316423",
            "aa978edb4f6c4b7da2bdb5be17f8cfda",
            "6dd6bcf03cb346e4be0b5b2040a871d1",
            "a856a2e846c34f328dddf4c99874ee8b",
            "45cfc0cd1f6745d884d410dec2f26c9f"
          ]
        },
        "outputId": "d4f804ba-6f3f-4e0e-b5d0-e4c107774a95"
      },
      "source": [
        "model = AutoModel.from_pretrained(\"Rostlab/prot_bert\")"
      ],
      "execution_count": 4,
      "outputs": [
        {
          "output_type": "display_data",
          "data": {
            "text/plain": [
              "Downloading pytorch_model.bin:   0%|          | 0.00/1.68G [00:00<?, ?B/s]"
            ],
            "application/vnd.jupyter.widget-view+json": {
              "version_major": 2,
              "version_minor": 0,
              "model_id": "1d02d1c4f69b4c2ba7347190dc668a20"
            }
          },
          "metadata": {}
        }
      ]
    },
    {
      "cell_type": "markdown",
      "metadata": {
        "id": "XDnhEiyI-h2g"
      },
      "source": [
        "<b>3. Load the model into the GPU if avilabile<b>"
      ]
    },
    {
      "cell_type": "code",
      "metadata": {
        "id": "KNweYMPQ-h2h"
      },
      "source": [
        "fe = pipeline('feature-extraction', model=model, tokenizer=tokenizer,device=0)"
      ],
      "execution_count": 8,
      "outputs": []
    },
    {
      "cell_type": "markdown",
      "metadata": {
        "id": "AWbZG3wu-h2l"
      },
      "source": [
        "<b>4. Create or load sequences and map rarely occured amino acids (U,Z,O,B) to (X)<b>"
      ]
    },
    {
      "cell_type": "code",
      "metadata": {
        "id": "2kqLvaxa-h2l"
      },
      "source": [
        "sequences_Example = [\"A E T C Z A O\",\"S K T Z P\"]"
      ],
      "execution_count": 6,
      "outputs": []
    },
    {
      "cell_type": "code",
      "metadata": {
        "id": "rLxGKOwe-h2r"
      },
      "source": [
        "sequences_Example = [re.sub(r\"[UZOB]\", \"X\", sequence) for sequence in sequences_Example]"
      ],
      "execution_count": 7,
      "outputs": []
    },
    {
      "cell_type": "markdown",
      "metadata": {
        "id": "jfk9vkyV-h2x"
      },
      "source": [
        "<b>5. Extracting sequences' features and covert the output to numpy if needed<b>"
      ]
    },
    {
      "cell_type": "code",
      "metadata": {
        "id": "gZPpLMK2-h2y"
      },
      "source": [
        "embedding = fe(sequences_Example)"
      ],
      "execution_count": 9,
      "outputs": []
    },
    {
      "cell_type": "code",
      "metadata": {
        "id": "eRsQnB8Y-h24",
        "colab": {
          "base_uri": "https://localhost:8080/"
        },
        "outputId": "fd3dc7bf-0583-4aeb-ca68-6324911a062e"
      },
      "source": [
        "embedding = np.array(embedding)"
      ],
      "execution_count": 10,
      "outputs": [
        {
          "output_type": "stream",
          "name": "stderr",
          "text": [
            "<ipython-input-10-4c9c17d959df>:1: VisibleDeprecationWarning: Creating an ndarray from ragged nested sequences (which is a list-or-tuple of lists-or-tuples-or ndarrays with different lengths or shapes) is deprecated. If you meant to do this, you must specify 'dtype=object' when creating the ndarray.\n",
            "  embedding = np.array(embedding)\n"
          ]
        }
      ]
    },
    {
      "cell_type": "code",
      "metadata": {
        "id": "FIvh0j8e-h26",
        "colab": {
          "base_uri": "https://localhost:8080/"
        },
        "outputId": "10754e31-809c-4793-ac0a-26ae97a12bde"
      },
      "source": [
        "print(embedding)"
      ],
      "execution_count": 11,
      "outputs": [
        {
          "output_type": "stream",
          "name": "stdout",
          "text": [
            "[[list([[0.0453590489923954, 0.11401587724685669, -0.01174259465187788, -0.20828920602798462, 0.18095625936985016, 0.0011956843081861734, -0.09841405600309372, 0.04832974821329117, -0.016840247437357903, -0.04892492666840553, -0.11023277789354324, -0.004398777149617672, 0.009882367216050625, 0.187641903758049, 0.004705274943262339, 0.013671565800905228, -0.04384729638695717, 0.11034972220659256, 0.04448472335934639, -0.04933598265051842, 0.05621112510561943, 0.0018155582947656512, -0.026635276153683662, -0.11589980870485306, -0.04059188440442085, -0.07726854830980301, -0.08523696660995483, 0.05975670367479324, 0.04745859652757645, -0.09949769824743271, -0.007977780885994434, 0.08381891995668411, -0.16394586861133575, -0.012641573324799538, 0.10767615586519241, -0.12352854013442993, 0.07013615220785141, 0.07475905120372772, -0.11649584025144577, -0.09409372508525848, 0.08613107353448868, 0.08519940078258514, 0.045785609632730484, 0.019130703061819077, -0.02043183706700802, -0.27722233533859253, 0.1904839426279068, -0.006334309931844473, 0.07391208410263062, -0.04525505006313324, -0.003658018307760358, 0.04621404409408569, 0.022593971341848373, 0.010210135020315647, 0.01897404156625271, -0.0505957193672657, -0.006634261459112167, -0.14950096607208252, -0.0007804431370459497, -0.0018500298028811812, -0.1251613050699234, -0.04121946543455124, 0.08967440575361252, -0.005504838656634092, -0.05083365738391876, 0.04352658987045288, 0.04955831542611122, 0.024507243186235428, 0.11382263898849487, -0.07653840631246567, 0.03612243011593819, -0.05686130374670029, -0.019692283123731613, 0.011036548763513565, 0.13524463772773743, -0.046213969588279724, -0.10510606318712234, -0.10100933164358139, 0.13208352029323578, 0.047611478716135025, 0.00886347983032465, 0.06763967871665955, -0.02719700150191784, -0.008257923647761345, 0.02221311628818512, -0.24356508255004883, -0.0253599863499403, -0.10264959186315536, 0.2771165668964386, -0.11067775636911392, -0.013181867077946663, -0.051224272698163986, 0.04465865343809128, -0.11145606637001038, 0.022802336141467094, 0.13446654379367828, 0.10975228250026703, -0.05789318308234215, 0.14605794847011566, 0.09419701993465424, -0.038160841912031174, -0.09176468104124069, -0.10243099182844162, 0.13936923444271088, 0.013876384124159813, -0.15163439512252808, -0.13166511058807373, -0.06506267189979553, 0.03350211679935455, 0.11969131231307983, -0.013883409090340137, 0.032588183879852295, 0.05306413769721985, 0.12700232863426208, -0.06758161634206772, -0.07224336266517639, 0.12340892851352692, 0.17492790520191193, -0.1329365223646164, -0.2452799528837204, 0.03786482289433479, 0.0923081636428833, -0.04440002515912056, 0.005183734931051731, -0.13286085426807404, 0.05005601793527603, 0.04730534926056862, 0.08865033835172653, -0.023601049557328224, -0.03736460581421852, -0.1790439933538437, -0.0017912195762619376, 0.1368400901556015, 0.05508016422390938, 0.009888837113976479, -0.06167977303266525, -0.0027982851024717093, -0.014863558113574982, -0.06736994534730911, -0.07697216421365738, -0.07640977203845978, 0.09671592712402344, 0.03307376056909561, 0.1042810007929802, 0.0831848606467247, -0.02434517629444599, -0.2588685154914856, 0.14163218438625336, -0.02594737522304058, -0.03216564655303955, 0.09591279178857803, -0.05020792782306671, 0.07929230481386185, -0.08556116372346878, 0.06613560020923615, -0.016361435875296593, 0.04933035373687744, 0.06429518759250641, -0.17031796276569366, 0.10950792580842972, -0.09593810886144638, 0.10539679229259491, 0.05909445136785507, -0.004298874642699957, -0.03908829763531685, 0.04221447929739952, -0.08499141782522202, 0.007785559631884098, 0.017848918214440346, -0.1481155902147293, -0.04084210842847824, -0.0016128163551911712, -0.07944290339946747, -0.09362175315618515, -0.06615481525659561, 0.1273270547389984, -0.07345633208751678, -0.22455468773841858, -0.039556749165058136, -0.02683633752167225, 0.011444694362580776, -0.16282248497009277, -0.048351407051086426, -0.2376510202884674, -0.013085476122796535, -0.004945244174450636, -0.1552608162164688, 0.07257129997015, -0.12134253233671188, 0.06038690358400345, 0.031576428562402725, 0.03763578459620476, -0.0214262455701828, 0.0005272864364087582, 0.15814830362796783, 0.03304096311330795, 0.20338408648967743, 0.0893743559718132, -0.05883040279150009, -0.04918163642287254, -0.2203006148338318, -0.14241014420986176, -0.04188826307654381, 0.004819772206246853, 0.06671839952468872, 0.015026411972939968, -0.05349953472614288, 0.10168186575174332, -0.16839765012264252, 0.041851188987493515, -0.11570452153682709, 0.002038892125710845, -0.07474774122238159, -0.02627723477780819, -0.07063758373260498, 0.05036960169672966, 0.023994704708456993, 0.07569780200719833, 0.03404996171593666, -0.08170976489782333, 0.521668016910553, -0.01716076023876667, -0.03227865695953369, -0.011942991986870766, -0.06501387804746628, 0.30574357509613037, 0.04306711629033089, 0.1259535402059555, 0.03152642771601677, 0.021153250709176064, 0.13508902490139008, -0.06512726843357086, -0.014071257784962654, -0.12682613730430603, -0.029495257884263992, -0.009314640425145626, -0.2755167782306671, -0.005290231667459011, 0.0045144157484173775, 0.007128095254302025, 0.08376245200634003, 0.11682155728340149, 0.037286579608917236, 0.07563670724630356, 0.15136493742465973, -0.08031917363405228, -0.15612415969371796, 0.08408447355031967, 0.10197459161281586, -0.12317661941051483, -0.015530065633356571, -0.16858279705047607, 0.14250494539737701, 0.02940293774008751, -0.10920068621635437, -0.021296948194503784, -0.07436475157737732, -0.03919830545783043, 0.08084885776042938, -0.0007749631768092513, -0.22175590693950653, -0.22693179547786713, -0.12092307955026627, -0.03456765413284302, 0.028194287791848183, 0.03731722757220268, -0.07376070320606232, 0.09974569827318192, -0.02128586731851101, -0.21930308640003204, -0.07756144553422928, 0.050601035356521606, 0.05706148222088814, 0.0032724901102483273, -0.04199710115790367, 0.19080695509910583, -0.06990484893321991, 0.027472421526908875, 0.03447479009628296, 0.09983930736780167, -0.06955380737781525, -0.15107007324695587, -0.04790961742401123, -0.06157613545656204, -0.054817505180835724, 0.2592392861843109, -0.08558119088411331, -0.06066740304231644, 0.0946149230003357, 0.21341517567634583, 0.05995972082018852, -0.16470003128051758, 0.07136959582567215, -0.01827428862452507, -0.1537344604730606, -0.011881543323397636, 0.12622271478176117, -0.07049933075904846, -0.19195061922073364, -0.14264363050460815, 0.036051396280527115, -0.04574548825621605, 0.08498669415712357, 0.010522928088903427, -0.0058455741964280605, -0.016491154208779335, -0.06552030146121979, 0.04231126978993416, 0.017372114583849907, 0.09593291580677032, 0.0823533684015274, -0.028152775019407272, 0.06321712583303452, -0.005406911950558424, -0.05235917866230011, -0.056431639939546585, 0.03369184955954552, -0.057342760264873505, -0.007016306277364492, -0.07045657932758331, -0.007979422807693481, 0.03598019480705261, 0.1345101147890091, -0.051127124577760696, 0.03553660213947296, -0.05552911385893822, -0.004212299361824989, 0.023412935435771942, 0.2753315269947052, 0.09437822550535202, -0.11326363682746887, 0.09219563752412796, 0.04182044789195061, -0.10001350939273834, -0.022131843492388725, 0.1982358694076538, 0.16522705554962158, -0.038022205233573914, -0.03801261633634567, -0.03761415183544159, 0.09513045847415924, 0.1855788230895996, -0.03817731887102127, 0.2204229235649109, -0.031218785792589188, 0.002209010999649763, -0.1055222824215889, 0.043831970542669296, 0.09112434089183807, -0.05853189527988434, -0.14546608924865723, -0.25801506638526917, -0.017684446647763252, -0.10445401817560196, -0.11082795262336731, 0.0043730284087359905, 0.014901652932167053, 0.07952652126550674, -0.15079601109027863, 0.16971518099308014, 0.08456027507781982, -0.21372565627098083, -0.07886477559804916, 0.08082140982151031, 0.05406886339187622, 0.020433399826288223, 0.13968510925769806, 0.0756157785654068, -0.04805438220500946, -0.21819821000099182, 0.3434690237045288, -0.0020346296951174736, 0.037482086569070816, 0.13292498886585236, -0.15169036388397217, -0.05809762701392174, -0.10295124351978302, 0.057516176253557205, -0.013085711747407913, -0.012744585983455181, -0.1099337711930275, 0.029826585203409195, -0.0365927517414093, -0.14830201864242554, 0.02202545292675495, -0.06862130761146545, 0.05422713980078697, 0.03251153230667114, 0.03595709800720215, -0.010662101209163666, -0.01740160584449768, -0.049190085381269455, -0.09451573342084885, 0.11731408536434174, 0.08201471716165543, 0.19092507660388947, -0.12173346430063248, 0.22454877197742462, 0.10652913898229599, 0.06149238348007202, 0.02399432845413685, 0.09681792557239532, -0.2185220867395401, 0.18968281149864197, -0.07491660118103027, 0.04819523170590401, 0.09307069331407547, -0.15098394453525543, 0.14492367208003998, -0.05012468993663788, -0.0001924647658597678, 0.02416987717151642, -0.05451242998242378, 0.04296382516622543, -0.012821251526474953, -0.08512977510690689, -0.007012935355305672, -0.0777391567826271, 0.0804114118218422, 0.024840185418725014, -0.010110381059348583, -0.08540919423103333, -0.06820399314165115, 0.11383137851953506, -0.11630310863256454, -0.06744943559169769, 0.027882739901542664, 0.013962707482278347, 0.08959130942821503, 0.04436687007546425, -0.0664789229631424, 0.19355003535747528, 0.043796006590127945, -0.020316410809755325, -0.003279693890362978, -0.3729354441165924, -0.048605531454086304, -0.11948072165250778, -0.09160680323839188, 0.09741386026144028, -0.04882346838712692, 0.012636757455766201, -0.013979812152683735, 0.0656968280673027, -0.008352731354534626, -0.04149814695119858, -0.050280917435884476, 0.07570866495370865, -0.03718172758817673, -0.04271287843585014, 0.10007958114147186, 0.05186236649751663, -0.014901705086231232, -0.00028410370578058064, 0.05429796129465103, -0.04378188028931618, 0.24466708302497864, 0.029058873653411865, -0.06280918419361115, 0.02754225581884384, 0.13203692436218262, -0.048851609230041504, 0.10922916233539581, 0.010430652648210526, 0.10067206621170044, -0.025648729875683784, 0.027750127017498016, -0.05970325693488121, 0.0542825423181057, 0.17578093707561493, 0.14078734815120697, -0.079117551445961, -0.004788435064256191, 0.0652288943529129, 0.04484458267688751, 0.1179705262184143, 0.1465858370065689, -0.002684740349650383, 0.009810423478484154, -0.041253309696912766, -0.011652424931526184, -0.032270438969135284, 7.731367804808542e-05, -0.05955996736884117, 0.0027443082071840763, -0.17464245855808258, 0.11514990776777267, 0.08402852714061737, 0.01564411073923111, -0.10456360876560211, -0.019203146919608116, 0.09409979730844498, -0.004393127281218767, 0.01640586368739605, 0.25941112637519836, -0.011532213538885117, 0.10830051451921463, -0.20204131305217743, -0.04123655706644058, 0.19477669894695282, -0.05318661034107208, 0.0877600610256195, 0.03498835489153862, 0.042366500943899155, -0.017351238057017326, 0.14862917363643646, -0.010664712637662888, -0.04153380170464516, 0.06639029085636139, -0.08723384141921997, 0.013292128220200539, 0.031709324568510056, -0.08890758454799652, -0.0432913638651371, -0.03419763967394829, -0.10312335193157196, 0.06391668319702148, 0.01502323616296053, 0.2046922892332077, -0.03495672345161438, 0.05971026048064232, 0.0110546313226223, 0.05208050459623337, 0.012892081402242184, 0.051953744143247604, 0.06234441697597504, -0.048071566969156265, -0.07567021250724792, -0.06581529974937439, 0.09135045856237411, -0.0694458857178688, 0.12996014952659607, 0.0030951141379773617, -0.3764849305152893, 0.08639497309923172, -0.08050999790430069, -0.11846937239170074, 0.1721619814634323, 0.1515236794948578, 0.0671270489692688, 0.017029481008648872, 0.04890068992972374, -0.03778773173689842, 0.10527550429105759, 0.13751380145549774, 0.17407236993312836, 0.10147764533758163, -0.189097061753273, 0.02976151555776596, 0.009802217595279217, 0.11687929183244705, 0.12117286771535873, -0.027357902377843857, 0.0155869135633111, 0.18808583915233612, 0.011799816973507404, 0.040311992168426514, -0.01776045560836792, 0.057979516685009, -0.22898945212364197, -0.2417575567960739, -0.07544078677892685, -0.027869924902915955, -0.003269656328484416, 0.08607131242752075, -0.2990233898162842, 0.15824256837368011, -0.028690610080957413, -0.07794982939958572, -0.009269796311855316, -0.01329641044139862, 0.08556650578975677, -0.11409024894237518, 0.0423184409737587, 0.043813690543174744, 0.15909330546855927, 0.02983858436346054, -0.030239051207900047, -0.17371034622192383, 0.00852076057344675, -0.05485213175415993, -0.033268705010414124, 0.09476891905069351, -0.06306472420692444, 0.09752675145864487, -0.06554253399372101, 0.002606758149340749, -0.054750725626945496, -0.05230293795466423, -0.05167187750339508, 0.0375436395406723, -0.03852932155132294, -0.05788378790020943, -0.01061754859983921, 0.023252347484230995, -0.02310086227953434, -0.016255028545856476, -0.17442892491817474, -0.14004923403263092, -0.04482313245534897, 0.04011227563023567, 0.06491992622613907, 0.037395503371953964, -0.1125849187374115, -0.06187870725989342, 0.027043132111430168, 0.10697977989912033, 0.10326401144266129, 0.0040584453381598, -0.028522957116365433, -0.12286371737718582, -0.05926664173603058, 0.07632545381784439, -0.11836592108011246, -0.08726948499679565, -0.10171046108007431, -0.03431997448205948, 0.04209818318486214, -0.2296646237373352, -0.0683937817811966, 0.109451062977314, -0.0010682371212169528, 0.03572668135166168, -0.04535319283604622, 0.03799821808934212, 0.010746120475232601, -0.01437452808022499, 0.050076741725206375, -0.024885959923267365, 0.10965064913034439, 0.07203415036201477, -0.07136064022779465, 0.19539673626422882, 0.14770403504371643, 0.0853656679391861, 0.11598089337348938, 0.08261796087026596, -0.14590126276016235, 0.1824495941400528, -0.026244770735502243, 0.17340898513793945, -0.0854308158159256, 0.08185254782438278, 0.12015122920274734, -0.05518662929534912, 0.02833385393023491, -0.07825358957052231, 0.018517328426241875, -0.14655914902687073, -0.0870634913444519, 0.08991678059101105, -0.03691133111715317, -0.02683081291615963, -0.007133672013878822, 0.06872496008872986, -0.05042923614382744, 0.025298764929175377, -0.03032093122601509, 0.1378030925989151, 0.007273763883858919, 0.006052364595234394, -0.09986728429794312, 0.051502663642168045, -0.10677968710660934, -0.05686086043715477, 0.0836302861571312, 0.21302078664302826, 0.2487202137708664, -0.06828589737415314, 0.14438390731811523, 0.006567993201315403, 0.09676627814769745, -0.07515809684991837, -0.033381279557943344, -0.04383353888988495, -0.05899377539753914, 0.04099128395318985, -0.028293495997786522, -0.12148724496364594, 0.11628708988428116, -0.1264948546886444, 0.05958905443549156, 0.2153530865907669, -0.009703674353659153, 0.233476459980011, 0.08000161498785019, 0.26272013783454895, 0.07973188906908035, -0.17556114494800568, -0.16005295515060425, -0.09534883499145508, -0.144705668091774, 0.076354019343853, 0.11151216924190521, 0.11985759437084198, 0.03383370861411095, -0.0006036144914105535, -0.0891086682677269, -0.041232880204916, -0.056538891047239304, -0.004546540789306164, 0.005909846164286137, 0.018013717606663704, 0.05976143106818199, -0.14379055798053741, -0.06836371123790741, 0.020202815532684326, 0.0846322551369667, 0.027309179306030273, 8.098004036583006e-05, -0.1060369685292244, -0.15533389151096344, -0.040116265416145325, -0.0688386783003807, -0.06771429628133774, -0.07606720924377441, -0.5695424675941467, -0.0048702796921133995, -0.0759364441037178, 0.21625305712223053, 0.07111123949289322, 0.06908828765153885, -0.06967173516750336, 0.17647527158260345, 0.12217917293310165, 0.19604827463626862, 0.02030588686466217, 0.07724062353372574, 0.09812240302562714, -0.061414457857608795, -0.05605967715382576, 0.031982455402612686, 0.002173022599890828, -0.09403520822525024, -0.31670188903808594, 0.009720223024487495, 0.03480462729930878, 0.047041669487953186, 0.20862168073654175, -0.12583787739276886, 0.11344525218009949, 0.12680818140506744, 0.10791424661874771, 0.08612579852342606, -0.14167213439941406, -0.07391690462827682, -0.08197875320911407, 0.1069866344332695, -0.0005405322881415486, 0.09655150026082993, 0.09419538825750351, -0.024539118632674217, -0.06695268303155899, -0.09115386009216309, -0.12462123483419418, 0.09566064924001694, -0.1508210152387619, -0.14221309125423431, -0.17040400207042694, 0.07369093596935272, 0.03205166384577751, -0.049996331334114075, 0.035289015620946884, -0.013708967715501785, -0.003080005757510662, 0.09843263030052185, 0.02775861695408821, 0.07696262747049332, -0.06085118651390076, 4.267741680145264, 0.007739508990198374, 0.08240378648042679, 0.004956911783665419, 0.0721643939614296, -0.15636800229549408, 0.030720386654138565, 0.15368512272834778, 0.14498479664325714, 0.007244071923196316, 0.11007614433765411, -0.036394331604242325, 0.025764910504221916, 0.04722708463668823, 0.03933345153927803, 0.3033853769302368, -0.0542144738137722, -0.04049159958958626, 0.026259412989020348, 0.08563787490129471, 0.7378214001655579, 0.1733531653881073, 0.03429623320698738, 0.03748614713549614, -0.16330842673778534, -0.0019322403240948915, -0.03571058809757233, -0.1650536209344864, 0.11409318447113037, 0.20306669175624847, -0.005527521017938852, -0.03885572776198387, 0.02424558438360691, -0.30080273747444153, -0.08275100588798523, -0.02593722753226757, -0.08130347728729248, -0.0306540597230196, -0.0739579051733017, 0.00930231437087059, 0.02968682534992695, -0.08967986702919006, 0.1011173278093338, -0.013284815475344658, 0.01750756986439228, -0.023038333281874657, -0.30241844058036804, -0.10997068881988525, -0.04657251387834549, 0.04256873577833176, -0.09157538414001465, 0.04836973175406456, -0.0431121289730072, 0.08687744289636612, 0.10811612755060196, -1.085984706878662, 0.09151656180620193, -0.03657976910471916, -0.029972590506076813, -0.16039447486400604, 0.1423587054014206, -0.13880813121795654, -0.017633823677897453, 0.13692130148410797, 0.030108660459518433, 0.02252177707850933, -0.023251697421073914, 0.05621807277202606, 0.14969849586486816, -0.09582054615020752, -0.045253023505210876, -0.10797929018735886, -0.05584137886762619, -0.03888329491019249, -0.014331525191664696, 0.08058979362249374, -0.12285691499710083, -0.06560467183589935, 0.001995669212192297, 0.05415474623441696, -0.05549395829439163, 0.0418928824365139, -0.09436138719320297, 0.06331957876682281, -0.19020512700080872, -0.0028997024055570364, 0.07399806380271912, -0.2204093039035797, -0.015992753207683563, 0.0157021377235651, 0.0754876658320427, -0.0691986158490181, 0.07600747793912888, 0.0348152257502079, -0.092809297144413, 0.014540676027536392, -0.00626383488997817, 0.027721282094717026, 0.013647069223225117, 0.045328378677368164, 0.1647539734840393, -0.013936658389866352, 0.025641322135925293, -0.05351473391056061, -0.0770382508635521, 0.006875607185065746, -0.016336772590875626, 0.153371199965477, -0.07463202625513077, 0.02623518370091915, 0.20756787061691284, -0.06711015850305557, -0.12896978855133057, 0.1576026827096939, 0.16247205436229706, 0.13198377192020416, -0.04682714492082596, 0.09362787008285522, 0.21341252326965332, 0.09129764139652252, 0.19432897865772247, 0.009389283135533333, 0.014415989629924297, 0.022694872692227364, -0.021207217127084732, -0.07266151160001755, 0.05137128755450249, -0.044824302196502686, -0.23915867507457733, 0.15771570801734924, 0.06286192685365677, -0.1431095153093338, 0.04045359045267105, -0.05507519841194153, -0.2493634670972824, 0.12017133086919785, -0.0343426913022995, -0.0750211849808693, 0.037577804177999496, -0.12351077795028687, 0.16736899316310883, 0.005194115452468395, 0.04617684707045555, 0.02372017502784729, -0.09859185665845871, -0.052101388573646545, 0.07242432981729507, -0.10161717981100082, -0.07711204886436462, -0.005707903299480677, -0.03494156152009964, -0.0735606700181961, 0.029735736548900604, 0.01536636147648096, -0.04994390532374382, -0.08267181366682053, -0.002729269443079829, 0.09091465920209885, 0.08825644850730896, 0.06009390577673912, -0.18549476563930511, -0.025391308590769768, 0.01902853325009346, 0.03530162200331688, 0.055410075932741165, -0.03334623575210571, 0.010526597499847412, -0.0444178581237793, -0.019975708797574043, 0.032236646860837936, 0.02344861440360546, -0.1993487924337387, 0.01900404877960682, -0.13477464020252228, 0.016105907037854195, 0.002025851048529148, -0.04089713841676712, 0.030324384570121765, -0.009421342052519321, 0.054767582565546036, -0.09434962272644043, -0.1111077144742012, -0.14421367645263672, -0.08175144344568253, 0.15224090218544006, 0.02217896841466427, -0.10265973210334778, -0.06231165677309036, 0.038709163665771484, 0.010664871893823147, 0.0870843380689621, -0.10298967361450195, -0.1884099543094635, 0.15457944571971893, -0.15107852220535278, -0.10938797891139984, -0.03856676071882248, -0.142494335770607, -0.109759621322155, -0.05681758001446724, 0.09944278001785278, -0.054279960691928864, -0.10792478919029236, -0.0547986775636673, 0.007577345706522465, 0.049350637942552567, 0.009760232642292976, 0.08592481911182404, -0.012950951233506203, 0.02738991379737854, -0.029364190995693207, -0.17228055000305176, 0.13066895306110382, -0.01897374540567398, -0.036831751465797424, 0.07947342842817307, -0.01325719989836216, -0.18541409075260162, -0.03232515603303909, 0.022342156618833542, -0.158502459526062, -0.0705716609954834, 0.04729670286178589, 0.02818913199007511, -0.08573006838560104, 0.0046539013274014, 0.07282206416130066, -0.03048521839082241, 0.03960729390382767, -0.03299814835190773, -0.04999722167849541, 0.0715765655040741, -0.030836008489131927, -0.1154327243566513, -0.11508598178625107, -0.016352782025933266, -0.11877915263175964, -0.031741708517074585, -0.004040301311761141, -0.05443798378109932, 0.08669772744178772, -0.047445714473724365, 0.06615353375673294, -0.029368747025728226, 0.10847315937280655, -0.0897161066532135, -0.033265065401792526, 0.004503313917666674, -0.11486511677503586, 0.08231929689645767, -0.20175696909427643, -0.1275620013475418, -0.08750971406698227, -0.11434409022331238, 0.02040833979845047], [0.0923396572470665, 0.13914407789707184, -0.052415475249290466, -0.20790167152881622, 0.16932076215744019, 0.08732765913009644, -0.09752212464809418, 0.023372773081064224, -0.04586983844637871, -0.011077526025474072, 0.011667915619909763, -0.03857743740081787, 0.07122648507356644, 0.11013242602348328, 0.008844380266964436, 0.04942114278674126, -0.004374178126454353, 0.045351482927799225, 0.03236345946788788, -0.0244528166949749, 0.00869823433458805, 0.03611500561237335, 0.007294028531759977, -0.057504985481500626, -0.0757816806435585, -0.0896049439907074, -0.06547418236732483, 0.05745334550738335, 0.0323997437953949, 0.00682314345613122, -0.07624257355928421, 0.010793418623507023, -0.18390341103076935, 0.029302243143320084, 0.08279035985469818, -0.0802888348698616, 0.0055939513258636, 0.06503935903310776, -0.16257190704345703, -0.10769102722406387, 0.10856842249631882, 0.08233466744422913, 0.1518578827381134, 0.016154762357473373, -0.06981775909662247, -0.21121034026145935, 0.20602057874202728, 0.020451845601201057, 0.05855712667107582, -0.06150941178202629, -0.03377727046608925, 0.05400630459189415, -0.044473882764577866, 0.19751018285751343, 0.049236852675676346, -0.055434755980968475, -0.04826522246003151, -0.24122069776058197, 0.02625531516969204, -0.006541403476148844, -0.013503936119377613, -0.019151944667100906, 0.061608828604221344, 0.0034746071323752403, -0.01271235104650259, 0.12850697338581085, 0.1601542979478836, -0.010535825043916702, -0.04913990572094917, -0.09370274841785431, 0.10803896188735962, -0.09429039061069489, 0.03796371445059776, 0.08514542877674103, 0.11218246072530746, -0.042250633239746094, -0.1351538896560669, -0.07067257165908813, 0.14700274169445038, -0.002035849029198289, -0.047934640198946, 0.11867650598287582, 0.054818447679281235, -0.05404966324567795, 0.005840084981173277, -0.1084895208477974, -0.04385175183415413, -0.1686929166316986, 0.12558452785015106, -0.0709156021475792, 0.012000351212918758, -0.15040379762649536, 0.04745809733867645, -0.07563110440969467, 0.044825587421655655, 0.038637835532426834, 0.2746167480945587, 0.02358214557170868, 0.14243240654468536, 0.0706477090716362, 0.03321174532175064, -0.040672995150089264, -0.022264502942562103, 0.11721156537532806, -0.03241042420268059, -0.08309737592935562, -0.15965354442596436, 0.020762193948030472, 0.04301216080784798, 0.19928942620754242, -0.009701557457447052, -0.06446473300457001, -0.012584312818944454, 0.09759774804115295, -0.045998379588127136, -0.12832647562026978, 0.08859992027282715, 0.11200999468564987, -0.036494381725788116, -0.20451617240905762, 0.01097412221133709, 0.09435056149959564, -0.08158773183822632, 0.15081310272216797, -0.12751559913158417, -0.029640313237905502, 0.10105179250240326, 0.11911352723836899, 0.005982252303510904, -0.05986099690198898, -0.15897902846336365, 0.006190498825162649, 0.10346156358718872, -0.004204324912279844, -0.021542806178331375, 0.02807699516415596, -0.014762261882424355, 0.06402278691530228, -0.015949392691254616, -0.020974377170205116, -0.10658840090036392, 0.07709358632564545, -0.05261700600385666, 0.1256805658340454, 0.06802434474229813, 0.1365780234336853, -0.218558207154274, 0.11915735900402069, -0.003003478981554508, -0.0181717649102211, -0.014637762680649757, -0.05659181624650955, 0.13123579323291779, -0.17115721106529236, 0.06887822598218918, -0.010807215236127377, 0.005805951543152332, -0.022850068286061287, -0.11723112314939499, 0.11080846190452576, -0.17456912994384766, 0.018095815554261208, 0.0618697889149189, 0.027719825506210327, -0.10219709575176239, 0.06424839049577713, -0.08715040236711502, -0.013058465905487537, 0.02034856006503105, -0.19751054048538208, -0.10056394338607788, 0.101875901222229, -0.012739506550133228, -0.01644093543291092, 0.02343609556555748, 0.014038429595530033, -0.09057006239891052, -0.1993267834186554, 0.03903300687670708, -0.020875485613942146, 0.013902965933084488, -0.14955894649028778, -0.026240510866045952, -0.1094905287027359, 0.008792278356850147, 0.05232073366641998, -0.15186063945293427, 0.09438691288232803, -0.11514361947774887, -0.04046857729554176, -0.02115737833082676, 0.0579807348549366, -0.07550444453954697, 0.008987889625132084, 0.15920084714889526, 0.06246211752295494, 0.19036796689033508, 0.005156179890036583, -0.06213415414094925, 0.035914305597543716, -0.13358274102210999, -0.183173269033432, -0.1285720318555832, -0.054106563329696655, 0.10371465235948563, 0.01255855429917574, -0.07603562623262405, 0.15881343185901642, -0.0366857536137104, 0.04014569893479347, -0.15553918480873108, 0.0666559487581253, -0.11456644535064697, 0.04258960112929344, 0.028217248618602753, 0.018214358016848564, 0.10473956167697906, 0.027647892013192177, 0.03810872882604599, -0.09090593457221985, 0.4307844638824463, -0.07279089838266373, -0.016495704650878906, 0.04567239060997963, -0.0016852656845003366, 0.21564370393753052, 0.0724380761384964, 0.07046051323413849, -0.08433110266923904, 0.0008639629231765866, 0.08243586868047714, -0.02295282855629921, 0.01826808974146843, -0.09584403783082962, -0.016771560534834862, -0.042317721992731094, -0.297910213470459, 0.06766658276319504, 0.05295892804861069, 0.0160796120762825, 0.18560920655727386, 0.05135529115796089, -0.011364591307938099, 0.11814053356647491, 0.07794467359781265, -0.011968269944190979, -0.0922134518623352, 0.01790527254343033, 0.07927339524030685, -0.12132322788238525, 0.05229213461279869, -0.08134853094816208, 0.14597855508327484, 0.1581565886735916, -0.0784054547548294, -0.11346327513456345, -0.008575769141316414, -0.042656756937503815, 0.030453672632575035, 0.008103368803858757, -0.16961736977100372, -0.2513631582260132, 0.009552955627441406, 0.05161415785551071, 0.0012790340697392821, -0.027092695236206055, -0.10140740126371384, 0.021160520613193512, -0.003586703212931752, -0.20073910057544708, -0.06716779619455338, 0.004240305628627539, 0.007073770277202129, 0.015295998193323612, 0.0012395515805110335, 0.2608169615268707, -0.11557561159133911, 0.019515857100486755, 0.1510016769170761, 0.013636787422001362, -0.00628528231754899, -0.12125764042139053, -0.008706591092050076, -0.019028380513191223, 0.06862061470746994, 0.2787810266017914, -0.11048410832881927, 0.02667555958032608, 0.062803253531456, 0.11088739335536957, 0.048937130719423294, -0.3760600686073303, 0.07294701039791107, 0.07427995651960373, -0.10943859815597534, 0.04998981952667236, 0.1433132439851761, -0.013216405175626278, -0.10769452899694443, -0.0684967115521431, 0.0170535147190094, 0.020571760833263397, 0.09179557114839554, -0.03278941288590431, 0.02259872481226921, 0.05649777874350548, -0.0004385817446745932, -0.003674417268484831, 0.025864938274025917, 0.13249051570892334, 0.11519016325473785, -0.05530208721756935, 0.09418715536594391, -0.0024801401887089014, -0.045552924275398254, -0.024100862443447113, 0.04995894432067871, -0.03209145367145538, 0.025725269690155983, -0.10764605551958084, 0.013395718298852444, 0.01447940431535244, 0.00655448017641902, -0.022426651790738106, -0.02078089490532875, -0.05809793993830681, 0.019382113590836525, 0.029711168259382248, 0.26613789796829224, 0.04030226916074753, -0.08243421465158463, 0.04456355422735214, 0.047788359224796295, -0.13474929332733154, 0.0007561749662272632, 0.08398040384054184, 0.14669285714626312, -0.07470273971557617, -0.012554694898426533, -0.09651827067136765, 0.019459260627627373, 0.1417730748653412, -0.03914596885442734, 0.17026691138744354, -0.09789305180311203, -0.01789078675210476, -0.09941442310810089, 0.07839314639568329, 0.06627979874610901, -0.08842559903860092, -0.13793985545635223, -0.18464680016040802, 0.05516233295202255, -0.11710932105779648, -0.0808229148387909, -0.014985078945755959, 0.003022202290594578, 0.07389067113399506, -0.20623792707920074, 0.14745517075061798, 0.042755015194416046, -0.16051191091537476, -0.08388617634773254, 0.026378072798252106, 0.0975569635629654, 0.02977883256971836, 0.08695663511753082, 0.023262113332748413, -0.014080209657549858, -0.25865113735198975, 0.2252940535545349, -0.012399245984852314, 0.022551316767930984, 0.043024394661188126, -0.07890848070383072, -0.07472830265760422, -0.06369579583406448, 0.07988481968641281, 0.007626667153090239, -0.050220243632793427, -0.14175377786159515, -0.03776754066348076, 0.02462848834693432, -0.13125059008598328, -0.01098163053393364, -0.1604018360376358, 0.009909202344715595, 0.00908583402633667, -0.010948417708277702, 0.009991218335926533, -0.056221768260002136, -0.01831885054707527, -0.14625771343708038, 0.15586408972740173, -0.044258542358875275, 0.1973726898431778, -0.0828615203499794, 0.08869469165802002, 0.08490711450576782, -0.015111311338841915, 0.0072973198257386684, 0.10377365350723267, -0.20593662559986115, 0.15035627782344818, -0.0981733649969101, -0.05888098478317261, 0.04872990399599075, -0.1621912121772766, 0.0833357721567154, -0.05730287730693817, 0.0961298942565918, 0.0005887668812647462, -0.009665397927165031, 0.024795716628432274, -0.023382335901260376, -0.13579024374485016, -0.0076105170883238316, -0.08289546519517899, 0.11703617870807648, -0.05636628717184067, -0.026015659794211388, -0.0314594991505146, -0.014338466338813305, 0.17177270352840424, -0.14935818314552307, -0.005213772412389517, 0.11572014540433884, 0.01535861473530531, 0.04781031608581543, 0.010584977455437183, 0.05308203399181366, 0.16798558831214905, -0.07502980530261993, -0.02222687192261219, -0.06749599426984787, -0.4040822982788086, 0.04254886135458946, -0.036161959171295166, -0.12186075747013092, 0.056489478796720505, 0.005076600704342127, 0.04283936694264412, 0.017934616655111313, 0.003519789781421423, 0.02990969642996788, 0.10698310285806656, 0.07523886114358902, 0.0843062549829483, 0.05517258495092392, -0.014404253102838993, 0.052770718932151794, -0.01814069040119648, 0.03363117203116417, -0.026875026524066925, 0.00296933576464653, -0.10140164941549301, 0.12836816906929016, -0.08680186420679092, -0.1092715784907341, 0.05699259415268898, 0.037444550544023514, -0.027972746640443802, 0.025933288037776947, 0.0603494867682457, 0.026424448937177658, -0.11013437807559967, 0.010355386883020401, 0.005466070957481861, 0.08148285001516342, 0.09734485298395157, 0.08138248324394226, -0.04818364232778549, 0.015151787549257278, -0.0221956018358469, 0.13953082263469696, 0.13491947948932648, 0.1602267622947693, 0.001067591249011457, 0.03865227848291397, -0.06998261064291, 0.07535345107316971, -0.025755399838089943, -0.14427930116653442, -0.0875447690486908, 0.026734035462141037, -0.18180154263973236, 0.1196785643696785, -0.01688419282436371, 0.04824430122971535, -0.06622473895549774, -0.00441804900765419, 0.08518443256616592, 0.018883144482970238, 0.02300519309937954, 0.19719673693180084, -0.009895591996610165, -0.029006659984588623, -0.20747493207454681, -0.1298932135105133, 0.10805583745241165, -0.13153526186943054, 0.11232922226190567, -0.055105697363615036, 0.020651938393712044, 0.039563316851854324, 0.04187128320336342, 0.04921700060367584, -0.1117529422044754, 0.12871553003787994, -0.1036364883184433, 0.06349027901887894, -0.018820323050022125, -0.20661704242229462, 0.07028210163116455, -0.07358288764953613, -0.13105382025241852, 0.009515395388007164, 0.00025846748030744493, 0.10251183062791824, -0.06279503554105759, 0.08640559762716293, 0.0021163797937333584, 0.04658474028110504, 0.02062332257628441, -0.025584155693650246, 0.0011772580910474062, -0.05355377495288849, 0.002655470510944724, -0.0770455002784729, 0.1489175707101822, -0.054902851581573486, 0.015077105723321438, 0.009435098618268967, -0.2279515415430069, -0.010936613194644451, -0.10949422419071198, -0.137898787856102, 0.17003217339515686, 0.10943224281072617, 0.05080382525920868, 0.061527349054813385, -0.012817113660275936, -0.08743076771497726, 0.05252499878406525, 0.06300149112939835, 0.10373949259519577, 0.032954003661870956, -0.2645120620727539, 0.05224746838212013, -0.033664535731077194, 0.048746898770332336, 0.09033065289258957, 0.018677715212106705, 0.04054408147931099, 0.16081595420837402, 0.038178700953722, 0.031893279403448105, 0.002792671322822571, 0.13846492767333984, -0.1680586040019989, -0.14819377660751343, -0.05568468198180199, -0.06308989971876144, -0.03604632616043091, -0.004778847098350525, -0.19170451164245605, 0.041446249932050705, 0.006742937956005335, -0.07603170722723007, -0.032012972980737686, 0.08473514765501022, 0.04778144136071205, -0.1166067123413086, 0.088612399995327, -0.025386959314346313, 0.10860319435596466, 0.07281296700239182, -0.06183673441410065, -0.11797098070383072, 0.02659393474459648, -0.054480619728565216, -0.05841323360800743, 0.06365054845809937, 0.04019634425640106, 0.07638542354106903, -0.16145920753479004, -0.05330181494355202, -0.01930590532720089, -0.047587208449840546, 0.057751551270484924, -0.049955956637859344, -0.03385302424430847, -0.052841249853372574, 0.06541489064693451, -0.04169813171029091, -0.005438181571662426, 0.01941634528338909, -0.11740361899137497, -0.1058635264635086, -0.10946568846702576, -0.0306216012686491, -0.007239090744405985, 0.022533217445015907, -0.15424314141273499, 0.049249667674303055, 0.03034302219748497, 0.013649248518049717, -0.054362863302230835, 0.007239425554871559, -0.008988057263195515, -0.010925540700554848, -0.03641647472977638, 0.05373654514551163, -0.1023990735411644, -0.1354549527168274, -0.11565238982439041, -0.006217169109731913, 0.00502234511077404, -0.2161523848772049, -0.01706770807504654, 0.06902696192264557, -0.0064069791696965694, 0.0007829067762941122, -0.042847421020269394, 0.0392594113945961, -0.018247630447149277, -0.07072746753692627, 0.057344935834407806, -0.08520383387804031, 0.1651572585105896, 0.034636788070201874, -0.07998263090848923, 0.15817971527576447, 0.1814049631357193, 0.14422941207885742, 0.1730528175830841, 0.08051404356956482, -0.1424030065536499, 0.1246558427810669, -0.03487763926386833, 0.10867878049612045, -0.13821852207183838, 0.013934736140072346, 0.24081116914749146, -0.022020870819687843, 0.0012938943691551685, -0.0048823063261806965, -0.00924824271351099, -0.1465044915676117, -0.10732492804527283, 0.07428353279829025, -0.08086980879306793, 0.008731678128242493, 0.031139004975557327, 0.0009417870896868408, 0.045582450926303864, 0.017707861959934235, 0.006505088414996862, 0.10619448125362396, -0.048221562057733536, 0.10567763447761536, -0.04754813387989998, 0.08339571207761765, -0.00919949822127819, 0.11420030891895294, 0.11780855804681778, 0.18361930549144745, 0.15623855590820312, -0.05739651992917061, 0.11945895105600357, 0.030675487592816353, 0.12045039236545563, -0.12299604713916779, -0.09404493868350983, 0.005791952367872, -0.04787285253405571, 0.15793219208717346, 0.0005668666562996805, -0.15464714169502258, 0.1261558085680008, -0.06532502174377441, 0.006442409008741379, 0.12095703929662704, 0.008770177140831947, 0.21286475658416748, -0.021357625722885132, 0.21241918206214905, 0.00013356654380913824, -0.08530332148075104, -0.07238275557756424, -0.1340886801481247, -0.10569269210100174, 0.05711984261870384, 0.04727356135845184, 0.17442364990711212, -0.04446671903133392, -0.08611579239368439, -0.08865927159786224, -0.011596055701375008, -0.06835922598838806, -0.04247745871543884, -0.01647086627781391, 0.10423795878887177, 0.06685025990009308, -0.11305726319551468, 0.010083508677780628, -0.007556737866252661, 0.07831422984600067, 0.005777591373771429, 0.018726643174886703, -0.07134231925010681, -0.12966777384281158, 0.04126878082752228, -0.07147475332021713, -0.08601068705320358, -0.05683422461152077, -0.571031391620636, -0.017499200999736786, 0.03386639803647995, 0.33063700795173645, 0.04725518450140953, 0.1356411725282669, -0.03825043514370918, 0.16141687333583832, 0.05122527852654457, 0.316880464553833, 0.041138432919979095, 0.09098800271749496, 0.035726360976696014, -0.08814475685358047, 0.0030045155435800552, 0.01802898570895195, 0.027772286906838417, -0.055299997329711914, -0.2405949831008911, 0.012454485520720482, 0.047763798385858536, 0.023069461807608604, 0.0927356630563736, -0.14131884276866913, 0.11663912981748581, 0.12398950755596161, 0.18479670584201813, 0.04868951439857483, 0.008490217849612236, -0.11354316771030426, -0.067685067653656, 0.0037904176861047745, -0.014445554465055466, 0.11506394296884537, 0.05841696634888649, -0.020008791238069534, -0.05201776325702667, -0.053502485156059265, -0.06229107081890106, 0.030535653233528137, -0.07953992486000061, -0.1492597609758377, -0.17171861231327057, 0.09095215052366257, -0.005703512579202652, 0.014360610395669937, 0.10288164019584656, 0.09364612400531769, -0.03244385868310928, 0.062557652592659, -0.02785573899745941, -0.0018032414373010397, -0.14064286649227142, 4.2549943923950195, 0.01774674467742443, 0.02224063314497471, 0.03000236116349697, -0.02021053060889244, -0.1027357429265976, -0.012717939913272858, 0.12767347693443298, 0.14665402472019196, 0.007288211956620216, 0.10952041298151016, 0.051936544477939606, 0.11443119496107101, 0.01783721335232258, -0.0665610060095787, 0.19521163403987885, -0.00957964826375246, -0.025591999292373657, -0.050699301064014435, 0.031478796154260635, 0.7792518138885498, 0.10503724962472916, 0.016371654346585274, 0.08016056567430496, -0.15005360543727875, -0.008201118558645248, 0.039288002997636795, -0.15798282623291016, 0.05949869751930237, 0.14945149421691895, 0.0006226094556041062, -0.07533300668001175, 0.010887160897254944, -0.18309295177459717, -0.0029518643859773874, -0.026876840740442276, 0.006347254849970341, 0.01925349421799183, -0.025744706392288208, 0.04242178052663803, 0.08758799731731415, -0.057686835527420044, 0.04596911370754242, -0.020524825900793076, -0.015384843572974205, -0.048129852861166, -0.1733589619398117, -0.04154147580265999, -0.03591092675924301, 0.07850632071495056, -0.04568879306316376, 0.11419285833835602, 0.00926163885742426, 0.09709476679563522, 0.13550223410129547, -1.0538346767425537, 0.012790082953870296, -0.09795768558979034, -0.06520306318998337, -0.0844014585018158, 0.10400954633951187, -0.1507445126771927, 0.042945366352796555, 0.12951943278312683, -0.004485974088311195, -0.053317274898290634, 0.0377846360206604, 0.10133817791938782, 0.14236707985401154, -0.020319657400250435, -0.06135933846235275, -0.16416148841381073, -0.08202754706144333, 0.05441154167056084, 0.050721459090709686, 0.17116902768611908, -0.09331875294446945, -0.023790210485458374, -0.012100543826818466, 0.13461613655090332, -0.021843912079930305, 0.012839526869356632, -0.04662465304136276, 0.023986540734767914, -0.1669917106628418, 0.004079015459865332, 0.06636039912700653, -0.18547502160072327, -0.08647222071886063, -0.06362534314393997, 0.04493085667490959, -0.06192689761519432, 0.027144379913806915, -0.023409415036439896, -0.10509046167135239, -0.04965337738394737, 0.05392495170235634, 0.11466552317142487, -0.02829131670296192, 0.04126446694135666, 0.09749662131071091, -0.0643295869231224, -0.060372691601514816, -0.02951023168861866, -0.1082407534122467, 0.04966618865728378, 0.02427983656525612, 0.21044600009918213, -0.06910262256860733, 0.031142575666308403, 0.18468499183654785, -0.06807272881269455, -0.008940554223954678, 0.1929723024368286, 0.08178317546844482, 0.12427585572004318, -0.01325631607323885, 0.14922012388706207, 0.1740659922361374, -0.03099191002547741, 0.23435674607753754, 0.05116507038474083, -0.016458693891763687, 0.053492095321416855, -0.043802034109830856, -0.10818176716566086, 0.07262810319662094, -0.07389780879020691, -0.23729920387268066, 0.14759418368339539, 0.09094487130641937, -0.12712542712688446, 0.12613099813461304, -0.01919136382639408, -0.16820208728313446, 0.1016811951994896, -0.08801590651273727, -0.07756824791431427, 0.08343008905649185, -0.15213020145893097, 0.0784701481461525, 0.08523526787757874, 0.014798524789512157, 0.038854196667671204, -0.06003604829311371, -0.00558129046112299, 0.012095796875655651, -0.12511421740055084, -0.0847545638680458, -0.07400182634592056, -0.07125943899154663, -0.007999338209629059, -0.01655873842537403, 0.03334656357765198, -0.08408783376216888, -0.07658246904611588, 0.026247456669807434, 0.080265112221241, 0.12706692516803741, -0.09620704501867294, -0.16563540697097778, 0.016713151708245277, 0.08278070390224457, 0.07178895175457001, -0.0552673414349556, -0.1453898847103119, -0.04147869348526001, 0.05012382194399834, -0.017965195700526237, -0.06483171880245209, 0.05115848779678345, -0.21380357444286346, 0.019675152376294136, -0.08013211935758591, -0.0340360663831234, -0.06206642836332321, -0.02501872181892395, -0.03142303228378296, 0.016258040443062782, 0.07775226980447769, -0.07506363093852997, -0.0716753602027893, -0.06901032477617264, -0.11323339492082596, 0.1749214380979538, -0.07992765307426453, -0.1469750702381134, -0.15650933980941772, 0.03824932873249054, -0.023723315447568893, 0.048625532537698746, -0.15385828912258148, -0.1659395694732666, 0.09226828813552856, -0.1504153311252594, -0.11774508655071259, 0.012572011910378933, -0.09000059217214584, -0.11134215444326401, -0.029104534536600113, 0.0935598760843277, -0.15263092517852783, -0.1217973381280899, -0.13535624742507935, 0.036901913583278656, 0.08035418391227722, 0.06770286709070206, 0.07286025583744049, 0.021713219583034515, 0.06243837997317314, 0.08943463116884232, -0.15959545969963074, 0.039541587233543396, 0.039225008338689804, 0.12970425188541412, 0.05865485966205597, -0.05620774254202843, -0.09501107782125473, -0.07272777706384659, 0.042609620839357376, -0.03970276191830635, -0.0642879381775856, 0.10435912758111954, -0.04460776969790459, -0.14425164461135864, -0.025098441168665886, 0.04564035311341286, -0.048023611307144165, 0.0593160018324852, -0.04639427363872528, -0.01057344675064087, 0.08876381814479828, 0.0800648108124733, -0.048541538417339325, -0.1353672295808792, 0.004605775233358145, -0.2553776204586029, 0.010199427604675293, -0.0392613485455513, -0.0565791130065918, 0.020070573315024376, -0.08480328321456909, 0.12266825884580612, 0.05495854467153549, 0.18887773156166077, -0.04903218522667885, -0.10701843351125717, -0.018261607736349106, -0.11673741042613983, 0.053186364471912384, -0.21970698237419128, -0.1318957656621933, -0.13947972655296326, -0.042800698429346085, 0.07431383430957794], [0.11505970358848572, 0.01998264156281948, -0.08627471327781677, -0.1394195407629013, -0.031920820474624634, -0.024461835622787476, -0.05098555237054825, -0.04173184931278229, -0.009173914790153503, -0.02638658694922924, -0.06319590657949448, 0.10687173902988434, 0.056395649909973145, 0.10902723670005798, -0.022150320932269096, 0.03329028561711311, -0.005582928191870451, 0.0481562614440918, 0.08149648457765579, -0.052656516432762146, -0.019286584109067917, 0.056879471987485886, -0.058498963713645935, 0.011418212205171585, -0.056293416768312454, 0.004214158747345209, -0.11667574942111969, 0.030437681823968887, 0.03969905525445938, -0.013292505405843258, -0.1066274493932724, -0.010322222486138344, -0.12665607035160065, 0.1360233724117279, 0.07142622768878937, -0.026751764118671417, 0.1323460191488266, 0.060105424374341965, 0.0035604885779321194, -0.1649385392665863, 0.04170885309576988, 0.11033066362142563, 0.06703276187181473, 0.06319637596607208, 0.08152163773775101, -0.2280595898628235, 0.0013323556631803513, -0.009292027913033962, 0.04551289603114128, -0.07074863463640213, 0.041680529713630676, 0.010108713060617447, -0.06665130704641342, 0.04722300544381142, 0.08992374688386917, -0.025037404149770737, -0.008172593079507351, -0.08722928166389465, 0.029867423698306084, 0.009999905712902546, -0.1046910434961319, 0.04397058114409447, 0.058823127299547195, -0.0010071474825963378, 0.044859327375888824, -0.05158209800720215, 0.001364883384667337, 0.033523157238960266, 0.08140111714601517, 0.0015060646692290902, 0.06164821609854698, -0.09212193638086319, 0.0559244342148304, 0.05096042528748512, 0.018982071429491043, -0.03420159965753555, -0.1258951872587204, 0.03181595727801323, 0.08306846022605896, 0.04402248561382294, 0.005800590384751558, 0.03623032197356224, -0.003298752708360553, 0.045290712267160416, 0.027083801105618477, -0.09328345954418182, -0.018870830535888672, -0.05558447539806366, 0.1085495874285698, -0.1559973955154419, -0.13038793206214905, 0.015581508167088032, 0.04775502160191536, -0.032263144850730896, 0.14711755514144897, 0.06820135563611984, 0.2858530282974243, -0.0019449598621577024, 0.06065189465880394, 0.014882003888487816, 0.022517090663313866, -0.004763099364936352, -0.028797641396522522, 0.036063216626644135, -0.11415592581033707, -0.14171040058135986, -0.02110304683446884, -0.11796564608812332, 0.057444870471954346, 0.040855277329683304, -0.07863849401473999, 0.029990077018737793, -0.1288665384054184, -0.007925061509013176, -0.09008648246526718, 0.01828518509864807, 0.030005600303411484, 0.05445513129234314, 0.05952341482043266, 0.06066310405731201, 0.0019160608062520623, 0.0674174427986145, -0.04564743489027023, 0.01024274155497551, 0.0016716514946892858, -0.07229873538017273, 0.11339842528104782, 0.0975102037191391, -0.05930092930793762, 0.08104754239320755, -0.04995483532547951, -0.010713442228734493, -0.026074467226862907, 0.09719627350568771, -0.005504295229911804, 0.01635843887925148, -0.02075018733739853, 0.05420537292957306, 0.04086193069815636, -0.1260712444782257, -0.030960407108068466, 0.13134990632534027, 0.0382135808467865, 0.25844788551330566, 0.024251557886600494, 0.26366281509399414, -0.1251378059387207, 0.027812078595161438, -0.008353663608431816, 0.031171731650829315, 0.0435219332575798, 0.023128118366003036, -0.013818711042404175, -0.07417870312929153, -0.1655399352312088, 0.0257430337369442, 0.0034979761112481356, 0.017022928223013878, -0.04153023660182953, 0.07489670068025589, -0.18303167819976807, 0.07286052405834198, 0.02642109803855419, 0.040052175521850586, -0.04239955171942711, 0.026265839114785194, -0.029369130730628967, 0.03451262786984444, -0.0008471393375657499, -0.11270086467266083, -0.026735501363873482, 0.07855455577373505, 0.10859255492687225, -0.04942607507109642, -0.038451164960861206, -7.694802479818463e-05, -0.14587387442588806, -0.15704214572906494, -0.040965624153614044, 0.0019804269541054964, -0.024682974442839622, -0.1709909737110138, -0.040464337915182114, -0.09307621419429779, -0.04915725439786911, -0.03576691821217537, -0.06451258063316345, 0.01631532795727253, -0.12651638686656952, -0.06762035936117172, 0.029594114050269127, 0.19976860284805298, -0.012570197694003582, -0.05020744353532791, 0.09311448037624359, 0.02335273288190365, 0.2858554720878601, 0.03386646509170532, -0.0005995495012030005, 0.017353778705000877, 0.021511737257242203, -0.08295661956071854, -0.11731254309415817, 0.011620980687439442, 0.006193957757204771, 0.025770584121346474, -0.055045660585165024, 0.12746992707252502, -0.005204907618463039, -0.06629780679941177, -0.08162861317396164, 0.0053266482427716255, -0.05387029051780701, -0.024342548102140427, 0.09740298986434937, -0.046104688197374344, 0.1760842502117157, 0.12065816670656204, -0.01385956909507513, -0.034940656274557114, 0.33234477043151855, -0.06377679109573364, -0.06271688640117645, 0.05430623143911362, -0.08439921587705612, 0.10223753750324249, 0.04448913037776947, -0.003779440186917782, -0.03718726709485054, 0.048224106431007385, 0.04399551451206207, -0.16554053127765656, -0.04414395987987518, -0.1436515897512436, -0.04098712280392647, 0.062258344143629074, -0.4748351275920868, 0.026127606630325317, -0.059068821370601654, 0.01731422170996666, 0.21907152235507965, 0.1300688087940216, -0.024142010137438774, -0.0005105872987769544, 0.043055467307567596, 0.04627664014697075, -0.020688703283667564, -0.0003916856658179313, 0.16247794032096863, -0.08890324831008911, -0.03361568599939346, -0.058065950870513916, -0.003897847607731819, -0.00950936321169138, -0.023485178127884865, -0.04644479602575302, -0.026817049831151962, -0.007536719553172588, 0.08346038311719894, 0.012159556150436401, -0.02774028666317463, -0.1677236706018448, 0.09295833855867386, 0.05073695257306099, 0.03672418370842934, 0.07325059175491333, -0.04388725385069847, 0.06253808736801147, 0.04069839417934418, -0.17752844095230103, -0.05250626429915428, 0.058405935764312744, -0.019878245890140533, -0.0032181309070438147, -0.041640494018793106, 0.1277591735124588, -0.15747499465942383, -0.0929986760020256, -0.05248572304844856, 0.04930467531085014, -0.006914630066603422, -0.05712469294667244, -0.05855321139097214, -0.022795960307121277, -0.002876200946047902, 0.19068577885627747, 0.04178546741604805, 0.08211378753185272, 0.08840498328208923, 0.12732261419296265, 0.0889710783958435, -0.28072991967201233, 0.0013276762329041958, 0.02138109877705574, 0.042033448815345764, 0.058605920523405075, 0.033305536955595016, -0.017031587660312653, -0.055651236325502396, -0.049711208790540695, -0.08175860345363617, -0.11195975542068481, -0.03479131683707237, -0.03264438733458519, 0.09382671862840652, -0.005726316943764687, -0.029322048649191856, 0.02053108997642994, 0.050209809094667435, 0.10522238165140152, -0.07627054303884506, -0.037380196154117584, 0.053267862647771835, -0.03652225807309151, -0.15465635061264038, 0.014567630365490913, 0.050621870905160904, -0.009418847970664501, 0.059167832136154175, -0.007940074428915977, 0.04584445059299469, 0.07237666845321655, 0.03234203904867172, -0.10002661496400833, 0.02306853048503399, -0.07017938047647476, 0.030661433935165405, -0.06348865479230881, 0.3092273473739624, -0.042304735630750656, -0.03318493440747261, 0.048189952969551086, 0.2157813161611557, -0.05392523854970932, 0.01999204233288765, 0.10072159767150879, -0.02811773680150509, -0.011956127360463142, 0.02595064602792263, 0.030033813789486885, 0.0331997312605381, 0.0757720023393631, 0.04710238426923752, 0.12907089293003082, 0.02261446602642536, 0.051168814301490784, -0.12590840458869934, 0.05463352054357529, 0.08006472885608673, 0.007134351879358292, -0.24692730605602264, -0.1694665402173996, -0.05738098546862602, -0.0330585353076458, -0.09484754502773285, -0.044864390045404434, -0.04431428760290146, 0.10367291420698166, -0.0695108100771904, 0.07759904116392136, 0.015953226014971733, -0.10866343230009079, -0.0816064402461052, 0.12575368583202362, 0.04667312279343605, -0.009896155446767807, 0.1618565320968628, 0.044584497809410095, -0.07699733972549438, -0.2498868852853775, 0.3612341582775116, 0.0436757393181324, 0.02621910348534584, -0.08214817941188812, 0.027440665289759636, -0.06822393834590912, -0.021642381325364113, -0.044875603169202805, -0.040762435644865036, -0.08970621228218079, -0.06906388700008392, 0.0020175050012767315, 0.06365915387868881, -0.20063477754592896, 0.028498729690909386, -0.10232263058423996, -0.007101678755134344, -0.056496355682611465, 0.08065229654312134, -0.00488619040697813, 0.037159036844968796, 0.001893551554530859, -0.11898352205753326, 0.05704677104949951, 0.03233866021037102, 0.13904394209384918, 0.03105139546096325, 0.12077080458402634, 0.055033907294273376, 0.0034816914703696966, 0.0243474580347538, 0.08805134147405624, -0.1702352911233902, 0.077299565076828, -0.024719150736927986, 0.05665692314505577, 0.00627779308706522, -0.06488368660211563, 0.030245022848248482, 0.002166779013350606, 0.18092666566371918, 0.03489210829138756, -0.11755446344614029, -0.05377975478768349, -0.021405674517154694, -0.07397854328155518, 0.09081452339887619, 0.009628959000110626, 0.03263847902417183, -0.10403798520565033, -0.05180266126990318, -0.003587188199162483, -0.010770786553621292, 0.07320861518383026, -0.14611542224884033, -0.006586174014955759, 0.08538641780614853, 0.011397797614336014, 0.0901624783873558, 0.09897663444280624, -0.03264142572879791, 0.05576957017183304, 0.08067300170660019, 0.0005823203828185797, -0.07836253941059113, -0.45872679352760315, -0.017295721918344498, -0.025008155032992363, -0.04313451051712036, 0.020266052335500717, -0.04373336583375931, -0.09692226350307465, -0.07524216175079346, -0.00022028708190191537, -0.01594134047627449, -0.024518758058547974, -0.03028549998998642, 0.03905656933784485, 0.04606373608112335, -0.019428439438343048, 0.06000760570168495, 0.07640443742275238, 0.015048414468765259, 0.005688266828656197, -0.0962275043129921, -0.07174394279718399, 0.15657681226730347, -0.07034830749034882, -0.09150801599025726, 0.10401315242052078, 0.0865546315908432, 0.06234694644808769, 0.016418123617768288, -0.088137187063694, -0.012549043633043766, -0.15091831982135773, -0.052716996520757675, -0.16235758364200592, -0.0044785537756979465, 0.018665682524442673, -0.009056592360138893, -0.025255022570490837, -0.07272059470415115, 0.01902388222515583, 0.09661535918712616, -0.0635768473148346, 0.09719373285770416, -0.0864589661359787, -0.009236146695911884, 0.013775576837360859, -0.02688537910580635, -0.06599301099777222, -0.03725551813840866, -0.055881284177303314, 0.028029195964336395, -0.16933678090572357, 0.17853139340877533, 0.06378669291734695, 0.024572337046265602, -0.13454952836036682, -0.01599118486046791, 0.06637322902679443, -0.03655977174639702, -0.0673006922006607, 0.16406701505184174, -0.043568119406700134, 0.07529797405004501, -0.15621188282966614, -0.2353084832429886, 0.12801457941532135, 0.03526075556874275, -0.04893365874886513, -0.06473540514707565, -0.03926580771803856, 0.013511372730135918, -0.042157404124736786, 0.091270312666893, -0.050422705709934235, 0.08122988045215607, 0.04585473984479904, 0.03604482486844063, -0.08215268701314926, -0.024990301579236984, 0.059601832181215286, -0.029656512662768364, -0.03625382483005524, 0.0593595989048481, -0.017066558822989464, 0.11403672397136688, -0.05475710704922676, -0.037504907697439194, -0.06311263144016266, -0.0033314614556729794, -0.016472939401865005, 0.040401022881269455, 0.025710802525281906, -0.04432447627186775, 0.09750090539455414, -0.0718662217259407, 0.037395868450403214, -0.07318416982889175, 0.01695580780506134, -0.011570836417376995, -0.48092764616012573, 0.08010908216238022, -0.037762075662612915, -0.05801338329911232, 0.1642993986606598, 0.004860457498580217, 0.010864394716918468, 0.011435494758188725, -0.03661666810512543, 0.04040920361876488, 0.010690595023334026, 0.04454439505934715, 0.03946814686059952, 0.024470148608088493, -0.12104539573192596, -0.03835759311914444, -0.030456984415650368, 0.02535102888941765, 0.05937306582927704, -0.04260037839412689, -0.016331026330590248, 0.10492453724145889, -0.11255399137735367, 0.05655170604586601, 0.036702997982501984, 0.05804021656513214, -0.1357976645231247, -0.1027841567993164, -0.06355328112840652, -0.16585691273212433, 0.009447025135159492, -0.026309680193662643, -0.15188388526439667, 0.15143071115016937, -0.0176082793623209, -0.06999035179615021, -0.0007528134738095105, 0.013226401060819626, -0.010774930939078331, -0.08946887403726578, 0.011294585652649403, 0.08710600435733795, 0.11138729006052017, 0.012460766360163689, -0.11619886010885239, -0.06342330574989319, 0.06557634472846985, -0.03398805111646652, -0.0025307047180831432, -0.014232106506824493, 0.10174186527729034, 0.05727038159966469, -0.1545957624912262, -0.005000663921236992, -0.07919902354478836, -0.016207218170166016, -0.009875706396996975, -0.09533559530973434, 0.011518945917487144, 0.011281135492026806, 0.029481085017323494, -0.04838826134800911, -0.08833824098110199, -0.05743252485990524, -0.16841591894626617, -0.024233894422650337, -0.007636583875864744, 0.07207146286964417, 0.08344009518623352, 0.02152225375175476, -0.0009779667016118765, -0.07979775220155716, -0.016077525913715363, -0.027890292927622795, -0.03507811203598976, -0.101737841963768, 0.029154373332858086, -0.0954541489481926, -0.03044751286506653, 0.028463318943977356, -0.11361203342676163, 0.08454585075378418, -0.11942769587039948, -0.0864316001534462, 0.013799261301755905, -0.18602347373962402, -0.053054895251989365, 0.06464162468910217, 0.03744687885046005, -0.0756886675953865, -0.009689765982329845, 0.012909912504255772, 0.07218614965677261, -0.07442380487918854, 0.042810291051864624, -0.07335782796144485, 0.09403715282678604, 0.10991035401821136, -0.01305826473981142, 0.14381764829158783, 0.117894247174263, 0.035523589700460434, 0.13481803238391876, 0.10198381543159485, -0.059297267347574234, 0.01723138615489006, 0.07324686646461487, -0.011622375808656216, 0.040228117257356644, 0.03814361244440079, 0.2011902630329132, -0.0031137738842517138, -0.004985350649803877, 0.19066327810287476, 0.08285389840602875, -0.07576710730791092, -0.05645370855927467, 0.012722731567919254, -0.033907514065504074, 0.0413510836660862, 0.014290055260062218, 0.08919895440340042, 0.0036325259134173393, 0.05169782415032387, 0.0258448738604784, 0.031254447996616364, 0.06310030072927475, -0.024084901437163353, -0.07048392295837402, 0.028518665581941605, -0.06543892621994019, 0.016469646245241165, 0.21807384490966797, 0.08545688539743423, 0.0435822531580925, -0.10544382035732269, 0.10243134945631027, 0.047384295612573624, 0.04698735103011131, -0.06457454711198807, 0.01794552057981491, 0.011531364172697067, -0.08502177149057388, 0.031948111951351166, 0.028073424473404884, -0.08280099928379059, 0.14956159889698029, 0.032853905111551285, -0.023725461214780807, 0.04177863523364067, -0.026233317330479622, -0.050929050892591476, 0.0116564417257905, 0.23065225780010223, -0.06970326602458954, -0.01985201984643936, -0.04907246306538582, -0.10561010986566544, -0.011601454578340054, 0.09173929691314697, 0.04669574648141861, 0.12964004278182983, 0.03220357373356819, 0.002284338930621743, -0.040532760322093964, 0.02755802311003208, 0.013301105238497257, -0.08137445896863937, -0.12409602850675583, 0.06859142333269119, 0.03584036976099014, -0.06367871910333633, -0.08184338361024857, 0.02567202039062977, 0.09559033066034317, -0.08177419006824493, -0.002072274684906006, -0.11565961688756943, 0.04035121202468872, 0.03245827928185463, 0.011724942363798618, 0.031393878161907196, -0.016408825293183327, -0.38263431191444397, 0.0015410861233249307, 0.05493662878870964, 0.1991622895002365, 0.10646304488182068, 0.02103559300303459, -0.0011040923418477178, 0.17961721122264862, 0.016081959009170532, 0.20634546875953674, 0.0463518463075161, 0.08015206456184387, 0.024045614525675774, -0.020508063957095146, -0.023068537935614586, -0.06146318092942238, -0.061624012887477875, -0.06997057050466537, -0.20545634627342224, 0.0003930663806386292, 0.0683232769370079, 0.1293431967496872, 0.1114291101694107, -0.10763755440711975, 0.07697497308254242, 0.06964513659477234, 0.15102970600128174, 0.0814225897192955, -0.07977605611085892, -0.027273746207356453, 0.04233552888035774, 0.08794991672039032, -0.06185733154416084, 0.1297447830438614, 0.09526973962783813, -0.047779761254787445, -0.018990041688084602, -0.015296237543225288, -0.07400064915418625, -0.05843649059534073, -0.011447823606431484, -0.11235084384679794, -0.11927377432584763, 0.06295990943908691, -0.10588736832141876, -0.013432706706225872, 0.027653878554701805, 0.06485593318939209, 0.01770027168095112, -0.014757391065359116, -0.050710197538137436, 0.06674806028604507, -0.057471178472042084, 4.66139030456543, -0.06458044797182083, 0.10040105879306793, 0.017959827557206154, -0.018925469368696213, 0.08314564824104309, 0.07396134734153748, 0.0431530699133873, 0.07898066937923431, -0.05940162390470505, 0.1373402625322342, 0.05446254089474678, 0.02161838673055172, -0.028771454468369484, 0.024659330025315285, 0.18373851478099823, -0.080098457634449, -0.06879129260778427, 0.04071490094065666, -0.07439858466386795, 0.5779375433921814, -0.040998272597789764, 0.008976786397397518, 0.0441720150411129, -0.029310820624232292, 0.00977754220366478, 0.07240495830774307, -0.11973154544830322, -0.08386530727148056, 0.1513442099094391, -0.11268192529678345, 0.021715929731726646, 0.011933960020542145, -0.1446128636598587, -0.06326796114444733, -0.04097096249461174, -0.10278821736574173, 0.03232554718852043, 0.028269020840525627, 0.09029669314622879, 0.060719698667526245, -0.012362595647573471, 0.12411525845527649, -0.0058642784133553505, -0.05414962023496628, -0.010556411929428577, -0.3710799515247345, -0.08117703348398209, 0.018186477944254875, 0.04680492356419563, -0.010548748075962067, 0.0027671121060848236, -0.06470100581645966, 0.0753779262304306, 0.13172829151153564, -1.4379308223724365, -0.07069335132837296, 0.009908968582749367, -0.06811531633138657, -0.03159714490175247, 0.009675947949290276, 0.025951791554689407, 0.05505039170384407, 0.03801627457141876, 0.07558878511190414, 0.027128620073199272, -0.04354815185070038, -0.03566712141036987, 0.08604341745376587, -0.03851497545838356, 0.04619218781590462, -0.11661247909069061, -0.02848549373447895, 0.02998553030192852, 0.03058594837784767, 0.10459680110216141, -0.07155498117208481, 0.030190201476216316, -0.023417768999934196, 0.13955247402191162, 0.1090165227651596, -0.0371064655482769, 0.015538468956947327, -0.030499586835503578, -0.05632837861776352, -0.06582105159759521, 0.13908319175243378, -0.09286562353372574, -0.09229395538568497, 0.08248036354780197, 0.14066031575202942, -0.05354258790612221, 0.05998121574521065, 0.028612667694687843, 0.018524527549743652, -0.011049737222492695, 0.050467729568481445, 0.06169331446290016, 0.06208587810397148, 0.006809475366026163, 0.008836441673338413, -0.10610587149858475, 0.10439705103635788, -0.00017627478518988937, -0.09290502965450287, 0.05910716950893402, 0.0565045028924942, 0.13155332207679749, -0.004828331060707569, 0.032543785870075226, 0.1371387392282486, -0.09107507765293121, -0.12208753079175949, 0.14894579350948334, 0.06455378234386444, 0.13241785764694214, -0.04187769815325737, 0.13762307167053223, 0.06883355975151062, -0.007839975878596306, 0.13418389856815338, -0.04733269289135933, 0.01562599651515484, 0.05922774598002434, -0.03899610787630081, -0.05435718595981598, -0.042769186198711395, -0.05009207874536514, -0.26192277669906616, 0.04514665901660919, 0.05719991400837898, -0.06272444128990173, 0.0828651711344719, -0.0665350928902626, -0.13335125148296356, 0.09598387032747269, 0.033589281141757965, -0.07365156710147858, 0.10735847055912018, -0.044895317405462265, 0.09593942016363144, 0.060504596680402756, 0.05482012405991554, -0.012674863450229168, -0.008147233165800571, -0.038318995386362076, 0.0631803646683693, -0.07788773626089096, -0.0034303120337426662, -0.05699706822633743, -0.09343022853136063, -0.07694320380687714, 0.06782840937376022, -0.034805845469236374, -0.12092521786689758, 0.08846287429332733, -0.03624874725937843, 0.049581266939640045, 0.06385689973831177, 0.03358041122555733, -0.10387105494737625, -0.08206357806921005, 0.021485717967152596, -0.029257481917738914, 0.09179043024778366, -0.1028086468577385, -0.042632099241018295, -0.0385717898607254, -0.00809574592858553, -0.04358835145831108, -0.0754840299487114, -0.15571828186511993, -0.038551587611436844, -0.11756592988967896, -0.05249997600913048, 0.011674374341964722, 0.07857539504766464, 0.0009551426046527922, -0.020551474764943123, 0.09464238584041595, -0.15135151147842407, -0.00861616712063551, -0.02161608636379242, -0.14985236525535583, 0.17783810198307037, 0.07861233502626419, -0.07706169039011002, -0.043144531548023224, -0.008381876163184643, 0.08864721655845642, -0.014869393780827522, -0.12178850173950195, -0.13272905349731445, 0.1250239759683609, -0.12258096784353256, -0.010650323703885078, -0.01781822182238102, -0.1074000671505928, -0.09921203553676605, -0.18953458964824677, -0.03464798256754875, -0.02178981527686119, -0.09726335108280182, -0.07762953639030457, -0.016222024336457253, 0.059324443340301514, 0.06725822389125824, 0.038490574806928635, -0.06703528761863708, -0.04363356903195381, -0.0469822995364666, -0.011924541555345058, 0.04088078439235687, -0.0636616125702858, -0.01936206966638565, 0.06374986469745636, -0.05761847272515297, -0.021659789606928825, -0.045885149389505386, 0.05354245752096176, -0.01459843572229147, 0.046849776059389114, 0.04728621244430542, 0.03234284371137619, -0.15962645411491394, -0.08978933840990067, 0.039483558386564255, -0.0031915195286273956, 0.01437001209706068, -0.05587393790483475, -0.06064167246222496, -0.009480739943683147, -0.04318085312843323, -0.059684108942747116, -0.15617096424102783, -0.029866239055991173, -0.12666672468185425, -0.013638284988701344, -0.001283941906876862, -0.09665878862142563, 0.016709988936781883, -0.018242746591567993, -0.0279844980686903, -0.045956626534461975, 0.09886402636766434, 0.07898414880037308, -0.09239596873521805, -0.04857597127556801, -0.08734723180532455, 0.09391697496175766, -0.01673201099038124, -0.1203283742070198, -0.009462201036512852, -0.18727236986160278, 0.13169002532958984], [0.04012025520205498, 0.05467943102121353, -0.04245823994278908, -0.06541416794061661, 0.1141686663031578, 0.04809737950563431, -0.03345432132482529, -0.09412571787834167, 0.01348163466900587, -0.01451541855931282, -0.05462432652711868, 0.04574194177985191, 0.017939377576112747, 0.10734731703996658, 0.030557526275515556, 0.05326152220368385, 0.04006907343864441, 0.021199338138103485, 0.077403225004673, -0.04834993928670883, -0.021311569958925247, 0.07876747846603394, -0.046381495893001556, -0.006370190065354109, -0.01867954060435295, 0.016705697402358055, -0.1196264699101448, 0.015500707551836967, -0.011283804662525654, 0.03587428852915764, -0.036734241992235184, 0.01583048701286316, -0.14445951581001282, 0.02562248893082142, 0.0251803956925869, -0.08666691184043884, 0.015795456245541573, 0.08831764757633209, -0.07931572943925858, -0.12670554220676422, 0.024068884551525116, 0.12832827866077423, 0.04741630330681801, 0.008742526173591614, 0.06776847690343857, -0.11081484705209732, 0.08258207142353058, 0.040939658880233765, -0.025614123791456223, -0.08892545104026794, 0.04079307243227959, 0.03430881351232529, 0.0005494198412634432, -0.020268579944968224, 0.014623455703258514, -0.09250004589557648, -0.11045192927122116, -0.09061884135007858, -0.030086947605013847, -0.05179307237267494, -0.05835573747754097, 0.008920017629861832, 0.06427919119596481, 0.004331192467361689, -0.0026889564469456673, 0.026040541008114815, 0.0368870310485363, 0.03910619765520096, 0.02210865542292595, -0.0252295583486557, 0.033948253840208054, -0.061039719730615616, 0.02406272292137146, -0.0026476900093257427, 0.03355632722377777, -0.04029698297381401, -0.081417515873909, -0.009934746660292149, 0.06492830067873001, 0.04409315437078476, -0.021838940680027008, 0.040032707154750824, 0.021791774779558182, 0.021609177812933922, 0.01587573252618313, -0.0614846795797348, -0.05643210932612419, -0.07321309298276901, 0.10261162370443344, -0.008864344097673893, -0.041964124888181686, -0.04035515338182449, 0.007171398028731346, -0.07085109502077103, 0.1308961808681488, 0.10807445645332336, 0.2618093192577362, 0.004635854158550501, 0.1051141768693924, 0.06606852263212204, -0.04192585125565529, -0.016041496768593788, -0.04062369465827942, 0.06618677079677582, -0.07813575118780136, -0.17466923594474792, -0.026761159300804138, -0.032691605389118195, 0.05087389424443245, 0.042082589119672775, -0.020221730694174767, 0.036522988229990005, 0.017967935651540756, 0.04152873530983925, -0.047797828912734985, 1.6510288332938217e-05, -0.003992670681327581, 0.06382031738758087, -0.06137709319591522, 0.0118115758523345, -0.008047543466091156, 0.05653904378414154, -0.09279685467481613, 0.05089510604739189, 0.014870909973978996, 0.034273020923137665, -0.0026901722885668278, 0.16295453906059265, -0.0475260429084301, 0.02789667621254921, -0.06033816188573837, -0.0025181842502206564, 0.033115677535533905, 0.03510120511054993, 0.029713187366724014, -0.0006058055441826582, -0.0066438233479857445, 0.027176816016435623, -0.028801096603274345, -0.03365665674209595, -0.02469966746866703, 0.07605459541082382, 0.014522728510200977, -0.059360336512327194, 0.034847442060709, 0.3294215500354767, -0.06671196967363358, 0.045819781720638275, -0.024248838424682617, 0.0050264750607311726, -0.03214295208454132, 0.04716329276561737, -0.009890038520097733, -0.11171813309192657, 0.03083745576441288, 0.04128248244524002, -0.01407539937645197, 0.012692566961050034, -0.030524281784892082, 0.05483603477478027, -0.09025408327579498, 0.019545551389455795, 0.08611062914133072, -0.018082326278090477, 0.009468997828662395, 0.005695537198334932, -0.06013186275959015, 0.025556525215506554, 0.048747867345809937, -0.08711054176092148, -0.010796155780553818, 0.04477786645293236, 0.0971517488360405, -0.07322249561548233, -0.03854263573884964, 0.0641142725944519, -0.11898145824670792, -0.17753133177757263, -0.03183487057685852, 0.001719274208880961, -0.006600464228540659, -0.10769163817167282, -0.008779946714639664, -0.08724310994148254, 0.024682633578777313, 0.006241683382540941, -0.10313131660223007, 0.018259979784488678, 0.03464376926422119, -0.022608067840337753, -0.012264751829206944, -0.00023976252123247832, -0.04723374545574188, 0.03221827745437622, 0.14307796955108643, 0.021192517131567, 0.15524934232234955, 0.012809570878744125, -0.08832602947950363, 0.09801975637674332, -0.07736264914274216, -0.09979470819234848, -0.025097191333770752, -0.021566245704889297, -0.04321613907814026, 0.012372341006994247, -0.08019546419382095, 0.09894321113824844, 0.027669038623571396, -0.024997780099511147, -0.09673118591308594, 0.055510204285383224, -0.10067999362945557, -0.06096857041120529, 0.03491758927702904, -0.01805724948644638, 0.12747056782245636, 0.03174256533384323, -0.01146586611866951, -0.05434110760688782, 0.35905399918556213, -0.005914624314755201, -0.05508807301521301, 0.03904561698436737, -0.013106998056173325, 0.12937556207180023, 0.09965314716100693, 0.1011936366558075, -0.009634898975491524, 0.05526290088891983, -0.014656011015176773, -0.1017519161105156, -0.03931848704814911, -0.05039402097463608, -0.011973878368735313, 0.001696866936981678, -0.5223292708396912, -0.028225671499967575, -0.06932441145181656, 0.015888627618551254, 0.12436678260564804, 0.09925676137208939, -0.0025384584441781044, 0.0007785398047417402, 0.044939227402210236, 0.058859217911958694, -0.02361486479640007, -0.06094391644001007, 0.1360442340373993, -0.1012188270688057, 0.015501436777412891, -0.037064094096422195, 0.09866712987422943, 0.02864556945860386, 0.017351433634757996, 0.0014226267812773585, -0.017050528898835182, 0.01838507689535618, 0.020464695990085602, 0.026199642568826675, -0.12780064344406128, -0.14324313402175903, 0.059057679027318954, 0.03263533487915993, -0.01751505769789219, 0.037982963025569916, -0.06440714001655579, 0.07704188674688339, 0.0007942646625451744, -0.18288648128509521, -0.023416539654135704, 0.06939998269081116, -0.006491400767117739, 0.038948360830545425, 0.029433641582727432, 0.33752140402793884, -0.12417098879814148, -0.06639580428600311, -0.009907668456435204, 0.08396900445222855, -0.03104240633547306, -0.06772886216640472, -0.024043068289756775, 0.03788502514362335, -0.046224359422922134, 0.1709718406200409, -0.06188696622848511, 0.024593042209744453, 0.03639554604887962, 0.09186076372861862, 0.11032721400260925, -0.20440541207790375, 0.07433618605136871, -0.010275937616825104, 0.009862403385341167, 0.01428072527050972, 0.029755011200904846, -0.020377421751618385, -0.060748014599084854, -0.0204531978815794, -0.018504727631807327, -0.05923498794436455, 0.03970669209957123, -0.017904896289110184, 0.004347360692918301, -0.04194900393486023, -0.05771030858159065, 0.04552524536848068, 0.0636441707611084, 0.03767222538590431, 0.026930153369903564, -0.011360778473317623, 0.06987892091274261, 0.008625419810414314, -0.10250531136989594, -0.019462667405605316, -0.027113914489746094, -0.046099212020635605, 0.05159476026892662, -0.08739752322435379, 0.008318494074046612, -0.024364590644836426, 0.06579823791980743, -0.08527268469333649, -0.0014096280792728066, -0.07922112941741943, 0.012588435783982277, -0.01676686853170395, 0.40495410561561584, 0.054916590452194214, -0.016622405499219894, -0.016690054908394814, 0.052221979945898056, -0.057437289506196976, -0.02226639911532402, 0.10618326812982559, 0.017425404861569405, -0.027839696034789085, 0.07906421273946762, -0.06780926138162613, -0.008817130699753761, 0.07617631554603577, 0.010320136323571205, 0.05442429333925247, 0.007362264674156904, 0.0013763128081336617, -0.0914284735918045, 0.03725045546889305, 0.09137353301048279, 0.0227424968034029, -0.08480709046125412, -0.18941889703273773, -0.01230296678841114, -0.05726617947220802, -0.09436805546283722, -0.035872746258974075, 0.021319782361388206, 0.07504647970199585, -0.09431111812591553, 0.03551965206861496, 0.018050018697977066, -0.06048084422945976, -0.029183903709053993, 0.023563282564282417, 0.03015005774796009, 0.04225774109363556, 0.10085759311914444, 0.012047926895320415, -0.009656745009124279, -0.1733565479516983, 0.2546135187149048, -0.025564758107066154, 0.05757975950837135, 0.03728324919939041, -0.017892077565193176, -0.0693616271018982, -0.008402765728533268, 0.025116389617323875, -0.008937256410717964, -0.05820559337735176, -0.061522118747234344, 0.025161512196063995, -0.00937116239219904, -0.1240081936120987, 0.013915175572037697, -0.08850731700658798, -0.02691209502518177, -0.1119869127869606, 0.008707781322300434, 0.04695087671279907, -0.06001514941453934, 0.06344703584909439, -0.010572056286036968, 0.0340079627931118, -0.011608828790485859, 0.050744738429784775, -0.04899296909570694, 0.16003906726837158, -0.014873477630317211, -0.0004941987572237849, -0.05535835400223732, 0.07017090171575546, -0.11895348876714706, 0.027659444138407707, -0.07486481219530106, -0.05621219053864479, -0.02837759628891945, -0.028463827446103096, 0.0397629588842392, -0.07923819124698639, 0.10588143765926361, 0.04236907139420509, -0.0529978908598423, -0.05709616094827652, 0.03309095278382301, -0.09780628234148026, 0.09423422068357468, -0.03639332205057144, 0.07351978868246078, -0.0702064260840416, -0.03419795632362366, -0.007952284999191761, -0.00544599536806345, 0.1009281650185585, -0.07853884249925613, 0.007272670045495033, 0.08465886861085892, 0.02395622804760933, -0.00010567857680143788, 0.10564658045768738, 0.09070947021245956, 0.13430427014827728, 0.010250402614474297, 0.03997903689742088, -0.034236080944538116, -0.39200446009635925, -0.002976612886413932, -0.027004558593034744, -0.03234171122312546, 0.016842514276504517, -0.01768065243959427, -0.06772277504205704, 0.010553838685154915, 0.012639637105166912, 0.03921070694923401, 0.049634456634521484, -0.015676360577344894, 0.11450310796499252, 0.08901471644639969, -0.007622264791280031, 0.03077915497124195, 0.032175906002521515, 0.09021668881177902, -0.008662404492497444, -0.01975308358669281, 0.036708686500787735, 0.056249894201755524, -0.019817830994725227, -0.014449119567871094, 0.017106251791119576, 0.051093947142362595, 0.06504102051258087, -0.0017836049664765596, -0.017206626012921333, -0.008757988922297955, -0.1733325719833374, -0.05389393866062164, 0.0026834174059331417, 0.04919663816690445, 0.018637308850884438, 0.0025544995442032814, -0.09080299735069275, -0.03603310137987137, 0.0032947640866041183, 0.01653192564845085, 0.04397766664624214, 0.041520074009895325, -0.06573092937469482, 0.08875568211078644, -0.007878270000219345, -0.02231329120695591, -0.06697066873311996, -0.06687222421169281, -0.03955810144543648, -0.0139353321865201, -0.13529670238494873, 0.11914367973804474, 0.008400511927902699, -0.038547005504369736, -0.08739451318979263, 0.0006254681502468884, 0.029569029808044434, -0.021811973303556442, -0.0691964253783226, 0.05078393593430519, 0.025451812893152237, 0.014679944142699242, -0.11362244188785553, -0.15077126026153564, 0.04750366508960724, -0.08889631927013397, -0.027053140103816986, -0.025442158803343773, 0.01222623884677887, -0.03320369869470596, 0.00894550047814846, 0.03989395499229431, -0.02055864967405796, 0.029952388256788254, -0.06715397536754608, 0.05507433041930199, -0.08636166155338287, -0.004238290246576071, 0.05275283381342888, -0.05382370576262474, -0.0745689794421196, 0.13069236278533936, -0.0030100815929472446, 0.003663361072540283, -0.14375345408916473, -0.047372154891490936, 0.029105061665177345, 0.04551972821354866, 0.05965753644704819, 0.021957578137516975, 0.1057015135884285, -0.00833507813513279, 0.08554930239915848, -0.026318253949284554, 0.0015156700974330306, -0.025591975077986717, 0.04491915553808212, -0.013182088732719421, -0.4936428666114807, -0.008226575329899788, -0.012644505128264427, -0.033402442932128906, -0.02669118158519268, 0.010493059642612934, 0.0315505787730217, -0.04673603177070618, -0.031752586364746094, -0.0005888584419153631, -0.03881662338972092, 0.02593623287975788, 0.05587174370884895, -0.001576078706420958, -0.22000925242900848, 0.020320400595664978, -0.02714850939810276, 0.062370557337999344, 0.08942370116710663, 0.043305736035108566, -0.04931195080280304, 0.02360096573829651, -0.015775084495544434, 0.11312293261289597, -0.046090610325336456, 0.10991735756397247, -0.15676413476467133, -0.12067624926567078, -0.05188268795609474, -0.1212121844291687, -0.06610313802957535, -0.013398416340351105, -0.1829013079404831, 0.11087383329868317, 0.036550961434841156, -0.011442327871918678, 0.017729464918375015, 0.05789930745959282, 0.016808701679110527, -0.0743599534034729, 0.0444088838994503, 0.001431001233868301, 0.1339237093925476, 0.0713992491364479, -0.09671463817358017, -0.07013721764087677, 0.029421238228678703, -0.016687380149960518, -0.024126997217535973, 0.07935569435358047, 0.059135086834430695, 0.005876027513295412, -0.11841846257448196, -0.018554562702775, -0.0289273951202631, -0.0156171303242445, -0.031859464943408966, -0.04841822013258934, -0.02262614481151104, -0.020174525678157806, 0.07323741912841797, 0.022351503372192383, -0.047936055809259415, -0.024694286286830902, -0.17783795297145844, -0.018952473998069763, -0.07796283811330795, 0.05877505615353584, 0.02387704886496067, 0.0042311055585742, -0.029915405437350273, 0.031026490032672882, 0.056806545704603195, 0.045793432742357254, -0.023505719378590584, -0.025890611112117767, 0.002256994601339102, -0.09902926534414291, -0.0228730458766222, 0.03294571861624718, -0.08042397350072861, 0.037711214274168015, -0.08477949351072311, -0.05576905980706215, -0.03943158686161041, -0.1298786848783493, -0.02559647522866726, 0.06932712346315384, 0.02330939471721649, -0.02758241631090641, -0.08274361491203308, -0.009049481712281704, 0.0840013176202774, -0.09135102480649948, 0.012772644869983196, -0.05476629361510277, -0.03508377447724342, 0.011141677387058735, -0.055588386952877045, 0.08078315854072571, 0.07967472821474075, 0.08041329681873322, 0.06537538766860962, 0.08789456635713577, -0.13055506348609924, 0.03288008272647858, -0.032463438808918, 0.05648050084710121, -0.10116662830114365, 0.09341055899858475, 0.1458067148923874, -0.04649613797664642, 0.039807263761758804, 0.07833188027143478, 0.04032517597079277, -0.10986607521772385, 0.02229474112391472, 0.10563476383686066, -0.044740427285432816, -0.03212999179959297, 0.0679846853017807, 0.026943936944007874, 0.0006575160659849644, 0.013446742668747902, 0.059256695210933685, 0.026432769373059273, 0.01746307499706745, -0.0063966987654566765, -0.029063057154417038, 0.08711650967597961, -0.13866478204727173, -0.023886224254965782, 0.1446291208267212, 0.06158781051635742, 0.08686564117670059, -0.05544630438089371, 0.053048767149448395, 0.04694526270031929, 0.060874443501234055, -0.10948707908391953, -0.008704688400030136, 0.03196462243795395, -0.04498737305402756, 0.06245701014995575, -0.01189205888658762, -0.10673539340496063, 0.04888675734400749, -0.027372261509299278, 0.030473701655864716, 0.03695544973015785, 0.022669633850455284, 0.06747552007436752, -0.014850478619337082, 0.14988519251346588, 0.030399378389120102, 0.00017205583571922034, -0.04713110998272896, -0.08473294973373413, -0.05642332509160042, 0.023290930315852165, 0.06305889040231705, 0.11390767246484756, 0.0561479777097702, -0.01232161559164524, -0.06600040197372437, 0.016984431073069572, -0.05100254714488983, -0.05418052151799202, -0.05023299530148506, 0.02486768737435341, 0.0183549877256155, -0.03894658014178276, 0.008984560146927834, 0.08571367710828781, 0.06857656687498093, -0.14066779613494873, 0.05970091372728348, -0.11533276736736298, -0.05296158418059349, -0.02256842702627182, -0.0654367133975029, -0.001384287723340094, -0.046499207615852356, -0.36887165904045105, -0.058092936873435974, 0.008961573243141174, 0.08758017420768738, 0.12495804578065872, 0.11098936200141907, -0.03963274881243706, 0.10307725518941879, 0.019551381468772888, 0.1410072296857834, 0.06424013525247574, 0.05391682684421539, -0.00031009153462946415, -0.034379735589027405, -0.04806894436478615, 0.030792130157351494, -0.011456421576440334, -0.07586967945098877, -0.114862821996212, -0.029313350096344948, 0.02444443665444851, 0.0897405594587326, 0.081084243953228, -0.022909170016646385, 0.050929319113492966, 0.019337715581059456, 0.08019939064979553, -0.0325319766998291, -0.047909803688526154, -0.07328826189041138, 0.024382973089814186, 0.05225692316889763, -0.024233806878328323, 0.1260461062192917, 0.01794908381998539, 0.007010364904999733, -0.013813784345984459, -0.04836229234933853, -0.05817646160721779, -0.03315397724509239, -0.015463633462786674, -0.0925760343670845, -0.08944889158010483, 0.0343753844499588, -0.12753605842590332, -0.061335980892181396, 0.011745504103600979, 0.07679492235183716, -0.06065913289785385, -0.046559322625398636, 0.0004863170615863055, -0.011844617314636707, 0.009165272116661072, 4.940362453460693, 0.01032391656190157, 0.13015766441822052, -0.017417747527360916, 0.030713604763150215, -0.10836169123649597, 0.056335922330617905, 0.07572069764137268, 0.151070699095726, -0.008262447081506252, 0.05436133220791817, 0.023079637438058853, 0.03055981919169426, -0.0062583317048847675, 0.03278311714529991, 0.17016762495040894, -0.051445282995700836, -0.04703846201300621, -0.024380451068282127, -0.01087446603924036, 0.4961382746696472, -0.007554563228040934, 0.08794380724430084, -0.019656730815768242, -0.007155813742429018, 0.027110937982797623, -0.019648542627692223, -0.09594590961933136, -0.06479008495807648, 0.08602204918861389, -0.01504772063344717, -0.011963054537773132, 0.021480290219187737, -0.1525183767080307, -0.010909427888691425, -0.04935111477971077, 0.015778321772813797, -0.020539144054055214, 0.010977736674249172, 0.06971688568592072, -0.00407812325283885, 0.010384793393313885, 0.1227690577507019, 0.004975670482963324, 0.023236360400915146, 0.005673927720636129, -0.2889171838760376, -0.08414646983146667, 0.05504908040165901, 0.0839143693447113, -0.02214095927774906, 0.06104333698749542, -0.03020419366657734, 0.05943554639816284, 0.39438122510910034, -1.5941840410232544, -0.0018506140913814306, -0.02342325821518898, -0.08533372730016708, -0.04726266860961914, 0.03216753900051117, -0.05592617020010948, 0.05039956420660019, 0.010890008881688118, 0.027217082679271698, -0.024735836312174797, 0.029748734086751938, 0.0536356046795845, 0.05746956914663315, 0.014446590095758438, -0.018899720162153244, -0.14382019639015198, -0.01845357194542885, -0.027868004515767097, 0.07897591590881348, 0.13129206001758575, -0.07172876596450806, 0.057827457785606384, -0.0963878482580185, 0.08841055631637573, 0.05059608072042465, -0.004558691289275885, -0.025953810662031174, -0.061096254736185074, -0.05044439435005188, -0.05400024354457855, 0.08756940811872482, -0.10435669869184494, -0.05395270511507988, 0.003114710096269846, 0.0019024484790861607, -0.027756288647651672, 0.03479122743010521, -0.027712766081094742, -0.027042556554079056, 0.09171507507562637, 0.021941151469945908, -0.0032644697930663824, 0.06560073792934418, -0.006397983990609646, 0.07048040628433228, -0.049853432923555374, -0.004292578902095556, -0.006240481976419687, -0.11938351392745972, 0.09633245319128036, 0.03044804371893406, 0.1388164609670639, 0.03519343212246895, -0.05539512634277344, 0.13848139345645905, -0.036254268139600754, -0.12229601293802261, 0.15461614727973938, 0.11253222823143005, 0.12004057317972183, -0.1129809021949768, 0.02393009327352047, 0.038095321506261826, -0.03661653399467468, 0.06989509612321854, -0.021145163103938103, 0.02506699226796627, 0.03141854330897331, 3.653027306427248e-05, -0.021132605150341988, -0.08282853662967682, -0.009100813418626785, -0.20566245913505554, 0.06871764361858368, -0.06676933914422989, -0.05555887520313263, 0.017412519082427025, -0.08671494573354721, -0.04659922420978546, 0.03928227350115776, -0.07147252559661865, -0.0802125632762909, 0.012367063201963902, -0.05608243867754936, 0.06597940623760223, 0.044711481779813766, 0.018967928364872932, 0.039471596479415894, -0.05460328608751297, 0.025170287117362022, 0.05979875102639198, -0.052651286125183105, -0.011406668461859226, -0.07941313832998276, -0.05592118203639984, -0.02001795917749405, 0.016203192993998528, 6.939008017070591e-05, -0.04523031786084175, 0.023355212062597275, 0.04933441802859306, 0.08395765721797943, 0.07969962805509567, -0.012441767379641533, -0.0729861781001091, -0.07791538536548615, -0.008116044104099274, 0.011188442818820477, 0.0578596405684948, -0.07200402766466141, -0.022577542811632156, 0.052185751497745514, 0.0650273934006691, -0.038369905203580856, 0.0001446801470592618, -0.10216502100229263, 0.00014597417612094432, -0.10803396254777908, -0.00449962867423892, -0.05435533449053764, 0.0031480297911912203, -0.013756470754742622, 0.05421782657504082, 0.10265886038541794, -0.038394566625356674, -0.014214945957064629, -0.055485356599092484, -0.1512354016304016, 0.10124915093183517, 0.07225434482097626, -0.012194041162729263, -0.0025173253379762173, 0.00433003157377243, 0.06427180022001266, 0.07005103677511215, -0.09308619052171707, -0.11586955934762955, 0.07605337351560593, -0.10356194525957108, -0.062395110726356506, 0.027909934520721436, -0.1395907700061798, -0.10434148460626602, -0.039865799248218536, 0.028983978554606438, -0.034503187984228134, -0.08389836549758911, -0.0853065475821495, -0.017222195863723755, 0.06910446286201477, 0.00853454228490591, 0.039369430392980576, -0.0416451059281826, -0.039638832211494446, -0.0008618392166681588, -0.059975091367959976, 0.06351392716169357, -0.12085514515638351, 0.006720024161040783, 0.04533003270626068, 0.014661086723208427, -0.0462576299905777, -0.04680969566106796, 0.09197479486465454, -0.0014093691715970635, -0.020860137417912483, 0.03286294639110565, -0.045624393969774246, -0.10657192766666412, -0.08301108330488205, 0.026100337505340576, 0.017788782715797424, 0.049471039324998856, -0.06653719395399094, 0.03574783727526665, -0.0188397616147995, -0.06481179594993591, -0.03361622989177704, -0.11411253362894058, -0.05276672914624214, -0.10408377647399902, -0.004042372107505798, -0.018260590732097626, -0.1316891461610794, 0.04236232861876488, -0.08149729669094086, 0.04021760821342468, -0.021350113674998283, 0.031590428203344345, 0.019980650395154953, -0.06208999082446098, -0.04356521740555763, -0.08520399034023285, 0.14765691757202148, -0.0007446337840519845, -0.06815639138221741, 0.020548110827803612, -0.03819001466035843, 0.10118140280246735], [-0.02590205706655979, 0.008172285743057728, -0.048690248280763626, -0.09296829998493195, 0.06784363090991974, 0.06618667393922806, -0.02644229121506214, -0.06566864252090454, 0.0641503781080246, 0.02337193861603737, -0.0543302483856678, 0.03915269300341606, 0.06418271362781525, 0.018860185518860817, -0.031163733452558517, 0.09471351653337479, 0.0130581334233284, 0.04229135438799858, 0.09472305327653885, -0.09058215469121933, -0.03415771201252937, 0.019240058958530426, -0.017896883189678192, 0.09621400386095047, -0.03923250734806061, 0.019205911085009575, -0.16806484758853912, 0.108831487596035, -0.04397789388895035, 0.07692830264568329, -0.12671899795532227, 0.042528118938207626, -0.08117590844631195, 0.031276166439056396, 0.10749561339616776, -0.06816190481185913, 0.03591733053326607, 0.03732788562774658, -0.03610881045460701, -0.1067703440785408, 0.007967301644384861, 0.06937503069639206, 0.01772044412791729, 0.05428148806095123, 0.06642447412014008, -0.05991431698203087, 0.026654182001948357, 0.04911147430539131, -0.010472490452229977, -0.05436931550502777, 0.022188767790794373, 0.07492983341217041, 0.06299880892038345, 0.019981490448117256, 0.047696225345134735, -0.06530389189720154, -0.0914209634065628, -0.1425960659980774, 0.08172699809074402, -0.05297064781188965, -0.049032486975193024, 0.021876703947782516, 0.09973340481519699, -0.0704265907406807, 0.021073177456855774, 0.007933112792670727, 0.0546860545873642, 0.06103929132223129, -0.00489827198907733, -0.11698738485574722, 0.062058862298727036, -0.05833191052079201, 0.01344261597841978, 0.018671076744794846, 0.045675989240407944, -0.033749520778656006, -0.019379813224077225, -0.0013027094537392259, 0.07576552033424377, 0.02915213070809841, 0.005174153950065374, 0.10471584647893906, 0.020935405045747757, 0.03844580799341202, 0.06871017813682556, -0.05688544735312462, 0.01572321727871895, 0.09033854305744171, 0.12800858914852142, -0.08451341837644577, -0.06077567860484123, -0.06631124019622803, 0.023945538327097893, -0.04947461187839508, 0.10698059946298599, 0.11731461435556412, 0.298009991645813, 0.03002558834850788, 0.14765726029872894, 0.08855178952217102, -0.04192672669887543, -0.05656876042485237, 0.007881133817136288, 0.043753717094659805, -0.041510339826345444, -0.250688761472702, -0.033465515822172165, -0.051323022693395615, 0.062490977346897125, 0.10772208124399185, -0.05171305313706398, 0.04847194626927376, -0.02049625851213932, 0.044348299503326416, -0.05186588689684868, -0.0382489375770092, -0.013833158649504185, 0.04706764221191406, -0.06371757388114929, 0.08345457911491394, -0.06782691180706024, -0.01739535853266716, -0.06122453510761261, -0.10988637804985046, 0.03161848708987236, -0.041261326521635056, 0.028463421389460564, 0.13779641687870026, -0.0886169821023941, 0.08170055598020554, -0.0614902563393116, -0.05944766104221344, 0.0254877507686615, 0.024722125381231308, 0.1050110012292862, 0.03227928653359413, -4.453911242308095e-05, 0.10289754718542099, 0.03242110088467598, 0.030912691727280617, 0.008542666211724281, 0.11299089342355728, -0.02583451382815838, 0.28389686346054077, 0.04092318192124367, 0.08796725422143936, -0.14444270730018616, 0.027813464403152466, -0.012069832533597946, -0.02916770800948143, -0.022122742608189583, 0.007488868664950132, 0.00550621235743165, -0.11629131436347961, -0.09025841951370239, -0.009229027666151524, -0.016430029645562172, 0.05471561476588249, -0.05171094089746475, 0.029586317017674446, -0.07823989540338516, 0.002318399026989937, 0.00476743234321475, 0.05207251012325287, 0.0275548305362463, -0.10799792408943176, -0.0750327780842781, 0.06027931720018387, 0.03278643265366554, -0.036222390830516815, -0.08386784046888351, 0.11606565117835999, 0.1751270294189453, 0.0067857978865504265, -0.029247397556900978, 0.030535662546753883, -0.13522928953170776, -0.20448799431324005, -0.004586406983435154, -0.06867813318967819, -0.08705142140388489, -0.1007155328989029, -0.15130484104156494, -0.041625358164310455, 0.09648320823907852, -0.0038423165678977966, -0.05823947489261627, 0.013305587694048882, 0.00525209866464138, -0.023619530722498894, 0.016496077179908752, -0.0413571335375309, -0.06809422373771667, -0.05623785778880119, 0.18346479535102844, 0.045323003083467484, 0.13635289669036865, 0.02115713059902191, -0.11928970366716385, 0.09333019703626633, -0.08984468132257462, -0.05565936863422394, -0.10956588387489319, -0.037630610167980194, -0.06771937757730484, 0.0014359126798808575, -0.15714703500270844, 0.1731485277414322, -0.008571004495024681, -0.04633711650967598, -0.1139562577009201, 0.031667787581682205, -0.07102633267641068, -0.06457407027482986, 0.01941813714802265, 0.0053514763712882996, 0.010673364624381065, 0.13475850224494934, -0.04806020110845566, -0.0799984484910965, 0.4101110100746155, -0.008133284747600555, -0.03880232945084572, 0.06379521638154984, -0.058144066482782364, 0.11115030944347382, 0.07224254310131073, 0.1543225795030594, -0.04421129822731018, 0.03614018112421036, 0.01782039925456047, -0.11802241951227188, -0.0648004561662674, -0.056522615253925323, -0.009823322296142578, 0.033770982176065445, -0.4488847255706787, -0.026675749570131302, -0.07935971021652222, -0.08386372774839401, 0.04681459814310074, 0.09043198823928833, -0.007640019524842501, 0.013490680605173111, 0.0947234034538269, 0.09875483065843582, -0.006116275675594807, -0.0014950297772884369, 0.06504987180233002, -0.03735397383570671, 0.015323841944336891, -0.07373494654893875, 0.11609143018722534, 0.04096876084804535, -0.021922895684838295, 0.0059847100637853146, -0.07924550026655197, 0.060123104602098465, 0.09958931803703308, -0.025305835530161858, -0.08517921715974808, -0.16136646270751953, 0.08575604110956192, 0.04995478317141533, -0.022351140156388283, 0.1324194371700287, -0.04927728325128555, 0.062231726944446564, 0.021475696936249733, -0.09623342752456665, -0.09695146232843399, 0.04729565978050232, -0.03526727482676506, 0.01724878139793873, 0.030673153698444366, 0.1803072690963745, -0.07164870202541351, -0.06115417927503586, 0.01643097959458828, 0.041846875101327896, -0.044987551867961884, -0.07592859864234924, -0.026016978546977043, 0.033953823149204254, 0.04873295873403549, 0.2026968002319336, 0.019074343144893646, 0.0007740573491901159, 0.06923067569732666, 0.11710847914218903, 0.12306519597768784, -0.19028761982917786, 0.0267096646130085, -0.032925087958574295, -0.010811297222971916, 0.04801086708903313, 0.03614547848701477, 0.05899737775325775, -0.07649914175271988, -0.011682402342557907, -0.06841391324996948, -0.09333595633506775, 0.0644904375076294, -0.03029465489089489, 0.021995924413204193, -0.041320692747831345, -0.07429895550012589, -0.007933625020086765, 0.06117360293865204, -0.03428021818399429, 0.04753975197672844, -0.004497436340898275, 0.08839438110589981, 0.005369058810174465, 0.010922584682703018, -0.04079236835241318, -0.019348936155438423, -0.026961948722600937, 0.07736727595329285, -0.018692746758461, 0.019678492099046707, 0.020271265879273415, 0.08245895802974701, -0.07072088122367859, 0.015678534284234047, -0.05743976682424545, -0.010237877257168293, -0.0547642819583416, 0.4119932949542999, 0.09769938141107559, 0.04424731433391571, 0.05588250979781151, 0.04701787605881691, -0.03792163357138634, -0.11097102612257004, 0.11028683930635452, 0.020822644233703613, 0.0018593899440020323, 0.07625852525234222, -0.011298077180981636, -0.022977368906140327, 0.03426095098257065, -0.0668492242693901, 0.093854159116745, -0.02261815033853054, -0.054477717727422714, -0.09768154472112656, 0.09577705711126328, -0.011568890884518623, 0.14998696744441986, -0.06646502763032913, -0.15900473296642303, -0.034507617354393005, -0.041393380612134933, -0.1032804474234581, -0.08785684406757355, -0.007380383554846048, 0.04471389949321747, -0.05630854144692421, 0.00042413175106048584, 0.014543306082487106, -0.06019694730639458, -0.12394864112138748, 0.038366883993148804, 0.013879174366593361, 0.03874144330620766, 0.07798978686332703, -0.03013644367456436, -0.03224154934287071, -0.18791794776916504, 0.25532636046409607, -0.0660637840628624, 0.02268288843333721, -0.04590520262718201, -0.009371890686452389, 0.002900279825553298, -0.08948442339897156, -0.03597112372517586, -0.02500898204743862, -0.13565553724765778, -0.071236751973629, 0.062025025486946106, 0.001917926361784339, -0.13726872205734253, 0.07074720412492752, -0.0768885388970375, 0.03139114752411842, 0.026964975520968437, 0.013277421705424786, 0.029062267392873764, -0.009281080216169357, 0.07237672805786133, -0.07383987307548523, 0.037543248385190964, 0.02488022856414318, 0.14814716577529907, 0.01714230887591839, 0.1256132870912552, 0.03335675597190857, -0.0024955591652542353, -0.01869983784854412, 0.05159763619303703, -0.15180325508117676, 0.12199738621711731, -0.11321718990802765, -0.04159052297472954, -0.06949923932552338, 0.0027735026087611914, 0.10296215862035751, -0.09427936375141144, 0.12646149098873138, 0.05137201026082039, -0.025632264092564583, -0.060692232102155685, -0.03694285824894905, -0.05134053900837898, 0.14251063764095306, 0.09004233777523041, 0.044324785470962524, -0.139551043510437, 0.05150635913014412, 0.007650143466889858, -0.033929817378520966, 0.056642796844244, -0.17768438160419464, 0.062020596116781235, 0.11440745741128922, -0.018060937523841858, 0.04011989012360573, 0.08918584138154984, 0.08146446943283081, 0.09926709532737732, 0.0067709158174693584, -0.006228163838386536, -0.0825032964348793, -0.3935292065143585, 0.013387231156229973, 0.03637963905930519, -0.06942137330770493, 0.023267609998583794, 0.007941046729683876, -0.05589370056986809, -0.022627796977758408, -0.0020500672981142998, 0.0917590782046318, 0.06026965007185936, 0.024688586592674255, 0.012074367143213749, 0.06710994243621826, -0.06253866851329803, 0.03955788165330887, 0.039608683437108994, 0.15884564816951752, -0.03118777461349964, -0.040904052555561066, -0.048645876348018646, 0.05420694127678871, 0.007262068334966898, -0.09877333790063858, 0.06086083501577377, 0.045327845960855484, 0.0619860403239727, -0.019179580733180046, -0.02047477290034294, -0.033057861030101776, -0.1659606397151947, -0.0061291279271245, -0.0026015713810920715, 0.034860361367464066, 0.043978072702884674, 0.022548649460077286, -0.11168061941862106, -0.014531615190207958, 0.03194578364491463, 0.024687696248292923, 0.013961877673864365, -0.004871991463005543, -0.05059055611491203, -0.032203759998083115, 0.013827626593410969, 0.03312057629227638, -0.014090084470808506, -0.07901956886053085, -0.052829522639513016, -0.015485738404095173, -0.02586229518055916, 0.20341680943965912, -0.05460895970463753, -0.06902837753295898, -0.07412625104188919, -0.019286824390292168, 0.06248205527663231, -0.018377698957920074, -0.009287049993872643, 0.12383347004652023, 0.0148465596139431, -0.014848475344479084, -0.03471130505204201, -0.13734851777553558, 0.040188103914260864, -0.029818976297974586, -0.00636174576357007, -0.07698113471269608, -0.09100022912025452, -0.01185131911188364, -0.00506238266825676, -0.02986288256943226, 0.0016885491786524653, 0.009675472043454647, -0.005708134733140469, 0.08188119530677795, -0.050344087183475494, -0.001622070325538516, 0.06507911533117294, -0.02505168877542019, -0.08210201561450958, 0.12946106493473053, -0.016626965254545212, 0.05642036721110344, -0.08030664920806885, -0.07789098471403122, -0.012293334119021893, 0.03669547289609909, 0.04455231875181198, 0.09139987081289291, 0.17148332297801971, 0.028745610266923904, 0.03873034194111824, -0.06285712867975235, -0.06270679086446762, 0.014725961722433567, 0.09360919147729874, 0.03930940479040146, -0.3841337561607361, -0.030209891498088837, -0.037520669400691986, -0.014900168403983116, 0.11238766461610794, -0.014590946957468987, 0.09191545099020004, -0.045149922370910645, -0.03729014843702316, 0.0009642140357755125, -0.06721939891576767, 0.05815031751990318, 0.007911534048616886, 0.06467698514461517, -0.11020398139953613, -0.027011500671505928, 0.014149626716971397, 0.034142643213272095, -0.008515777066349983, 0.026761431246995926, 0.007235358469188213, 0.06878656893968582, -0.031277310103178024, 0.05252321437001228, -0.0022229780443012714, 0.1003897488117218, -0.15406697988510132, -0.044403985142707825, -0.0073093511164188385, -0.14148618280887604, -0.06388688832521439, -0.08385945856571198, -0.15796218812465668, 0.1137951910495758, 0.030644668266177177, -0.032363008707761765, 0.038316499441862106, 0.09605677425861359, -0.0010352113749831915, -0.18366484344005585, 0.05990035831928253, 0.022221611812710762, 0.03695278242230415, 0.08869192749261856, -0.10133770108222961, -0.052290286868810654, 0.10192914307117462, 0.013885147869586945, -0.0512494221329689, -0.02329286001622677, 0.03707975521683693, 0.011860325001180172, -0.10481182485818863, 0.007356155663728714, -0.03839437663555145, 0.008889243006706238, 0.02631072886288166, -0.037615302950143814, -0.051728278398513794, -0.01007136795669794, 0.10162682831287384, 0.013703105971217155, -0.04464897885918617, -0.01288055069744587, -0.1804230958223343, 0.014441356994211674, -0.06367643177509308, 0.0173320434987545, 0.06560215353965759, 0.025058023631572723, -0.054323289543390274, 0.020837511867284775, -0.004737331997603178, 0.021589340642094612, -0.04133164882659912, -0.022090403363108635, 0.00918938685208559, -0.023361191153526306, -0.029767820611596107, -0.019917674362659454, -0.06135101988911629, 0.08041121810674667, -0.08710545301437378, -0.007679920643568039, -0.026705609634518623, -0.15365593135356903, -0.0057167173363268375, 0.06764915585517883, -0.0007446600939147174, -0.0894492119550705, -0.12255162000656128, -0.02921922691166401, 0.08519494533538818, -0.1101907342672348, 0.02939731627702713, 0.02822800725698471, 0.009111817926168442, -0.00821432750672102, -0.03637237846851349, 0.11519099771976471, 0.09326998889446259, 0.05237673223018646, 0.03453092649579048, 0.07858797907829285, -0.08289898186922073, 0.049824949353933334, -0.000251167657552287, -0.007195946294814348, -0.05328294634819031, 0.08616509288549423, 0.10717666149139404, -0.010212792083621025, 0.04223533719778061, 0.19579024612903595, -0.13082651793956757, -0.08722158521413803, 0.01407149899750948, 0.09025539457798004, -0.0708099901676178, -0.006692436058074236, 0.08216462284326553, 0.004906696267426014, -0.033282581716775894, 0.018346399068832397, 0.04989141225814819, -0.018470007926225662, 0.01306562777608633, -0.08676978200674057, 0.02553483471274376, 0.03577479347586632, -0.12595655024051666, -0.08326993137598038, 0.06703674048185349, 0.06552079319953918, 0.1291063278913498, -0.1414433717727661, 0.016603751108050346, 0.029439184814691544, 0.05993090942502022, -0.1494026631116867, -0.004229328595101833, -0.005780940875411034, -0.04683488607406616, 0.04359396547079086, -0.05781315639615059, -0.13840796053409576, 0.03536587581038475, -0.036383699625730515, 0.01585029996931553, -0.0031005144119262695, 0.08008620142936707, 0.030434133484959602, -0.046654701232910156, 0.07609377056360245, 0.015025298111140728, -0.06418213248252869, 0.006933764088898897, -0.09252925962209702, 0.026489650830626488, 0.035937484353780746, 0.04508529230952263, 0.07044125348329544, 0.14697372913360596, -0.10076193511486053, -0.09323926270008087, -0.022641614079475403, -0.06134100630879402, -0.0537235401570797, -0.04010139778256416, 0.07540950924158096, -0.03742067888379097, 0.02775728702545166, -0.04310012236237526, 0.017750294879078865, 0.04439864680171013, -0.12957924604415894, 0.0717523917555809, -0.07058405876159668, -0.06684183329343796, -0.023500211536884308, -0.084974005818367, 0.06517696380615234, -0.02048138901591301, -0.6017906069755554, -0.03961078077554703, 0.00038325911737047136, 0.162650004029274, 0.09313386678695679, 0.09571235626935959, -0.021791910752654076, 0.09492749720811844, -0.028825020417571068, 0.27777883410453796, 0.007867149077355862, 0.00037626916309818625, -0.07771696895360947, -0.061294540762901306, -0.01115341018885374, -0.05722246691584587, 0.0013185617281123996, -0.02870575711131096, -0.08059900999069214, -0.03604970872402191, -0.021676665171980858, 0.110898457467556, 0.10377562046051025, -0.038781166076660156, 0.09589491784572601, 0.03717760369181633, 0.09738089144229889, 0.03162987157702446, -0.09497616440057755, -0.10426846146583557, 0.005301208235323429, 0.13317884504795074, -0.010947125032544136, 0.14948752522468567, 0.03889584541320801, -0.06376141309738159, 0.01703660935163498, -0.03326944634318352, -0.10160452127456665, -0.007858389057219028, 0.019291212782263756, -0.051002152264118195, -0.13165362179279327, -0.01918042078614235, -0.10477979481220245, -0.04778807982802391, 0.044799819588661194, 0.0921713337302208, -0.07825743407011032, 0.002080933889374137, 0.04883856698870659, -0.06122481822967529, -0.0035720188170671463, 4.498799800872803, 0.026252562180161476, 0.11375771462917328, -0.010461458005011082, 0.008539192378520966, -0.1445370465517044, 0.013738570734858513, 0.02523227408528328, -0.039356719702482224, -0.017359061166644096, 0.14830932021141052, 0.019806915894150734, 0.0019272175850346684, 0.026348140090703964, 0.01353349070996046, 0.26761913299560547, -0.07893848419189453, -0.04212527349591255, -0.003569401102140546, -0.01980466954410076, 0.39784175157546997, 0.04263051971793175, 0.0806056410074234, 0.005132482852786779, -0.012744709849357605, -0.0056767952628433704, -0.01537567749619484, -0.13608798384666443, -0.04726722091436386, 0.0893455371260643, -0.04726525396108627, 0.005173268262296915, 0.09725189208984375, -0.10115082561969757, -0.012316652573645115, -0.041136547923088074, 0.019362960010766983, -0.023330088704824448, -0.0023858167696744204, 0.06695237010717392, 0.00703330198302865, 0.01790820062160492, 0.039937179535627365, 0.02070590853691101, 0.0139511339366436, 0.020776409655809402, -0.39349907636642456, -0.08486443758010864, -0.006683492101728916, 0.09498858451843262, 0.020961903035640717, 0.08265611529350281, -0.08313486725091934, 0.12087848037481308, 0.3954417407512665, -1.2644245624542236, 0.037269189953804016, -0.04042776674032211, -0.1404324322938919, 0.0020275884307920933, 0.010505061596632004, -0.03001134656369686, 0.14491380751132965, 0.04153500869870186, 0.08781767636537552, 0.044271692633628845, 0.025089740753173828, 0.06000785529613495, 0.12263722717761993, 0.018149029463529587, -0.021983148530125618, -0.13633956015110016, 0.05714908614754677, -0.013054669834673405, 0.054172441363334656, 0.10500901192426682, -0.02838929183781147, 0.027355093508958817, -0.09097616374492645, 0.06295812129974365, 0.07440703362226486, -0.03437327221035957, 0.07024227827787399, -0.08539480715990067, -0.0023130762856453657, -0.052182432264089584, 0.050227902829647064, -0.0853441059589386, -0.07680152356624603, 0.006636167876422405, -0.014849340543150902, -0.00700689572840929, 0.07672513276338577, 0.049730341881513596, -0.028748465701937675, 0.011198987253010273, -0.04572334140539169, -0.0019140171352773905, 0.13809284567832947, 0.01499628834426403, -0.02146744541823864, -0.07334639132022858, 0.06720007956027985, 0.05238504335284233, -0.06720457226037979, 0.08909927308559418, 0.06447967886924744, 0.11840836703777313, 0.0404757559299469, -0.008099183440208435, 0.1193351075053215, -0.03309888765215874, -0.027956390753388405, 0.08788564056158066, 0.06568878889083862, 0.0904228538274765, -0.010388248600065708, 0.052582886070013046, 0.056609444320201874, -0.01842372678220272, 0.10240521281957626, -0.05724042281508446, -0.03654199838638306, -0.010923792608082294, 0.019186554476618767, -0.0005139474524185061, -0.029447590932250023, -0.04280788451433182, -0.1526288390159607, 0.07439287006855011, -0.032922253012657166, -0.031357843428850174, 0.040050894021987915, -0.10375963896512985, -0.05839543789625168, 0.06654991209506989, -0.03789499029517174, -0.04276113212108612, -0.0293596051633358, 0.004315433092415333, 0.0143401138484478, 0.03749945014715195, 0.03279850259423256, 0.0224002655595541, -0.0763154849410057, 0.029412169009447098, 0.06865885853767395, -0.0665481686592102, -0.04561905562877655, -0.09139703214168549, -0.06926900148391724, -0.047836799174547195, -0.03404507413506508, -0.03577996790409088, -0.02980710007250309, 0.08560653775930405, 0.07402036339044571, 0.14676311612129211, 0.12067897617816925, -0.01667671464383602, -0.0349997878074646, -0.13404721021652222, 0.05827249214053154, 0.04073718562722206, 0.05567631870508194, -0.08513297885656357, -0.032522156834602356, -0.016863586381077766, 0.08515039831399918, -0.0630110502243042, -0.011770578101277351, -0.19046780467033386, 0.055012382566928864, -0.1443975865840912, 0.02080436609685421, -0.10860295593738556, -0.016083912923932076, 0.01843743771314621, 0.0743570625782013, 0.07883487641811371, -0.04395154118537903, -0.021387789398431778, -0.07805538177490234, -0.21735073626041412, 0.1729620099067688, 0.06772270053625107, 0.03550426661968231, -0.10236775130033493, -0.06950292736291885, 0.047739237546920776, 0.02111096680164337, -0.07023920863866806, -0.0700254738330841, 0.03096099942922592, -0.1453063040971756, -0.013762319460511208, -0.020128080621361732, -0.14276161789894104, -0.10580384731292725, -0.06852269917726517, -0.01837799698114395, -0.0005687016528099775, -0.05389758571982384, -0.17568530142307281, -0.03226466476917267, 0.048774708062410355, 0.055123165249824524, 0.008245850913226604, -0.02845553308725357, -0.07868202775716782, -0.011047335341572762, -0.02297157794237137, 0.06416810303926468, -0.07804472744464874, 0.020293384790420532, -0.04077243059873581, 0.03941682353615761, -0.06951503455638885, -0.01717032864689827, 0.10559751838445663, -0.07332127541303635, -0.026041364297270775, 0.061905086040496826, 0.012386063113808632, -0.11024700105190277, -0.13433095812797546, 0.031679850071668625, 0.044868264347314835, 0.04567630961537361, -0.0737011581659317, 0.010915663093328476, -0.009255080483853817, -0.08323194086551666, -0.043573345988988876, -0.062270183116197586, 0.017991898581385612, -0.11802877485752106, -0.03323085606098175, -0.01019452977925539, -0.11742988228797913, 0.0076255495660007, -0.09058337658643723, 0.03794221580028534, -0.007405764423310757, 0.019505709409713745, 0.1029684841632843, -0.1621522307395935, -0.09276916086673737, -0.10818073153495789, 0.07307971268892288, -0.047446224838495255, -0.07847517728805542, -0.05810973420739174, -0.06487851589918137, 0.030097700655460358], [0.08853192627429962, 0.022872483357787132, -0.05121125280857086, -0.1087866947054863, 0.1101781353354454, 0.023246783763170242, -0.02441531792283058, -0.10091976821422577, -0.051994986832141876, -0.051707614213228226, -0.024129586294293404, -0.00016222491103690118, 0.08483314514160156, 0.08066801726818085, -0.015620407648384571, 0.14793729782104492, 0.04545300826430321, 0.0684591755270958, 0.03375846892595291, -0.04451235756278038, -0.01551930233836174, -0.02426176331937313, -0.0635887011885643, 0.004013122525066137, -0.012530735693871975, -0.0042703524231910706, -0.08067993819713593, 0.06637692451477051, 0.0029168413020670414, 0.008292892947793007, -0.06791380047798157, 0.013271109201014042, -0.19606763124465942, 0.06524596363306046, 0.07233380526304245, -0.08245715498924255, 0.034889571368694305, 0.010981685481965542, -0.06599953025579453, -0.14509740471839905, 0.09121587872505188, -0.02033616229891777, 0.07172255963087082, 0.012077432125806808, -0.01855180598795414, -0.1168416291475296, 0.14632606506347656, 0.01844426989555359, 0.034739475697278976, -0.08176439255475998, -0.017775213345885277, 0.04144229739904404, -0.04757971316576004, 0.05906215310096741, 0.044828422367572784, -0.11108250170946121, -0.06835991889238358, -0.15042531490325928, 0.026541991159319878, -0.04072133079171181, -0.09613339602947235, 0.06283234059810638, 0.011184222996234894, 0.0057195033878088, 0.026948563754558563, 0.04069063812494278, 0.04977024346590042, -0.016247417777776718, 0.025259334594011307, -0.11617231369018555, 0.022129260003566742, -0.0144922761246562, 0.007135715335607529, 0.0653780996799469, 0.05350833386182785, -0.05961965397000313, -0.11408275365829468, -0.02175023779273033, 0.07661012560129166, -0.023892121389508247, -0.03151577338576317, 0.10010772198438644, -0.00298572750762105, -0.049295730888843536, 0.010065456852316856, -0.15313352644443512, 0.015580886043608189, -0.040718141943216324, 0.12458227574825287, -0.08180292695760727, -0.06462094932794571, -0.10821544378995895, 0.026349328458309174, -0.05016310140490532, 0.02063128910958767, 0.06973519921302795, 0.24176739156246185, 0.020114049315452576, 0.08082997053861618, 0.0017468204023316503, 0.05559002608060837, -0.04187379404902458, -0.08718717843294144, 0.05835653096437454, -0.01580493524670601, -0.15802600979804993, 0.00874497089534998, 0.029836533591151237, 0.093215212225914, 0.15752257406711578, 0.0002600723528303206, 0.030921585857868195, -0.004449634347110987, 0.11809271574020386, -0.0063464706763625145, -0.053862281143665314, 0.07578627020120621, 0.10234422981739044, -0.09401457756757736, -0.1590958684682846, -0.008332881145179272, 0.08215940743684769, -0.03850073367357254, 0.0032487185671925545, 0.0032809481490403414, 0.07873746007680893, 0.03938419371843338, 0.09076384454965591, -0.04645877704024315, 0.04516664892435074, -0.053816284984350204, 0.04475345462560654, 0.006777894217520952, 0.0047914693132042885, 0.0333571657538414, -0.01943294331431389, 0.022122317925095558, 0.043129026889801025, -0.06738093495368958, -0.009230476804077625, -0.1229759007692337, 0.06541725248098373, 0.030858660116791725, 0.13438814878463745, 0.03468652442097664, 0.004376297816634178, -0.08491198718547821, -0.0006523625343106687, 0.022766903042793274, 0.02692314051091671, 0.01783854514360428, -0.09461081773042679, -0.004296809434890747, -0.0660802349448204, -0.02464536763727665, -0.01094930712133646, -0.052808962762355804, -0.031196298077702522, -0.07832098752260208, 0.028913894668221474, -0.025090603157877922, 0.054712019860744476, 0.08144991844892502, -0.08450905233621597, -0.10066334158182144, -0.018850287422537804, -0.07945283502340317, 0.018659178167581558, 0.032183688133955, -0.18444177508354187, -0.03533702343702316, 0.01032599899917841, 0.011510409414768219, 0.06027670577168465, -0.014635222032666206, 0.0949162170290947, -0.2348242700099945, -0.19884830713272095, 0.00791925098747015, -0.06461361050605774, 0.060943279415369034, -0.058304715901613235, -0.07872996479272842, -0.09222996979951859, 0.04521843045949936, -0.00769956735894084, -0.13163015246391296, -0.005401861388236284, -0.06305471807718277, -0.046475354582071304, 0.02573349140584469, 0.06300848722457886, -0.015111377462744713, -0.055157460272312164, 0.11640863865613937, 0.03590022400021553, 0.1376909762620926, 0.05732787773013115, -0.005136921536177397, 0.0294614527374506, -0.05904436856508255, -0.07286378741264343, -0.04118585214018822, -0.008569491095840931, 0.027901627123355865, 0.07466592639684677, -0.10734090954065323, 0.11192027479410172, -0.002117985161021352, -0.009562368504703045, -0.1388969123363495, 0.028125682845711708, -0.17320191860198975, -0.025659892708063126, -0.06312895566225052, 0.011250222101807594, 0.14084523916244507, 0.03196020796895027, 0.006078676320612431, -0.0708252340555191, 0.36849045753479004, -0.046747636049985886, -0.042594995349645615, -0.06669479608535767, -0.06415947526693344, 0.19306865334510803, 0.05651489272713661, 0.20748747885227203, -0.03352818265557289, 0.00716049550101161, 0.03909893333911896, -0.047105658799409866, -0.055694330483675, -0.01709754578769207, 0.011878689751029015, 0.01787417195737362, -0.32181617617607117, 0.0707094669342041, 0.023422416299581528, 0.006272082217037678, 0.08996596932411194, 0.08160392194986343, -0.07187797874212265, 0.00883428379893303, 0.06951291114091873, 0.001834821654483676, -0.07844274491071701, -0.05662216991186142, 0.15342825651168823, -0.06937742233276367, 0.027786139398813248, -0.062079742550849915, 0.09772016108036041, 0.06028156727552414, -0.010041005909442902, 0.039921097457408905, -0.10491672903299332, 0.01854872889816761, 0.03727404773235321, 0.015923671424388885, -0.10457364469766617, -0.14575138688087463, -0.0037394966930150986, -0.010284218937158585, 0.017355412244796753, 0.08166444301605225, -0.06409978121519089, 0.06528304517269135, -0.008111787028610706, -0.18012936413288116, -0.023115916177630424, 0.011141715571284294, 0.038190923631191254, 0.012775611132383347, 0.0037988154217600822, 0.13208544254302979, -0.08581171184778214, -0.026680028066039085, 0.03503834828734398, 0.10257399827241898, 0.020102834329009056, -0.07195457071065903, -0.13700392842292786, -0.032683201134204865, 0.04539313539862633, 0.12827090919017792, -0.1487860381603241, 0.06414064764976501, 0.09463977813720703, 0.12233125418424606, 0.09436807036399841, -0.2671106457710266, -0.01079317182302475, 0.01975681446492672, -0.043094608932733536, 0.030910860747098923, 0.17609338462352753, 0.01510721817612648, -0.03982164338231087, 0.06409533321857452, 0.012646501883864403, -0.06379386782646179, -0.0031549683772027493, -0.01863761991262436, -0.07340893149375916, -0.024007128551602364, -0.07851628214120865, 0.05611434578895569, 0.057801615446805954, 0.018483499065041542, 0.029136687517166138, -0.007396136410534382, 0.059539198875427246, 0.031677667051553726, -0.05062144249677658, -0.09506230801343918, -0.03215934708714485, -0.08488300442695618, -0.010184919461607933, -0.024730606004595757, 0.012185552157461643, -0.02138296328485012, 0.0925561860203743, -0.040639616549015045, 0.01399198081344366, -0.10375985503196716, 0.04113416001200676, -0.03614304959774017, 0.28277140855789185, 0.058283980935811996, -0.0029255005065351725, 0.021697863936424255, -0.01284082606434822, -0.05383076146245003, -0.026555439457297325, 0.037063952535390854, 0.044491346925497055, -0.056528881192207336, -0.00017452379688620567, -0.04738830775022507, 0.05658820644021034, 0.08071599900722504, 0.024067675694823265, 0.0640002116560936, -0.054140884429216385, 0.029134517535567284, -0.019186971709132195, -0.0002979323617182672, 0.09908623993396759, 0.011266923509538174, -0.04305548593401909, -0.08046337217092514, -0.008810734376311302, -0.08079935610294342, -0.09397070854902267, -0.024264616891741753, 0.03960919752717018, 0.0822598785161972, -0.12221020460128784, 0.044804856181144714, 0.022720588371157646, -0.1022845208644867, -0.13869059085845947, 0.011395310051739216, 0.10846710205078125, 0.057241663336753845, 0.07452522218227386, 0.059756387025117874, -0.05412440001964569, -0.1548387110233307, 0.1944049447774887, 0.021805819123983383, 0.00474386103451252, -0.013658360578119755, -0.08436129242181778, 0.013719231821596622, 0.004325895104557276, 0.03780044987797737, 0.07409500330686569, -0.019472243264317513, -0.0028756919782608747, 0.04091138020157814, -0.025359055027365685, -0.05890493094921112, 0.030161237344145775, -0.13819976150989532, -0.002588554285466671, -0.0009550207178108394, -0.007082920987159014, 0.007386120967566967, -0.008356597274541855, -0.049035340547561646, -0.062199145555496216, 0.1187559962272644, 0.043748848140239716, 0.10684449225664139, 0.015209988690912724, 0.029622264206409454, 0.037876393646001816, -0.01487498078495264, -0.06196346879005432, 0.019289571791887283, -0.17303678393363953, 0.10718850046396255, -0.12409213930368423, -0.037683431059122086, -0.04539993777871132, -0.046947188675403595, 0.0241063442081213, -0.0868772342801094, 0.08412591367959976, 0.027858063578605652, -0.06450006365776062, -0.002060725586488843, 0.009244131855666637, -0.14641240239143372, 0.043206874281167984, -0.02588074281811714, 0.059202391654253006, -0.13494881987571716, -0.1102210283279419, -0.027040816843509674, -0.04744967073202133, 0.20149317383766174, -0.07876797020435333, 0.0983932763338089, 0.04188988730311394, 0.04056713730096817, 0.08078843355178833, 0.11327685415744781, 0.037219468504190445, 0.22590672969818115, -0.05220837518572807, 0.018201293423771858, -0.07587600499391556, -0.39262762665748596, -0.03401241824030876, 0.05042601749300957, -0.0433000773191452, 0.01607656665146351, -0.0007312149973586202, 0.014441846869885921, -0.018092764541506767, -0.03485916554927826, 0.08085282891988754, 0.0667991042137146, 0.09266858547925949, 0.012294727377593517, 0.01400453969836235, 0.053508441895246506, 0.08903629332780838, 0.01511460542678833, 0.0016806215280666947, 0.0362258218228817, 0.01705552637577057, -0.00536315469071269, 0.06836091727018356, -0.054848384112119675, -0.054962970316410065, 0.03966657072305679, 0.06408502906560898, 0.01279117725789547, 0.012564743869006634, 0.026229051873087883, 0.04008151963353157, -0.09623652696609497, -0.013671423308551311, -0.0280950665473938, 0.024652836844325066, 0.038633234798908234, 0.009300489909946918, -0.07368427515029907, -0.0036505304742604494, 0.011333906091749668, 0.04248063266277313, 0.01566622033715248, 0.09687241166830063, -0.12192539870738983, 0.06627766788005829, -0.005277917720377445, -0.01526228990405798, -0.07771041244268417, -0.10301851481199265, -0.091517373919487, -0.04318467155098915, -0.037909165024757385, 0.14099587500095367, -0.06467892229557037, 0.01718403771519661, -0.06659192591905594, -0.02311011590063572, 0.05685584992170334, -0.017808083444833755, -0.05047671124339104, 0.06134387478232384, 0.008356248028576374, 0.020858727395534515, -0.17252117395401, -0.02480362541973591, 0.00314919906668365, -0.06494136899709702, 0.07518278062343597, -0.0016055010491982102, -0.014349606819450855, -0.010256445966660976, -0.015666814520955086, -0.04563543200492859, 0.033578161150217056, 0.03307698294520378, -0.07576729357242584, -0.027949806302785873, 0.03833994269371033, -0.049194712191820145, -0.01455998606979847, -0.03720562160015106, -0.06721258908510208, 0.08903171122074127, 0.03926260769367218, 0.13402968645095825, -0.05593709647655487, -0.07057350873947144, -0.008847462013363838, 0.018865609541535378, -0.004545995965600014, 0.05401533097028732, 0.005307910498231649, 0.02392803505063057, 0.016357986256480217, -0.02710033394396305, 0.0008472955669276416, -0.02940228395164013, -0.0014731909614056349, 0.05640333145856857, -0.24514524638652802, 0.027235249057412148, -0.005576740484684706, -0.05346927419304848, 0.13480350375175476, 0.1233445554971695, 0.05392822250723839, 0.06276243925094604, 0.013146276585757732, -0.12526530027389526, -0.034745000302791595, 0.03675929456949234, 0.0011414838954806328, 0.10643580555915833, -0.21652282774448395, 0.1313030868768692, -0.017352409660816193, 0.05228744074702263, 0.03846979886293411, 0.04460009187459946, -0.05813858285546303, 0.07853440940380096, 0.0662059485912323, 0.14061148464679718, -0.057966697961091995, 0.10950883477926254, -0.1451898068189621, -0.183193176984787, -0.07906661182641983, -0.0801815614104271, 0.009272956289350986, -0.04469674453139305, -0.09750356525182724, 0.09043856710195541, 0.06770527362823486, -0.04723081365227699, 0.02478029765188694, -0.003728760639205575, 0.056475959718227386, -0.058219075202941895, 0.01864803209900856, -0.08390572667121887, 0.10270445793867111, 0.11510986089706421, -0.04659072309732437, -0.06144149973988533, 0.009544629603624344, -0.03963445499539375, 0.0026019832585006952, -0.01860591024160385, -0.009269753471016884, 0.03920472785830498, -0.11912960559129715, -0.05963332578539848, -0.03213147446513176, -0.0004789865924976766, 0.02192714810371399, -0.0900207981467247, 0.002701381454244256, -0.10128552466630936, 0.03890206292271614, 0.03598317503929138, -0.11008701473474503, -0.04290328547358513, -0.18749076128005981, -0.0010924715315923095, -0.12533771991729736, -0.0671578049659729, 0.10234850645065308, 0.044645972549915314, -0.09877890348434448, -0.07252030074596405, 0.03210313245654106, -0.012066165916621685, -0.10513373464345932, -0.0317113921046257, 0.041396502405405045, 0.03160366043448448, -0.015938570722937584, 0.006209725979715586, -0.11207205057144165, 0.03467618674039841, -0.08613497763872147, -0.06935714185237885, -0.021701402962207794, -0.16839514672756195, 0.011375040747225285, 0.0648857057094574, -0.01612771861255169, -0.05243729054927826, -0.03980421647429466, -0.06433679163455963, 0.0559626929461956, -0.0036236487794667482, 0.06196288391947746, -0.0529978945851326, 0.11342906206846237, 0.0513012669980526, -0.010241457261145115, 0.08383683115243912, 0.08410492539405823, 0.13509488105773926, 0.10380499809980392, 0.11250445991754532, -0.13150493800640106, -0.003866424085572362, -0.02613828144967556, -0.023257305845618248, -0.01399326790124178, 0.07124000042676926, 0.07971414178609848, -0.08209368586540222, 0.04738921299576759, 0.11752061545848846, -0.13628046214580536, -0.071934774518013, 0.031678058207035065, 0.14811408519744873, -0.046065885573625565, -0.030003173276782036, 0.11216793954372406, 0.001371882390230894, -0.03526579588651657, 0.030242806300520897, -0.012060238048434258, 0.08905388414859772, -0.007928428240120411, 0.023035544902086258, 0.002225542441010475, -0.04313499853014946, -0.08252649754285812, 0.06194720417261124, 0.08237843215465546, 0.09418953955173492, 0.08908839523792267, -0.05870359390974045, 0.02054874785244465, -0.007817534729838371, 0.08384619653224945, -0.05964548513293266, -0.00441923039034009, 0.04024788737297058, -0.022528888657689095, 0.15234270691871643, 0.011691327206790447, -0.14129452407360077, 0.10796307027339935, 0.016911616548895836, 0.07765055447816849, 0.17875374853610992, 0.13151554763317108, 0.023146215826272964, -0.04080234467983246, 0.13697049021720886, 0.03755056858062744, -0.036894142627716064, -0.011300237849354744, -0.06766978651285172, -0.03468992933630943, 0.06379099935293198, -0.07599994540214539, 0.18136918544769287, -0.03951174393296242, -0.023945337161421776, -0.03607001155614853, 0.008069471456110477, 0.02932901866734028, -0.06881193071603775, -0.05414611101150513, 0.039821214973926544, -0.007417494431138039, -0.023076631128787994, -0.04054934158921242, 0.01478352677077055, 0.02903403714299202, -0.005899130832403898, 0.07578699290752411, -0.014059185981750488, -0.012694867327809334, 0.021634558215737343, -0.0231111329048872, -0.006812566891312599, -0.05888485163450241, -0.5285680890083313, 0.00565540324896574, 0.009530387818813324, 0.09932470321655273, 0.09256009757518768, 0.10774455964565277, -0.024504048749804497, 0.04000331461429596, 0.05213707685470581, 0.2498638927936554, 0.0004108977736905217, 0.035004712641239166, -0.07359285652637482, -0.026709331199526787, 0.02492617629468441, 0.10975208133459091, 0.030430924147367477, -0.07060429453849792, -0.08772146701812744, 0.07727901637554169, 0.00984084140509367, 0.05417996272444725, 0.12623360753059387, -0.13746316730976105, 0.0971449762582779, 0.07258684188127518, 0.10067907720804214, -0.06389401108026505, -0.04574698209762573, -0.07469755411148071, -0.014753664843738079, 0.08617603033781052, -0.012188714928925037, 0.05286412686109543, -0.018549896776676178, -0.019743632525205612, 0.030277550220489502, -0.0735396221280098, -0.13155122101306915, -0.026614142581820488, -0.07924571633338928, -0.1560245305299759, -0.16911354660987854, 0.06194988265633583, -0.05771893262863159, -0.044190842658281326, -0.028793063014745712, 0.03961481526494026, 0.013418098911643028, 0.06979105621576309, -0.007200296968221664, -0.010536964051425457, -0.002394347684457898, 4.255111217498779, -0.07468757033348083, 0.06548479944467545, -0.04036460071802139, 0.06081469729542732, -0.0666656568646431, -0.03486435487866402, 0.011333992704749107, 0.05427292734384537, -0.0599062480032444, 0.1379312127828598, 0.12019447982311249, 0.09948768466711044, -0.03479553759098053, 0.08026506006717682, 0.08559589087963104, -0.006147552747279406, -0.09529418498277664, -0.0642363503575325, -0.014727840200066566, 0.6242890357971191, 0.08401800692081451, 0.04453413188457489, 0.07583639770746231, -0.1257605105638504, -0.08976970613002777, -0.03608127310872078, -0.1551256775856018, 0.04187289625406265, 0.08635010570287704, 0.011348803527653217, -0.02314428612589836, 0.07714943587779999, -0.0876951813697815, -0.02545516937971115, -0.047626469284296036, 0.03414587676525116, -0.010952399112284184, -0.014393446035683155, 0.05506766214966774, 0.0033752925228327513, 0.002177088987082243, 0.03474580496549606, -0.036509156227111816, -0.011860618367791176, -0.006402085535228252, -0.17395949363708496, -0.14659354090690613, 0.012822565622627735, 0.14021532237529755, 0.025850282981991768, 0.07218419760465622, -0.07802534848451614, 0.07966455817222595, 0.33518239855766296, -0.9316405653953552, 0.011251184158027172, -0.06449843943119049, -0.05347811058163643, -0.06860951334238052, -0.013246526941657066, -0.1434672474861145, 0.1203116625547409, 0.10451476275920868, 0.03770848363637924, -0.002064957981929183, 0.015070383436977863, 0.08275975286960602, 0.16052570939064026, -0.009946636855602264, -0.011531863361597061, -0.09934243559837341, -0.06863218545913696, -0.0011936216615140438, 0.016863597556948662, 0.11925604939460754, -0.11276134103536606, -0.030321666970849037, -0.0076130460947752, 0.07082996517419815, -0.0579453706741333, -0.03746612370014191, -0.022198369726538658, -0.06365921348333359, -0.0690152496099472, 0.001900488161481917, 0.16036231815814972, -0.10257197171449661, -0.05399685353040695, 0.035069238394498825, 0.031370650976896286, -0.020266171544790268, -0.006259919609874487, 0.037931203842163086, 0.01935788057744503, 0.006762729026377201, 0.039657775312662125, 0.028610697016119957, 0.009008759632706642, 0.02214093506336212, -0.011155751533806324, -0.002925539156422019, -0.05234053358435631, -0.0208322424441576, -0.09248615056276321, 0.012276530265808105, -0.02435600943863392, 0.11875177174806595, -0.02306026965379715, 0.023851877078413963, 0.06851629167795181, -0.029341833665966988, -0.15143372118473053, 0.15627336502075195, 0.1316743791103363, 0.07074569910764694, 0.005590177606791258, 0.017870347946882248, 0.11392495036125183, -0.02206602320075035, 0.22895069420337677, -0.0597546249628067, 0.032357241958379745, 0.0804164707660675, 0.021250147372484207, -0.07572469860315323, 0.04178161919116974, 0.014442339539527893, -0.15332289040088654, 0.15877819061279297, -0.04193446785211563, -0.0688968077301979, 0.04069124534726143, -0.0015232897130772471, -0.06592988222837448, 0.0407986119389534, -0.002644101157784462, -0.03828241303563118, -0.020211029797792435, -0.0952465683221817, 0.0819416418671608, 0.06856223195791245, 0.04988277330994606, 0.024495525285601616, -0.03208446502685547, -0.0507487989962101, 0.10535713285207748, -0.040711209177970886, -0.03061789833009243, -0.11117835342884064, -0.07084230333566666, 0.016514161601662636, 0.07155277580022812, 0.04242953285574913, -0.024657974019646645, -0.0090891532599926, 0.05312728136777878, 0.07237779349088669, 0.06539203971624374, 0.010277772322297096, -0.06709179282188416, 0.008861224167048931, -0.03381210193037987, 0.10063157975673676, 0.002576189348474145, -0.04050770401954651, -0.033655788749456406, 0.0881332978606224, 0.012390973046422005, -0.024191325530409813, -0.044230177998542786, -0.19395408034324646, -0.06370990723371506, -0.18523678183555603, 0.04497047886252403, -0.06698638200759888, -0.026054713875055313, -0.00935674924403429, 0.07469446957111359, 0.047103945165872574, -0.11351943016052246, 0.012511556968092918, -0.0957072377204895, -0.10363992303609848, 0.11479578167200089, -0.028568532317876816, -0.0661374107003212, -0.09591369330883026, 0.005521000828593969, 0.02513349987566471, 0.04196681082248688, -0.10461092740297318, -0.041897475719451904, 0.09079927206039429, -0.09267392754554749, -0.0562945231795311, -0.04339687153697014, -0.12340015918016434, -0.10529570281505585, -0.045819591730833054, 0.03402230516076088, -0.06981031596660614, -0.08088312298059464, -0.14226357638835907, 0.040968213230371475, 0.046959858387708664, 0.050344258546829224, 0.06743212789297104, -0.05880650505423546, -0.03194819763302803, 0.08809943497180939, -0.05087558180093765, 0.054535817354917526, -0.070976622402668, 0.023236092180013657, 0.051184095442295074, -0.07911453396081924, -0.05151837691664696, -0.12071847915649414, 0.0754680410027504, -0.02203553542494774, -0.09711730480194092, 0.07553055137395859, -0.036386169493198395, -0.15288127958774567, -0.026454895734786987, 0.051084451377391815, -0.01932354085147381, 0.01980019174516201, -0.002763420343399048, 0.043204739689826965, 0.015454676002264023, 0.02874086983501911, -0.024998553097248077, -0.030450064688920975, 0.005583553574979305, -0.09794551879167557, -0.0569126233458519, 0.031720418483018875, -0.015386655926704407, 0.0071834176778793335, -0.012632216326892376, -0.005606961902230978, -0.00867870170623064, 0.11699267476797104, -0.018812619149684906, -0.14546754956245422, 0.002515477128326893, -0.058774642646312714, 0.07412665337324142, -0.07075896114110947, -0.001213481999002397, -0.06733348220586777, -0.03013710118830204, 0.04913721978664398], [0.107923723757267, 0.09771069884300232, -0.0583232156932354, -0.1587614268064499, 0.06878503412008286, 0.06392200291156769, -0.04941001906991005, -0.07278855890035629, -0.06763143092393875, -0.01769806630909443, 0.02088221162557602, 0.006605579052120447, 0.07580894976854324, 0.0634596049785614, -0.004719591699540615, 0.07891030609607697, 0.031311411410570145, 0.021984877064824104, 0.024034513160586357, -0.05400199070572853, -0.048717375844717026, 0.030802467837929726, -0.0032390609849244356, -0.015639061108231544, -0.07354263961315155, -0.02517843432724476, -0.05885406956076622, -0.000684270344208926, 0.04686150699853897, 0.07694458216428757, -0.10389932990074158, -0.04869931563735008, -0.1758735626935959, 0.011771796271204948, 0.07398946583271027, -0.002418524120002985, -0.020938308909535408, 0.07388011366128922, -0.12637992203235626, -0.15514329075813293, 0.10441619902849197, 0.118648461997509, 0.12503857910633087, 0.04490741342306137, -0.014888713136315346, -0.2056305706501007, 0.15904276072978973, 0.04858727753162384, 0.03687606379389763, -0.09065238386392593, -0.009611870162189007, 0.035768184810876846, -0.05705290660262108, 0.12865807116031647, 0.09234698116779327, -0.07169704884290695, -0.037805721163749695, -0.1291472315788269, 0.034136705100536346, -0.007228633854538202, -0.0033919266425073147, -0.023035384714603424, 0.08875048905611038, 0.006726741790771484, -0.022609088569879532, 0.07900498062372208, 0.0720064640045166, 0.00753735052421689, -0.07902152836322784, -0.08533964306116104, 0.08286820352077484, -0.10786978155374527, 0.02271261252462864, 0.0783269852399826, 0.07276611775159836, -0.055709123611450195, -0.10663019865751266, -0.04782988131046295, 0.16045057773590088, -0.03987913951277733, -0.03647828847169876, 0.10777917504310608, 0.06513223797082901, -0.06038956344127655, -0.03557433560490608, -0.06645123660564423, -0.07030466943979263, -0.1514735370874405, 0.06561224907636642, -0.07636341452598572, -0.011708572506904602, -0.13948309421539307, 0.056462205946445465, -0.08134771883487701, 0.08394285291433334, 0.032406751066446304, 0.31427231431007385, -0.0028735569212585688, 0.1212778389453888, 0.022459106519818306, 0.049044910818338394, -0.027999166399240494, 0.0035891858860850334, 0.02198147028684616, -0.052966583520174026, -0.1108255609869957, -0.10904740542173386, 0.013663076795637608, 0.04162735491991043, 0.16949166357517242, 0.006091246381402016, -0.05441376939415932, -0.0293013583868742, 0.08391400426626205, -0.07173527032136917, -0.09562521427869797, 0.03977762535214424, 0.06159120798110962, 0.0183409396559, -0.06757432967424393, -0.01962047815322876, 0.095485620200634, -0.0810173973441124, 0.13626839220523834, -0.03677831590175629, -0.03509459272027016, 0.1162022203207016, 0.1680893898010254, -0.02124306932091713, -0.0016364612383767962, -0.13229747116565704, 0.03071417100727558, 0.07637166231870651, -0.015351003035902977, 0.019611943513154984, 0.07620672136545181, -0.00015340892423409969, 0.08694232255220413, -0.025552047416567802, -0.035546913743019104, -0.11380097270011902, 0.12181012332439423, -0.042194560170173645, 0.21829159557819366, 0.023911241441965103, 0.2025265097618103, -0.15106816589832306, 0.09235230088233948, 0.029504116624593735, 0.030189957469701767, -0.05527813732624054, 0.012013772502541542, 0.0936516746878624, -0.127716064453125, 0.00417815987020731, -0.018970312550663948, -0.03191325441002846, -0.056007351726293564, -0.08742811530828476, 0.07381708920001984, -0.17889900505542755, 0.0014804186066612601, 0.03965432941913605, 0.00831626821309328, -0.09499067813158035, 0.03312963247299194, -0.07705167680978775, -0.017112424597144127, 0.011229109950363636, -0.1580948531627655, -0.07169754803180695, 0.1042037382721901, 0.07214654982089996, 0.01498098112642765, 0.03280981257557869, -0.010730670765042305, -0.17926061153411865, -0.20622800290584564, 0.03522346913814545, -0.03231671079993248, 0.0039118207059800625, -0.10634168982505798, 0.024391764774918556, -0.07508891820907593, -0.007260140962898731, 0.023670487105846405, -0.1276850551366806, 0.044704992324113846, -0.07159918546676636, -0.037125274538993835, 0.009133678860962391, 0.0438644140958786, -0.06859534978866577, -0.03655655309557915, 0.1457739919424057, 0.04535438120365143, 0.21709631383419037, -0.031023994088172913, -0.05930878221988678, 0.09709040820598602, -0.06468570232391357, -0.12514065206050873, -0.08854223787784576, -0.07358632236719131, 0.060255639255046844, -0.021505342796444893, -0.07983475178480148, 0.167469784617424, -0.013386623002588749, 0.00143681769259274, -0.14479218423366547, 0.07547274976968765, -0.12321434170007706, -0.020191462710499763, 0.023109745234251022, 0.0005475401412695646, 0.11749476194381714, 0.03168740123510361, 0.03153401240706444, -0.12219121307134628, 0.37337398529052734, -0.06914731115102768, -0.02899780124425888, 0.05726071819663048, -0.005256857257336378, 0.1329188197851181, 0.10384923219680786, 0.14677830040454865, -0.07136370986700058, -0.008822872303426266, 0.01167573593556881, -0.05245988443493843, -0.00489100581035018, -0.07990656048059464, -0.011636849492788315, -0.006491472013294697, -0.45992225408554077, 0.02751784957945347, -0.011218463070690632, 0.03377600014209747, 0.187962606549263, 0.044711727648973465, -0.0615936741232872, 0.06944700330495834, 0.03896825760602951, 0.024163853377103806, -0.06304442882537842, -0.0593392513692379, 0.07858627289533615, -0.10047416388988495, 0.07680841535329819, -0.030564868822693825, 0.11457689851522446, 0.15116553008556366, -0.004318078979849815, -0.10530985891819, -0.017380772158503532, -0.04001682996749878, 0.0860212966799736, 0.020835252478718758, -0.05486908555030823, -0.13621389865875244, 0.08505046367645264, 0.07737930119037628, 0.03455184027552605, -0.013045224361121655, -0.09798058122396469, -0.0012516507413238287, 0.04562539607286453, -0.1773919314146042, -0.08449357002973557, 0.01839526556432247, 0.022863466292619705, 0.044052086770534515, 0.05270049721002579, 0.2748957574367523, -0.14711728692054749, -0.02424965798854828, 0.1054992601275444, 0.026900487020611763, 0.045003753155469894, -0.1154586523771286, -0.04352308437228203, 0.011527203023433685, 0.07026401162147522, 0.21608005464076996, -0.11622048914432526, 0.06637188047170639, 0.04338257014751434, 0.08886849880218506, 0.06766435503959656, -0.23634211719036102, 0.08678441494703293, 0.08246534317731857, -0.049533575773239136, 0.0819128081202507, 0.09957101941108704, 0.05290117487311363, -0.018244555220007896, -0.04017217829823494, 0.0033866213634610176, -0.007871235720813274, 0.0795697346329689, -0.005007309373468161, -0.018839020282030106, 0.0360698327422142, -0.01231545489281416, 0.039122678339481354, 0.05836864560842514, 0.11827638000249863, -0.02832048200070858, -0.04783771559596062, 0.08835284411907196, -0.005261015612632036, -0.03329392150044441, 0.02362038940191269, -0.007357360329478979, -0.061119720339775085, 0.03907809033989906, -0.09095298498868942, -0.024565869942307472, -0.04150259122252464, 0.0014932079939171672, -0.059973157942295074, -0.04346559941768646, -0.0641314908862114, 0.03131527453660965, -0.004958496429026127, 0.36395758390426636, -0.010950485244393349, -0.035434313118457794, 0.0002801454102154821, 0.0672370046377182, -0.10029197484254837, 0.0009573194547556341, 0.04051065072417259, 0.05755371227860451, -0.09225035458803177, 0.01738373003900051, -0.10686280578374863, -0.008310370147228241, 0.08353469520807266, -0.013498479500412941, 0.10193150490522385, -0.08133919537067413, -0.030132606625556946, -0.038926929235458374, 0.03649621829390526, 0.059286728501319885, -0.03402547910809517, -0.10542502999305725, -0.13382279872894287, 0.0365423783659935, -0.03911551460623741, -0.12323500216007233, -0.05775502696633339, 0.03797714412212372, 0.07349886745214462, -0.1868073046207428, 0.1084657609462738, 0.004145560320466757, -0.07948913425207138, -0.0828091949224472, 0.03686266764998436, 0.061325039714574814, 0.02527676150202751, 0.07033465057611465, 0.02372131310403347, -0.01710057072341442, -0.22517411410808563, 0.18197894096374512, 0.013267978094518185, -0.00247295293956995, -0.04939897358417511, -0.007596387527883053, -0.1088910922408104, -0.008019653148949146, 0.024270769208669662, 0.033612728118896484, -0.04501590505242348, -0.09082385152578354, -0.022755920886993408, 0.04554352909326553, -0.1265573501586914, 0.030355902388691902, -0.15747852623462677, -0.0359225831925869, -0.019721832126379013, -0.026893528178334236, 0.02167571149766445, -0.05597565695643425, 0.015824439004063606, -0.11547496914863586, 0.13558824360370636, -0.01080609392374754, 0.11855775117874146, -0.05120280757546425, 0.12460063397884369, 0.06656649708747864, -0.042089302092790604, 0.029354803264141083, 0.05765179917216301, -0.12928636372089386, 0.14840371906757355, -0.04021904617547989, -0.07768569886684418, -0.005164946895092726, -0.09668940305709839, 0.04300175607204437, -0.09964224696159363, 0.17859847843647003, -0.05458502843976021, -0.06751717627048492, -0.02851906791329384, -0.045657601207494736, -0.14607766270637512, 0.005998075474053621, -0.017221981659531593, 0.16321825981140137, -0.12551933526992798, -0.03424249216914177, -0.0015614813892170787, 0.015890762209892273, 0.1259041577577591, -0.1541280597448349, 0.020716527476906776, 0.1175679937005043, 0.031148388981819153, 0.08290673047304153, 0.05103670433163643, 0.1093655675649643, 0.15590541064739227, -0.02236001007258892, 0.009699607267975807, -0.06531266868114471, -0.4650122821331024, 0.041822440922260284, 0.010961383581161499, -0.11648284643888474, 0.07635161280632019, 0.03298066183924675, 0.018533829599618912, 0.02906665951013565, 0.0046223364770412445, 0.07345932722091675, 0.1041480228304863, 0.09531589597463608, 0.09087863564491272, 0.08821062743663788, 0.03234017267823219, 0.015107947401702404, -0.033990103751420975, 0.07076367735862732, -0.03704771026968956, -0.01276671513915062, -0.06499306112527847, 0.04530096799135208, -0.07405895739793777, -0.08740444481372833, 0.028768464922904968, -0.004362238105386496, 0.005939241498708725, -0.03247690573334694, 0.026237541809678078, 0.023099664598703384, -0.18393151462078094, -0.02715640887618065, 0.04679930582642555, 0.060506533831357956, 0.03722766041755676, -0.0019834942650049925, -0.03624558076262474, 0.01567213051021099, -0.03434573486447334, 0.09407272934913635, 0.09139920771121979, 0.10173260420560837, -0.05861254781484604, 0.090177983045578, -0.04179513081908226, 0.047210611402988434, -0.10755641758441925, -0.16109482944011688, -0.10096195340156555, 0.020408853888511658, -0.13473564386367798, 0.12810905277729034, -0.048460908234119415, 0.03302164748311043, -0.0960242822766304, -0.01727813296020031, 0.07718905806541443, 0.020665105432271957, -0.03140002861618996, 0.16804952919483185, 0.006079760380089283, -0.0336553230881691, -0.16142961382865906, -0.14638833701610565, 0.12726955115795135, -0.13019180297851562, 0.06869752705097198, -0.05574760213494301, -0.028861671686172485, -0.00028770105564035475, -0.038371700793504715, 0.03109786845743656, -0.08637857437133789, 0.1219615489244461, -0.055557847023010254, 0.06967845559120178, -0.08610137552022934, -0.17977899312973022, 0.08290796726942062, -0.08794169872999191, -0.06765878945589066, 0.05513669177889824, -0.018828941509127617, 0.06807728856801987, -0.07746347784996033, -0.012620457448065281, -0.026923805475234985, 0.03635045513510704, 0.02016049064695835, -0.006208434235304594, 0.01406327448785305, -0.030573338270187378, 0.07621318846940994, -0.035831764340400696, 0.11472499370574951, 0.006948690861463547, -0.012475232593715191, 0.02877664379775524, -0.23571623861789703, -0.015792926773428917, -0.06358475983142853, -0.10776057839393616, 0.1319088637828827, 0.09239784628152847, 0.0557243637740612, 0.04993591457605362, -0.09102737158536911, -0.1122499331831932, -0.010564843192696571, 0.02437148243188858, 0.04203815385699272, 0.013634462840855122, -0.1977989673614502, 0.05691049247980118, -0.07104557752609253, 0.04199843481183052, 0.0396927073597908, 0.03607974946498871, 0.013138960115611553, 0.09292201697826385, 0.014758432283997536, 0.09066151827573776, 0.03324052691459656, 0.1451851725578308, -0.11644749343395233, -0.0948890820145607, -0.05012388527393341, -0.09683557599782944, -0.0416727289557457, -0.030807599425315857, -0.13447554409503937, 0.06225857138633728, -0.014827955514192581, -0.08677176386117935, 0.005640439689159393, 0.1007978767156601, 0.04791760817170143, -0.07888282090425491, 0.10832024365663528, -0.056984297931194305, 0.1050112396478653, 0.10466480255126953, -0.10068994015455246, -0.04398665577173233, 0.012464005500078201, -0.07108645886182785, -0.002885465743020177, 0.06726335734128952, 0.052233338356018066, 0.044135238975286484, -0.1803283542394638, -0.021649297326803207, -0.015126404352486134, -0.02965223602950573, 0.04687471687793732, -0.05547988414764404, -0.01251149456948042, 0.005931497551500797, 0.06323445588350296, -0.06708522140979767, -0.008321484550833702, 0.017703954130411148, -0.11823681741952896, -0.05916885659098625, -0.06333380937576294, -0.036124732345342636, -0.008140213787555695, -0.0017167252954095602, -0.12168130278587341, 0.0639185756444931, 0.060305312275886536, 0.010850414633750916, -0.07584061473608017, 0.02159060537815094, 0.0067548733204603195, 0.011728188022971153, -0.037486668676137924, 0.045946069061756134, -0.07759876549243927, -0.04861028492450714, -0.11955569684505463, -0.06000560522079468, -0.0412062332034111, -0.1985280066728592, 0.03843189775943756, 0.02131514810025692, -0.032115835696458817, -0.018684040755033493, -0.04349641501903534, 0.004566548857837915, 0.03997380658984184, -0.08135951310396194, 0.01812116429209709, -0.08574476838111877, 0.10013037174940109, -0.018618447706103325, -0.04548234865069389, 0.1153055876493454, 0.14790934324264526, 0.17576713860034943, 0.1210259422659874, 0.12336207926273346, -0.1513555496931076, 0.06237445026636124, -0.013656622730195522, 0.00892440415918827, -0.13347220420837402, 0.02452106587588787, 0.21034687757492065, -0.022212829440832138, 0.013196147046983242, 0.12264453619718552, -0.03434120491147041, -0.14522983133792877, -0.03987913951277733, 0.10728053748607635, -0.09152282029390335, 0.03171633929014206, 0.08033344894647598, 0.025416778400540352, -0.0020422744564712048, -0.006922132335603237, 0.01088058203458786, 0.043801743537187576, -0.0628480315208435, 0.09654448181390762, 0.01949119009077549, 0.06815162301063538, 0.010787487030029297, 0.1358109712600708, 0.17646968364715576, 0.11280663311481476, 0.12905095517635345, -0.09251216053962708, 0.07356128841638565, 0.03844040632247925, 0.10758358240127563, -0.1377352476119995, -0.06356481462717056, 0.027578655630350113, -0.042160097509622574, 0.1881197690963745, -0.02224581316113472, -0.173392653465271, 0.08636298775672913, -0.023408105596899986, 0.03558245301246643, 0.035045281052589417, -0.002069260226562619, 0.1742159128189087, -0.041673362255096436, 0.13678739964962006, -0.014656588435173035, 0.022670060396194458, -0.012680924497544765, -0.12030055373907089, -0.07709088176488876, 0.03053956665098667, 0.03156217932701111, 0.1481376588344574, -0.033727169036865234, -0.08536512404680252, -0.032188571989536285, 0.019829146564006805, -0.08644205331802368, -0.10672824829816818, -0.03617560490965843, 0.09014328569173813, 0.01804717443883419, -0.0590621717274189, 0.005461132153868675, 0.006642156280577183, 0.03632441908121109, -0.061796240508556366, 0.07223061472177505, -0.04266665503382683, -0.04222094640135765, 0.02691200189292431, -0.11305760592222214, -0.05038880929350853, -0.05162881314754486, -0.4961817264556885, -0.02446029521524906, 0.07894846051931381, 0.15188153088092804, 0.06547407805919647, 0.1119341030716896, -0.01692592166364193, 0.09839899837970734, 0.04133046045899391, 0.2849659025669098, 0.0128894979134202, 0.10249156504869461, -0.05802960321307182, -0.11492892354726791, 0.026506295427680016, 0.013593275099992752, 0.0032307766377925873, -0.05503734201192856, -0.15276536345481873, -0.02618635818362236, 0.03123968467116356, 0.09935704618692398, 0.05314012989401817, -0.14560389518737793, 0.12210731953382492, 0.08166885375976562, 0.1749417781829834, 0.011448478326201439, -0.028208261355757713, -0.10720840841531754, -0.03996025770902634, -0.006502808071672916, -0.02086174488067627, 0.1423969715833664, 0.036821313202381134, -0.034352123737335205, -0.021604813635349274, -0.03002311848104, -0.051128894090652466, -0.014053979888558388, -0.031335752457380295, -0.12312471866607666, -0.16398495435714722, 0.07948366552591324, -0.06667397171258926, 0.004569513723254204, 0.07895038276910782, 0.14319750666618347, -0.059271134436130524, -0.00016039737965911627, -0.029289569705724716, -0.002730401000007987, -0.08662040531635284, 4.330677509307861, 0.006655324250459671, 0.0694315955042839, 0.019610945135354996, -0.05630002170801163, -0.03432214632630348, -0.0011626419145613909, 0.09671369194984436, 0.10164488852024078, 0.010841963812708855, 0.09431906789541245, 0.11086725443601608, 0.09280049800872803, -0.013467484153807163, -0.01832670345902443, 0.06772305071353912, -0.04046676307916641, -0.03031706064939499, -0.08083778619766235, 0.034259628504514694, 0.6185318827629089, 0.06819728761911392, 0.04398902505636215, 0.0736488401889801, -0.10449239611625671, -0.04614847153425217, 0.06748561561107635, -0.10813209414482117, -0.014607892371714115, 0.1015460193157196, 0.006563134491443634, -0.04766484722495079, 0.03132927417755127, -0.17046399414539337, -0.005199403967708349, -0.017956512048840523, 0.046903811395168304, 0.04707743227481842, 0.039456289261579514, 0.04742566496133804, -0.008649051189422607, -0.04286830872297287, 0.036105427891016006, -0.017533794045448303, 0.02191290818154812, 0.008596851490437984, -0.1966567039489746, -0.05741558596491814, -0.020732024684548378, 0.08881889283657074, -0.04105240851640701, 0.09775183349847794, -0.03787299618124962, 0.09896833449602127, 0.2509586811065674, -1.1193417310714722, -0.042506441473960876, -0.10039772093296051, -0.07263029366731644, -0.04687070474028587, 0.02407534047961235, -0.11114967614412308, 0.1090913936495781, 0.11797479540109634, 0.016807423904538155, -0.03491898626089096, 0.06263075023889542, 0.10775752365589142, 0.12385056167840958, 0.024784637615084648, -0.016202058643102646, -0.16978317499160767, -0.053606901317834854, 0.07458382844924927, 0.09173060208559036, 0.1787455826997757, -0.10039777308702469, 0.012242056429386139, -0.0384226031601429, 0.142520010471344, 0.032694630324840546, -0.0005907689919695258, -0.005975732114166021, -0.046464744955301285, -0.06273335963487625, 0.003993695601820946, 0.09371815621852875, -0.12696823477745056, -0.07344180345535278, -0.018282674252986908, 0.04920869693160057, -0.06477664411067963, 0.014260483905673027, -0.02277861349284649, -0.04179220646619797, -0.0605020634829998, 0.06049096956849098, 0.06703145056962967, -0.01136708166450262, 0.05461909621953964, -0.012315407395362854, -0.05970095098018646, -0.07418696582317352, -0.002265151124447584, -0.10244778543710709, 0.05961840599775314, 0.008474087342619896, 0.17864103615283966, -0.027729621157050133, 0.04623120650649071, 0.10917749255895615, -0.05584396794438362, -0.020534317940473557, 0.17280934751033783, 0.07056871801614761, 0.11878848820924759, -0.05701814219355583, 0.1696649193763733, 0.10406021028757095, -0.05928682163357735, 0.16964931786060333, -0.0006298919906839728, 0.03098849207162857, 0.059670303016901016, -0.08310528844594955, -0.08346311748027802, -0.006046127527952194, -0.06065797805786133, -0.17916080355644226, 0.1593361347913742, 0.024380581453442574, -0.11661543697118759, 0.1229393258690834, -0.06624919921159744, -0.12108270823955536, 0.07355581223964691, -0.06783846765756607, -0.07066109776496887, 0.06093057245016098, -0.11874017119407654, 0.03160284459590912, 0.12069015949964523, 0.005161638371646404, 0.061413660645484924, -0.018931685015559196, -0.005478350445628166, 0.0406845360994339, -0.1193009614944458, -0.10139933228492737, -0.07536201179027557, -0.05898443982005119, 0.016453728079795837, -0.03493737056851387, 0.03208589181303978, -0.08950505405664444, -0.032508641481399536, 0.06193988025188446, 0.048266589641571045, 0.13311636447906494, -0.10521665215492249, -0.10174006968736649, -0.008971065282821655, 0.08753388375043869, 0.09305943548679352, 0.010717104189097881, -0.1162385419011116, -0.035657625645399094, 0.12376037985086441, 0.02242446318268776, -0.07076805830001831, 0.0172828808426857, -0.1797475665807724, -0.003697342937812209, -0.06882867217063904, -0.017726564779877663, -0.09099283069372177, -0.0522880032658577, -0.032090239226818085, 0.07398240268230438, 0.11050628125667572, -0.0462019257247448, -0.03132306784391403, -0.08553867042064667, -0.15118111670017242, 0.14643354713916779, -0.047248125076293945, -0.07723943144083023, -0.14288166165351868, -0.006860056892037392, 0.008139100857079029, 0.011787448078393936, -0.11510507762432098, -0.12188862264156342, 0.050103552639484406, -0.13798031210899353, -0.10352874547243118, 0.03963412344455719, -0.10331495106220245, -0.14629334211349487, -0.04129944369196892, 0.037016965448856354, -0.15607504546642303, -0.08832639455795288, -0.16996242105960846, 0.051927193999290466, 0.07380727678537369, 0.09492313116788864, 0.034276556223630905, 0.0017768786055967212, -0.028163405135273933, 0.079371377825737, -0.11046156287193298, 0.02770966850221157, 0.011656397953629494, 0.118660569190979, 0.04106573387980461, -0.0709674283862114, -0.033812250941991806, -0.05800309032201767, 0.042601387947797775, 0.0037622421514242887, -0.05717545747756958, 0.13968928158283234, -0.07480589300394058, -0.12956766784191132, -0.05128568410873413, 0.01693459041416645, -0.01642543449997902, 0.05764075368642807, -0.06852693855762482, 0.027553485706448555, 0.04958594962954521, 0.06704939156770706, 0.019601166248321533, -0.1180853471159935, 0.011624366044998169, -0.23006561398506165, 0.006874339189380407, -0.007849552668631077, -0.05841585621237755, -0.002610462950542569, -0.11998659372329712, 0.0777970626950264, 0.013318782672286034, 0.18984520435333252, 0.03037971444427967, -0.1678566336631775, -0.05167728662490845, -0.05527443066239357, 0.05765095725655556, -0.1432945281267166, -0.09495019912719727, -0.12765584886074066, -0.06493283808231354, 0.12894120812416077], [0.05457926169037819, 0.03635900467634201, -0.07821201533079147, -0.07684070616960526, 0.09520024806261063, 0.04941299930214882, -0.0237419530749321, -0.0812140703201294, -0.012075339443981647, -0.03881748393177986, -0.05743881314992905, 0.03183386102318764, 0.07730074226856232, 0.024737928062677383, -0.014174924232065678, 0.07570438832044601, 0.04237327352166176, 0.037379391491413116, 0.05304987356066704, -0.03576110303401947, -0.032083574682474136, 0.016368277370929718, -0.04419392719864845, 0.008041761815547943, -0.03146205469965935, -0.0020186668261885643, -0.10942500829696655, 0.056553903967142105, -0.015617779456079006, 0.0348835214972496, -0.06519069522619247, 0.01156560331583023, -0.15559525787830353, 0.06057983264327049, 0.051066625863313675, -0.08426273614168167, 0.042205069214105606, 0.05951175466179848, -0.09759491682052612, -0.12185796350240707, 0.05569259822368622, 0.06447706371545792, 0.03324904292821884, 0.04766416549682617, 0.036092013120651245, -0.13480742275714874, 0.09302496165037155, 0.03499480336904526, 0.0071899485774338245, -0.05937350541353226, 0.014645632356405258, 0.05430695787072182, -0.03585556894540787, -0.012251446954905987, 0.04345255345106125, -0.08524314314126968, -0.06036040186882019, -0.11693154275417328, -0.00766381248831749, -0.04344262555241585, -0.05233162268996239, 0.04355551302433014, 0.052273888140916824, -0.012630495242774487, 0.00018272286979481578, 0.00019962470105383545, 0.010633701458573341, 0.019137997180223465, 0.0021780652459710836, -0.06012964993715286, 0.02731958217918873, -0.03542442247271538, 0.04468162730336189, 0.04219532757997513, 0.04883486032485962, -0.04833458736538887, -0.08976312726736069, -0.013839375227689743, 0.06378553807735443, 0.01851302944123745, -0.03599623963236809, 0.07794686406850815, 0.037762947380542755, -0.03880706802010536, 0.009442223235964775, -0.0909639224410057, -0.01417718268930912, -0.05575134605169296, 0.1129818931221962, -0.0636565089225769, -0.031169584020972252, -0.07707001268863678, 0.03933785483241081, -0.07313429564237595, 0.08752235770225525, 0.08771144598722458, 0.30923134088516235, -0.01452418603003025, 0.11674635112285614, 0.036781441420316696, -0.0031937926542013884, -0.0281254593282938, -0.0510622076690197, 0.0606103241443634, -0.0473506860435009, -0.16611365973949432, -0.026354938745498657, -0.040260765701532364, 0.07712700963020325, 0.13886192440986633, -0.011672336608171463, 0.038224246352910995, 0.02444586157798767, 0.0634954422712326, -0.02384237013757229, -0.03233304247260094, 0.04189920425415039, 0.07905147969722748, -0.05981544405221939, -0.04084280505776405, -0.009553816169500351, 0.05489054322242737, -0.08109762519598007, 0.014571086503565311, 0.004524797201156616, 0.03179071843624115, 0.02179652638733387, 0.1262873262166977, -0.04920661449432373, 0.021991010755300522, -0.07234859466552734, 0.011883663944900036, 0.011916299350559711, -0.000835921848192811, 0.03374122455716133, 0.02639766037464142, 0.0028602469246834517, 0.035633038729429245, -0.03179660812020302, -0.017791928723454475, -0.05424467474222183, 0.0898715928196907, -0.006875462830066681, 0.14273403584957123, 0.030623573809862137, 0.23786135017871857, -0.08727440983057022, -0.0005384570104070008, 0.0012154767755419016, -0.01662643812596798, -0.004249981604516506, -0.007452532649040222, 0.014328806661069393, -0.09797696024179459, -0.05663948133587837, -0.026086824014782906, -0.042978495359420776, 0.01144166849553585, -0.020850902423262596, 0.0411439947783947, -0.06266120821237564, 0.04965955764055252, 0.028250057250261307, -0.03956333547830582, -0.052208155393600464, -0.02859335206449032, -0.09738773107528687, 0.012077980674803257, 0.06413541734218597, -0.10914651304483414, -0.0008215663256123662, 0.04673941433429718, 0.07123103737831116, -0.005968023091554642, -0.0413479246199131, 0.060135986655950546, -0.14618843793869019, -0.2075669765472412, -0.017267145216464996, -0.03159455582499504, 0.014079532586038113, -0.0902576819062233, -0.030767207965254784, -0.0743088498711586, 0.05032108724117279, -0.032275740057229996, -0.08678089827299118, 0.0083450423553586, -0.02772540971636772, -0.03500969707965851, 0.03491566702723503, 0.025427943095564842, -0.04777280241250992, -0.015841318294405937, 0.15551793575286865, 0.002150417072698474, 0.16057200729846954, 0.014314772561192513, -0.04459165036678314, 0.06319645792245865, -0.0419110469520092, -0.07205420732498169, -0.04772351309657097, -0.0283291507512331, -0.020134538412094116, 0.05472613498568535, -0.0892816036939621, 0.11201373487710953, 0.023958897218108177, -0.0382067933678627, -0.13723057508468628, 0.0286879763007164, -0.1361689418554306, -0.04462466388940811, 0.014340960420668125, -0.0031759068369865417, 0.17537955939769745, 0.07626193761825562, 0.0040883938781917095, -0.0742303654551506, 0.41035380959510803, -0.03512841835618019, -0.05108720436692238, 0.006811306346207857, -0.0432787649333477, 0.16760975122451782, 0.058089155703783035, 0.11893448233604431, -0.018113307654857635, 0.020851697772741318, 0.010550666600465775, -0.09618251770734787, -0.06346852332353592, -0.03811432421207428, -0.0060819052159786224, -0.001631054445169866, -0.4849175810813904, 0.009341052733361721, -0.03920956328511238, -0.0020808784756809473, 0.10986337065696716, 0.12197612971067429, -0.022925078868865967, 0.009695184417068958, 0.07366368174552917, 0.07143694162368774, -0.03183731064200401, -0.05839299410581589, 0.13642290234565735, -0.09853354841470718, 0.028095385059714317, -0.055908944457769394, 0.1100362166762352, 0.02721594274044037, 0.03262069821357727, -0.0025894090067595243, -0.0659995749592781, 0.0075077335350215435, 0.06413516402244568, 0.039497751742601395, -0.09494758397340775, -0.13708627223968506, 0.01978960633277893, 0.006689401343464851, 0.009909186512231827, 0.07352424412965775, -0.056212179362773895, 0.0924152210354805, 0.011496651917696, -0.16168521344661713, -0.04940081387758255, 0.013579861260950565, 0.04212984815239906, 0.0040764398872852325, 0.020601173862814903, 0.1948050558567047, -0.12166150659322739, -0.06559938192367554, 0.015331017784774303, 0.08350738137960434, 0.002836336614564061, -0.04782630875706673, -0.11934229731559753, 0.008902606554329395, 0.022204799577593803, 0.1735256016254425, -0.07615795731544495, 0.017062770202755928, 0.07781719416379929, 0.12056105583906174, 0.1258450746536255, -0.2569085359573364, 0.021243572235107422, 0.01771758869290352, -0.003467564471065998, 0.05874856933951378, 0.11691057682037354, -0.00995675940066576, -0.062138959765434265, 0.03233221545815468, -0.033115826547145844, -0.08522535860538483, 0.03966865316033363, -0.03604773432016373, 0.02743394859135151, -0.024074237793684006, -0.0762002244591713, 0.09641778469085693, 0.07464902102947235, 0.05786013975739479, -1.1397934031265322e-05, -0.03522458299994469, 0.0745733454823494, 0.0021245433017611504, -0.04119006171822548, -0.0353250615298748, -0.019065922126173973, -0.04076278954744339, 0.09269575774669647, -0.03931761533021927, 0.006694288458675146, -0.012201694771647453, 0.06351226568222046, -0.07232712209224701, 0.00808821339160204, -0.10072652250528336, 0.011074270121753216, -0.027484796941280365, 0.4560612142086029, 0.038941510021686554, 0.044103335589170456, -0.0010391782270744443, 0.07047845423221588, -0.06884387135505676, -0.05389343574643135, 0.09284188598394394, 0.004943665117025375, -0.056038565933704376, 0.021970486268401146, -0.048886802047491074, 0.027064044028520584, 0.06769640743732452, 0.018616193905472755, 0.03972405567765236, -0.0348084419965744, -0.010178242810070515, -0.07986751198768616, 0.018289711326360703, 0.03806501254439354, 0.027017591521143913, -0.10593032091856003, -0.15090171992778778, -0.022480962797999382, -0.06219906359910965, -0.09884560853242874, -0.05295739322900772, 0.021519174799323082, 0.08176041394472122, -0.1051207035779953, 0.05613946169614792, 0.017850834876298904, -0.07016852498054504, -0.08248961716890335, 0.04319634661078453, 0.06492049247026443, 0.013086327351629734, 0.1001962423324585, 0.003120824694633484, -0.06414402276277542, -0.20130318403244019, 0.2612381875514984, 0.012638005428016186, 0.045250773429870605, -0.01187304686754942, -0.03646812587976456, -0.03982226550579071, -0.03531959652900696, 0.012754702940583229, 0.0404646061360836, -0.06551213562488556, -0.03862246125936508, 0.04744784161448479, -0.0020198263227939606, -0.14515340328216553, 0.06583645194768906, -0.0930713638663292, -0.005440875887870789, -0.03392653167247772, 0.02742621675133705, 0.0028041789773851633, -0.04485355317592621, 0.039392806589603424, -0.05403127893805504, 0.09946529567241669, -0.0025547717232257128, 0.13015030324459076, 0.003712305799126625, 0.11956889927387238, 0.03882770612835884, -0.01314450427889824, -0.04689846560359001, 0.04720086231827736, -0.15444447100162506, 0.1034003496170044, -0.060885217040777206, -0.03115658462047577, -0.03215719014406204, -0.05917251855134964, 0.059822626411914825, -0.08433065563440323, 0.12822741270065308, 0.017287643626332283, -0.044648703187704086, -0.04481266811490059, -0.013270741328597069, -0.09900541603565216, 0.09890374541282654, -0.015853099524974823, 0.05882459133863449, -0.11305084824562073, -0.03209536895155907, -0.05266188457608223, -0.03367999941110611, 0.1339903026819229, -0.11523996293544769, 0.06170090287923813, 0.0646703839302063, 0.016664274036884308, 0.053708627820014954, 0.11051730066537857, 0.06367982178926468, 0.1826857179403305, -0.007530486676841974, 0.018804170191287994, -0.04906543344259262, -0.41748276352882385, -0.00371607206761837, 0.018583983182907104, -0.06563997268676758, 0.02690833993256092, 0.011443834751844406, -0.033706240355968475, -0.01043228805065155, -0.009441714733839035, 0.06482556462287903, 0.06377661228179932, 0.03867638483643532, 0.05325803905725479, 0.04671777784824371, -0.005467672366648912, 0.0787094309926033, 0.02062930352985859, 0.04532020166516304, 0.020348623394966125, -0.01512939017266035, -0.01649048738181591, 0.05177199840545654, -0.04138128086924553, -0.016522476449608803, 0.03498975560069084, 0.05736442282795906, 0.057265572249889374, -0.018538955599069595, -0.011848771944642067, 0.015573794022202492, -0.15391550958156586, -0.031622834503650665, -0.020603938028216362, 0.011992734856903553, -0.0039711021818220615, 9.518704609945416e-05, -0.11430002748966217, -0.018594661727547646, 0.013050331734120846, 0.018956631422042847, 0.03893190622329712, 0.0851469412446022, -0.05095086991786957, 0.055587951093912125, -0.00590976607054472, -0.025031976401805878, -0.06554610282182693, -0.08556421846151352, -0.0734737291932106, -0.028660356998443604, -0.06667353957891464, 0.16737881302833557, -0.02730860374867916, -0.03298173472285271, -0.06717637181282043, -0.024344071745872498, 0.05162828788161278, -7.29610983398743e-05, -0.04983475059270859, 0.0902848169207573, 0.007330934051424265, -0.0031436982098966837, -0.1061265766620636, -0.0927228331565857, 0.05802106484770775, -0.05536317452788353, 0.033672768622636795, -0.031136147677898407, -0.025394799187779427, -0.015567854978144169, -0.009113595820963383, -0.010642588138580322, -0.025415560230612755, 0.033179059624671936, -0.06357161700725555, 0.0460851714015007, -0.034549325704574585, -0.05844393000006676, 0.03964940086007118, -0.047974761575460434, -0.08507373929023743, 0.12079550325870514, -0.0037555680610239506, 0.08071459084749222, -0.10247402638196945, -0.06322690844535828, 0.005264011677354574, -0.007434662897139788, 0.020712830126285553, 0.06071155518293381, 0.0743740126490593, 0.004913138225674629, 0.0080735357478261, -0.035914406180381775, -0.005621166434139013, -0.0010618463857099414, 0.04791876673698425, -0.0012739953817799687, -0.38935551047325134, 0.02363649569451809, -0.01694970391690731, -0.042885422706604004, 0.061111580580472946, 0.04983239248394966, 0.08632044494152069, -0.01214006170630455, -0.04863636568188667, -0.06459983438253403, -0.034765761345624924, 0.03386470302939415, 0.044399093836545944, 0.07001729309558868, -0.18079636991024017, 0.07537689059972763, -0.03678799793124199, 0.0716451108455658, 0.04264650121331215, 0.05192495509982109, -0.02753676101565361, 0.06000201776623726, 0.014207691885530949, 0.11018764227628708, -0.03808276727795601, 0.11956837028265, -0.2018287181854248, -0.10896720737218857, -0.06399089097976685, -0.11865256726741791, -0.04500942304730415, -0.06963573396205902, -0.1566368043422699, 0.09406694769859314, 0.05156540870666504, -0.05982103943824768, 0.031130608171224594, 0.041095949709415436, -0.0032013661693781614, -0.06977356970310211, 0.07940008491277695, -0.0299060121178627, 0.11178182810544968, 0.09070748835802078, -0.08902167528867722, -0.08739051222801208, 0.035735514014959335, -0.041579924523830414, -0.02963511273264885, 0.009833876974880695, 0.010125351138412952, 0.01723533682525158, -0.12505052983760834, -0.04997657611966133, -0.0555836483836174, -0.004376108292490244, 0.018610117956995964, -0.06474924832582474, -0.01813885010778904, -0.03006024844944477, 0.09577009081840515, 0.009168706834316254, -0.06167606636881828, -0.04413016140460968, -0.17230446636676788, 0.02506318688392639, -0.10179055482149124, -0.011804264038801193, 0.07467861473560333, 0.019092129543423653, -0.07626353949308395, -0.023815209046006203, 0.034385476261377335, 0.0031500139739364386, -0.043471790850162506, -0.03337906673550606, 0.009507033973932266, -0.04875717684626579, -0.009825238026678562, 0.02164548449218273, -0.0918693095445633, 0.04505844786763191, -0.07197229564189911, -0.07863593101501465, -0.021303195506334305, -0.1508866250514984, 0.0007736504194326699, 0.057078707963228226, 0.037128351628780365, -0.046047043055295944, -0.05201343446969986, -0.03929192200303078, 0.06671471148729324, -0.05376406013965607, 0.05295903608202934, -0.031457871198654175, 0.0535128116607666, 0.059518393129110336, -0.019028104841709137, 0.07746493816375732, 0.11052267998456955, 0.06707939505577087, 0.08857191354036331, 0.10364682227373123, -0.14255671203136444, 0.043043848127126694, -0.0012856586836278439, 0.021786291152238846, -0.07035747170448303, 0.07071077823638916, 0.11201762408018112, -0.0385231152176857, -0.0011969991028308868, 0.11132042109966278, -0.11305912584066391, -0.08962895721197128, -0.009189804084599018, 0.09420948475599289, -0.052583884447813034, -0.014195230789482594, 0.07780244946479797, 0.03064289130270481, -0.01657685451209545, 0.010963776148855686, 0.019255537539720535, 0.05297178402543068, 0.015329917892813683, -0.013180863112211227, -0.025557728484272957, 0.03638728708028793, -0.11277846992015839, 0.041273728013038635, 0.12721742689609528, 0.09262692183256149, 0.11030275374650955, -0.06333383917808533, 0.031146524474024773, 0.0009883305756375194, 0.07662645727396011, -0.12696495652198792, -0.022186515852808952, 0.05582455173134804, -0.04051370918750763, 0.10373151302337646, -0.02217807061970234, -0.11513052135705948, 0.08225332945585251, 0.0074173156172037125, 0.0507727675139904, 0.07585123181343079, 0.07323047518730164, 0.05788865685462952, -0.06062665581703186, 0.11890808492898941, 0.022056568413972855, -0.007949215359985828, -0.02628978155553341, -0.09109355509281158, -0.06399695575237274, 0.01217324286699295, -0.008358129300177097, 0.11219897121191025, 0.03898889943957329, -0.046179335564374924, -0.04602421820163727, 0.0032156717497855425, -0.01273112092167139, -0.09154269099235535, -0.06797028332948685, 0.06929247081279755, -0.007209575269371271, -0.046144094318151474, -0.027460960671305656, 0.035271283239126205, 0.06934314966201782, -0.07882998138666153, 0.08339254558086395, -0.04947084188461304, -0.007202622480690479, -0.0411367304623127, -0.07399459183216095, 9.363334538647905e-05, -0.08673959225416183, -0.5021867156028748, -0.016312817111611366, 0.01803295686841011, 0.10597871989011765, 0.10574688762426376, 0.09471719712018967, -0.03302378207445145, 0.07889260351657867, 0.059189572930336, 0.2139028161764145, 0.04706906899809837, 0.03215442970395088, -0.046187859028577805, -0.06900807470083237, -0.00037852360401302576, 0.0008605542243458331, -0.025981562212109566, -0.0906827449798584, -0.12796492874622345, 0.030339136719703674, 0.037547070533037186, 0.11677023023366928, 0.11950278282165527, -0.08538445085287094, 0.05512271821498871, 0.038957130163908005, 0.1117238998413086, -0.012633445672690868, -0.060935668647289276, -0.07549747079610825, 0.017754284664988518, 0.040993981063365936, -0.04480130225419998, 0.1261274665594101, 0.02066907472908497, -0.026800664141774178, 0.004522858187556267, -0.0608316995203495, -0.07654645293951035, -0.030219051986932755, -0.026487408205866814, -0.1256261169910431, -0.13667964935302734, 0.060274623334407806, -0.08967892080545425, -0.018086904659867287, 0.0002576809492893517, 0.06333780288696289, -0.0194521714001894, 0.009495662525296211, -0.01661534793674946, -0.017372773960232735, -0.003486307105049491, 4.671815872192383, -0.039095327258110046, 0.11225240677595139, -0.047173820436000824, 0.02814299799501896, -0.07073330879211426, 0.014992423355579376, 0.05552145466208458, 0.0537598617374897, -0.008876150473952293, 0.1286507248878479, 0.038516443222761154, 0.06407558917999268, 0.0019957604818046093, 0.03814801573753357, 0.11415239423513412, -0.052685417234897614, -0.06117284670472145, -0.05155307427048683, -0.00327511178329587, 0.5912579298019409, 0.036024611443281174, 0.06278888881206512, 0.009724751114845276, -0.07940302789211273, -0.02696000412106514, -0.008654835633933544, -0.15324144065380096, -0.016089148819446564, 0.0731097012758255, -0.04399644583463669, -0.014017611742019653, 0.08563744276762009, -0.10272650420665741, -0.029760189354419708, -0.06883294135332108, -0.007798959966748953, 0.002239252207800746, -0.029426099732518196, 0.05682075396180153, 0.019137265160679817, 0.002404451835900545, 0.07641907781362534, -0.012448415160179138, 0.01598222553730011, -0.016690945252776146, -0.2796369194984436, -0.08263945579528809, 0.04752575606107712, 0.08685693144798279, 0.010057264938950539, 0.053795844316482544, -0.0859079360961914, 0.07664597034454346, 0.3476455509662628, -1.308021068572998, 0.020089250057935715, -0.04372056946158409, -0.06578687578439713, -0.05512315407395363, -0.00898248516023159, -0.08324889093637466, 0.09249739348888397, 0.04955116659402847, 0.07254689186811447, 0.0014462380204349756, 0.022164061665534973, 0.09844348579645157, 0.126922607421875, -0.036803435534238815, -0.012579365633428097, -0.16390441358089447, -0.03352110832929611, -0.009788471274077892, 0.07615071535110474, 0.13446016609668732, -0.07823565602302551, 0.023841124027967453, -0.05085592716932297, 0.08628759533166885, 0.026997987180948257, -0.0051956563256680965, 0.012899248860776424, -0.04478216543793678, -0.03965534269809723, 0.004412228707224131, 0.1319974660873413, -0.08384626358747482, -0.05428393930196762, 0.05263112485408783, 0.04369571432471275, -0.05472290888428688, 0.033606380224227905, 0.020346730947494507, -0.026802431792020798, 0.053698815405368805, 0.021400852128863335, -0.007015394512563944, 0.05404455587267876, 0.02200702577829361, 0.023967484012246132, 0.00017072336049750447, -0.026796674355864525, -0.011882509104907513, -0.08125954866409302, 0.05761157348752022, 0.05118078738451004, 0.1452745795249939, 0.01850493997335434, 0.03007241152226925, 0.11477955430746078, -0.045571062713861465, -0.1305115818977356, 0.1691851168870926, 0.09027764946222305, 0.09069906920194626, -0.06165067479014397, 0.04179300367832184, 0.06135821342468262, -0.015197664499282837, 0.1805291622877121, -0.04870658367872238, 0.012474332004785538, 0.04030703380703926, -0.02144685573875904, -0.060246311128139496, -0.06220615282654762, -0.008391110226511955, -0.21844683587551117, 0.1272907704114914, -0.025153430178761482, -0.0691721960902214, 0.028005797415971756, -0.03313855826854706, -0.05250270664691925, 0.04409491643309593, -0.051928311586380005, -0.10889457911252975, 0.012346412055194378, -0.06581053882837296, 0.07161808013916016, 0.062168557196855545, 0.04648440703749657, 0.019335728138685226, -0.05027734115719795, 0.0025426822248846292, 0.0688900500535965, -0.059752143919467926, -0.04751289263367653, -0.10524851828813553, -0.06997355073690414, -0.04641041159629822, 0.029082298278808594, 0.02824346534907818, -0.06216505542397499, 0.00943441316485405, 0.04058072343468666, 0.09351414442062378, 0.11958622932434082, -0.027104735374450684, -0.07769037783145905, -0.054757680743932724, -0.007655779831111431, 0.02983143925666809, 0.019832974299788475, -0.037719085812568665, -0.05467921122908592, 0.07523160427808762, 0.007969798520207405, -0.034636713564395905, -0.023746350780129433, -0.14356982707977295, 0.007143070455640554, -0.12004102766513824, 0.010842595249414444, -0.08829037845134735, 0.0029500790406018496, 0.0019453078275546432, 0.07401421666145325, 0.09443299472332001, -0.07055871933698654, 0.02408565580844879, -0.07295481860637665, -0.14808978140354156, 0.15443556010723114, 0.05690813809633255, -0.007400126196444035, -0.06544694304466248, 0.0065520331263542175, 0.058696430176496506, 0.05603960156440735, -0.09795443713665009, -0.08922585099935532, 0.08445020020008087, -0.11156824231147766, -0.045350801199674606, -0.013501078821718693, -0.14082878828048706, -0.1059265285730362, -0.06876344978809357, 0.036574479192495346, -0.03293535113334656, -0.0852118656039238, -0.14087043702602386, -0.0008774275775067508, 0.04695716127753258, 0.05565459281206131, 0.055229924619197845, -0.04584284499287605, -0.06241414695978165, 0.018521159887313843, -0.05714530497789383, 0.040336400270462036, -0.09148489683866501, 0.038928549736738205, 0.05173949897289276, -0.03072836995124817, -0.048635564744472504, -0.07049097120761871, 0.07366949319839478, -0.026782680302858353, -0.039832696318626404, 0.054772865027189255, -0.04516865685582161, -0.14502382278442383, -0.07840660214424133, 0.022268932312726974, -0.0030079984571784735, 0.04177191108465195, -0.04316117241978645, 0.04792195186018944, 0.002130808774381876, -0.018344037234783173, -0.045311883091926575, -0.06332407891750336, 8.600160799687728e-05, -0.11384089291095734, -0.02596718817949295, 0.01656952127814293, -0.08511027693748474, 0.035595402121543884, -0.09918937087059021, 0.028070004656910896, -0.045163728296756744, 0.0978480875492096, 0.03859143704175949, -0.13706189393997192, -0.020497212186455727, -0.05286763235926628, 0.12118269503116608, -0.032252952456474304, -0.045075420290231705, -0.030160291120409966, -0.0601530522108078, 0.08903910964727402], [0.05150133743882179, 0.05711347237229347, -0.06932467967271805, -0.08973168581724167, 0.09929006546735764, 0.06381148844957352, -0.03483578562736511, -0.08105924725532532, -0.017569584771990776, -0.042519524693489075, -0.05245155841112137, 0.030647149309515953, 0.07228084653615952, 0.03911273926496506, -0.008093763142824173, 0.08047541975975037, 0.042095378041267395, 0.030939633026719093, 0.043254099786281586, -0.025679873302578926, -0.01902299001812935, 0.018616119399666786, -0.04756833240389824, 0.019128374755382538, -0.023571806028485298, -0.010030118748545647, -0.11849840730428696, 0.0509607270359993, -0.009893041104078293, 0.03993895649909973, -0.053889404982328415, 0.005823978688567877, -0.1755911111831665, 0.062253329902887344, 0.050288621336221695, -0.07661375403404236, 0.03596504032611847, 0.05658997222781181, -0.09078369289636612, -0.13534356653690338, 0.06230165809392929, 0.07465701550245285, 0.03533376008272171, 0.03889352083206177, 0.03583437576889992, -0.13675734400749207, 0.10910618305206299, 0.033425573259592056, 0.021891480311751366, -0.0688525140285492, 0.026051614433526993, 0.046063799411058426, -0.033612605184316635, -0.006697377189993858, 0.04790177196264267, -0.08917674422264099, -0.052314601838588715, -0.12356758117675781, -0.024445174261927605, -0.03885693475604057, -0.05656472593545914, 0.04212959483265877, 0.08012070506811142, -0.0175336841493845, -0.0023003320675343275, 0.010294616222381592, 0.025093110278248787, -0.0007500544306822121, 0.015092959627509117, -0.04998450726270676, 0.03318258002400398, -0.0402577668428421, 0.035319555550813675, 0.042303118854761124, 0.0559634268283844, -0.05211493372917175, -0.09688335657119751, -0.018350942060351372, 0.0596390925347805, 0.012451313436031342, -0.03530255705118179, 0.07612012326717377, 0.03934914991259575, -0.02582397125661373, -0.0011752699501812458, -0.10788014531135559, -0.003924491349607706, -0.11594872176647186, 0.12036415189504623, -0.0661955252289772, -0.039442937821149826, -0.0873139426112175, 0.03462517634034157, -0.07205665111541748, 0.08335470408201218, 0.08825166523456573, 0.30193978548049927, -0.02163451910018921, 0.09382028132677078, 0.044993385672569275, -0.012422326020896435, -0.02456582710146904, -0.04550432413816452, 0.06804651767015457, -0.05609748139977455, -0.1833306849002838, -0.042140740901231766, -0.04921456053853035, 0.07398068904876709, 0.12152703106403351, -0.005411946214735508, 0.03515150770545006, 0.030672576278448105, 0.07300318777561188, -0.038990795612335205, -0.03572838753461838, 0.04749919846653938, 0.08654451370239258, -0.05943385884165764, -0.06336662173271179, -0.007894165813922882, 0.06611538678407669, -0.08426166325807571, 0.019486285746097565, -0.002306319773197174, 0.03339681401848793, 0.028577156364917755, 0.10847833752632141, -0.05948004499077797, 0.009134430438280106, -0.0861537903547287, -0.002916578436270356, 0.03274576738476753, -0.006711116060614586, 0.04358008876442909, 0.008734560571610928, 0.010692172683775425, 0.0177629217505455, -0.037647929042577744, -0.019851120188832283, -0.06051435321569443, 0.086155466735363, -0.008548828773200512, 0.12156511843204498, 0.032164786010980606, 0.26812857389450073, -0.09626885503530502, 0.004710750188678503, -0.004462063312530518, -0.020641902461647987, -0.004715729039162397, -0.01660591922700405, 0.023161383345723152, -0.10817249119281769, -0.06556501984596252, -0.021156489849090576, -0.03532631695270538, 0.002008776878938079, -0.03743539750576019, 0.04724440723657608, -0.08593802154064178, 0.053441911935806274, 0.022635916247963905, -0.03509422391653061, -0.05657970905303955, -0.00218316656537354, -0.09708071500062943, 0.003354243002831936, 0.05157647654414177, -0.11091067641973495, -0.0007047684048302472, 0.05474220588803291, 0.07513924688100815, -0.02368464507162571, -0.03591093793511391, 0.06091604754328728, -0.12437573075294495, -0.20403456687927246, -0.016619402915239334, -0.028229927644133568, 0.02360188402235508, -0.08422381430864334, -0.014723108150064945, -0.09575174748897552, 0.06255313754081726, -0.017526036128401756, -0.09707630425691605, 0.01186415646225214, -0.021794945001602173, -0.03096168488264084, 0.04211008921265602, 0.01702859252691269, -0.04274165257811546, 0.003165669273585081, 0.15845495462417603, -0.0020000231452286243, 0.17856937646865845, 0.029021358117461205, -0.044094979763031006, 0.07853475958108902, -0.042762354016304016, -0.09052843600511551, -0.056020982563495636, -0.03529375419020653, -0.015382586047053337, 0.05061637610197067, -0.08817955106496811, 0.11163836717605591, 0.030077636241912842, -0.019306272268295288, -0.14034537971019745, 0.04013286158442497, -0.1392057090997696, -0.0412261039018631, 0.005113141145557165, -0.010936186648905277, 0.16031920909881592, 0.06457055360078812, 0.006948335096240044, -0.07701783627271652, 0.4279260039329529, -0.026812337338924408, -0.05003749206662178, 0.008251289837062359, -0.04044255614280701, 0.17481938004493713, 0.0691562071442604, 0.11453017592430115, -0.005045056808739901, 0.012498842552304268, 0.022153448313474655, -0.08081661909818649, -0.05319330096244812, -0.04334597289562225, -0.0019272424979135394, 0.0062749856151640415, -0.47965216636657715, 0.01409328542649746, -0.03915490582585335, -0.006943813059478998, 0.09682345390319824, 0.12468832731246948, -0.030898598954081535, 0.011669457890093327, 0.0686417669057846, 0.06596643477678299, -0.03376487269997597, -0.058838192373514175, 0.14108724892139435, -0.10819876194000244, 0.026846688240766525, -0.05757049471139908, 0.10575961321592331, 0.03472055867314339, 0.01895011030137539, -0.005486003123223782, -0.05948489159345627, 0.008300638757646084, 0.04740653932094574, 0.03795778006315231, -0.10500585287809372, -0.13283783197402954, 0.02425682172179222, 0.002207823796197772, 0.0038135992363095284, 0.05508827418088913, -0.06531382352113724, 0.08523615449666977, 0.0022837407886981964, -0.16869930922985077, -0.04845929145812988, 0.016826318576931953, 0.050757866352796555, 0.02247333712875843, 0.028915375471115112, 0.25494855642318726, -0.12461111694574356, -0.06481554359197617, 0.010119084268808365, 0.07473689317703247, 0.0011918949894607067, -0.054942771792411804, -0.12142866849899292, 0.010103200562298298, 0.01622328720986843, 0.19345161318778992, -0.07723936438560486, 0.024410590529441833, 0.07780664414167404, 0.12133289873600006, 0.12113490700721741, -0.23643802106380463, 0.026587557047605515, 0.007636788301169872, -0.015037350356578827, 0.05202425643801689, 0.11960960179567337, -0.013924024999141693, -0.06148269772529602, 0.027800170704722404, -0.02772206999361515, -0.08832371979951859, 0.047792159020900726, -0.04680013284087181, 0.02232683263719082, -0.023805275559425354, -0.07802610844373703, 0.08655168116092682, 0.07645320147275925, 0.07289858162403107, 0.01513675507158041, -0.04157762974500656, 0.09325746446847916, -0.006631396245211363, -0.053365010768175125, -0.04424154758453369, -0.018203839659690857, -0.028267260640859604, 0.08097051084041595, -0.05642471835017204, 0.014467663131654263, -0.01138185802847147, 0.05625249817967415, -0.07050523161888123, 0.0054313731379806995, -0.09536821395158768, 0.01102345623075962, -0.02504785545170307, 0.3967564105987549, 0.03513673320412636, 0.02780829556286335, 0.011029227636754513, 0.08240126073360443, -0.08327624201774597, -0.05301804468035698, 0.10805454850196838, 0.012083674781024456, -0.0502244271337986, 0.01580030284821987, -0.04553399235010147, 0.02772567979991436, 0.07911938428878784, 0.022891370579600334, 0.04965288192033768, -0.04548369348049164, -0.008557767607271671, -0.07421539723873138, 0.015303555876016617, 0.056611690670251846, 0.013243241235613823, -0.11873671412467957, -0.15932977199554443, -0.01871274970471859, -0.08386742323637009, -0.08868041634559631, -0.04336719214916229, 0.02178809978067875, 0.09539849311113358, -0.12201616168022156, 0.06209097057580948, 0.03328916057944298, -0.08214828372001648, -0.08110882341861725, 0.04511362314224243, 0.06681197881698608, 0.00790812075138092, 0.10116872191429138, 0.015836739912629128, -0.06876672804355621, -0.21037502586841583, 0.29242387413978577, 0.011482012458145618, 0.05569545179605484, -0.0018551198299974203, -0.040432244539260864, -0.04477998986840248, -0.03203466162085533, 0.022474760189652443, 0.03807944431900978, -0.06631182879209518, -0.048342350870370865, 0.03238759562373161, 0.015503281727433205, -0.1549319326877594, 0.053044725209474564, -0.0992637574672699, 0.009813637472689152, -0.03805191069841385, 0.02339443378150463, 0.007768204435706139, -0.059222668409347534, 0.03841136395931244, -0.060342539101839066, 0.10301729291677475, -0.02321638911962509, 0.13780663907527924, -0.015475433319807053, 0.1290016919374466, 0.03905371204018593, 7.6084746979177e-05, -0.046245027333498, 0.0560334250330925, -0.1480741947889328, 0.11153813451528549, -0.06374180316925049, -0.029211396351456642, -0.017957935109734535, -0.07031316310167313, 0.058050062507390976, -0.09169670194387436, 0.11581552028656006, 0.007889405824244022, -0.04465094581246376, -0.034373875707387924, -0.03239072486758232, -0.10861413180828094, 0.08648471534252167, -0.024262497201561928, 0.057782407850027084, -0.1063108891248703, -0.029465515166521072, -0.05447832867503166, -0.037155285477638245, 0.15210331976413727, -0.11314978450536728, 0.07027720659971237, 0.06545717269182205, 0.012950115837156773, 0.05403703823685646, 0.1193520575761795, 0.057342175394296646, 0.19283773005008698, -0.019107643514871597, 0.014242137782275677, -0.035702284425497055, -0.38423314690589905, -0.005014978349208832, 0.006537843961268663, -0.05224249139428139, 0.019391873851418495, 0.002610060153529048, -0.019776860252022743, -0.01247905008494854, -0.002830170327797532, 0.0770641565322876, 0.06660602986812592, 0.03071540780365467, 0.0539211630821228, 0.03273763507604599, -0.0003538919845595956, 0.08309794217348099, 0.015361584722995758, 0.038897402584552765, 0.01463918387889862, 0.0017170145874843001, -0.011027990840375423, 0.0824412927031517, -0.050318144261837006, -0.028982464224100113, 0.04885561019182205, 0.06677427142858505, 0.0579766109585762, -0.007417282089591026, -0.016295110806822777, 0.023416897282004356, -0.15502649545669556, -0.04704926535487175, -0.016177138313651085, 0.026943743228912354, 0.009873350150883198, 0.007943503558635712, -0.09207712858915329, -0.024436907842755318, 0.007449596654623747, 0.004070432391017675, 0.044311948120594025, 0.09890655428171158, -0.048052623867988586, 0.0733812004327774, -0.011830451898276806, -0.018817808479070663, -0.05989711731672287, -0.09161581844091415, -0.06500066816806793, -0.01897519826889038, -0.07373951375484467, 0.1552613079547882, -0.024052241817116737, -0.02934982441365719, -0.07778505235910416, -0.005954843480139971, 0.053283534944057465, -0.0007919416530057788, -0.049514561891555786, 0.07369987666606903, 0.005495395977050066, -0.005027607083320618, -0.12125442177057266, -0.0963251069188118, 0.07778942584991455, -0.0528474785387516, 0.028668588027358055, -0.02538638561964035, -0.03209998458623886, -0.021617690101265907, -0.007800945080816746, 0.005343462806195021, -0.02876489795744419, 0.037987422198057175, -0.061760883778333664, 0.044012971222400665, -0.03223056346178055, -0.07654614001512527, 0.028277136385440826, -0.040106285363435745, -0.08981925249099731, 0.12423137575387955, 1.9169340248481603e-06, 0.06967189162969589, -0.11038177460432053, -0.0537215918302536, 0.007526172325015068, 9.785533620743081e-05, 0.016805417835712433, 0.03674613684415817, 0.06889380514621735, 0.009724225848913193, 0.016177359968423843, -0.029642727226018906, 0.014736141078174114, -0.013716106303036213, 0.03618588671088219, 0.0016151097370311618, -0.3747430443763733, 0.041325412690639496, -0.00461812736466527, -0.054792728275060654, 0.03881935030221939, 0.045143723487854004, 0.0930098369717598, 0.0026186977047473192, -0.05876651033759117, -0.06166088953614235, -0.024532588198781013, 0.044508010149002075, 0.03669231757521629, 0.061365947127342224, -0.2270832657814026, 0.07075107097625732, -0.033666957169771194, 0.0833367183804512, 0.04928947240114212, 0.045677509158849716, -0.03209681063890457, 0.06567289680242538, 0.033273667097091675, 0.10156642645597458, -0.04149255156517029, 0.134261354804039, -0.18746574223041534, -0.1129179447889328, -0.06602151691913605, -0.11465136706829071, -0.04686329513788223, -0.06206416338682175, -0.16930927336215973, 0.10269223898649216, 0.06086604297161102, -0.0625302642583847, 0.020922038704156876, 0.031299740076065063, 0.0061646937392652035, -0.0793672651052475, 0.07099325954914093, -0.039226267486810684, 0.13330885767936707, 0.0984349250793457, -0.10898899286985397, -0.08991879224777222, 0.03057883307337761, -0.03840423375368118, -0.008922564797103405, 0.0087208217009902, 0.0009577148593962193, 0.025403397157788277, -0.11958468705415726, -0.06141253933310509, -0.05457475781440735, -0.009252484887838364, 0.014438342303037643, -0.04977956414222717, -0.026387741789221764, -0.03132627531886101, 0.08101208508014679, 0.009035085327923298, -0.057855550199747086, -0.03594455495476723, -0.17193257808685303, 0.01111904438585043, -0.10188955068588257, -0.017486725002527237, 0.06667196750640869, 0.024969488382339478, -0.06192754954099655, -0.014363500289618969, 0.030178269371390343, 0.0053794546984136105, -0.039466846734285355, -0.04243597388267517, 0.014287936501204967, -0.053709037601947784, -0.006167930085211992, 0.037655699998140335, -0.09675031155347824, 0.022525524720549583, -0.08180557191371918, -0.08422685414552689, -0.02474496327340603, -0.15658600628376007, 0.0026108184829354286, 0.06801419705152512, 0.020953183993697166, -0.04052882641553879, -0.05036001652479172, -0.04062739759683609, 0.07531096041202545, -0.053576648235321045, 0.06123155727982521, -0.03981811925768852, 0.05208946019411087, 0.06352927535772324, -0.016953447833657265, 0.06075287237763405, 0.11426768451929092, 0.08330822736024857, 0.10643752664327621, 0.09562787413597107, -0.1481526792049408, 0.04598260298371315, 0.005726622883230448, 0.02849849872291088, -0.07711921632289886, 0.07820083945989609, 0.12299871444702148, -0.04504524916410446, 0.00529049476608634, 0.10357062518596649, -0.08695647865533829, -0.08835503458976746, -0.0027666909154504538, 0.09896218776702881, -0.043991126120090485, -0.012463991530239582, 0.07320959866046906, 0.02677413634955883, -0.015569859184324741, 0.01685851439833641, 0.016112660989165306, 0.06649022549390793, 0.016488851979374886, 0.003549901070073247, -0.029655998572707176, 0.0489819273352623, -0.10430226475000381, 0.03181527554988861, 0.12716791033744812, 0.09047340601682663, 0.11896155029535294, -0.06597098708152771, 0.044496793299913406, 0.0049466099590063095, 0.08617575466632843, -0.13315215706825256, -0.02207005023956299, 0.06034691631793976, -0.043237727135419846, 0.11531578749418259, -0.01241033524274826, -0.12325181812047958, 0.0875917300581932, -0.01326580997556448, 0.043815676122903824, 0.08110549300909042, 0.05621539056301117, 0.07573863863945007, -0.05124209448695183, 0.13308319449424744, 0.018032874912023544, 0.0007081763469614089, -0.037526100873947144, -0.09342595934867859, -0.07802785933017731, -9.981417679227889e-05, 0.005487257614731789, 0.11266805231571198, 0.025611473247408867, -0.05360538884997368, -0.055223796516656876, 0.01225770078599453, -0.027613092213869095, -0.09356551617383957, -0.05981288477778435, 0.05829944834113121, 0.005823495797812939, -0.05565208941698074, -0.02428617514669895, 0.05565406009554863, 0.06599393486976624, -0.09847214072942734, 0.08813518285751343, -0.07094772160053253, -0.0034493796993047, -0.0322696827352047, -0.06035255268216133, -0.01079869270324707, -0.096914142370224, -0.47563397884368896, -0.028737124055624008, 0.0238631758838892, 0.1219886764883995, 0.10657670348882675, 0.07978973537683487, -0.0562441386282444, 0.08538530766963959, 0.05962243676185608, 0.1993647664785385, 0.05247154459357262, 0.0361095629632473, -0.0356130376458168, -0.07008813321590424, -0.010038435459136963, 0.003100506030023098, -0.0219678096473217, -0.10494056344032288, -0.14762793481349945, 0.028811290860176086, 0.03041989728808403, 0.11477649211883545, 0.11449165642261505, -0.08400657773017883, 0.05786026641726494, 0.06206541880965233, 0.11278323829174042, -0.01058632880449295, -0.058611415326595306, -0.07295624911785126, 0.02469264529645443, 0.03262786194682121, -0.04007882997393608, 0.11760322004556656, 0.024358415976166725, -0.01600300520658493, -0.0034420888405293226, -0.06451882421970367, -0.07816922664642334, -0.021135587245225906, -0.02407013438642025, -0.12255644798278809, -0.12413244694471359, 0.0669318363070488, -0.08377834409475327, -0.019551467150449753, -0.00336816580966115, 0.07548527419567108, -0.014167528599500656, 0.020502332597970963, -0.018293220549821854, -0.015562699176371098, -0.009812525473535061, 4.680023193359375, -0.03554720804095268, 0.10431408137083054, -0.04775584116578102, 0.03205038234591484, -0.051722995936870575, 0.012160738930106163, 0.06462254375219345, 0.0919678583741188, 0.001768089598044753, 0.13198749721050262, 0.036008868366479874, 0.06587009131908417, 0.0007616837974637747, 0.03190484270453453, 0.12349752336740494, -0.049119070172309875, -0.057275015860795975, -0.055642496794462204, -0.01173396222293377, 0.622572660446167, 0.03722042590379715, 0.06525712460279465, 0.013096717186272144, -0.08145509660243988, -0.03718041256070137, -0.022576838731765747, -0.16773350536823273, -0.02130614034831524, 0.07671413570642471, -0.042290762066841125, -0.01800047978758812, 0.0670357495546341, -0.10007677227258682, -0.028056621551513672, -0.07620788365602493, -0.012377630919218063, 0.0008150722132995725, -0.0271636750549078, 0.060912713408470154, 0.0105222687125206, 0.008376998826861382, 0.08028426766395569, -0.004978889133781195, 0.02951646037399769, -0.02147918939590454, -0.27262839674949646, -0.08343702554702759, 0.03560682758688927, 0.08736997842788696, -0.0028776926919817924, 0.07433871179819107, -0.08660700172185898, 0.07372260093688965, 0.3312440812587738, -1.31428861618042, 0.014368067495524883, -0.05058293417096138, -0.07895006984472275, -0.07174959778785706, 0.008008189499378204, -0.09765640646219254, 0.08667933195829391, 0.05647018179297447, 0.06541936844587326, -0.007206237409263849, 0.02383454144001007, 0.09929119050502777, 0.13436062633991241, -0.030167998746037483, -0.037147603929042816, -0.1681647002696991, -0.03944207727909088, -0.012323152273893356, 0.07929579168558121, 0.14304423332214355, -0.08884652704000473, 0.006366793066263199, -0.06874486058950424, 0.08844709396362305, 0.005085725337266922, -0.0037556681782007217, 0.006538901478052139, -0.046435099095106125, -0.040117088705301285, -0.000843455083668232, 0.1335742324590683, -0.08810881525278091, -0.048039939254522324, 0.0352105051279068, 0.03464486077427864, -0.058873146772384644, 0.03362221270799637, 0.015644043684005737, -0.03503930941224098, 0.06024037301540375, 0.026186825707554817, -0.01463165134191513, 0.04772907868027687, 0.02371801808476448, 0.05665329843759537, 0.0013082484947517514, -0.029555903747677803, -0.015906166285276413, -0.09420323371887207, 0.05729317292571068, 0.03340533748269081, 0.1481991857290268, 0.01980646699666977, 0.020155102014541626, 0.11790382862091064, -0.03662845492362976, -0.12951751053333282, 0.18435488641262054, 0.08682815730571747, 0.10604479163885117, -0.04381568729877472, 0.04714863747358322, 0.06877975910902023, -0.009861218743026257, 0.17751076817512512, -0.0350380502641201, 0.01121962908655405, 0.04357537627220154, -0.01664876937866211, -0.06756304204463959, -0.0659610852599144, -0.00318872625939548, -0.21452991664409637, 0.12984037399291992, -0.011569594033062458, -0.0698782429099083, 0.05021034553647041, -0.036685675382614136, -0.06566014140844345, 0.04825037717819214, -0.04238094016909599, -0.1074770987033844, 0.023590214550495148, -0.0642823874950409, 0.07699542492628098, 0.06489484012126923, 0.041145358234643936, 0.013292537070810795, -0.046478837728500366, 0.00797602254897356, 0.07026678323745728, -0.06469378620386124, -0.0468977615237236, -0.10427975654602051, -0.0697716623544693, -0.03697020187973976, 0.0230646263808012, 0.038068413734436035, -0.05740465596318245, 0.006277712527662516, 0.029351748526096344, 0.08563916385173798, 0.10396827757358551, -0.03189043700695038, -0.08061859011650085, -0.05224321410059929, -0.013751617632806301, 0.030121950432658195, 0.024601103737950325, -0.0441163033246994, -0.04609747231006622, 0.06956572085618973, 0.020543290302157402, -0.026822218671441078, -0.029043521732091904, -0.15683938562870026, 0.00117215933278203, -0.12136603146791458, 0.018743237480521202, -0.08614364266395569, -0.011329459957778454, -0.009687988087534904, 0.0637790635228157, 0.07838339358568192, -0.0852605402469635, 0.01615394651889801, -0.06884074211120605, -0.15239639580249786, 0.123346246778965, 0.04120870307087898, -0.028632765635848045, -0.0633300170302391, 0.021619917824864388, 0.060793712735176086, 0.05771121010184288, -0.09161274135112762, -0.08335480093955994, 0.09244854003190994, -0.11028465628623962, -0.04410775750875473, 0.011222044937312603, -0.13976119458675385, -0.10908679664134979, -0.06277593225240707, 0.042042411863803864, -0.04751579463481903, -0.08246012032032013, -0.13325613737106323, -0.010364857502281666, 0.043819982558488846, 0.055513106286525726, 0.06525596231222153, -0.040386494249105453, -0.06071661040186882, 0.018420575186610222, -0.05675439164042473, 0.04216725751757622, -0.07877016812562943, 0.048147402703762054, 0.06475517153739929, -0.050814438611269, -0.05639360845088959, -0.06880157440900803, 0.06731540709733963, -0.019901851192116737, -0.03399789333343506, 0.06265736371278763, -0.04268268123269081, -0.14291392266750336, -0.0784231424331665, 0.026976311579346657, -0.006746816914528608, 0.04021192714571953, -0.04955540969967842, 0.04490383714437485, -0.00026865737163461745, 0.0005985524039715528, -0.03971915692090988, -0.06473970413208008, 0.005502104759216309, -0.1186370775103569, -0.02574208378791809, 0.014790869317948818, -0.0955391600728035, 0.04876492917537689, -0.10606101900339127, 0.03369598090648651, -0.03203939273953438, 0.10762252658605576, 0.02722478285431862, -0.13415440917015076, -0.017763463780283928, -0.053035639226436615, 0.11722667515277863, -0.0479155033826828, -0.0506245382130146, -0.03937530890107155, -0.06630822271108627, 0.09767507761716843]])]\n",
            " [list([[0.06268447637557983, 0.08731133490800858, 0.002797800814732909, -0.14690469205379486, 0.12389134615659714, 0.003054181346669793, -0.08546712249517441, 0.010367199778556824, -0.01162602286785841, -0.08833572268486023, -0.09230513125658035, 0.03751422464847565, 0.012004914693534374, 0.17000286281108856, 0.04284309223294258, 0.039717547595500946, -0.07485613971948624, 0.0680222436785698, 0.028764940798282623, -0.08752395957708359, 0.09297262877225876, 0.051619499921798706, 0.00946872215718031, -0.1405007690191269, -0.03260605409741402, -0.04685499519109726, -0.025601930916309357, 0.0038628769107162952, 0.0630987212061882, -0.04397403076291084, -0.045043859630823135, 0.07943109422922134, -0.1720655858516693, 0.03820451349020004, 0.0717051699757576, -0.15276175737380981, 0.0943133682012558, -0.004011876881122589, -0.10643398761749268, -0.09561710804700851, 0.05756443366408348, 0.1296900361776352, -0.013396267779171467, 0.05038653686642647, -0.00265675550326705, -0.2146195024251938, 0.162993386387825, 0.021829189732670784, 0.0798790231347084, -0.02237662300467491, 0.006743467412889004, 0.05654139071702957, -0.007242004387080669, 0.038631800562143326, 0.015755366533994675, -0.056011829525232315, 0.026712093502283096, -0.13018396496772766, -0.08142673224210739, 0.03867420554161072, -0.09894392639398575, -0.11862974613904953, 0.10205790400505066, -0.0036843279376626015, -0.025751430541276932, 0.045209672302007675, 0.07908021658658981, 0.02889939770102501, 0.11545974016189575, -0.1344880610704422, 0.028831876814365387, -0.04301053658127785, -0.03251957520842552, -0.006275039166212082, 0.13797785341739655, -0.027562512084841728, -0.1313837170600891, -0.09504745900630951, 0.1790001094341278, 0.061635129153728485, 0.010598476976156235, 0.059312812983989716, -0.018259743228554726, -0.033716849982738495, 0.006884031929075718, -0.22135935723781586, -0.04113529622554779, -0.1269199252128601, 0.17696432769298553, -0.1064765453338623, 0.04439293220639229, -0.035837311297655106, 0.047782301902770996, -0.054719313979148865, -0.014327330514788628, 0.1095891073346138, 0.16132354736328125, -0.09663183987140656, 0.11005817353725433, 0.10241048783063889, -0.0366642102599144, -0.09611887484788895, -0.060148242861032486, 0.1273830235004425, 0.035713497549295425, -0.19647124409675598, -0.1359192579984665, -0.0792500302195549, 0.01125419232994318, 0.06851823627948761, 0.016922226175665855, -0.02254732884466648, 0.006195226684212685, 0.07928494364023209, -0.028211327269673347, -0.09257509559392929, 0.11254855245351791, 0.1430724561214447, -0.15569406747817993, -0.10291780531406403, 0.034360747784376144, 0.08809972554445267, -0.09763891994953156, 0.06793905794620514, -0.11444978415966034, 0.03327871859073639, 0.04417874664068222, 0.03445432707667351, -0.05480489507317543, -0.05645658075809479, -0.16465908288955688, 0.029810210689902306, 0.14013950526714325, 0.0620412677526474, 0.058482591062784195, -0.0778639167547226, -0.051526620984077454, 0.0241524837911129, -0.06094110757112503, -0.04570994898676872, -0.0768074244260788, 0.028960376977920532, 0.08343219757080078, -0.39783981442451477, 0.05519365519285202, 0.29628986120224, -0.21036827564239502, 0.12465167045593262, -0.012919443659484386, -0.02183893322944641, 0.06003914028406143, 0.008791499771177769, 0.060442883521318436, -0.0791238322854042, -0.07444502413272858, -0.0024896992836147547, 0.08582981675863266, 0.09530481696128845, -0.07915257662534714, 0.1419069617986679, -0.06709539145231247, 0.07902093976736069, 0.08418755233287811, 0.03976843133568764, -0.02245514467358589, 0.08294230699539185, -0.10505584627389908, -0.018050173297524452, 0.08208015561103821, -0.15495571494102478, -0.06703180074691772, -0.05687868595123291, -0.1502353996038437, -0.08785396814346313, -0.052796509116888046, 0.09141302108764648, -0.06525438278913498, -0.15532034635543823, -0.0691237598657608, 0.001131787896156311, 0.02946573682129383, -0.20283907651901245, -0.03983408957719803, -0.18668244779109955, 0.023626886308193207, -0.05027323216199875, -0.12641356885433197, 0.04054078832268715, -0.08888819068670273, 0.010184675455093384, 0.053456611931324005, -0.00034384330501779914, 0.020209534093737602, 0.015800071880221367, 0.0698767602443695, 0.003919241949915886, 0.25354301929473877, 0.07957887649536133, -0.06806604564189911, -0.09373827278614044, -0.1648423820734024, -0.14417599141597748, -0.026506910100579262, -0.01959391124546528, 0.07781825959682465, -0.007506116293370724, -0.014590300619602203, 0.12710054218769073, -0.14102765917778015, 0.08156163990497589, -0.10583958774805069, 0.017162280157208443, -0.07116188108921051, -0.03441736102104187, -0.10228977352380753, 0.02966843917965889, 0.00041183774010278285, 0.061206281185150146, 0.06819237768650055, -0.03153444826602936, 0.5710626244544983, 0.028456639498472214, 0.00037686762516386807, -0.0002737999311648309, -0.08721957355737686, 0.3051449954509735, 0.1062307357788086, 0.11009428650140762, 0.013203291222453117, 0.03592807799577713, 0.10368999093770981, -0.09271403402090073, 0.04682256281375885, -0.11702809482812881, 0.000450496154371649, -0.009799188934266567, -0.32969313859939575, 0.011827955022454262, 0.03157299384474754, -0.0556073822081089, 0.016200963407754898, 0.12172818928956985, 0.07060836255550385, 0.107300765812397, 0.20380954444408417, -0.002746752928942442, -0.17339199781417847, -0.003965017851442099, 0.10666400194168091, -0.04612961411476135, -0.039943285286426544, -0.12243681401014328, 0.11870185285806656, -0.012977591715753078, -0.1534820795059204, 0.0003609294362831861, -0.03910207003355026, -0.026930049061775208, -0.00912301242351532, 0.027522291988134384, -0.22745709121227264, -0.1549842655658722, -0.1360778510570526, 0.0018960715970024467, -0.02051614783704281, 0.05600690469145775, -0.17947642505168915, 0.029562529176473618, -0.04373406991362572, -0.22541390359401703, -0.08895493298768997, -0.006351889576762915, 0.017959577962756157, -0.013238889165222645, -0.0029845901299268007, 0.30101248621940613, -0.03133847191929817, 0.03506768122315407, 0.048335544764995575, 0.0649109035730362, -0.06040734797716141, -0.11906897276639938, -0.02305286005139351, -0.047354742884635925, -0.05616078898310661, 0.17794767022132874, 0.004444287624210119, -0.15053682029247284, 0.08391544222831726, 0.1890818476676941, 0.020006775856018066, 0.4184345602989197, 0.1258045732975006, -0.054422855377197266, -0.13486920297145844, 0.01244647242128849, 0.07003843784332275, -0.11476878076791763, -0.20667298138141632, -0.11748914420604706, -0.0073945350013673306, -0.008799995295703411, 0.07190491259098053, 0.040797628462314606, 0.03166687861084938, 0.0068290866911411285, -0.056426022201776505, -0.008113889954984188, 0.003966879565268755, 0.07688852399587631, 0.07756190747022629, -0.017261596396565437, 0.04096474498510361, -0.047865722328424454, -0.022991396486759186, -0.06852243095636368, -0.026598891243338585, -0.07110289484262466, 0.034972406923770905, -0.05345194786787033, 0.014087199233472347, -0.0073694027960300446, 0.08288603276014328, -0.035585757344961166, -0.022537274286150932, -0.04597523808479309, -0.015586950816214085, 0.07145941257476807, 0.22675609588623047, 0.13150343298912048, -0.16075819730758667, 0.07381381839513779, 0.05909791588783264, -0.06706952303647995, 0.0027663528453558683, 0.21584714949131012, 0.19419531524181366, -0.07508554309606552, -0.03995603322982788, 0.03255371004343033, 0.08815198391675949, 0.17822080850601196, -0.05781787633895874, 0.256167471408844, -0.02738729491829872, 0.02724570780992508, -0.11088626831769943, 0.051651064306497574, 0.09212758392095566, -0.044372543692588806, -0.1385359764099121, -0.21227984130382538, 0.028644269332289696, -0.016595754772424698, -0.05706634745001793, 0.062062740325927734, -0.06917644292116165, 0.08665771782398224, -0.15246841311454773, 0.11151134967803955, 0.09988995641469955, -0.1457747370004654, -0.051327016204595566, 0.1365276575088501, -0.024809425696730614, 0.04281074181199074, 0.11385241895914078, 0.09111671894788742, -0.09540940821170807, -0.22760766744613647, 0.33099278807640076, 0.00628562830388546, 0.00923460815101862, 0.16139505803585052, -0.1607002317905426, -0.005907837301492691, -0.08554451167583466, 0.03914443030953407, -0.02118740789592266, -0.06262345612049103, -0.0534045547246933, 0.0643153190612793, -0.004941048566251993, -0.14146924018859863, -0.05572852864861488, -0.012193001806735992, -0.05829504877328873, 0.007231399416923523, 0.09814039617776871, -0.021647891029715538, 0.05239072069525719, -0.02869657799601555, -0.032562997192144394, 0.040862131863832474, 0.05133495107293129, 0.10091296583414078, -0.11207588762044907, 0.2196314036846161, 0.12763477861881256, 0.03112870454788208, 0.06831476837396622, 0.08788781613111496, -0.16072319447994232, 0.08339833468198776, -0.05406549572944641, 0.011098496615886688, 0.12138721346855164, -0.1429806798696518, 0.12423756718635559, -0.019029784947633743, -0.010868595913052559, 0.04249131307005882, -0.07991008460521698, 0.07676173746585846, -0.027795298025012016, -0.11315454542636871, -0.020762277767062187, 0.02828034572303295, 0.04014485329389572, 0.03534155711531639, 0.006004986818879843, -0.1149643063545227, -0.06841203570365906, 0.08340940624475479, -0.1159483790397644, -0.10532143712043762, 0.04120335355401039, 0.05251298099756241, 0.056716371327638626, 0.07012049853801727, -0.09829559922218323, 0.11086419224739075, 0.08025459200143814, 0.007341977674514055, -0.007666049059480429, -0.3979377746582031, -0.13073232769966125, -0.15458692610263824, -0.02892855741083622, 0.1461363583803177, -0.056998901069164276, 0.004655519966036081, -0.060562409460544586, 0.10317502170801163, -0.026230867952108383, 0.012132011353969574, -0.016175488010048866, 0.03742760792374611, 0.04558032006025314, -0.06524769961833954, 0.13834957778453827, 0.022552592679858208, -0.08079580217599869, -0.08237757533788681, 0.08318094164133072, -0.019102245569229126, 0.2361704409122467, 0.006044407840818167, -0.11571811884641647, 0.01353773009032011, 0.10163700580596924, 0.001079412060789764, 0.08047521859407425, -0.0005466254660859704, 0.10237457603216171, -0.007553478237241507, 0.004813621286302805, -0.13151322305202484, 0.045530106872320175, 0.14490769803524017, 0.1292104721069336, -0.06871084123849869, -0.0768951028585434, 0.03237327188253403, 0.07670260965824127, 0.058417197316884995, 0.10806155204772949, 0.001947055454365909, 0.05645686015486717, -0.056587982922792435, -0.08101309835910797, 0.005439277272671461, 0.031916502863168716, -0.057111818343400955, -0.04866781830787659, -0.1466013342142105, 0.06257166713476181, 0.05331643670797348, 0.021812405437231064, -0.04275425523519516, -0.014871649444103241, 0.04065544158220291, -0.005353532265871763, -0.030406417325139046, 0.21390141546726227, -0.010830776765942574, 0.15953893959522247, -0.14807356894016266, 0.027630189433693886, 0.2105848342180252, -0.060944437980651855, 0.03906284272670746, 0.008971004746854305, 0.04843014106154442, 0.03379878029227257, 0.15283209085464478, -0.015578233636915684, -0.07274667173624039, 0.03603941574692726, -0.0009388852631673217, 0.03359444811940193, 0.05063815042376518, -0.09715602546930313, -0.0611262172460556, -0.0649474561214447, -0.1518988311290741, 0.10528090596199036, -0.0359325148165226, 0.20346926152706146, -0.010388001799583435, 0.040451738983392715, 0.029742950573563576, 0.09151585400104523, 0.04518788307905197, 0.042523667216300964, 0.10482241958379745, -0.07774721086025238, 0.012733655981719494, -0.07839527726173401, 0.11770343780517578, -0.0368000827729702, 0.14152930676937103, -0.015077326446771622, -0.5015442371368408, 0.09519565850496292, -0.09245481342077255, -0.09371548146009445, 0.013577104546129704, 0.1379772126674652, 0.018137704581022263, -0.03643040359020233, -0.02800530567765236, -0.007500606123358011, 0.07801278680562973, 0.1665285974740982, 0.17043375968933105, 0.02396818995475769, -0.3015718460083008, -0.031087983399629593, 0.02689647674560547, 0.12982957065105438, 0.15501604974269867, -0.05503697320818901, -0.043511711061000824, 0.17059725522994995, 0.048228949308395386, 0.01745113544166088, -0.0005967049510218203, 0.02025303989648819, -0.17710506916046143, -0.17302334308624268, -0.07027319073677063, 0.027670258656144142, 0.020389456301927567, 0.06786909699440002, -0.2712614834308624, 0.16197574138641357, -0.06736353039741516, -0.1145666241645813, -0.012553563341498375, 0.016872646287083626, 0.12542036175727844, -0.08199074119329453, -0.0053227548487484455, 0.04339062049984932, 0.1850418746471405, -0.029381560161709785, -0.021719716489315033, -0.23398275673389435, -0.007905603386461735, -0.05390307679772377, -0.030166709795594215, 0.10246090590953827, -0.05224386602640152, 0.13874594867229462, -0.06860563904047012, 0.017728494480252266, -0.10182028263807297, -0.04711524769663811, -0.04065292328596115, 0.015565917827188969, -0.0013352083042263985, -0.03355678543448448, 0.008205467835068703, 0.03498029708862305, -0.04042160138487816, -0.008469062857329845, -0.1247658059000969, -0.11560191959142685, -0.03242288902401924, 0.01391709502786398, 0.10662084072828293, 0.035158950835466385, -0.040613532066345215, -0.0020292787812650204, -0.04536843299865723, 0.09893512725830078, 0.1119137778878212, 0.008962715044617653, -0.07099795341491699, -0.12640856206417084, -0.08556601405143738, 0.0654909759759903, -0.11890089511871338, -0.0070305741392076015, -0.11724579334259033, -0.08170831948518753, 0.048885416239500046, -0.11015591770410538, -0.008770630694925785, 0.1276654601097107, 0.026113362982869148, 0.026195397600531578, 0.008067098446190357, 0.08004511147737503, -0.05108167603611946, -0.023288166150450706, 0.04937124252319336, 0.009445985779166222, 0.10723274946212769, 0.06418684870004654, -0.06659401953220367, 0.16339746117591858, 0.15638059377670288, 0.05069606378674507, 0.17474015057086945, 0.1482461839914322, -0.08035516738891602, 0.1523832529783249, -0.11601174622774124, 0.14275093376636505, -0.1366109848022461, 0.07837877422571182, 0.14030806720256805, -0.04826948791742325, -0.03559393063187599, -0.144477978348732, 0.16048017144203186, -0.1317850798368454, -0.05926317721605301, 0.10257947444915771, -0.027351506054401398, -0.04354914277791977, -0.014165266416966915, -0.007515890058130026, -0.0780748799443245, -0.03809452801942825, -0.027159210294485092, 0.080715112388134, 0.06844598799943924, 0.00042889261385425925, -0.031526461243629456, 0.027526456862688065, -0.07536929845809937, -0.06321511417627335, 0.009922975674271584, 0.157760888338089, 0.19596092402935028, -0.03681289777159691, 0.20467112958431244, -0.033265385776758194, 0.13141383230686188, -0.0018769175512716174, -0.03929780423641205, -0.05913882702589035, -0.06746469438076019, 0.009577836841344833, -0.022182147949934006, -0.06094906106591225, 0.0570494644343853, -0.1174965649843216, -0.008290299214422703, 0.12192036211490631, -0.029881896451115608, 0.28489869832992554, 0.04127354174852371, 0.2376893013715744, 0.06802769005298615, -0.154045969247818, -0.14790602028369904, 0.007448083255439997, -0.17717847228050232, 0.001275095739401877, 0.10813596844673157, -0.014712654985487461, 0.046678654849529266, -0.0458807647228241, -0.057715605944395065, -0.12846101820468903, -0.03972497209906578, 0.003002082696184516, 0.028221335262060165, -0.06667271256446838, 0.05033084750175476, -0.1441136747598648, -0.02183370478451252, 0.045636214315891266, 0.07086010277271271, 0.003578239120543003, -0.04616641253232956, -0.15736961364746094, -0.17148126661777496, -0.0627698078751564, -0.028973037376999855, -0.01316023152321577, -0.0638449490070343, -0.3465478718280792, 0.004458452109247446, -0.06628264486789703, 0.13190338015556335, 0.10164207220077515, -0.013782626949250698, -0.012380965985357761, 0.1696639358997345, 0.1336452066898346, 0.014647540636360645, 0.03656624257564545, 0.07490763068199158, 0.11775758117437363, -0.04880793020129204, -0.15436361730098724, -0.03789732977747917, 0.046381980180740356, -0.03989364951848984, -0.29091084003448486, -0.02822232060134411, 0.007691589184105396, 0.06521941721439362, 0.12125145643949509, -0.05662204325199127, 0.1073775663971901, 0.09130599349737167, 0.044736310839653015, 0.08742048591375351, -0.15907269716262817, -0.09269057959318161, -0.0867418572306633, 0.12517450749874115, -0.01532824244350195, 0.05300529673695564, 0.034088749438524246, 0.017988014966249466, -0.03650303930044174, -0.14356274902820587, -0.0158829428255558, 0.09494808316230774, -0.1803564876317978, -0.08696120232343674, -0.10928884893655777, 0.08572068810462952, -0.0051377518102526665, -0.028495794162154198, 0.008626380003988743, -0.036156196147203445, -0.00409092428162694, 0.0926479697227478, -0.011775285936892033, 0.02251121960580349, -0.09679438918828964, 5.099400043487549, 0.0319533571600914, 0.06208468973636627, 0.011466563679277897, 0.08760309219360352, -0.1862994283437729, 0.017871979624032974, 0.06993558257818222, 0.18871480226516724, 0.0007606789004057646, 0.11317897588014603, -0.053255222737789154, 0.06756431609392166, 0.004889685194939375, -0.025831034407019615, 0.41196149587631226, -0.02032255195081234, -0.02834640070796013, 0.06434877216815948, 0.12718920409679413, 0.7239376306533813, 0.17008061707019806, 0.03432368487119675, 0.05467996373772621, -0.06823353469371796, 0.03640810772776604, -0.023283017799258232, -0.08379820734262466, 0.099298857152462, 0.1566525250673294, 0.03237359970808029, -0.013577375560998917, 0.022296568378806114, -0.29035383462905884, -0.09148130565881729, 0.02243385650217533, -0.09737417101860046, -0.06207690015435219, -0.07516991347074509, 0.01653495617210865, 0.10167419910430908, -0.0868513211607933, 0.033383119851350784, -0.02837301976978779, 0.052960190922021866, -0.015265801921486855, -0.3307780623435974, -0.0654601901769638, -0.025601306930184364, -0.04270174726843834, -0.08635891228914261, 0.13325056433677673, 0.009175236336886883, 0.11681161820888519, 0.09219872206449509, -1.7885302305221558, 0.11205584555864334, -0.00441407598555088, -0.026927640661597252, -0.14126157760620117, 0.10804412513971329, -0.08031099289655685, -0.0315408855676651, 0.11325565725564957, 0.01142974104732275, -0.007097241934388876, -0.031151840463280678, 0.031849104911088943, 0.10429021716117859, -0.058238737285137177, -0.023081747815012932, -0.07475508749485016, -0.036562491208314896, -0.04538106173276901, -0.0046196891926229, 0.09869816154241562, -0.11050070822238922, -0.10450412333011627, -0.030267132446169853, 0.04771076515316963, -0.013596553355455399, 0.029087362810969353, -0.03355221822857857, 0.04440281540155411, -0.16901615262031555, -0.03396984562277794, 0.06484785676002502, -0.1668711006641388, -0.03961312398314476, 0.05623697116971016, 0.021630287170410156, -0.08762822300195694, 0.07995844632387161, -0.014682079665362835, -0.10484941303730011, 0.05918530374765396, 0.01982591673731804, 0.014571635983884335, 0.002071790862828493, 0.05327973514795303, 0.2654472589492798, -0.026183387264609337, 0.035291653126478195, -0.05385327711701393, -0.07134217768907547, 0.04307832568883896, 0.004602271597832441, 0.14709942042827606, -0.07200030237436295, -0.030009081587195396, 0.19070827960968018, -0.05129837989807129, -0.13080738484859467, 0.162200465798378, 0.1978238970041275, 0.14944031834602356, -0.15345093607902527, 0.10524192452430725, 0.211488738656044, 0.1027824804186821, 0.14322088658809662, 0.05181924253702164, 0.043716832995414734, 0.021867895498871803, -0.0026041960809379816, -0.01170625165104866, 0.007278334815055132, -0.038281913846731186, -0.23212453722953796, 0.13158783316612244, 0.086905337870121, -0.16248197853565216, 0.027685170993208885, -0.046859342604875565, -0.25335776805877686, 0.07263126224279404, -0.06363601982593536, -0.10536517202854156, 0.07363865524530411, -0.11786727607250214, 0.10775348544120789, -0.015619459562003613, 0.08226373791694641, -0.009661630727350712, -0.0746498703956604, -0.041254233568906784, 0.07583630084991455, -0.0918923169374466, -0.05502082034945488, -0.004950781352818012, 0.0014698023442178965, -0.07226938009262085, -0.04753878340125084, 0.0020897267386317253, -0.0660233125090599, -0.028014764189720154, -0.03328794240951538, 0.10016587376594543, 0.08324947953224182, 0.04889511689543724, -0.20852479338645935, 0.004664954729378223, 0.02509593591094017, -0.04977209493517876, 0.05110954865813255, -0.0009359573596157134, 0.009502682834863663, -0.05796724557876587, -0.047610849142074585, 0.0492023266851902, -0.051902610808610916, -0.17402124404907227, 0.07961113750934601, -0.06700216233730316, 0.0010682445717975497, 0.03776122257113457, -0.05812864750623703, -0.011478520929813385, -0.053197067230939865, -0.009947255253791809, -0.11311841011047363, -0.16926230490207672, -0.10157845914363861, -0.06237155571579933, 0.15807923674583435, 0.004117607604712248, -0.08475565910339355, -0.07030144333839417, 0.0743158608675003, 0.006785175763070583, 0.0924782082438469, -0.0921323373913765, -0.19722014665603638, 0.1233195886015892, -0.09367693215608597, -0.07444827258586884, -0.039071351289749146, -0.04607827961444855, -0.04002384468913078, -0.1129320040345192, 0.07645729929208755, -0.0034795154351741076, -0.15706583857536316, 0.07795688509941101, -0.008509566076099873, 0.06622709333896637, -0.012796866707503796, 0.11272335797548294, -0.03275900334119797, 0.02714039757847786, -0.03634628653526306, -0.12435810267925262, 0.08385809510946274, -0.03814004361629486, -0.06558834761381149, 0.08667417615652084, 0.03436243161559105, -0.11748196184635162, 0.005239604972302914, 0.01232936978340149, -0.12874667346477509, 0.01345834881067276, 0.010702665895223618, 0.06786340475082397, -0.006157143972814083, 0.0058812340721488, 0.04592793434858322, -0.016468239948153496, 0.061873909085989, -0.06894266605377197, -0.01204775646328926, 0.06354745477437973, -0.02163361757993698, -0.10368070751428604, -0.12344425916671753, -0.06936223059892654, -0.05939529091119766, -0.0038612037897109985, 0.011990726925432682, -0.04526512324810028, 0.011666253209114075, -0.03771631792187691, 0.09054852277040482, 0.010232917964458466, 0.06392555683851242, -0.13579121232032776, 0.018556570634245872, -0.08109045028686523, -0.1184658333659172, 0.08441931754350662, -0.1602495014667511, -0.1288071721792221, -0.03485441207885742, -0.03717336803674698, 0.0174831822514534], [0.08805479109287262, 0.10885046422481537, 0.062129903584718704, -0.17412275075912476, 0.2357034683227539, -0.023743800818920135, -0.09199126064777374, -0.006328818388283253, -0.04591796547174454, -0.15878595411777496, -0.06894088536500931, 0.07512682676315308, 0.0368206650018692, 0.14988502860069275, 0.019909564405679703, 0.05146919935941696, -0.10318952798843384, 0.10807260870933533, 0.015145045705139637, -0.05469675734639168, 0.11164222657680511, -0.041254185140132904, -0.023757603019475937, -0.1316736489534378, -0.12742185592651367, -0.06471547484397888, -0.023624904453754425, 0.04464424028992653, 0.057789091020822525, 0.0037878956645727158, -0.12104146927595139, 0.09187023341655731, -0.21100077033042908, -0.0026679954025894403, 0.011822933331131935, -0.1533849835395813, 0.03500841185450554, -0.05365605652332306, -0.04588788002729416, -0.06563673913478851, 0.01356507558375597, 0.03683201223611832, 0.05662917345762253, 0.013591327704489231, -0.0020274498965591192, -0.17261622846126556, 0.2083987295627594, 0.03534623980522156, 0.11361952871084213, -0.056640416383743286, -0.004700881894677877, 0.06661992520093918, -0.07912806421518326, 0.16610565781593323, -0.011982818134129047, -0.11660963296890259, 0.0321640819311142, -0.14701314270496368, -0.13558582961559296, -0.03580843657255173, -0.1382831186056137, -0.05426040291786194, 0.10673574358224869, 0.017259148880839348, -0.009006477892398834, 0.03790317475795746, 0.09507519006729126, -0.04799451678991318, 0.08133310079574585, -0.1365036517381668, -0.030459895730018616, -0.010035433806478977, -0.03430338576436043, -0.019483527168631554, 0.1667073667049408, -0.05851268395781517, -0.09655880928039551, -0.06067577749490738, 0.12890835106372833, 0.08536069840192795, -0.029475532472133636, 0.034262970089912415, 0.0028009202796965837, 0.01623276062309742, -0.0054549179039895535, -0.2616358995437622, 0.04313910752534866, -0.061655379831790924, 0.10081269592046738, -0.11664228141307831, 0.039193592965602875, -0.05092548578977585, -0.0384361557662487, -0.04523469880223274, -0.11667231470346451, 0.06995420902967453, 0.2616582214832306, -0.052885446697473526, 0.09511023759841919, 0.13469547033309937, 0.07955634593963623, -0.10596828907728195, -0.12467293441295624, 0.12205449491739273, 0.11899310350418091, -0.22950008511543274, -0.04073496535420418, -0.07591929286718369, -0.024749109521508217, 0.10691066086292267, 0.07734251767396927, -0.021557657048106194, 0.028823185712099075, 0.1064010038971901, -0.011570185422897339, -0.1563897579908371, 0.11778367310762405, 0.13356925547122955, -0.16691352427005768, -0.18953126668930054, 0.009238844737410545, 0.0740351676940918, -0.037645794451236725, 0.028414977714419365, -0.04681349918246269, 0.17862482368946075, 0.089731365442276, -0.08954045176506042, -0.01992390863597393, -0.05248867720365524, -0.15827754139900208, 0.056813571602106094, 0.07957110553979874, 0.06388046592473984, 0.05325200408697128, -0.11563246697187424, 0.011961073614656925, 0.01434550154954195, -0.07707270979881287, 0.04616240784525871, -0.17180746793746948, 0.037173639982938766, 0.08229329437017441, -0.42949390411376953, 0.07786392420530319, 0.3303690552711487, -0.1495651751756668, 0.008137430064380169, -0.05001033470034599, -0.046617940068244934, 0.015308096073567867, -0.023237882182002068, 0.027571246027946472, -0.04642781242728233, -0.006148465443402529, -0.011449829675257206, 0.013999447226524353, 0.09355374425649643, -0.06759420782327652, 0.06801660358905792, -0.07421797513961792, 0.07606690376996994, 0.05805698037147522, 0.01916278339922428, -0.07715290039777756, -0.010244963690638542, -0.05992477387189865, 0.011779967695474625, 0.1417519599199295, -0.16108585894107819, -0.10974305868148804, -0.051060620695352554, -0.20685827732086182, 0.03710786625742912, -0.010920334607362747, 0.09070520848035812, -0.06858956068754196, -0.16553370654582977, -0.0015263488749042153, -0.02122841589152813, 0.10335948318243027, -0.1727449595928192, -0.002967471955344081, -0.28348004817962646, 0.15553651750087738, -0.09150673449039459, -0.09459865093231201, 0.030931580811738968, -0.08078290522098541, -0.011313596740365028, 0.07107289880514145, -0.06230615824460983, 0.06087333336472511, -0.008237956091761589, 0.051231879740953445, -0.020592311397194862, 0.26230233907699585, 0.07304039597511292, -0.06391633301973343, -0.06249336898326874, -0.07642026990652084, -0.13478615880012512, -0.044195178896188736, -0.024574019014835358, 0.048553839325904846, 0.04041557386517525, -0.09960073977708817, 0.12661954760551453, -0.04223800450563431, 0.04042394831776619, -0.08386020362377167, 0.03156296908855438, -0.048601943999528885, -0.05808546021580696, -0.06407566368579865, -0.015778884291648865, -0.03123302571475506, 0.09870059043169022, 0.013329540379345417, -0.05597328394651413, 0.6406146287918091, -0.0017042983090505004, 0.023801015689969063, -0.0014025286072865129, -0.15732915699481964, 0.32331112027168274, 0.13224723935127258, 0.18423552811145782, -0.05422962084412575, -0.03869108110666275, 0.07515809684991837, -0.05778331309556961, 0.03717471659183502, -0.05340501293540001, 0.012205862440168858, 0.05467243865132332, -0.1740131676197052, 0.09216015040874481, 0.01028094720095396, -0.10477202385663986, -0.0070070382207632065, 0.0954647958278656, -0.03160783275961876, 0.08893527835607529, 0.13315384089946747, 0.024024643003940582, -0.1467677354812622, -0.06915274262428284, 0.1756715178489685, -0.1099829450249672, -0.012400470674037933, -0.1341407150030136, 0.036395639181137085, 0.07598721981048584, -0.17984578013420105, 0.08841266483068466, -0.040823206305503845, 0.042340606451034546, -0.05008846893906593, -0.009567980654537678, -0.16473233699798584, -0.12462376803159714, -0.17939364910125732, 0.029291097074747086, -0.1177581176161766, 0.06593287736177444, -0.18787099421024323, 0.04506460204720497, -0.0007140322122722864, -0.16587162017822266, -0.06076551973819733, -0.020771335810422897, -0.07687705010175705, -0.06667699664831161, -0.02455621398985386, 0.15509074926376343, -0.08460182696580887, -0.03443225473165512, 0.05960643291473389, 0.06279809772968292, -0.08808669447898865, -0.08132489025592804, -0.019208285957574844, -0.03227347135543823, -0.003523831954225898, 0.2051345407962799, -0.04917890205979347, -0.13803857564926147, 0.034394554793834686, 0.19171865284442902, 0.11031106114387512, 0.3686749041080475, 0.016080694273114204, -0.005333538167178631, -0.17820097506046295, -0.010287591256201267, 0.2080724537372589, -0.07884624600410461, -0.13530215620994568, -0.0461970716714859, 0.018437854945659637, -0.005581400357186794, 0.026084695011377335, -0.03934350237250328, -0.06462088227272034, -0.039109837263822556, -0.08299010992050171, -0.05703796073794365, 0.03334343433380127, 0.03669305145740509, 0.0820494145154953, -0.08336584270000458, 0.06956148147583008, 0.016518479213118553, -0.0022044042125344276, -0.14551809430122375, 0.022114019840955734, -0.14509466290473938, -0.032835282385349274, 0.02197151631116867, 0.05012243241071701, 0.004933710675686598, 0.12550748884677887, -0.021073324605822563, -0.05384547635912895, -0.04942454770207405, 0.06293733417987823, 0.06489447504281998, 0.12664830684661865, 0.13306273519992828, -0.0877988263964653, 0.1303335726261139, 0.06286723166704178, -0.08252397179603577, -0.028568344190716743, 0.1472347378730774, 0.1928258240222931, -0.04597047343850136, -0.03684577718377113, 0.016477014869451523, 0.136751189827919, 0.1941739022731781, -0.06222554296255112, 0.18109792470932007, -0.09191282093524933, 0.0304837878793478, -0.08196181058883667, 0.002990761771798134, 0.1338104009628296, 0.0012354940408840775, -0.09552670270204544, -0.13048593699932098, 0.07063595950603485, -0.11323798447847366, -0.07553301006555557, -0.017518915235996246, -0.027504034340381622, 0.12962555885314941, -0.13866055011749268, 0.06844766438007355, 0.022109612822532654, -0.12010664492845535, -0.09784089773893356, 0.06652118265628815, -0.052861832082271576, 0.07986444979906082, 0.06889890879392624, 0.12777653336524963, -0.10362152010202408, -0.21627821028232574, 0.2085905820131302, -0.04771687090396881, 0.08550907671451569, 0.10108546912670135, -0.14399752020835876, 0.008802874013781548, -0.09618742018938065, 0.11823328584432602, 0.013560278341174126, -0.08877748250961304, -0.07285553961992264, 0.006399767007678747, -0.10942088812589645, -0.07305935025215149, -0.05397651717066765, -0.03164822235703468, -0.08110744506120682, 0.03708617761731148, 0.07494159787893295, -0.043649811297655106, 0.09696269780397415, -0.05557963252067566, -0.056010887026786804, 0.017105961218476295, 0.05057884752750397, 0.07131005823612213, -0.058228347450494766, 0.059400126338005066, 0.11736010760068893, 0.0656212791800499, -0.03515752777457237, 0.09655983000993729, -0.13198241591453552, -0.012911049649119377, -0.17276039719581604, 0.01918860524892807, 0.110166996717453, -0.22753092646598816, 0.07916456460952759, 0.014097868464887142, 0.04236086085438728, 0.04303731769323349, -0.09927695989608765, 0.09047271311283112, -0.02893170155584812, -0.14002783596515656, -0.06627940386533737, 0.14768899977207184, 0.07105229794979095, 0.05409027636051178, -0.01865767128765583, -0.1005513072013855, -0.010044812224805355, 0.0778646320104599, -0.18531547486782074, 0.03729186952114105, 0.015005472116172314, 0.06774132698774338, 0.030014226213097572, 0.010910386219620705, -0.16770006716251373, 0.17387035489082336, -0.03280685469508171, 0.010201642289757729, -0.05444010719656944, -0.3628081679344177, -0.1071089580655098, -0.10947193205356598, -0.02982209250330925, 0.0622289814054966, -0.03252299129962921, -0.06953394412994385, -0.09642912447452545, 0.031667981296777725, -0.003086502430960536, 0.031453244388103485, 0.03468399494886398, 0.011710171587765217, 0.06076532602310181, -0.07431436330080032, 0.09135864675045013, 0.02327275648713112, -0.08420670032501221, -0.015314855612814426, -0.03241109475493431, -0.0008384056854993105, 0.17882901430130005, 0.04104851558804512, -0.13887254893779755, 0.11846254020929337, 0.16056965291500092, 0.025755515322089195, 0.08472098410129547, 0.025805728510022163, 0.10069112479686737, 0.03574428707361221, 0.015399718657135963, -0.09296699613332748, 0.03279029577970505, 0.14612923562526703, 0.12709002196788788, -0.1221906766295433, -0.01591448113322258, -0.002096177777275443, 0.1499577909708023, 0.031654126942157745, 0.05907637998461723, -0.02668006904423237, 0.0340910330414772, -0.0550558865070343, -0.022296905517578125, -0.04994213208556175, -0.015460735186934471, -0.006012734025716782, 0.009389213286340237, -0.0851406678557396, 0.038933202624320984, 0.0050509474240243435, -0.008443128317594528, -0.06509391218423843, -0.045587893575429916, 0.017592236399650574, 0.04143865033984184, 0.03112468123435974, 0.10455893725156784, -0.026229001581668854, 0.14726604521274567, -0.20148080587387085, 0.06259796768426895, 0.17018936574459076, -0.07221832871437073, 0.006351938936859369, 0.001314119203016162, -0.008062445558607578, 0.1038818433880806, 0.1670575886964798, 0.054896626621484756, -0.036626286804676056, 0.031181756407022476, 0.0252725500613451, -0.01360395923256874, 0.03798454999923706, -0.08494458347558975, -0.1084001213312149, -0.010903147980570793, -0.1891869157552719, 0.13014213740825653, 0.0628666877746582, 0.19832256436347961, -0.00904408935457468, 0.08432597666978836, 0.009763711132109165, 0.03878725320100784, 0.003554558614268899, 0.0220998153090477, 0.025122737511992455, 0.04054398089647293, -0.05811581388115883, -0.03281465917825699, 0.13675439357757568, 0.025853032246232033, 0.08061020821332932, 0.030049679800868034, -0.3715064525604248, 0.01637759990990162, -0.08211865276098251, -0.06138535216450691, 0.07494332641363144, 0.25091004371643066, 0.04553888738155365, 0.03930622711777687, 0.06512122601270676, -0.08110380172729492, 0.08991323411464691, 0.15668286383152008, 0.041389863938093185, -0.010282467119395733, -0.3191150724887848, -0.04041888192296028, 0.018360259011387825, 0.13794000446796417, 0.19888006150722504, 0.0011332635767757893, -0.03035902790725231, 0.14830884337425232, 0.150922030210495, 0.11033309996128082, -0.1024218499660492, 0.02377966046333313, -0.21462740004062653, -0.15999223291873932, -0.06205608323216438, 0.07640935480594635, -0.0072229718789458275, -0.023352324962615967, -0.24940133094787598, 0.11433672904968262, 0.010961201973259449, -0.08591944724321365, 0.012704938650131226, 0.028125546872615814, 0.13057589530944824, -0.17636460065841675, -0.06863349676132202, -0.02713301032781601, 0.14406515657901764, -0.0033121088054031134, 0.010481441393494606, -0.20326460897922516, -0.05672083795070648, -0.13377222418785095, 0.011168800294399261, 0.09020493179559708, -0.11697650700807571, 0.14044572412967682, -0.12645964324474335, -0.01793181337416172, -0.1516387164592743, -0.033399924635887146, -0.0571918860077858, 0.04902266710996628, 0.01696483977138996, -0.09817413240671158, 0.004103363025933504, 0.0008945396402850747, -0.14613837003707886, 0.060820139944553375, -0.13887712359428406, -0.07671388238668442, -0.08043134957551956, -0.04606480896472931, 0.16147945821285248, 0.0261261984705925, -0.052306968718767166, -0.043932486325502396, -0.04689858853816986, 0.09504500776529312, 0.011142265982925892, -0.00954719353467226, -0.09362402558326721, -0.06173507496714592, -0.10451332479715347, 0.0210852213203907, -0.17896367609500885, 0.010088258422911167, -0.10610735416412354, -0.06562764197587967, 0.07236983627080917, -0.12312062084674835, 0.006951082032173872, 0.15666823089122772, -0.0006778262904845178, 0.008263299241662025, 0.007865595631301403, 0.030938973650336266, 0.008498352952301502, -0.0077439406886696815, 0.06595577299594879, 0.05110122263431549, 0.14286905527114868, 0.16153541207313538, -0.028038235381245613, 0.15001457929611206, 0.2412767857313156, 0.10545419901609421, 0.15528711676597595, 0.0749177411198616, -0.10900798439979553, 0.05910121649503708, -0.11448129266500473, 0.07621460407972336, -0.07300926744937897, 0.04968573525547981, 0.1752273440361023, 0.0006864683236926794, -0.06296174228191376, -0.16889475286006927, 0.1980956494808197, -0.05616224184632301, -0.05610878765583038, 0.1085054948925972, -0.012352846562862396, -0.14066733419895172, 0.07455099374055862, -0.07175701856613159, 0.026059778407216072, 0.033883944153785706, -0.07197575271129608, 0.16208340227603912, 0.08136122673749924, 0.030232630670070648, -0.061750832945108414, 0.014824439771473408, -0.019726978614926338, 0.01836535520851612, 0.0010866939555853605, 0.07392928749322891, 0.07863953709602356, 0.022692952305078506, 0.15107567608356476, -0.024467874318361282, 0.060935843735933304, 0.018130699172616005, -0.030144724994897842, -0.08555497974157333, -0.09843692183494568, -0.05076223239302635, 0.009875667281448841, -0.03588934987783432, 0.1641242951154709, -0.10545803606510162, 0.049569714814424515, 0.10388800501823425, 0.051689859479665756, 0.16185517609119415, 0.011694949120283127, 0.21180041134357452, 0.1160503700375557, -0.21296368539333344, -0.13554492592811584, 0.05532722920179367, -0.06791626662015915, 0.04749178886413574, 0.006735402159392834, 0.11671182513237, -0.01969575695693493, -0.09708020836114883, -0.057104479521512985, -0.16060411930084229, -0.048118676990270615, -0.024362947791814804, -0.014292517676949501, -0.10870134085416794, 0.02651599980890751, -0.12597468495368958, -0.07635241746902466, 0.0832473561167717, 0.0706082209944725, 0.023982049897313118, 0.0063884928822517395, -0.11367860436439514, -0.2103959172964096, 0.054247017949819565, 0.09218320995569229, -0.04214075580239296, -0.10399480909109116, -0.4316018223762512, 0.02840784192085266, -0.02634570188820362, 0.13529232144355774, 0.03298415243625641, 0.029720349237322807, -0.07137415558099747, 0.07250562310218811, 0.08600527048110962, 0.029553929343819618, 0.048882484436035156, 0.03209156170487404, 0.025444271042943, -0.08413912355899811, -0.01802229695022106, -0.09886365383863449, 0.024357108399271965, -0.03582741692662239, -0.22635489702224731, 0.01516652386635542, -0.05230963975191116, 0.051924049854278564, 0.11075051873922348, -0.06408987194299698, 0.10551382601261139, 0.04308544099330902, 0.021829456090927124, -0.025151696056127548, -0.11320898681879044, -0.02830766886472702, -0.11872760951519012, 0.1536867767572403, 0.011334098875522614, 0.05900520831346512, 0.049199409782886505, 0.047936175018548965, 0.01988612860441208, -0.08281722664833069, -0.0380316786468029, 0.08771359920501709, -0.164984792470932, -0.09456667304039001, -0.1173301562666893, 0.14706990122795105, -0.004227220080792904, -0.05007908493280411, -0.014219922013580799, -0.07037060707807541, 0.01853335276246071, 0.1700586974620819, -0.03802545368671417, -0.06091693416237831, -0.08744098991155624, 4.676895618438721, -0.013851802796125412, -0.024162854999303818, -0.036166708916425705, 0.16002193093299866, -0.12328072637319565, -0.04661354050040245, 0.05519457533955574, 0.2771815359592438, -0.062298715114593506, 0.09938351809978485, 0.022575264796614647, 0.05279598385095596, -0.0227926317602396, -0.05692358687520027, 0.3883301615715027, -0.08419835567474365, -0.013790823519229889, 0.06692121922969818, 0.09004678577184677, 0.721302330493927, 0.16566301882266998, 0.0005915543879382312, 0.14735186100006104, -0.08896280825138092, 0.011773128062486649, -0.024118319153785706, -0.11753112822771072, 0.1635006219148636, 0.12241226434707642, 0.036334678530693054, 0.034435953944921494, 0.05027822405099869, -0.16571283340454102, -0.0018606387311592698, -0.0531553216278553, -0.13089612126350403, 0.03551831841468811, -0.1365998536348343, 0.05623902752995491, 0.04394921660423279, -0.012060515582561493, 0.020029909908771515, -0.04434778541326523, 0.03548680245876312, -0.11330355703830719, -0.23426955938339233, -0.04242236167192459, -0.07264437526464462, 0.09947400540113449, -0.010117843747138977, 0.2419838160276413, 0.024242278188467026, 0.09988514333963394, 0.2055387943983078, -1.6451716423034668, 0.07840246707201004, 0.022961461916565895, -0.05217347294092178, -0.17521166801452637, 0.044950246810913086, -0.16867540776729584, 0.021961545571684837, 0.11083146184682846, 0.062180522829294205, -0.014350309036672115, -0.016986917704343796, 0.08237456530332565, 0.11481010168790817, -0.04433106631040573, -0.1142084077000618, -0.066770039498806, -0.08258746564388275, -0.07603361457586288, -0.028612423688173294, 0.12054288387298584, -0.007886268198490143, -0.12406591325998306, 0.001732305740006268, 0.12198805809020996, -0.11897748708724976, 0.03943963721394539, 0.019329698756337166, 0.05572022497653961, -0.17422886192798615, -0.023164711892604828, 0.0853218138217926, -0.0926724448800087, -0.004648792091757059, 0.08003818243741989, 0.03418097272515297, -0.05813320726156235, 0.06045856699347496, 0.012654728256165981, -0.06867536902427673, 0.06294813007116318, 0.07994310557842255, 0.016055069863796234, -0.06042574718594551, 0.06541109830141068, 0.3488253355026245, -0.060732100158929825, -0.07216264307498932, -0.012489155866205692, -0.002799226902425289, 0.008116461336612701, -0.017760295420885086, 0.1334848701953888, 0.054546650499105453, -0.11003445088863373, 0.1953328549861908, 0.056345392018556595, -0.14158876240253448, 0.1044643297791481, 0.17601723968982697, 0.07568368315696716, -0.15488989651203156, 0.07893276959657669, 0.26033249497413635, 0.10720626264810562, 0.24610202014446259, 0.03924787417054176, 0.0865144208073616, 0.06284623593091965, 0.06495988368988037, -0.035372886806726456, 0.10189598798751831, -0.013747471384704113, -0.1995602399110794, 0.24249061942100525, 0.005699771456420422, -0.13476960361003876, 0.004341755528002977, 0.01612154021859169, -0.25471383333206177, 0.011145021766424179, -0.049632467329502106, -0.06590209156274796, 0.03535959869623184, -0.0829101949930191, 0.08726060390472412, 0.06276979297399521, 0.0779075101017952, 0.003666484262794256, -0.07484059780836105, -0.03000064752995968, 0.0901126116514206, -0.010379277169704437, -0.07927826792001724, -0.02997451275587082, -0.03474734351038933, 0.012611893936991692, -0.01980370469391346, -0.0015862976433709264, 0.020332397893071175, -0.028216421604156494, -0.048166047781705856, 0.07944010198116302, 0.061667829751968384, 0.06566412001848221, -0.2624528408050537, -0.08976596593856812, 0.00692623620852828, 0.06175658479332924, -0.09336602687835693, 0.019208811223506927, 0.004866376984864473, -0.12464223057031631, 0.04226718842983246, 0.013651798479259014, 0.0003009462670888752, -0.23443102836608887, -0.053748175501823425, -0.15578532218933105, 0.04211290180683136, 0.020750856027007103, 0.010043879970908165, 0.04048392176628113, -0.0412120521068573, -0.025505544617772102, -0.1546171009540558, -0.13087432086467743, -0.16450536251068115, -0.04875056818127632, 0.19245187938213348, -0.06278052181005478, -0.15261031687259674, -0.04855386167764664, 0.005616685841232538, -0.05956515669822693, 0.1649264693260193, -0.036067984998226166, -0.07461758702993393, 0.10697615146636963, -0.07622817903757095, -0.05814744532108307, 0.013996073976159096, -0.0033330433070659637, -0.033585067838430405, -0.011262086220085621, 0.08831432461738586, -0.018802829086780548, -0.12631826102733612, 0.13487741351127625, 0.028098948299884796, 0.10980456322431564, 0.03154272213578224, 0.12422198057174683, 0.025535929948091507, 0.0977892279624939, 0.057922590523958206, -0.11921863257884979, 0.06969177722930908, -0.0581420473754406, -0.03752640262246132, 0.12204067409038544, -0.06475423276424408, -0.13718156516551971, -0.10565443336963654, 0.0671340748667717, -0.06579386442899704, -0.050030458718538284, 0.009415593929588795, 0.06496602296829224, -0.0533364862203598, 0.01959824375808239, -0.020152464509010315, -0.011969372630119324, 0.06520244479179382, -0.04277227446436882, 0.013666951097548008, 0.07187660783529282, 0.04530739411711693, -0.11826029419898987, -0.04998667538166046, -0.05019199103116989, -0.025324109941720963, 0.01175062358379364, -0.017943982034921646, -0.049707695841789246, 0.06839178502559662, 0.046650391072034836, 0.09592576324939728, 0.06696493178606033, -0.005562121048569679, -0.08456070721149445, -0.03541376814246178, -0.1119677722454071, -0.12122488021850586, 0.11739000678062439, -0.07761449366807938, -0.06940311938524246, 0.014493926428258419, -0.033270515501499176, -0.03620479255914688], [-0.033326443284749985, 0.0344218835234642, 0.08099585026502609, -0.13120798766613007, 0.09397920966148376, 0.06088394299149513, 0.0036159437149763107, -0.09215669333934784, -0.013687808997929096, -0.03721034899353981, -0.032370422035455704, -0.0042957160621881485, 0.02461838722229004, 0.044571828097105026, 0.005034198053181171, -0.03238257020711899, -0.01884596422314644, -0.018286675214767456, 0.0420106016099453, -0.09175316244363785, -0.009831658564507961, 0.05150866135954857, -0.035881537944078445, -0.08088608831167221, -0.03796710819005966, -0.007883136160671711, 0.03143987059593201, 0.014537381008267403, 0.05562744289636612, 0.025112753733992577, -0.1283421665430069, 0.06143436208367348, -0.09217488020658493, 0.0933157280087471, 0.06327841430902481, -0.12306627631187439, 0.06194590404629707, 0.017076022922992706, -0.13197925686836243, -0.17152605950832367, -0.06417503952980042, 0.10274334996938705, -0.02679811418056488, 0.061842579394578934, 0.01334069762378931, -0.07644979655742645, 0.059786051511764526, 0.003073986154049635, 0.0581902340054512, -0.014575551263988018, -0.10939126461744308, 0.027423443272709846, 0.06000998243689537, 0.0034223159309476614, 0.02654326893389225, -0.0646212100982666, -0.04151996225118637, -0.22093528509140015, -0.14741431176662445, -0.00454928632825613, 0.003963104449212551, -0.051313672214746475, 0.06806899607181549, -0.06584471464157104, -0.02251514419913292, -0.008668404072523117, 0.0850457102060318, 0.012544689700007439, -0.024653246626257896, -0.15653084218502045, 0.0160774365067482, 0.021353332325816154, 0.06577929854393005, 0.0009020494762808084, 0.13451102375984192, -0.013485336676239967, -0.013294448144733906, 0.043348971754312515, 0.011847786605358124, 0.07577429711818695, -0.045290183275938034, 0.07074477523565292, 0.042322687804698944, -0.006108395289629698, -0.03430318087339401, -0.04763989523053169, -0.034094277769327164, -0.02915048599243164, -0.012419445440173149, 0.020714787766337395, 0.12354929745197296, -0.07861049473285675, -0.02503560297191143, -0.03756345808506012, -0.008815223351120949, 0.08574617654085159, 0.30685514211654663, -0.043285075575113297, 0.12007925659418106, 0.04517800360918045, -0.03668398782610893, -0.06508769094944, -0.08799207955598831, 0.023971525952219963, -0.03544275090098381, -0.13008105754852295, -0.06647318601608276, -0.07334156334400177, 0.07992273569107056, 0.05218794196844101, -0.007400918751955032, -0.06384986639022827, 0.06566542387008667, 0.0674944743514061, 0.052532244473695755, -0.030668942257761955, 0.07366728782653809, 0.09355917572975159, -0.09054676443338394, 0.006965772248804569, 0.02465849369764328, 0.06283598393201828, -0.08873730897903442, 0.10620004683732986, 0.07770214229822159, 0.0063043804839253426, -0.01866813562810421, -0.022825954481959343, 0.004031086806207895, 0.07497765123844147, -0.11199379712343216, 0.1335810273885727, 0.06265714764595032, -0.08458568155765533, 0.015621354803442955, 0.021253783255815506, 0.017624687403440475, 0.043171100318431854, -0.09497511386871338, 0.04865943640470505, -0.02827356569468975, 0.0031455906573683023, -0.006211255211383104, -0.27140316367149353, 0.021709643304347992, 0.5592509508132935, -0.09251485764980316, -0.04870888590812683, -0.033537253737449646, 0.09174012392759323, -0.014928659424185753, 0.017475517466664314, -0.02481963112950325, -0.03770427778363228, 0.021550074219703674, -0.04895363375544548, -0.042035140097141266, 0.015542776323854923, 0.07541898638010025, 0.05885764956474304, -0.028586052358150482, 0.06525278091430664, 0.08882831782102585, 0.0006730178720317781, -0.0067905765026807785, -0.04994077607989311, -0.07566747069358826, -0.03578055277466774, 0.10732671618461609, -0.11480753123760223, -0.12876135110855103, -0.08585312962532043, -0.11958610266447067, -0.016052113845944405, 0.022905312478542328, 0.028044771403074265, -0.003857389325276017, -0.1367838829755783, 0.022889817133545876, 0.04535850137472153, -0.0325186587870121, -0.09463049471378326, -0.016812408342957497, -0.09752596914768219, 0.14750342071056366, -0.037426289170980453, -0.10323960334062576, -0.028933217748999596, -0.004358482081443071, -0.08502793312072754, -0.022384293377399445, -0.12879076600074768, -0.11625560373067856, -0.006924213841557503, 0.0538388155400753, -0.07835596799850464, -0.012205205857753754, -0.01648733951151371, -0.03674114868044853, -0.08800254017114639, -0.04028867557644844, -0.02585863135755062, -0.0011348568368703127, -0.0006591402925550938, 0.013689831830561161, -0.06646619737148285, 0.004622712731361389, 0.09259986877441406, -0.052149154245853424, 0.02206309512257576, -0.16831527650356293, 0.0867481380701065, -0.012339374050498009, 0.005327826365828514, -0.004280267283320427, 0.04513619467616081, 0.00511191226541996, 0.04870233312249184, 0.06636473536491394, -0.019687678664922714, 0.33397579193115234, 0.0013274728553369641, 0.07418378442525864, -0.030816568061709404, -0.08851340413093567, 0.14892469346523285, 0.11892218887805939, 0.20556655526161194, -0.008623240515589714, -0.019005298614501953, -0.05625277757644653, 0.008414136245846748, 0.0006095129647292197, -0.019561385735869408, 0.01845233328640461, 0.03506580367684364, -0.40070849657058716, 0.10542726516723633, 0.025691261515021324, -0.037340421229600906, 0.01694539561867714, 0.09686686843633652, 0.011788555420935154, 0.011682922020554543, 0.24006438255310059, 0.12556913495063782, -0.12354806810617447, -0.04973520711064339, 0.06243167445063591, -0.032533347606658936, 0.002614774974063039, 0.026218289509415627, 0.05270165950059891, -0.008837522938847542, -0.0582306832075119, -0.05610566586256027, -0.0846962034702301, 0.03240643069148064, 0.06067005917429924, 0.0019722727593034506, -0.08247953653335571, -0.10934716463088989, -0.019407950341701508, 0.10473717004060745, -0.09738442301750183, 0.08707518130540848, -0.19781488180160522, -0.012215087190270424, -0.029911231249570847, -0.10516108572483063, -0.032632388174533844, -0.005566106643527746, -0.002850332297384739, -0.010813675820827484, 0.07011732459068298, 0.1714552789926529, -0.020407216623425484, -0.02181285433471203, 0.0635703057050705, 0.06042560935020447, -0.052341606467962265, 0.01452961191534996, -0.18367083370685577, 0.012860529124736786, 0.0010761823505163193, 0.1280001550912857, -0.06005103886127472, -0.16288986802101135, -0.009479008615016937, 0.13545583188533783, 0.08972090482711792, 0.7046862244606018, 0.01100236177444458, 0.08029209822416306, 0.036226093769073486, -0.07275263220071793, 0.0070532639510929585, -0.05386483669281006, -0.10204968601465225, -0.05065350979566574, -0.07067060470581055, -0.00019477668683975935, 0.05136619508266449, -0.014111597090959549, 0.03597065433859825, -0.05861281603574753, -0.05116182938218117, 0.08916766941547394, 0.0507427342236042, 0.008553768508136272, 0.013979383744299412, -0.13370700180530548, 0.05969781056046486, 0.02081940323114395, 0.016285158693790436, -0.1309477835893631, -0.07434815913438797, 0.07313858717679977, 0.056195035576820374, -0.1488530933856964, 0.001140774111263454, -0.001482054591178894, 0.033565834164619446, 0.01977379247546196, -0.06086643412709236, -0.06014631316065788, 0.013594552874565125, 0.06875135004520416, 0.08625887334346771, 0.16141973435878754, -0.047030217945575714, -0.009800647385418415, 0.0666409581899643, -0.13047276437282562, 0.06771893799304962, 0.11671525985002518, -0.03638262301683426, -0.036581382155418396, 0.031144065782427788, -0.06630350649356842, 0.03365236893296242, 0.008071228861808777, 0.02846447378396988, 0.10212445259094238, 0.029889769852161407, 0.0013712579384446144, 0.027585601434111595, -0.058811984956264496, -0.0077643487602472305, -0.027284760028123856, -0.006031519267708063, -0.1587713211774826, 0.05331558361649513, 0.00885557197034359, -0.11275883764028549, -0.06929544359445572, -0.055657897144556046, 0.13297182321548462, -0.1701115220785141, -0.03975582495331764, -0.0029693443793803453, 0.03359931707382202, -0.030237212777137756, 0.05697901174426079, 0.08998133987188339, 0.02170628309249878, 0.11544229090213776, 0.01449195109307766, -0.07228490710258484, -0.18399156630039215, 0.12285290658473969, -0.08969374746084213, -0.040519919246435165, 0.0668080747127533, -0.1517757773399353, 0.02111242152750492, -0.058071136474609375, 0.01704397238790989, 0.01409635879099369, -0.07339857518672943, 0.09659598767757416, 0.04678457975387573, -0.01858442835509777, 0.030710753053426743, -0.031187428161501884, -0.045120108872652054, -0.15006420016288757, 0.0017623432213440537, -0.046844396740198135, 0.011289991438388824, -0.020492931827902794, 0.04820342734456062, 0.1757408082485199, 0.05466512590646744, -0.13281093537807465, 0.0450877919793129, -0.03662170469760895, 0.06747503578662872, 0.10041403770446777, -0.025418030098080635, 0.0015072161331772804, 0.05668674036860466, 0.027020929381251335, 0.041799698024988174, 0.039898935705423355, -0.137613907456398, -0.05550810322165489, -0.05939917266368866, 0.11993837356567383, -0.07063037157058716, -0.0418834313750267, 0.042733147740364075, -0.009708847850561142, -0.0011678732698783278, -0.022749558091163635, -0.04371967539191246, 0.10193474590778351, 0.12140197306871414, -0.05149605870246887, 0.04251841455698013, 0.020496388897299767, -0.038740307092666626, 0.008275543339550495, 0.04496532678604126, -0.1368461698293686, -0.010769565589725971, -0.03040548972785473, -0.008362393826246262, 0.023967228829860687, 0.0470651239156723, 0.0744091346859932, 0.07044553756713867, -0.0004426597151905298, 0.007578509859740734, -0.006154979579150677, -0.290128231048584, 0.006725342012941837, -0.06660855561494827, 0.041483212262392044, 0.11694338172674179, -0.04326900094747543, -0.0857095718383789, 0.01999196968972683, 0.05216359347105026, -0.011070966720581055, 0.08500831574201584, 0.013365031220018864, 0.063417449593544, 0.043437082320451736, -0.004289284814149141, 0.06414955109357834, 0.051679179072380066, -0.03251059725880623, -0.11262388527393341, 0.07252340018749237, -0.007219000719487667, 0.09538769721984863, 0.019528072327375412, 0.0019420719472691417, 0.043947599828243256, 0.02518729493021965, 0.0998135581612587, -0.01002501416951418, -0.012468830682337284, 0.030156606808304787, -0.09515057504177094, -0.05300549045205116, -0.09504538774490356, 0.002726725535467267, -0.021935662254691124, 0.07495436072349548, -0.05274220183491707, -0.14042872190475464, 0.10767020285129547, -0.038732580840587616, 0.14954736828804016, 0.04518330842256546, -0.002961814636364579, 0.008290808647871017, 0.001181710627861321, -0.12728264927864075, -0.015163346193730831, -0.0771496370434761, -0.037876855581998825, -0.0941910445690155, -0.08623266220092773, 0.03364088386297226, -0.04376915842294693, -0.08955440670251846, -0.033676877617836, 0.01723075844347477, 0.0831967443227768, 0.05123889818787575, 0.029077697545289993, 0.06764525920152664, 0.0814165472984314, 0.09018044918775558, -0.1449485868215561, -0.060334980487823486, 0.15814127027988434, -0.034250278025865555, -0.013682635501027107, -0.04977909103035927, -0.013005302287638187, 0.023903995752334595, 0.034883029758930206, 0.031292952597141266, -0.11582379788160324, 0.011633145622909069, 0.028739118948578835, 0.008468602783977985, -0.0077058435417711735, -0.0318279005587101, 0.03621933236718178, -0.036798425018787384, -0.10827954858541489, 0.0930713340640068, -0.048601992428302765, 0.07465510070323944, -0.032638419419527054, -0.0048723057843744755, 0.06153668463230133, -0.04377873241901398, 0.03920041024684906, 0.058797869831323624, 0.045893535017967224, 0.12478139251470566, -0.11767105758190155, 0.02066110447049141, -0.11490258574485779, 0.025405999273061752, 0.11249560862779617, -0.0027158530429005623, -0.5815057158470154, -0.030916517600417137, 0.029967177659273148, 0.07200885564088821, -0.09314458072185516, 0.12712717056274414, 0.05645456165075302, -0.08172985911369324, -0.028157472610473633, -0.012490753084421158, -0.046332333236932755, -0.0034843841567635536, 0.09967955201864243, -0.060762759298086166, -0.169697105884552, -0.05742358788847923, -0.03256995603442192, 0.029199816286563873, 0.1035880297422409, 0.12076164036989212, 0.00424810778349638, 0.008914054371416569, 0.010389106348156929, 0.10366825759410858, -0.009959854185581207, 0.05405189469456673, -0.12326399981975555, -0.08511356264352798, 0.02442842908203602, -0.045458726584911346, -0.006304655224084854, -0.0678534284234047, -0.17987747490406036, 0.05885931849479675, 0.00394202396273613, -0.04785124957561493, 0.02839716710150242, 0.09091432392597198, 0.10421517491340637, -0.04720113053917885, 0.0395977646112442, -0.06632774323225021, 0.17903240025043488, 0.06207597628235817, -0.058415837585926056, -0.03277764096856117, 0.02062291093170643, 0.02161387726664543, -0.05476761981844902, 0.030116524547338486, 0.08928592503070831, 0.01486585009843111, -0.14971113204956055, -0.050007086247205734, -0.08386873453855515, -0.021378597244620323, 0.05328644439578056, -0.07536369562149048, 0.05156870558857918, -0.011612470261752605, 0.11265508085489273, 0.019672639667987823, -0.024558112025260925, 0.09195829927921295, -0.004742187447845936, -0.054120954126119614, 0.006313000340014696, 0.0003757088561542332, 0.06569946557283401, -0.044455599039793015, 0.014075827784836292, 0.12472355365753174, -0.06874173134565353, 0.04529367387294769, 0.038721293210983276, -0.05405860021710396, -0.10763566941022873, -0.05374392122030258, -0.024519050493836403, -0.025329718366265297, -0.04073774069547653, 0.01974552869796753, 0.021519310772418976, -0.0016655510989949107, 0.028701428323984146, -0.010997509583830833, 0.03034345619380474, 0.11985858529806137, 0.04241156950592995, 0.05543657764792442, -0.0781046450138092, 0.09902771562337875, 0.028598370030522346, 0.012807919643819332, 0.041858021169900894, 0.10735119134187698, -0.024124400690197945, 0.01164725236594677, 0.09671313315629959, 0.10903425514698029, 0.16280359029769897, 0.03912929818034172, 0.07822579890489578, 0.18004165589809418, -0.04140426963567734, -0.011323935352265835, -0.07991606742143631, 0.050204429775476456, -0.130492702126503, 0.04254221171140671, 0.09193319082260132, -0.03481045737862587, 0.04353747516870499, -0.11929884552955627, 0.13307933509349823, -0.1022317111492157, -0.029920732602477074, 0.008838139474391937, 0.03675805777311325, -0.07138018310070038, 0.09309855848550797, 0.011908172629773617, -0.031012294813990593, -0.04029891639947891, 0.0010254509979858994, 0.03406205773353577, 0.02488027885556221, -0.032293953001499176, -0.011540110222995281, -0.016250982880592346, -0.03419102728366852, 0.012371964752674103, -0.06665822863578796, 0.028369102627038956, 0.11974827200174332, 0.03706071898341179, 0.074665367603302, 0.014359015971422195, 0.05015373229980469, -0.026636675000190735, -0.014001136645674706, -0.04561847820878029, -0.10835354030132294, 0.08362529426813126, -0.024264756590127945, -0.014773542061448097, -0.013891278766095638, -0.05659671127796173, 0.05021010339260101, -0.021094154566526413, 0.11643010377883911, 0.042746733874082565, -0.019675640389323235, 0.06232842057943344, 0.05484459176659584, -0.13126564025878906, -0.024723542854189873, -0.09023971110582352, -0.12442532181739807, -0.03780713677406311, 0.03392000123858452, -0.08410992473363876, 0.053454622626304626, 0.00023226976918522269, -0.04241042584180832, -0.1109490618109703, 0.01814061403274536, -0.02640923112630844, -0.02122369036078453, -0.04538866505026817, 0.043978266417980194, -0.03124438039958477, 0.05468868091702461, 0.09795954823493958, 0.09260362386703491, -0.03939245641231537, 0.018956348299980164, -0.08372457325458527, -0.10094965249300003, -0.015799926593899727, -0.09898652136325836, -0.08285708725452423, -0.08240170776844025, -0.3073118329048157, -0.07168878614902496, 0.03611159697175026, -0.06208893656730652, 0.13471868634223938, 0.06336630135774612, 0.06417790800333023, -0.010369600728154182, 0.10159430652856827, -0.16566811501979828, 0.06585443764925003, -0.044676050543785095, -0.0953284278512001, -0.08873841911554337, -0.0989469662308693, -0.08282770216464996, -0.00040886763599701226, -0.09447450935840607, -0.060947418212890625, -0.08152007311582565, -0.09445355087518692, 0.12011063098907471, 0.07820463925600052, -0.044857341796159744, 0.0921524316072464, 0.021310660988092422, -0.0014327437384054065, 0.03598080575466156, -0.11559996753931046, -0.12085188925266266, -0.004506529308855534, -0.026079028844833374, -0.03886575624346733, 0.023683076724410057, -0.054055020213127136, 0.1544266939163208, -0.019176647067070007, -0.11996569484472275, 0.012611983343958855, 0.1190190389752388, -0.04844459518790245, -0.009156731888651848, -0.17740891873836517, 0.10489105433225632, -0.13889798521995544, -0.033348217606544495, -0.006762538105249405, 0.09362661838531494, -0.013005726039409637, 0.05749214440584183, -0.09693493694067001, -0.0056239767000079155, -0.009370295330882072, 5.172766208648682, 0.041160013526678085, 0.0838085487484932, -0.04136938229203224, 0.018012885004281998, -0.053785741329193115, -0.01244826428592205, 0.0338410958647728, 0.05178001895546913, 0.0057167597115039825, 0.10593176633119583, 0.07791636139154434, 0.023630430921912193, 0.03472008556127548, -0.006939338985830545, 0.32559484243392944, -0.05625075846910477, -0.09973449259996414, -0.04664453864097595, 0.0584682859480381, 0.5464484691619873, 0.15184316039085388, 0.009724504314363003, -0.11273128539323807, 0.03296925127506256, 0.07942089438438416, -0.032451484352350235, -0.13787959516048431, 0.005960976239293814, 0.03907766193151474, 0.08435355871915817, -0.05254396051168442, 0.044029757380485535, -0.09240657091140747, -0.11692467331886292, -0.04299238324165344, -0.1000363752245903, -0.021560318768024445, -0.08632352203130722, 0.012938600964844227, 0.09505642205476761, -0.04057305306196213, -0.021935930475592613, -0.018970828503370285, 0.07964764535427094, -0.06827835738658905, -0.3897615373134613, -0.016741758212447166, 0.10648581385612488, 0.020932383835315704, 0.08371078968048096, 0.1567945033311844, -0.05527401715517044, 0.06569308042526245, 0.3437686264514923, -1.8137277364730835, 0.12000321596860886, -0.09980975836515427, -0.09613577276468277, -0.09488556534051895, -0.03312939405441284, 0.05373899266123772, 0.061229363083839417, -0.02253573201596737, -0.010033116675913334, -0.04181123152375221, 0.03659869357943535, 0.09286205470561981, 0.06645702570676804, 0.0822061151266098, 0.003963126800954342, -0.09092333167791367, 0.0001169347160612233, -0.044902268797159195, 0.020659111440181732, 0.11290666460990906, 0.08048214018344879, -0.08104317635297775, -0.11249907314777374, 0.034430112689733505, 0.11902888119220734, -0.03767741844058037, -0.04188672825694084, -0.021601134911179543, -0.05963604897260666, 0.04308043047785759, 0.059942830353975296, -0.03822411224246025, 0.0030804520938545465, 0.013006920926272869, 0.056912943720817566, -0.027240987867116928, 0.09936989843845367, -0.03703927993774414, -0.09707625955343246, 0.15213795006275177, -0.0010617512743920088, 0.004626622889190912, 0.043821074068546295, 0.08850913494825363, -0.009910994209349155, -0.08943014591932297, -0.028101680800318718, 0.043129727244377136, -0.09947361052036285, 0.08191458135843277, 0.06172362342476845, 0.06525884568691254, 0.00944600161164999, -0.03757697343826294, 0.15704497694969177, -0.09755765646696091, -0.11178624629974365, 0.03412603959441185, 0.12970001995563507, 0.013126786798238754, -0.013167330995202065, 0.06339257210493088, 0.11130176484584808, 0.05743185803294182, 0.10554961115121841, 0.04846130684018135, -0.020398516207933426, 0.010771455243229866, -0.048272985965013504, -0.027275238186120987, -0.08281546086072922, -0.011549594812095165, -0.13149920105934143, 0.08246670663356781, 0.013106104917824268, -0.09691007435321808, 0.06517410278320312, -0.0903574600815773, -0.1011229157447815, -0.007404056377708912, -0.061589762568473816, -0.0768556296825409, -0.020637454465031624, -0.07236719876527786, -0.006541356910020113, -0.01756073161959648, 0.08749856799840927, 0.09182950109243393, -0.03374924510717392, 0.07453881204128265, 0.02476724050939083, -0.050519440323114395, -0.07085278630256653, -0.12713773548603058, -0.07614793628454208, 0.0037631080485880375, -0.06078764796257019, 0.022296104580163956, 0.043166615068912506, -0.025673413649201393, -0.08678514510393143, 0.11335834115743637, 0.02790825441479683, -0.003415562678128481, -0.10570114105939865, -0.04074879363179207, 0.05402684956789017, -0.03879748657345772, 0.07790833711624146, 0.08441028743982315, -0.0468786284327507, -0.03785153850913048, 0.0074588037095963955, -0.11769367009401321, -0.021731534972786903, -0.03675300255417824, 0.07956562936306, 0.02493503876030445, 0.07651400566101074, -0.055469151586294174, 0.04087614268064499, -0.009823517873883247, 0.007548937574028969, -0.003940126858651638, -0.033254027366638184, -0.0686161071062088, -0.10776091367006302, -0.04632680118083954, 0.04684460908174515, 0.02070443332195282, 0.01090535894036293, -0.10265003144741058, -0.02516021393239498, -0.0355282723903656, 0.08332568407058716, -0.07617153227329254, -0.024475643411278725, -0.040294211357831955, 0.02739759162068367, -0.15642425417900085, -0.022416722029447556, -0.0703829899430275, -0.07357095181941986, 0.049969423562288284, 0.13569912314414978, 0.009165776893496513, -0.0488736666738987, -0.026941193267703056, 0.014950752258300781, 0.07905130088329315, 0.06637842953205109, 0.07339170575141907, 0.005193484015762806, -0.027382591739296913, -0.07207980751991272, -0.07157645374536514, 0.023581314831972122, 0.017143724486231804, 0.01966383494436741, 0.023299051448702812, 0.06316860020160675, 0.0597057044506073, -0.05707696080207825, 0.055245038121938705, -0.00903845950961113, -0.034686654806137085, -0.040406834334135056, 0.020857250317931175, -0.03833768144249916, -0.07481743395328522, 0.03211832046508789, 0.09198416769504547, 0.05866630747914314, 0.012445568107068539, 0.03600812330842018, 0.040137942880392075, -0.06626777350902557, -0.057941604405641556, -0.1763000339269638, -0.00840491522103548, 0.0033077653497457504, -0.018445119261741638, -0.01927344501018524, -0.08254101872444153, -0.018100662156939507, -0.14120884239673615, 0.11603808403015137, 0.0016747835325077176, -0.013788098469376564, -0.07225805521011353, -0.024952175095677376, -0.1653035432100296, -0.08381606638431549, 0.12650050222873688, -0.09823048114776611, -0.009820275008678436, 0.0008738479809835553, -0.027336038649082184, 0.05783559009432793], [0.0789644792675972, 0.10343081504106522, -0.015085184946656227, -0.1552598774433136, 0.0364200659096241, 0.03453688323497772, -0.042376723140478134, -0.05656891688704491, -0.026189841330051422, -0.035529982298612595, 0.006334706675261259, 0.03639386221766472, 0.0637098178267479, 0.06866595894098282, 0.028308182954788208, 0.05886748060584068, -0.020738765597343445, -0.054108720272779465, 0.03295455500483513, -0.07760965079069138, -0.0003493040567263961, -0.011715586297214031, -0.04682179167866707, -0.08689893782138824, 0.029069116339087486, 0.09049063175916672, -0.058910101652145386, 0.07542674243450165, -0.007689427584409714, 0.05129896104335785, -0.04350285232067108, -0.01075869519263506, -0.12177965044975281, 0.06310594826936722, 0.018138613551855087, -0.04235098138451576, 0.057727791368961334, -0.0017716595903038979, -0.1114201471209526, -0.23878271877765656, 0.0413520373404026, 0.10767371207475662, -0.0432761088013649, 0.034495506435632706, 0.01919049769639969, 0.0027219289913773537, 0.09509456157684326, -0.004024573601782322, -0.024767111986875534, -0.12267950922250748, -0.051175568252801895, 0.08765079826116562, 0.07147668302059174, 0.05520275607705116, -0.007684298325330019, -0.057439543306827545, -0.1278669387102127, -0.13410305976867676, -0.15551991760730743, 0.004255997482687235, -0.06209653615951538, -0.07981649786233902, 0.041954405605793, 0.05968988686800003, -0.013118616305291653, 0.0389135479927063, 0.045225489884614944, -0.026043463498353958, 0.1043943390250206, -0.05591179057955742, 0.02854691632091999, 0.07527168840169907, -0.06312955915927887, -0.06815274804830551, 0.08711820840835571, -0.015308995731174946, -0.15139824151992798, -0.018271228298544884, 0.06722164154052734, -0.009627158753573895, -0.05742849409580231, 0.07688631862401962, -0.026927586644887924, -0.0059552667662501335, 0.005887352861464024, -0.1348702758550644, -0.072617307305336, -0.27361437678337097, -0.00039858330274000764, -0.029439007863402367, 0.01683649979531765, -0.05932087078690529, -0.01631556823849678, 0.01982641965150833, 0.0694861188530922, 0.10771342366933823, 0.22694915533065796, -0.04111890494823456, 0.05124053731560707, 0.09805277734994888, 0.048072051256895065, -0.00833885371685028, -0.0137564055621624, 0.10173396021127701, -0.07664736360311508, -0.09735728800296783, -0.010591279715299606, -0.015465582720935345, 0.09321492910385132, 0.06339308619499207, -0.027528028935194016, -0.01746528223156929, -0.08144443482160568, 0.09728668630123138, 0.0703328549861908, -0.007724904455244541, -0.007609726395457983, 0.023626239970326424, -0.18647214770317078, 0.09353635460138321, 0.024639049544930458, 0.0674230307340622, -0.11360009014606476, 0.03823979198932648, 0.009049201384186745, -0.024398846551775932, 0.07501652091741562, 0.09287909418344498, -0.0628698542714119, 0.06494686007499695, -0.05831536650657654, 0.00595289608463645, 0.03416415676474571, 0.011819026432931423, 0.021624520421028137, -0.0679168850183487, -0.035804979503154755, 0.0016198258381336927, -0.09461988508701324, 0.003887863364070654, 0.06261038035154343, 0.005872149020433426, 0.11109299212694168, -0.5473871827125549, -0.004785114899277687, 0.4949395954608917, -0.015019599348306656, -0.0006536087021231651, -0.030804626643657684, 0.10709778219461441, -0.0007200391846708953, 0.05006108060479164, -0.005184194538742304, -0.0055708023719489574, -0.043290793895721436, 0.006488028913736343, -0.07607339322566986, -0.024126704782247543, 0.06485337018966675, 0.03759961947798729, 0.03686896711587906, -0.0057736043818295, 0.07601258158683777, 0.010686051100492477, -0.04990316554903984, 0.014197810553014278, -0.0683547854423523, 0.02369440346956253, 0.03714578598737717, -0.13903164863586426, -0.04947271570563316, -0.10347571223974228, -0.013291549868881702, -0.09841228276491165, -0.008995473384857178, 0.1550040990114212, 0.0004727847408503294, -0.08891037851572037, 0.009042954072356224, 0.07869977504014969, 0.013037962839007378, -0.16330723464488983, -0.05092157796025276, -0.07837983220815659, 0.03819206729531288, 0.007705078925937414, -0.05137631669640541, -0.07494708150625229, 0.08465395867824554, -0.17559956014156342, 0.010859371162950993, -0.09458156675100327, -0.05253589153289795, -0.05301251262426376, 0.022695664316415787, 0.08629029244184494, 0.04989522323012352, -0.0011566709727048874, -0.12027543783187866, 0.019143477082252502, -0.09342459589242935, -0.11726123094558716, -0.025690890848636627, -0.13271231949329376, -0.004200521390885115, -0.06305121630430222, 0.04168996214866638, 0.054755084216594696, -0.03153643384575844, 0.06307993084192276, -0.01681682839989662, 0.10986687242984772, -0.14178460836410522, 0.0288240946829319, -0.03701276704668999, 0.06269548833370209, -0.011649314314126968, 0.050603725016117096, 0.03525164723396301, 0.039654023945331573, 0.24743448197841644, -0.06093468889594078, 0.08646627515554428, -0.057736415416002274, -0.19181200861930847, 0.06370291113853455, 0.09684617072343826, 0.15334951877593994, -0.04742370545864105, 0.1263902485370636, -0.07904259860515594, -0.05333336070179939, -0.024594230577349663, -0.07440654188394547, -0.03129160776734352, 0.032319966703653336, -0.39998549222946167, 0.054930128157138824, 0.05825717747211456, -0.00865222979336977, 0.05661911889910698, 0.1964568793773651, -0.08987152576446533, 0.005728048272430897, 0.06348681449890137, 0.04701090231537819, -0.0844159945845604, -0.17571225762367249, 0.09341446310281754, 0.011494864709675312, -0.06765750795602798, -0.07145138084888458, 0.14526966214179993, -0.03780001774430275, -0.04055248945951462, -0.0961742028594017, -0.07737061381340027, 0.023439591750502586, 0.04139150306582451, 0.11637194454669952, -0.007523038890212774, -0.11403947323560715, -0.013494249433279037, 0.03135469928383827, 0.08795643597841263, 0.029077818617224693, -0.14480918645858765, 0.0630965605378151, -0.06569411605596542, -0.12942476570606232, 0.006390508264303207, 0.0816110372543335, -0.04343496263027191, 0.064462810754776, 0.030955985188484192, 0.2404886782169342, -0.06991997361183167, -0.045359302312135696, 0.08340304344892502, 0.09137700498104095, -0.029507266357541084, 0.008948097936809063, 0.019157757982611656, -0.02392568811774254, -0.04965166747570038, 0.12403836846351624, -0.06697085499763489, -0.04041731357574463, -0.024954061955213547, 0.055862411856651306, 0.15187817811965942, 0.5615428686141968, 0.021220408380031586, -0.003986464813351631, -0.09586727619171143, 0.007572499569505453, -0.031085168942809105, 0.06705193221569061, -0.08630166202783585, 7.645036384928972e-05, -0.019613154232501984, -0.07841961830854416, 0.06948515772819519, 0.04921921342611313, 0.001035829191096127, -0.07365961372852325, -0.003958740271627903, 0.12878963351249695, -0.02443246729671955, 0.020344940945506096, 0.10881704092025757, -0.0008753383881412446, 0.10442221164703369, -0.04679729416966438, -0.008470297791063786, -0.14937682449817657, 0.006037309765815735, 0.008587616495788097, -0.04877978563308716, -0.1141580119729042, 0.080864816904068, -0.10972768813371658, 0.040622252970933914, -0.029491791501641273, -0.022190071642398834, -0.07198663800954819, -0.0787128359079361, -0.051678627729415894, 0.10849100351333618, 0.1660059541463852, -0.09039275348186493, -0.02287270687520504, 0.09424582868814468, -0.12099036574363708, 0.06761898100376129, 0.01344232726842165, 0.00807670596987009, -0.08722484856843948, 0.1288059800863266, 0.028129275888204575, 0.04204922914505005, -0.04711278900504112, 0.015285833738744259, 0.08802373707294464, -0.003225672524422407, 0.04609974846243858, 0.007137666456401348, -0.0475429892539978, 0.057771384716033936, -0.058361101895570755, -0.14863243699073792, -0.10363561660051346, 0.06359824538230896, -0.03953457623720169, -0.06738448143005371, 0.06699202954769135, -0.10587363690137863, 0.12670479714870453, -0.1791560798883438, -0.07613497972488403, -0.06455330550670624, -0.07828826457262039, 0.010192538611590862, 0.08893279731273651, 0.032946035265922546, 0.013853725045919418, 0.14782030880451202, 0.07995355129241943, 0.013579357415437698, -0.12588663399219513, 0.2263529896736145, -0.05722811073064804, -0.011041897349059582, -0.00038289595977403224, -0.06805059313774109, 0.007035861257463694, 0.008698428981006145, 0.02237263135612011, -0.09278228878974915, -0.015392645262181759, 0.03169094771146774, 0.0364098995923996, -0.025076717138290405, -0.09989428520202637, -0.04521259292960167, 0.02291976660490036, -0.1091584712266922, -0.11587229371070862, 0.0025687103625386953, 0.1176769956946373, -0.0319492369890213, -0.03693797066807747, 0.03128056600689888, -0.049490395933389664, -0.07276861369609833, -0.02082901820540428, -0.028158048167824745, 0.12388662248849869, -0.008002481423318386, -0.02983131818473339, -0.019725922495126724, 0.07633527368307114, -0.028563566505908966, 0.009908945299685001, -0.13799355924129486, -0.14256232976913452, 0.022565511986613274, -0.034167028963565826, -0.06638061255216599, -0.06407074630260468, -0.025571748614311218, 0.08044152706861496, -0.14899346232414246, -0.06305310130119324, 0.051491111516952515, -0.02841523289680481, 0.0077282581478357315, -0.014157812111079693, 0.05902857705950737, -0.044115833938121796, -0.0364920049905777, -0.05919800326228142, -0.03864411264657974, 0.03651970252394676, -0.03908864036202431, 0.06978002190589905, 0.016810022294521332, -0.027170520275831223, 0.010645986534655094, 0.03884796425700188, 0.11638942360877991, 0.061457954347133636, -0.02332295849919319, 0.14701122045516968, 0.01698124408721924, -0.250041663646698, -0.030367927625775337, -0.0692782774567604, 0.035748191177845, 0.04023037105798721, -0.08412948250770569, -0.043851010501384735, -0.0675489753484726, 0.014130501076579094, -0.05172755569219589, 0.11381117254495621, 0.05371949076652527, -0.08260181546211243, 0.061202120035886765, -0.02119884267449379, 0.02933613397181034, 0.03316128998994827, -0.0823228657245636, -0.07369305938482285, 0.07896506041288376, -0.021976672112941742, 0.06532116234302521, 0.024282652884721756, -0.02864770218729973, -0.05803423002362251, 0.044886376708745956, 0.041804488748311996, -0.04140552133321762, 0.03959091380238533, -0.03251347318291664, -0.007071351166814566, 0.011767514981329441, 0.004039341583848, 0.006888297852128744, -0.030286893248558044, 0.03811309486627579, -0.03857710212469101, -0.005722226109355688, 0.05354246869683266, 0.0358695387840271, 0.02623959816992283, 0.006169616244733334, -0.049310196191072464, -0.030109461396932602, -0.05756064131855965, -0.06837046891450882, 0.04090478643774986, -0.09149888902902603, -0.012484043836593628, -0.10269340127706528, -0.1143457219004631, 0.0542827732861042, 0.0031639188528060913, -0.06615196168422699, -0.16557574272155762, -0.008809090591967106, 0.01696806401014328, -0.07552599161863327, -0.10344868898391724, 0.07589169591665268, 0.0849447250366211, 0.1559843271970749, -0.13664646446704865, -0.08461567759513855, 0.20624279975891113, 0.061089836061000824, -0.028932984918355942, -0.028835436329245567, 0.015539497137069702, -0.10708114504814148, -0.03208762779831886, 0.06458701193332672, -0.02550932578742504, 0.012192115187644958, -0.05137300118803978, 0.016744866967201233, 0.010681981220841408, 0.07359376549720764, -0.00022213721240404993, -0.043879736214876175, -0.11325035244226456, 0.10460949689149857, -0.022179340943694115, -0.0072831460274755955, -0.1174411028623581, -0.05984651297330856, 0.04086463153362274, 0.03966671600937843, -0.006948673166334629, 0.039982814341783524, 0.06045271456241608, 0.06600136309862137, 0.07811114937067032, -0.012561059556901455, -0.027674194425344467, -0.012920812703669071, 0.0007931407890282571, -0.11948736011981964, -0.5115704536437988, -0.06558219343423843, -0.07191880792379379, -0.019447024911642075, -0.1828000694513321, 0.17290538549423218, 0.0715416893362999, -0.09614112228155136, 0.03939213976264, 0.1167907640337944, -0.009699057787656784, -0.012674829922616482, 0.03780265524983406, 0.009038137272000313, -0.36215952038764954, -0.03654363006353378, 0.08035988360643387, 0.00027372402837499976, 0.050319854170084, 0.021273836493492126, -0.03179856017231941, 0.02774779126048088, -0.050657689571380615, 0.10806300491094589, -0.05950590595602989, 0.12869858741760254, -0.02471371367573738, -0.035815395414829254, -0.010598610155284405, -0.052874863147735596, -0.03310875967144966, 0.019910870119929314, -0.12372557818889618, 0.26065248250961304, 0.023604819551110268, -0.0019065274391323328, -0.038846440613269806, 0.06527712941169739, 0.09225146472454071, -0.056700535118579865, -0.042311619967222214, -0.03459218889474869, 0.05571601539850235, -0.03684454411268234, -0.10090391337871552, 0.035402391105890274, 0.04218653216958046, -0.07200590521097183, -0.01414127741008997, 0.06201232224702835, 0.07499444484710693, 0.04289822652935982, -0.14566555619239807, 0.056067101657390594, -0.10142264515161514, -0.04189790412783623, -0.027549797669053078, 0.04527631402015686, -0.014842440374195576, -0.04041678458452225, 0.0323917530477047, 0.05053180828690529, -0.07823584228754044, 0.027225693687796593, -0.07289339601993561, -0.09544942528009415, 0.031225651502609253, 0.04885207489132881, -0.013464443385601044, -0.023634688928723335, 0.11045191437005997, 0.096537746489048, -0.013351974077522755, 0.04604876786470413, -0.04923146218061447, -0.01536311861127615, -0.017941363155841827, -0.05234845355153084, -0.014977822080254555, -0.07022786140441895, -0.03237415477633476, 0.11121687293052673, -0.1343681961297989, -0.11218331009149551, 0.02357030287384987, -0.004423005040735006, 0.016140498220920563, 0.07252296805381775, 0.0005728971445932984, 0.036406099796295166, -0.08894960582256317, 0.06838491559028625, 0.02433863654732704, -0.0050346218049526215, 0.03801601380109787, 0.04726314917206764, 0.1183934137225151, -0.03975812718272209, 0.04637878015637398, 0.06150144338607788, 0.08571280539035797, 0.22025370597839355, 0.050385139882564545, 0.2254476249217987, -0.05570008605718613, -0.013548032380640507, -0.17530779540538788, 0.043294087052345276, -0.1561410129070282, 0.12479829788208008, 0.08157563209533691, -0.053670164197683334, -0.028358083218336105, -0.04752325266599655, 0.05454095080494881, 0.004442865494638681, -0.015963047742843628, 0.13403964042663574, 0.09285186231136322, -0.07883089035749435, 0.13463705778121948, 0.005533195100724697, 0.04888283461332321, -0.010217483155429363, 0.1287262886762619, 0.0972210243344307, 0.07301387935876846, -0.00623150123283267, 0.011959523893892765, -0.025096360594034195, -0.05901980772614479, 0.02898133359849453, 0.08843035250902176, 0.10242253541946411, 0.0001482054649386555, 0.05636519566178322, 0.08927740901708603, -0.035500530153512955, -0.01737772300839424, -0.02491622604429722, 0.022257592529058456, -0.006172781810164452, -0.0498138889670372, 0.08947113901376724, 0.05798342451453209, 0.010994372889399529, -0.0008410680457018316, 0.0005739915650337934, -0.0005272777052596211, 0.06309138238430023, 0.08425199240446091, 0.07322439551353455, 0.02436130680143833, 0.21591155230998993, 0.09793424606323242, -0.09648856520652771, 0.039852797985076904, -0.1320887953042984, -0.036666207015514374, 0.0414230115711689, -0.045320138335227966, 0.1253742277622223, 0.09961804747581482, -0.07559617608785629, -0.1389690637588501, -0.05613196641206741, 0.008518834598362446, -0.011501768603920937, -0.04802719131112099, -0.05220583826303482, 0.04945874959230423, 0.07756656408309937, -0.011711538769304752, 0.04483899474143982, 0.1635238528251648, -0.04760868102312088, 0.03448806330561638, -0.10982237011194229, -0.08694338798522949, 0.014272083528339863, 0.00824147742241621, -0.10861307382583618, 0.026792466640472412, -0.23413042724132538, -0.10575717687606812, 0.010166469030082226, -0.04370679333806038, 0.13077348470687866, 0.018168309703469276, -0.09522619098424911, 0.07546377927064896, 0.09409965574741364, -0.0038915264885872602, 0.11882727593183517, -0.060917217284440994, 0.007756854873150587, -0.0487673319876194, -0.11888469010591507, 0.0075710914097726345, 0.03782462701201439, -0.04056782275438309, -0.0757235586643219, -0.031623873859643936, -0.07162674516439438, 0.1861945241689682, 0.06353242695331573, 0.016983553767204285, 0.11567904055118561, 0.13283561170101166, 0.04667745158076286, 0.016896147280931473, -0.020038148388266563, -0.015244020149111748, 0.07726053893566132, 0.006874949671328068, 0.02204986661672592, 0.0445614792406559, -0.05814265087246895, 0.06102687492966652, -0.03999065235257149, 0.014654691331088543, -0.09040197730064392, -0.03652297705411911, -0.06442780792713165, 0.0035061261150985956, -0.057507771998643875, 0.018538162112236023, -0.12204331904649734, -0.11332172900438309, -0.0475241094827652, 0.09736400842666626, -0.06467059254646301, -0.007556430995464325, 0.0345020666718483, -0.01658710278570652, -0.07119733095169067, 4.878469467163086, -0.04095758497714996, 0.11165957897901535, 0.043843355029821396, 0.011861694976687431, 0.028157571330666542, 0.030263273045420647, 0.008936778642237186, 0.17512574791908264, -0.05647728219628334, 0.06696512550115585, 0.026475604623556137, 0.07357975840568542, 0.0023717712610960007, 0.06464910507202148, 0.20145300030708313, -0.08474048972129822, -0.08797460049390793, -0.10433529317378998, -0.020221123471856117, 0.6031589508056641, -0.03289293870329857, 0.05875276401638985, 0.00329361530020833, 0.11352021992206573, 0.09543406218290329, 0.010500266216695309, -0.05458291247487068, 0.054496705532073975, 0.07003828883171082, 0.11744639277458191, 0.023314425721764565, -0.04196415841579437, -0.09214336425065994, 0.009108055382966995, -0.07801013439893723, -0.17498651146888733, 0.011898518539965153, 0.017852680757641792, 0.035589247941970825, 0.02699107863008976, 0.004156971350312233, 0.02377280779182911, -0.03547852486371994, 0.025072097778320312, 0.016735227778553963, -0.3142651915550232, -0.09103076159954071, 0.0037437935825437307, 0.05013063922524452, 0.058925677090883255, 0.20330999791622162, -0.13984328508377075, 0.13277491927146912, 0.3297967314720154, -1.9448574781417847, -0.0016393288969993591, 0.013305037282407284, -0.06650423258543015, -0.08116208761930466, -0.04141240939497948, -0.057185571640729904, 0.08514481037855148, -0.022222811356186867, -0.008357967250049114, 0.04711772873997688, 0.056470438838005066, 0.057047393172979355, 0.02744361013174057, 0.061664603650569916, 0.10871081054210663, -0.009843649342656136, 0.06144408881664276, -0.024238377809524536, 0.08654988557100296, 0.13144072890281677, -0.037888284772634506, -0.035887595266103745, -0.07766719162464142, 0.1165195032954216, 0.18643492460250854, -0.1121794730424881, 0.030817093327641487, -0.08539887517690659, -0.044404130429029465, 0.09757234156131744, 0.0010478898184373975, -0.05653713271021843, -0.08845989406108856, 0.028900187462568283, 0.01896025612950325, -0.019661422818899155, 0.023526892066001892, -0.037451669573783875, -0.03260327875614166, 0.10834743082523346, 0.0670437440276146, 0.03924225643277168, 0.035868898034095764, 0.09026151895523071, 0.15184150636196136, -0.010018398985266685, -0.038484323769807816, 0.019074195995926857, -0.15154136717319489, 0.0999227911233902, -0.0842142254114151, 0.1953054666519165, 0.03641693666577339, -0.19153541326522827, 0.15677526593208313, -0.040168724954128265, -0.19776582717895508, 0.037504300475120544, 0.13728061318397522, 0.1166934072971344, -0.1841413527727127, -0.10539998859167099, 0.11472086608409882, 0.013647126033902168, 0.10742184519767761, 0.02759736217558384, 0.09762559086084366, 0.013199699111282825, 0.0402638204395771, -0.02269769459962845, -0.12956906855106354, -0.1020188182592392, -0.05140794441103935, 0.19008255004882812, 0.029161931946873665, -0.02843821607530117, 0.009848721325397491, -0.11403027176856995, -0.1304236203432083, 0.05573197826743126, -0.057898037135601044, -0.07206078618764877, 0.01681974157691002, -0.10797570645809174, 0.03938506916165352, 0.06686095893383026, 0.05593237653374672, -0.004265043884515762, -0.0011373079614713788, -0.08225642144680023, 0.0846875011920929, -0.1469879001379013, 0.058717042207717896, -0.04823743551969528, -0.07808348536491394, -0.03205298259854317, -0.023604733869433403, -0.02581566385924816, 0.03243750333786011, 0.08532410115003586, -0.03781328350305557, 0.15609526634216309, 0.0008329480770044029, -0.06037730723619461, -0.009800052270293236, -0.015095923095941544, -0.027262484654784203, -0.08277212083339691, 0.04261911287903786, 0.08575378358364105, 0.05550038814544678, 0.022999636828899384, -0.008151626214385033, -0.12793725728988647, 0.00200224993750453, -0.08364594727754593, -0.024932177737355232, 0.014791452325880527, 0.0574665404856205, 0.04480545222759247, 0.032811298966407776, 0.07386496663093567, -0.0456082746386528, 0.0407942570745945, -0.14417606592178345, -0.11193367093801498, -0.029676049947738647, -0.10740285366773605, 0.08868429064750671, 0.007284056860953569, -0.10030161589384079, -0.019476288929581642, 0.042620934545993805, -0.005299767479300499, 0.06220380589365959, -0.07346102595329285, -0.05041392892599106, 0.08197971433401108, -0.09854047745466232, -0.0642225593328476, 0.055603425949811935, -0.047682251781225204, -0.03792450204491615, -0.07627177983522415, 0.01726561225950718, -0.008450997062027454, -0.17161403596401215, 0.16066771745681763, -0.010036133229732513, 0.06126284971833229, 0.01804935559630394, 0.052515484392642975, 0.026067040860652924, -0.02575862593948841, -0.08090071380138397, 0.016809163615107536, -0.06417188793420792, -0.01480069849640131, -0.0813751295208931, 0.006258746609091759, 0.01020448561757803, 0.03730155527591705, -0.0406896248459816, 0.011117009446024895, 0.010681789368391037, -0.004501281306147575, -0.06990502029657364, 0.01285560242831707, -0.1285017728805542, -0.07173822075128555, -0.03776312246918678, 0.00952969491481781, 0.009899335913360119, -0.03893052041530609, 0.10852214694023132, -0.12199290096759796, -0.07749047130346298, -0.12784461677074432, -0.04538906365633011, -0.028415177017450333, -0.03139883279800415, -0.039038680493831635, -0.042997103184461594, -0.04416947066783905, -0.019702322781085968, -0.003280478762462735, 0.023628605529665947, 0.04619337245821953, -0.05985599383711815, -0.06345277279615402, 0.0308123379945755, -0.08813556283712387, -0.03269994258880615, 0.13439123332500458, 0.02747388556599617, -0.11241532117128372, 0.0671190395951271, -0.017331482842564583, 0.12912115454673767], [0.01805245690047741, 0.07072418928146362, -0.0362916998565197, -0.06574153155088425, 0.09893040359020233, -0.02849060669541359, 0.003174383891746402, -0.03563463315367699, 0.01741952635347843, -0.06880167126655579, -0.0259255301207304, -0.02339944988489151, 0.0669742226600647, 0.03269587829709053, 0.018739663064479828, 0.11426108330488205, -0.005969169549643993, -0.004878074862062931, 0.01835544779896736, -0.056885674595832825, 0.03234062343835831, -0.0031941889319568872, -0.03240615129470825, -0.05282050371170044, 0.008569675497710705, 0.007123954594135284, -0.029311157763004303, 0.10735763609409332, -0.019624171778559685, 0.09400232136249542, -0.07388629019260406, 0.08871006965637207, -0.20231181383132935, 0.12304147332906723, -0.030359264463186264, -0.10900557786226273, 0.016357669606804848, -0.03876063600182533, -0.0899963453412056, -0.1724129319190979, 0.05874224007129669, 0.01676306314766407, -0.0027099139988422394, 0.05673171579837799, -0.0013461626367643476, -0.0779447853565216, 0.06752877682447433, 0.009851240552961826, 0.024796638637781143, -0.03533370792865753, -0.02876785770058632, 0.041122082620859146, -0.036760617047548294, 0.08446777611970901, 0.07830691337585449, -0.07347176969051361, -0.03341684862971306, -0.16117273271083832, -0.08252868801355362, 0.010429567657411098, -0.09626048058271408, 0.011936812661588192, 0.03566105663776398, 0.0317833237349987, -0.010997539386153221, 0.019031919538974762, 0.09578686207532883, 0.03406869247555733, 0.05555995926260948, -0.12574642896652222, 0.09103194624185562, -0.05925190448760986, 0.022952362895011902, 0.03134394809603691, 0.06930698454380035, -0.0729866474866867, -0.0626884251832962, -0.038885653018951416, 0.021955538541078568, 0.031430166214704514, -0.0020660061854869127, 0.056000951677560806, -0.003320605494081974, -0.021757222712039948, 0.004999646916985512, -0.12776441872119904, 0.026509445160627365, -0.16996723413467407, 0.03555765375494957, -0.06246260181069374, 0.0024289072025567293, -0.06768564134836197, 0.008360696025192738, -0.015435213223099709, 0.005071097053587437, 0.086819589138031, 0.24018368124961853, -0.08782823383808136, 0.11290603131055832, 0.07627029716968536, 0.019830334931612015, -0.06833184510469437, -0.004483756143599749, 0.0581577830016613, -0.059916894882917404, -0.1974022537469864, -0.07766193151473999, -0.08999095112085342, 0.07450350373983383, 0.10097978264093399, 0.010079258121550083, -0.005991149228066206, -0.030042709782719612, 0.07062090933322906, 0.01859326846897602, -0.05885826423764229, 0.07539815455675125, 0.06850292533636093, -0.1252272129058838, 0.00486352201551199, -0.012542852200567722, 0.07436159998178482, -0.0945010557770729, 0.03604980930685997, -0.002628111280500889, 0.010026018135249615, 0.04090707749128342, 0.010120452381670475, 0.01052043866366148, 0.07092995196580887, -0.03610656410455704, 0.04987793788313866, 0.029692359268665314, -0.04504936560988426, 0.060408852994441986, 0.007823451422154903, -0.023443160578608513, 0.08063492178916931, -0.03570745512843132, 0.06181910261511803, -0.01308859046548605, 0.061465054750442505, 0.015547852031886578, -0.5211420059204102, 0.026145312935113907, 0.48428627848625183, -0.128020778298378, -0.023785773664712906, 0.015857700258493423, -0.008995779789984226, 0.012520060874521732, -0.03348969295620918, -0.07028679549694061, -0.02182980254292488, -0.16214585304260254, 0.038061678409576416, 0.010181467980146408, -0.005690522491931915, -0.013113364577293396, 0.0813874751329422, -0.03252208232879639, 0.08919329941272736, 0.10140769928693771, 0.019037477672100067, -0.02655111812055111, -0.003300846554338932, -0.09297245740890503, -0.00349157745949924, 0.06672678887844086, -0.14131876826286316, -0.05475731939077377, -0.0869164988398552, -0.04493705928325653, -0.0063927373848855495, -0.05440777167677879, 0.049642398953437805, -0.18730409443378448, -0.08859466761350632, 0.0022087933029979467, -0.01986039988696575, 0.02485271729528904, -0.09587930887937546, 0.0164317823946476, -0.08149474859237671, 0.050977252423763275, -0.05517200380563736, -0.07941538840532303, 0.04082299396395683, -0.05158914253115654, -0.08985823392868042, 0.026917556300759315, -0.03251374140381813, -0.0677030012011528, -0.0804826095700264, 0.0450843945145607, -0.011624319478869438, 0.13996827602386475, 0.03210478648543358, -0.05167236924171448, 0.004057659301906824, -0.007156015373766422, -0.053945232182741165, -0.040986672043800354, 0.004464087076485157, 0.06004355847835541, 0.00791881326586008, -0.05222100764513016, 0.1452217698097229, 0.0022091357968747616, -0.022871414199471474, -0.12223482131958008, 0.06889709830284119, -0.07024014741182327, -0.0059969802387058735, -0.05237184464931488, -0.02109074965119362, 0.08370257914066315, 0.08323672413825989, -0.0008992833318188787, 0.02008366584777832, 0.4899347424507141, 0.013552366755902767, 0.008296421729028225, -0.01187163032591343, -0.1232345774769783, 0.1932709813117981, 0.07027940452098846, 0.1735478937625885, -0.04962506890296936, 0.007463434711098671, 0.026864495128393173, -0.09544529020786285, 0.026612795889377594, 0.02294883131980896, 0.040992073714733124, 0.013426573015749454, -0.4069706201553345, 0.1323072761297226, 0.03582460805773735, -0.024326322600245476, 0.042150117456912994, 0.1008705124258995, -0.06894633919000626, -0.03547189384698868, 0.17690534889698029, 0.014288895763456821, -0.05384941026568413, -0.07435811311006546, 0.08588948845863342, -0.03404347971081734, -0.02314562350511551, -0.08620266616344452, 0.17034821212291718, -0.0144535256549716, -0.03537161648273468, 0.03255535662174225, -0.06975363940000534, 0.09745482355356216, 0.04882785677909851, 0.03791380301117897, -0.03734733164310455, -0.09662920236587524, 0.011626712046563625, 0.017828315496444702, 0.014829332008957863, 0.1148555725812912, -0.1573401689529419, 0.11123143881559372, -0.08092130720615387, -0.10969995707273483, -0.07749652862548828, 0.019738279283046722, 0.007908896543085575, 0.008615730330348015, 0.04469357058405876, 0.09559321403503418, -0.051474831998348236, -0.05756157636642456, 0.05106278136372566, 0.011788868345320225, 0.033060405403375626, -0.0816064402461052, -0.09820320457220078, -0.00430607283487916, 0.047084517776966095, 0.06235293298959732, -0.10497990250587463, -0.050576403737068176, 0.04435420408844948, 0.0946301743388176, 0.10029982775449753, 0.3857223689556122, 0.04781974107027054, -0.1157209649682045, -0.06990575045347214, 0.06962601095438004, 0.031042227521538734, -0.026573864743113518, -0.05585847049951553, -0.004015658982098103, -0.014673112891614437, -0.06526461243629456, 0.0017675947165116668, -0.025531720370054245, 0.01233189832419157, -0.037816863507032394, -0.0745341032743454, 0.0796026960015297, -0.0031791438814252615, -0.0002794669708237052, -0.014328007586300373, -0.06968741863965988, 0.10679793357849121, -0.005975130945444107, 0.027903612703084946, -0.10958969593048096, -0.05838671326637268, -0.09515999257564545, 0.00245074275881052, -0.01212905254215002, 0.10558848083019257, -0.026879265904426575, 0.0839693695306778, 0.003840991761535406, 0.020441483706235886, -0.07778692990541458, 0.040963493287563324, 0.018532926216721535, 0.23692229390144348, 0.08699715882539749, -0.07667753100395203, 0.00022222744883038104, 0.045707158744335175, -0.07432002574205399, 0.014653620310127735, 0.07883235812187195, 0.017786528915166855, -0.07841239869594574, 0.020060960203409195, -0.007500974461436272, 0.05383556708693504, 0.006639464292675257, 0.046921949833631516, 0.11643437296152115, -0.00923593807965517, 0.03094404935836792, -0.02432119846343994, -0.04254954680800438, 0.0455719456076622, -0.07102631032466888, -0.10172078013420105, -0.09463397413492203, -0.015332895331084728, -0.029960928484797478, -0.06389044225215912, -0.013904382474720478, -0.009583826176822186, 0.06234380230307579, -0.13090915977954865, -0.01969592645764351, -0.00975274108350277, -0.03614639490842819, -0.10442477464675903, 0.11724312603473663, 0.05892973020672798, 0.03501031920313835, 0.06839830428361893, 0.09782417863607407, -0.07258064299821854, -0.07563147693872452, 0.23045633733272552, -0.02653832919895649, -0.02526014670729637, 0.04457975924015045, -0.1107851043343544, 0.06435578316450119, -0.02825731411576271, 0.006432313472032547, -0.021433891728520393, -0.10600154101848602, 0.03579186275601387, 0.0634012296795845, 0.01634426787495613, -0.07689223438501358, -0.03319264203310013, -0.11418452113866806, -0.09609661251306534, 0.05158475041389465, 0.011554686352610588, 0.0391012579202652, 0.015255197882652283, -0.0013691909844055772, 0.0512908510863781, 0.024809429422020912, -0.03720369562506676, 0.046153273433446884, -0.01799634099006653, 0.11239121854305267, 0.04606377333402634, -0.025888532400131226, 0.0015354976058006287, -0.03356649726629257, -0.08139419555664062, 0.03507982939481735, -0.10112879425287247, 0.011208820156753063, -0.0031699673272669315, -0.03806304186582565, 0.04969911277294159, -0.10333790630102158, -0.00014517706586048007, 0.05287445709109306, -0.05555003508925438, 0.032793499529361725, -0.004764229990541935, -0.09694129973649979, 0.01987750083208084, 0.06943035870790482, 0.04264039173722267, -0.12618789076805115, 0.004744413774460554, -0.08928632736206055, 0.01041404064744711, 0.1188802644610405, -0.053696684539318085, -0.01492210291326046, 0.10514005273580551, 0.037842366844415665, -0.008209586143493652, 0.0767054334282875, -0.013049325905740261, 0.10023908317089081, -0.025986680760979652, -0.01627308689057827, 0.018564416095614433, -0.3162529170513153, -0.03790798410773277, -0.007076652254909277, 0.01336192898452282, 0.03432837501168251, -0.08684500306844711, -0.04657192528247833, -0.027142655104398727, -0.019738368690013885, 0.008094735443592072, 0.055607810616493225, 0.09231020510196686, -0.009680978022515774, 0.04145905002951622, -0.02430189959704876, 0.046222563832998276, -0.0021416342351585627, -0.0466870442032814, -0.06599240005016327, 0.041709013283252716, -0.046667516231536865, 0.019072940573096275, -0.11103780567646027, -0.05464046820998192, 0.045442454516887665, 0.08999156206846237, 0.09155715256929398, -0.0048734997399151325, -0.0054994383826851845, 0.008289036341011524, -0.0662241205573082, 0.012063280679285526, -0.152528315782547, 0.03220281004905701, -0.015621548518538475, 0.030895492061972618, -0.02272399328649044, -0.04933829978108406, 0.001218727440573275, 0.050318166613578796, 0.042212024331092834, 0.056187909096479416, -0.003804162610322237, 0.017628202214837074, -0.061499133706092834, -0.07958485186100006, -0.02220943756401539, -0.10948660969734192, -0.04488922655582428, -0.049337100237607956, -0.029703883454203606, 0.11137890815734863, -0.0026568309403955936, 0.02013886161148548, -0.02366323210299015, 0.005736328661441803, 0.04109656810760498, 0.024285487830638885, -0.021978996694087982, 0.04258769005537033, -0.002141823759302497, 0.09819133579730988, -0.114388108253479, -0.04149932041764259, 0.20154260098934174, -0.004593200515955687, -0.005785613786429167, -0.05097782984375954, -0.046294212341308594, 0.07444223016500473, 0.003898358903825283, 0.030573809519410133, -0.04796900227665901, -0.015697361901402473, 0.0027995228301733732, -0.0626300498843193, 0.03613605722784996, -0.07696221023797989, 0.007276368327438831, -0.00899703148752451, -0.11639691889286041, 0.050411202013492584, 0.006068496033549309, 0.05210542306303978, -0.03918043524026871, 0.002925205510109663, 0.05542251095175743, 0.0005817954079248011, 0.046709075570106506, 0.02589740790426731, 0.016418535262346268, 0.022649960592389107, -0.025282375514507294, -0.03075656294822693, -0.0020004615653306246, -0.02691577933728695, 0.020042598247528076, -0.029063811525702477, -0.482395738363266, -0.021006887778639793, -0.0028136158362030983, 0.0699046403169632, -0.025875793769955635, 0.09773381799459457, -0.01771056093275547, -0.023066425696015358, -0.02223796956241131, -0.06478408724069595, -0.0711507648229599, 0.09771761298179626, 0.0770692452788353, 0.060004718601703644, -0.3186296224594116, 0.01367978285998106, 0.009210256859660149, 0.018468530848622322, 0.04185096174478531, 0.059181276708841324, -0.00032214491511695087, 0.1050715520977974, 0.04615071788430214, 0.06945621967315674, -0.05030517652630806, 0.08050232380628586, -0.12331128865480423, -0.026219084858894348, -0.0017445817356929183, 0.01855023205280304, -0.030911216512322426, 0.01267296727746725, -0.08483058959245682, 0.1339358389377594, 0.07437576353549957, -0.03428804874420166, -0.037777625024318695, 0.04481477290391922, 0.003590361913666129, 0.0039510163478553295, 0.0026046663988381624, -0.03104419633746147, 0.08262399584054947, 0.003180045634508133, -0.009668814018368721, -0.17109441757202148, 0.022324666380882263, -0.0345689132809639, -0.03692297264933586, 0.018390266224741936, 0.03440330550074577, 0.08289395272731781, -0.12162786722183228, -0.011032997630536556, -0.06280439347028732, 0.004759880248457193, 0.045342620462179184, -0.032343897968530655, -0.009672670625150204, -0.06981894373893738, 0.03901216760277748, 0.033543653786182404, -0.07675890624523163, -0.015263390727341175, -0.06034932658076286, -0.0029176983516663313, -0.05984608083963394, -0.03383299708366394, 0.119808629155159, 0.017176616936922073, 0.011215019039809704, 0.020104363560676575, -0.05528610199689865, 0.008286549709737301, -0.03491021692752838, -0.008678880520164967, 0.009940060786902905, 0.046322837471961975, -0.005792664829641581, 0.0007356461719609797, -0.07992055267095566, 0.0823226049542427, -0.05967862531542778, -0.030093736946582794, 0.018954822793602943, -0.01531258411705494, 0.05039642006158829, 0.08330357074737549, -0.054002005606889725, -0.023008517920970917, -0.01750376634299755, 0.03494856879115105, 0.02509591355919838, -0.02487378939986229, 0.07015666365623474, -0.012940418906509876, 0.08457795530557632, 0.042771872133016586, 0.00018470879876986146, 0.04237838461995125, 0.07554363459348679, 0.07115573436021805, 0.11401824653148651, 0.11866459250450134, -0.09476418793201447, 0.06230424344539642, -0.09964967519044876, -0.022703109309077263, -0.12161940336227417, 0.0901694968342781, 0.15226292610168457, -0.06826754659414291, -0.009507020935416222, -0.03046294115483761, 0.1970270872116089, -0.034992560744285583, -0.013087204657495022, 0.11897926777601242, 0.02116008661687374, -0.05849051848053932, 0.0791640356183052, -0.04157361760735512, -0.022567613050341606, -0.02391018532216549, -0.02411830797791481, 0.04765336588025093, -0.02774885483086109, -0.008028327487409115, 0.0153335090726614, -0.04487551748752594, -0.056100841611623764, -0.04797086864709854, 0.051610931754112244, 0.06709043681621552, 0.10988903045654297, -0.0654081404209137, 0.08774970471858978, -0.006125956308096647, 0.05624854192137718, -0.039770498871803284, 0.0123962527140975, -0.02083422802388668, -0.08962032943964005, 0.0976179838180542, 0.025459758937358856, -0.07391300052404404, 0.054164305329322815, -0.04058409109711647, 0.07116855680942535, 0.03839565068483353, 0.12062133103609085, 0.10276614129543304, -0.06001761928200722, 0.09117849171161652, 0.04670637100934982, -0.01252339780330658, 0.03843309357762337, -0.030296266078948975, -0.045668184757232666, 0.019372591748833656, -0.06953024864196777, 0.057543642818927765, 0.012570098042488098, -0.06024976819753647, -0.025503715500235558, -0.10271867364645004, 0.013119330629706383, -0.02790769748389721, -0.03933217376470566, -0.05247562751173973, 0.009196283295750618, -0.0028287407476454973, 0.02270125225186348, 0.045911312103271484, 0.036984868347644806, -0.0681433230638504, 0.06296931952238083, -0.06562326848506927, -0.01647661253809929, -0.022190699353814125, 0.005388718098402023, -0.07245923578739166, -0.026008201763033867, -0.29159459471702576, 0.04387764260172844, 0.008863157592713833, -0.051017649471759796, 0.1241423562169075, 0.09656530618667603, 0.00987809058278799, 0.066155806183815, 0.06646472215652466, -0.016306119039654732, 0.07293469458818436, -0.014220578595995903, -0.007018194999545813, -0.06981492042541504, -0.10214930772781372, -0.09830279648303986, -0.032132942229509354, -0.008946748450398445, -0.14647580683231354, 0.008216401562094688, -0.00988243892788887, 0.02779633365571499, 0.06930409371852875, -0.08928193151950836, 0.11215303838253021, 0.09535080194473267, 0.06122593581676483, -0.01964917592704296, 0.006891900673508644, -0.06820669025182724, -0.014069875702261925, 0.02683880738914013, -0.0016281483694911003, 0.03735313564538956, -0.002223596442490816, 0.02349862828850746, -0.0002296456223120913, -0.11323190480470657, -0.046722088009119034, -0.021304437890648842, -0.06285099685192108, -0.043377526104450226, -0.09660651534795761, 0.06757556647062302, -0.12669022381305695, -0.06819304823875427, -0.026355894282460213, 0.03069927729666233, -0.028075052425265312, 0.05759422481060028, -0.02141847461462021, -0.06715407967567444, -0.04249481111764908, 5.070838451385498, -0.053178057074546814, 0.01891012117266655, -0.03871237486600876, 0.044448673725128174, -0.04730095714330673, 0.031765811145305634, 0.018943428993225098, 0.10475340485572815, 0.017457544803619385, 0.11794394254684448, 0.06811651587486267, 0.0353202223777771, -0.038855623453855515, -0.03468262404203415, 0.2245417833328247, -0.04645417630672455, -0.027317684143781662, -0.03739059343934059, -0.07490086555480957, 0.633043110370636, 0.04592741280794144, 0.011457090266048908, 0.0577261745929718, 0.009466003626585007, -0.030140910297632217, -0.017162393778562546, -0.09521342068910599, 0.03946568816900253, 0.025373725220561028, -0.012150212191045284, 0.01707453839480877, 0.07663407921791077, 0.005986600182950497, -0.04097495600581169, -0.07889339327812195, -0.08358422666788101, -0.013566691428422928, -0.0634998083114624, 0.02022554539144039, 0.051514413207769394, -0.006999611854553223, 0.00040494074346497655, -0.04338551685214043, 0.024909768253564835, -0.07010022550821304, -0.27222612500190735, -0.05070147290825844, 0.046996429562568665, 0.055321671068668365, 0.0783776342868805, 0.181608647108078, -0.0934663638472557, 0.07417097687721252, 0.3187776505947113, -1.7444233894348145, 0.05820124223828316, -0.07564184069633484, -0.06594767421483994, -0.04922647029161453, -0.020145898684859276, -0.08827806264162064, 0.08691702783107758, 0.05839075148105621, 0.015477742999792099, 0.020395658910274506, -0.011495640501379967, 0.10570192337036133, 0.12989281117916107, 0.007984843105077744, 0.028700092807412148, -0.057665254920721054, -0.024903617799282074, -0.023602817207574844, 0.02429928630590439, 0.06713280826807022, 0.03362644463777542, -0.05471128225326538, -0.09626894444227219, 0.054199643433094025, 0.04147708788514137, -0.020765895023941994, 0.02305360697209835, -0.012786890380084515, -0.05818653106689453, 0.039820149540901184, 0.04461474344134331, -0.012202626094222069, -0.03726246953010559, 0.06272735446691513, 0.04407855495810509, -0.057088375091552734, 0.0299774631857872, 0.018534230068325996, -0.05504965782165527, 0.05469297617673874, 0.034707557410001755, -0.021759023889899254, 0.04769377037882805, 0.048272959887981415, 0.1803370714187622, -0.039315298199653625, 0.01844344474375248, -0.022911520674824715, -0.0743357315659523, 0.03567468002438545, -0.050593987107276917, 0.0802672952413559, -0.015897389501333237, -0.06543020159006119, 0.08585311472415924, -0.04149476811289787, -0.12931925058364868, 0.10818157345056534, 0.04942488670349121, 0.0677638053894043, -0.052603621035814285, -0.0069411322474479675, 0.16799674928188324, 0.08372712880373001, 0.16871525347232819, 0.020351562649011612, 0.06441477686166763, -0.00022034010908100754, 0.0029923266265541315, -0.06034509837627411, -0.07009537518024445, -0.005366481840610504, -0.09192585200071335, 0.147578626871109, -0.013324534520506859, -0.07861391454935074, 0.04744153097271919, -0.011298228055238724, -0.1536189466714859, 0.03537237271666527, -0.006666293367743492, -0.06337323784828186, -0.0231523048132658, -0.06811092793941498, 0.01358774770051241, 0.019766509532928467, 0.04874858632683754, 0.0025915626902133226, -0.0011373328743502498, -0.015585235320031643, 0.057066284120082855, -0.04430898278951645, -0.03554873540997505, -0.07619617879390717, -0.04265236482024193, -0.03141200914978981, -0.06816396117210388, 0.004287612158805132, -0.03586393594741821, 0.018964581191539764, -0.05145600065588951, 0.12486337125301361, 0.07400479912757874, -0.04659578204154968, -0.04517371580004692, 0.0031943325884640217, 0.0052125598303973675, -0.017651688307523727, 0.07442080974578857, 0.010086555033922195, -0.0752241238951683, -0.006854301318526268, 0.043735504150390625, -0.05035044625401497, -0.08758138120174408, -0.17344163358211517, 0.007322710007429123, -0.09531765431165695, 0.04563144966959953, -0.048521753400564194, 0.011101027950644493, -0.031767502427101135, 0.021892961114645004, 0.01071133278310299, -0.08264794200658798, -0.036132004112005234, -0.027341438457369804, -0.14368711411952972, 0.15711641311645508, -0.009302045218646526, -0.06733440607786179, -0.05176416039466858, 0.018557770177721977, 0.016033925116062164, 0.09001027047634125, -0.015354977920651436, -0.06596247851848602, -0.02190661057829857, -0.07708122581243515, -0.05616963654756546, 0.007247399538755417, -0.08374428749084473, -0.055135615170001984, -0.08896340429782867, -0.01975873112678528, -0.004519000183790922, -0.11722426116466522, 0.03686671704053879, 0.11070149391889572, 0.012578107416629791, 0.03273717686533928, 0.05627987161278725, -0.05846589058637619, -0.06377263367176056, 0.027823539450764656, 0.0028564396779984236, 0.006719949189573526, 0.043696001172065735, 0.009123687632381916, -0.00894206389784813, -0.02045108750462532, -0.028719445690512657, -0.011639055795967579, 0.018790071830153465, 0.03092951700091362, 0.06326805055141449, -0.015748441219329834, -0.010085709393024445, -0.015154843218624592, -0.03297237679362297, 0.03452903777360916, -0.037809837609529495, 0.029321717098355293, -0.0050621735863387585, -0.004606174770742655, -0.01792985387146473, 0.015844423323869705, -0.0779852569103241, -0.0009350664913654327, -6.28951020189561e-05, -0.025965431705117226, -0.01333881076425314, 0.024614734575152397, -0.05531345680356026, 0.0030048193875700235, -0.02964671328663826, 0.0716715157032013, 0.028250031173229218, 0.022747253999114037, -0.042014651000499725, -0.09117958694696426, -0.10592208802700043, -0.08683674037456512, 0.09341000765562057, 0.0011355795431882143, -0.020906556397676468, -0.035472556948661804, 0.04819057509303093, 0.054273419082164764], [0.058808669447898865, 0.028809338808059692, -0.08032841235399246, -0.10435870289802551, -0.03395097330212593, -0.08357463777065277, 0.04350578412413597, -0.09908747673034668, -0.010380555875599384, -0.09183740615844727, -0.013568072579801083, 0.035616129636764526, 0.10824950784444809, 0.16704069077968597, 0.06118446961045265, 0.05201999843120575, -0.08534075319766998, 0.09010664373636246, 0.0741533637046814, -0.051488056778907776, -0.032989706844091415, 0.015654411166906357, 0.050341323018074036, -0.03690167888998985, 0.011884093284606934, -0.05451155826449394, 0.004958997946232557, -0.0012405203888192773, 0.09043776243925095, 0.03610675036907196, -0.19261565804481506, 0.07833573967218399, -0.1827925592660904, 0.010372047312557697, 0.03944285213947296, -0.09071490913629532, 0.11194418370723724, -0.012939835898578167, -0.01998233050107956, -0.13635773956775665, 0.025823598727583885, 0.09356806427240372, 0.017593760043382645, 0.09265656024217606, 0.029430491849780083, -0.10974989831447601, 0.03276865556836128, 0.014465044252574444, 0.06022397428750992, 0.008025068789720535, -0.06412547826766968, 0.03661128133535385, -0.006223995238542557, -0.01530195027589798, 0.03658963739871979, -0.022851141169667244, -0.028653008863329887, -0.20385663211345673, -0.055592767894268036, 0.015308749862015247, -0.09106166660785675, -0.013208107091486454, -0.039011429995298386, 0.11983315646648407, -0.06469753384590149, 0.014097354374825954, 0.0632181391119957, 0.07259448617696762, 0.03292911499738693, -0.16964714229106903, -0.0002920395345427096, 0.014356281608343124, 0.010955991223454475, 0.0028451622929424047, 0.1076369658112526, -0.007730280514806509, -0.09541063755750656, 0.05411714315414429, 0.10442443192005157, 0.00013587332796305418, 0.0032162198331207037, 0.08016860485076904, 0.019522016867995262, -0.05257787927985191, 0.01914745569229126, -0.06630032509565353, -0.060737378895282745, -0.04781575873494148, 0.02301154099404812, 0.007587832864373922, -0.00012363246059976518, -0.04665188863873482, 0.011443059891462326, 0.026178983971476555, 0.09040823578834534, -0.014301005750894547, 0.21988554298877716, -0.0636267215013504, 0.1468385010957718, 0.09370841085910797, 0.07129979878664017, -0.10557729005813599, -0.08709297329187393, 0.04039092734456062, 0.010330690070986748, -0.13147737085819244, 0.02873959206044674, -0.01738082244992256, 0.02958117239177227, 0.04490228369832039, -0.03708592429757118, -0.05634462833404541, -0.022373804822564125, -0.03391363471746445, 0.0635119155049324, -0.02082068845629692, -0.024005942046642303, 0.11128682643175125, -0.006695508025586605, 0.023375820368528366, -0.06187460944056511, 0.07336246222257614, -0.07747399061918259, 0.029778849333524704, -0.022501977160573006, 0.06621363013982773, -0.01700783707201481, 0.09782136231660843, -0.009550408460199833, 0.07894676178693771, 0.0034133668523281813, 0.10324732959270477, -0.05529594048857689, 0.027439231052994728, 0.0687655583024025, -0.01754535175859928, -0.05732101574540138, 0.12367185205221176, 0.021305302157998085, -0.018374336883425713, -0.07181362807750702, 0.030894532799720764, 0.08720730990171432, -0.47045525908470154, 0.06326121836900711, 0.3932202458381653, -0.10842078179121017, 0.0006180604686960578, -0.041848182678222656, 0.06678172200918198, 0.01858002506196499, -0.03866785392165184, -0.013301543891429901, -0.0107997702434659, -0.2540991008281708, -0.054405327886343, -0.03693237155675888, 0.008887148462235928, 0.08077669143676758, 0.1298525482416153, -0.0016892108833417296, 0.04398050904273987, 0.2569763958454132, 0.009611000306904316, 0.09050983190536499, -0.01995990239083767, -0.07316820323467255, 0.03375334292650223, 0.050571031868457794, -0.10500387847423553, -0.08681917190551758, -0.07756876945495605, -0.07874629646539688, 0.05054308846592903, 0.048357971012592316, 0.07873024791479111, -0.12968739867210388, -0.14498011767864227, 0.029767632484436035, 0.0014492019545286894, 0.014175049029290676, -0.11623263359069824, -0.152142733335495, -0.06381788104772568, 0.005495360586792231, -0.009850759990513325, -0.08446076512336731, -0.03317130357027054, -0.093165323138237, -0.04753284156322479, -0.029577171429991722, 0.034299470484256744, -0.020801600068807602, -0.08298531174659729, 0.03345589339733124, -0.02742740325629711, 0.06998930126428604, 0.008040319196879864, -0.014313199557363987, -0.03472958132624626, 0.014535759575664997, 0.012429086491465569, 0.003087997902184725, 0.0025351312942802906, 0.09396727383136749, -0.04660773277282715, -0.020894991233944893, 0.10863712430000305, -0.010500278323888779, -0.008108457550406456, -0.1564144492149353, 0.034413520246744156, -0.037980008870363235, 0.0038846940733492374, -0.07382670789957047, -0.05916070193052292, -0.08228489756584167, -0.027649326249957085, -0.05429549515247345, 0.048142533749341965, 0.265067458152771, 0.05504006892442703, -0.013632053509354591, 0.013605758547782898, -0.04067239910364151, 0.09518466889858246, 0.07941213995218277, 0.1396726369857788, -0.0823974758386612, 0.08635513484477997, -0.03193774074316025, 0.013909418135881424, 0.011359077878296375, 0.0005173890967853367, -0.06109138950705528, 0.017692813649773598, -0.41457098722457886, 0.1588277965784073, -0.08662334084510803, -0.05557592585682869, 0.020294876769185066, 0.04062078893184662, 0.00085837283404544, 0.025372421368956566, 0.1289270520210266, -0.002942941850051284, -0.08218777924776077, -0.1101500391960144, 0.07566630095243454, -0.04443728178739548, -0.008560292422771454, -0.06647221744060516, 0.09976328164339066, 0.05302777141332626, -0.07846124470233917, -0.047309573739767075, -0.09484030306339264, 0.13369332253932953, -0.005138575565069914, 0.004343616310507059, -0.06522800773382187, -0.17393046617507935, 0.050998255610466, 0.07562518864870071, -0.030028270557522774, 0.12265930324792862, -0.15546216070652008, 0.04078604653477669, 0.06659146398305893, -0.14133711159229279, -0.1008298248052597, -0.024093469604849815, -0.026825062930583954, -0.06128745153546333, 0.05697828531265259, 0.45986419916152954, -0.04959791898727417, 0.002360193757340312, 0.12434134632349014, 0.14383503794670105, -0.11606241017580032, -0.0278227049857378, -0.033422186970710754, -0.06840994209051132, -0.0031267236918210983, 0.056314606219530106, -0.0040422058664262295, -0.0085380794480443, -0.011346478946506977, 0.11433220654726028, 0.11785408854484558, 0.5340352058410645, 0.09555405378341675, 0.04267506301403046, -0.07931920140981674, 0.04349049925804138, 0.09368575364351273, -0.01383190043270588, -0.026371732354164124, -0.022323301061987877, 0.03219703584909439, 0.06694589555263519, 0.006640088744461536, 0.07272648066282272, -0.0827084630727768, 0.02179434522986412, 0.05315567925572395, 0.024547221139073372, -0.024210229516029358, -0.02237986959517002, -0.0008541221613995731, -0.05470266938209534, -0.025740688666701317, -0.021684033796191216, 0.08918565511703491, -0.0054465956054627895, -0.05773130804300308, -0.10278474539518356, -0.03186230733990669, 0.0012244811514392495, 0.00048211883404292166, -0.005923011805862188, 0.06306286156177521, 0.07105284929275513, -0.06220818683505058, -0.025345247238874435, 0.09274207800626755, 0.01704179123044014, 0.12214607745409012, 0.1420113444328308, -0.0742969959974289, -0.020549841225147247, 0.04966150224208832, -0.05763409659266472, 0.007538910489529371, 0.058835502713918686, 0.0843350812792778, -0.07489044219255447, 0.05627267807722092, -0.021774904802441597, 0.03294489160180092, 0.012018254958093166, 0.03188534826040268, 0.08700346201658249, 0.005049833096563816, 0.014199970290064812, -0.028978722169995308, 0.06765920668840408, 0.05707284435629845, -0.01031650323420763, -0.007233123295009136, -0.08016464859247208, 0.030082767829298973, -0.031038666144013405, -0.08290274441242218, -0.04187382757663727, -0.02259889617562294, 0.03214707598090172, -0.045030221343040466, -0.09252069890499115, -0.0838078185915947, 0.043679893016815186, -0.023207424208521843, 0.018635448068380356, -0.028658725321292877, 0.023010777309536934, 0.16085943579673767, -0.027468593791127205, -0.0342230424284935, -0.10209210216999054, 0.13070082664489746, -0.027944626286625862, 0.006633303128182888, -0.06532022356987, -0.20655480027198792, 0.030868912115693092, 0.0739007294178009, 0.06768771260976791, -0.015932587906718254, 0.022597987204790115, -0.07642083615064621, 0.09038540720939636, 0.026614459231495857, 0.025201939046382904, 0.015848983079195023, -0.08285319060087204, -0.16268837451934814, -0.009657779708504677, 0.02060646191239357, -0.01519469078630209, 0.024358900263905525, -0.01787661574780941, 0.04361237585544586, 0.0843670517206192, -0.061339907348155975, 0.021020786836743355, -0.054775726050138474, 0.03229252249002457, -0.055662453174591064, -0.025832707062363625, 0.052790943533182144, 0.003944652155041695, -0.1565980464220047, -0.03646541014313698, -0.05011066794395447, -0.09894269704818726, -0.01441146619617939, -0.005095236003398895, 0.046118490397930145, -0.06816372275352478, -0.02162676677107811, 0.12477927654981613, -0.0962325930595398, -0.021941600367426872, -0.026058753952383995, -0.019552014768123627, 0.1587999165058136, 0.05705577880144119, 0.09074150770902634, -0.1398053616285324, 0.011946994811296463, 0.037021249532699585, -0.08771681785583496, 0.04868411645293236, -0.07125120609998703, 0.060435909777879715, 0.03263373300433159, 0.02142847515642643, -0.0058649335987865925, 0.05107642337679863, 0.018530117347836494, 0.04451144114136696, -0.08422427624464035, 0.06819696724414825, -0.0904509574174881, -0.4403085708618164, -0.04179299622774124, -0.04804959148168564, 0.025922462344169617, 0.02328980714082718, -0.1028871089220047, -0.04687716066837311, -0.1054728552699089, 0.05317393317818642, -0.027017105370759964, 0.04071323946118355, 0.0726645290851593, 0.033105410635471344, 0.08310387283563614, -0.09720758348703384, 0.06938085705041885, -0.03798244148492813, -0.08854970335960388, -0.04337573051452637, -0.1188684031367302, 0.044566310942173004, -0.016245564445853233, 0.0011410703882575035, -0.15224124491214752, -0.041337933391332626, 0.09867913275957108, 0.06068984791636467, 0.016411067917943, 0.05149279162287712, 0.016863161697983742, -0.0425926074385643, -0.045774608850479126, -0.15721440315246582, -0.09966222196817398, -0.07754597812891006, 0.002968811197206378, -0.009082428179681301, -0.07241268455982208, 0.12494659423828125, 0.06345419585704803, 0.024104492738842964, 0.04641455039381981, -0.1589512974023819, -0.12952645123004913, -0.007767666596919298, -0.09992193430662155, -0.03863006457686424, -0.04418288543820381, -0.03301503136754036, -0.11366672813892365, -0.05266868323087692, 0.04586092382669449, 0.04650245979428291, 0.05160851776599884, -0.0031615158077329397, -0.0019902538042515516, 0.08320034295320511, 0.040430355817079544, -0.03448867052793503, 0.094190813601017, 0.10557777434587479, 0.1479974389076233, -0.08893624693155289, -0.16088613867759705, 0.11385274678468704, -0.001786803943105042, -0.0009767228038981557, 0.02206350304186344, 0.04492880031466484, 0.08206071704626083, -0.01632729172706604, 0.030041756108403206, -0.031221166253089905, 0.02191827818751335, 0.04125180095434189, 0.04714905470609665, 0.07220565527677536, 0.015463294461369514, -0.004342788830399513, 0.002924239030107856, -0.06907952576875687, 0.11097142845392227, 0.03698848932981491, 0.12989100813865662, -0.02174496278166771, -0.019175177440047264, -0.02672330103814602, 0.01606450416147709, -0.02163536474108696, 0.08330374211072922, 0.024097595363855362, 0.09201990067958832, 0.06637047231197357, -0.05145148187875748, 0.029959408566355705, 0.03826840594410896, 0.039494022727012634, -0.02197585068643093, -0.7020161747932434, -0.10544028878211975, 0.03865145519375801, 0.02748318575322628, -0.029983099550008774, 0.13029241561889648, 0.04638824611902237, -0.05463015288114548, 0.05610527843236923, -0.040519632399082184, -0.02846437506377697, 0.011335371062159538, 0.04232567548751831, -0.030451131984591484, -0.21348121762275696, -0.060787126421928406, 0.11483079940080643, 0.019070543348789215, 0.013808174058794975, 0.037587132304906845, -0.0856122076511383, 0.035632289946079254, 0.042377814650535583, 0.06213465332984924, -0.07224820554256439, 0.046275969594717026, -0.08522546291351318, -0.07334529608488083, -0.07001999765634537, -0.019041718915104866, -0.021355221047997475, 0.01951482705771923, -0.038172777742147446, 0.08875636756420135, 0.03050440363585949, -0.031197482720017433, 0.02084115892648697, -0.028321897611021996, 0.07338054478168488, -0.06306541711091995, -0.023881759494543076, -0.05419348180294037, 0.03184927627444267, 0.02355469949543476, 0.045752737671136856, -0.03246725723147392, -0.06756477057933807, -0.04392268881201744, -0.09896368533372879, -0.0418577715754509, 0.032738592475652695, 0.035425398498773575, -0.11528871953487396, -0.02456573210656643, -0.11842049658298492, 0.09894534200429916, 0.05063822120428085, -0.045995600521564484, -0.002589960116893053, -0.09814776480197906, 0.014979032799601555, 0.015492605976760387, -0.10196685045957565, -0.03284648805856705, -0.01104377768933773, -0.08389057964086533, -0.0777171179652214, 0.10602831095457077, 0.0711572989821434, -0.02431151084601879, -0.03243480250239372, 0.0340617336332798, -0.00885028950870037, 0.015545571222901344, 0.002695878967642784, 0.030667398124933243, -0.00855595525354147, -0.013282909989356995, 0.005577661097049713, -0.04469132423400879, -0.05779168754816055, 0.07724980264902115, -0.02070675417780876, -0.025943446904420853, 0.030278725549578667, -0.07259303331375122, 0.027155715972185135, 0.12041053175926208, 0.005107568576931953, -0.02917318418622017, -0.012851136736571789, 0.050556402653455734, -0.0052030691877007484, -0.020333368331193924, -0.00019488870748318732, -0.0626886636018753, -0.09094588458538055, 0.024685915559530258, 0.002559949643909931, 0.15505343675613403, 0.11295192688703537, 0.14229963719844818, 0.1463320553302765, 0.11125481873750687, 0.003558690194040537, 0.09511151164770126, -0.1042509377002716, 0.053935032337903976, 0.027004821226000786, -0.0252254456281662, 0.17242416739463806, -0.06512276083230972, 0.019323794171214104, -0.014861286617815495, 0.16654665768146515, -0.05614365264773369, -0.04529085382819176, 0.1374337524175644, 0.010233110748231411, -0.04121211916208267, 0.07388715445995331, -0.02772051841020584, -0.05482377111911774, -0.004968569148331881, 0.06029607728123665, 0.038618285208940506, -0.08265313506126404, 0.016941415145993233, 0.00910954363644123, -0.0655585452914238, -0.025902612134814262, 0.09438265860080719, 0.0660851001739502, 0.10979927331209183, 0.023168863728642464, -0.009653742425143719, 0.044271569699048996, 0.11261945217847824, -0.014726163819432259, 0.0683615431189537, -0.02921190857887268, -0.05296725407242775, -0.0632094293832779, -0.03366236761212349, -0.049854524433612823, -0.04955098778009415, 0.02934868633747101, -0.0248513575643301, 0.0722229853272438, -0.012198220938444138, 0.13084419071674347, 0.0077744098380208015, -0.05312401056289673, 0.1962302178144455, 0.01540763583034277, -0.06980676203966141, -0.0029574218206107616, -0.09165726602077484, 0.10354365408420563, 0.06271518766880035, 0.0019032282289117575, 0.08042929321527481, 0.10891250520944595, 0.01674819365143776, -0.07404062151908875, -0.12730583548545837, -0.012589194811880589, -0.03293194994330406, -0.14991044998168945, -0.06221052259206772, 0.018352095037698746, 0.05722673982381821, 0.07410087436437607, 0.0042359656654298306, 0.15957298874855042, -0.022046644240617752, 0.093765489757061, -0.015986651182174683, -0.06737232953310013, 0.04719284921884537, 0.011864885687828064, 0.0171849112957716, -0.007178876083344221, -0.4610908627510071, 0.056445714086294174, 0.019186342135071754, -0.05722169578075409, 0.04179384931921959, 0.05354883894324303, -0.01465035229921341, 0.11425016075372696, 0.04631046578288078, 0.05518867447972298, 0.05473383516073227, -0.004664895124733448, -0.04690232127904892, 0.02772057242691517, -0.09916754066944122, -0.02170453779399395, 0.06785447895526886, 0.015962427482008934, -0.09688950330018997, -0.07772071659564972, -0.0991949737071991, 0.03070855140686035, 0.08572882413864136, -0.07253166288137436, 0.14523521065711975, -0.0783609077334404, 0.0033412992488592863, -0.015895608812570572, -0.06800702959299088, -0.09705942124128342, -0.0022820113226771355, 0.05699558183550835, -0.03533148393034935, 0.09043939411640167, -0.10627266764640808, 0.08222750574350357, -0.0030488623306155205, -0.03984826058149338, -0.06001972034573555, 0.018030967563390732, -0.05420150235295296, -0.03636534884572029, -0.04193885624408722, -0.0009219704079441726, -0.1484382301568985, -0.06423227488994598, 0.035809021443128586, 0.04670559987425804, -0.023627810180187225, 0.029821928590536118, -0.056657347828149796, 0.027018599212169647, -0.07592813670635223, 4.9204607009887695, -0.0602698028087616, 0.06065184995532036, -0.052689000964164734, 0.00010973883763654158, -0.18580883741378784, 0.02572992630302906, -0.07439809292554855, 0.04505041241645813, -0.04993319511413574, 0.16077253222465515, 0.04730566218495369, -0.06648431718349457, 0.03581951931118965, -0.09028400480747223, 0.2350558489561081, -0.09389910846948624, -0.07731994241476059, -0.030465800315141678, 0.0896175429224968, 0.6581978797912598, 0.06917241960763931, 0.027130570262670517, 0.05307673290371895, -0.0038839776534587145, 0.05389009416103363, -0.06431611627340317, -0.09892052412033081, 0.040840961039066315, 0.09062641113996506, 0.07865394651889801, 0.0027283404488116503, -0.03582523390650749, -0.07034169137477875, -0.05665085092186928, 0.011208451353013515, -0.049551937729120255, -0.03439580649137497, -0.05272204056382179, 0.04450320824980736, 0.012770451605319977, -0.02083725854754448, 0.06608326733112335, -0.029114358127117157, 0.015948493033647537, -0.07559915632009506, -0.16381745040416718, -0.0802135169506073, 0.04677906259894371, 0.021205097436904907, 0.06130598485469818, 0.05803427845239639, -0.033534422516822815, 0.04561758041381836, 0.37283846735954285, -1.8369604349136353, 0.035712238401174545, -0.024192756041884422, -0.10736219584941864, -0.025436289608478546, -0.023615792393684387, -0.016597801819443703, 0.06751150637865067, 0.033868208527565, 0.05255408212542534, 0.028060942888259888, 0.023402655497193336, 0.007615266367793083, 0.008409927599132061, 0.008886728435754776, 0.02997920662164688, -0.06552794575691223, 0.037570081651210785, -0.06579089164733887, -0.03054106794297695, 0.08972523361444473, -0.044409576803445816, -0.00517657957971096, -0.10759573429822922, -0.009083014912903309, 0.14950965344905853, -0.02779272384941578, 0.06374489516019821, -0.018019279465079308, -0.08030346781015396, 0.028685947880148888, 0.014385576359927654, -0.04017191752791405, -0.13645155727863312, 0.11604318767786026, 0.058885201811790466, 0.011104410514235497, 0.05460401996970177, -0.05173359811306, -0.012998857535421848, 0.08045553416013718, -0.05092092603445053, 0.01707705855369568, 0.061393853276968, 0.031674716621637344, 0.0674319639801979, -0.14821521937847137, -0.020266031846404076, -0.005350380204617977, -0.11540930718183517, 0.08470745384693146, 0.05020343139767647, 0.05640092119574547, -0.01773209311068058, -0.0723913311958313, 0.1364271640777588, -0.044881466776132584, -0.12234917283058167, 0.03730315342545509, 0.1727963387966156, 0.004919811151921749, -0.0423048734664917, 0.011269716545939445, 0.13676443696022034, 0.05348625034093857, 0.12500998377799988, -0.011914649046957493, -0.019752459600567818, -0.03548307344317436, -0.04838160052895546, -0.06963879615068436, 0.02298523113131523, 0.042849987745285034, -0.10981222987174988, 0.09040109068155289, -0.10697849094867706, -0.03327434882521629, -0.05259863659739494, -0.0329129658639431, -0.10324295610189438, -0.012661765329539776, 0.04434865340590477, -0.039043474942445755, 0.019945846870541573, -0.0909004658460617, 0.021356379613280296, 0.018705395981669426, 0.08665010333061218, 0.023861287161707878, -0.04888030141592026, -0.07938278466463089, 0.11967169493436813, -0.0066300248727202415, -0.021640468388795853, -0.05645754933357239, -0.07275291532278061, 0.014423410408198833, 0.010640350170433521, -0.03721872717142105, -0.036517202854156494, 0.02059507742524147, 0.032037872821092606, 0.0867425724864006, 0.056642383337020874, -0.021759945899248123, -0.06780550628900528, -0.1302061378955841, -0.005436256527900696, 0.010926657356321812, -0.021069837734103203, 0.05103549733757973, -0.07827406376600266, -0.049074187874794006, 0.004047091118991375, -0.12629397213459015, -0.045896824449300766, -0.18488365411758423, -0.07244925200939178, -0.05517474561929703, 0.03802524879574776, 0.025893546640872955, 0.021939804777503014, -0.015841562300920486, 0.01734236627817154, -0.050796445459127426, -0.025106903165578842, -0.0545249842107296, -0.05023699626326561, -0.10562574118375778, 0.1267692595720291, -0.019346067681908607, -0.0877089723944664, -0.05872530862689018, -0.031137783080339432, -0.08774511516094208, -0.007403260096907616, -0.1057853102684021, -0.016485994681715965, -0.002673837123438716, -0.03509512171149254, -0.03753388673067093, -0.06072801351547241, -0.051820021122694016, -0.004137880634516478, -0.1416965126991272, 0.005918565671890974, -0.06571020185947418, -0.05787397548556328, -0.010735766962170601, 0.08124671131372452, 0.08937276154756546, 0.03768530488014221, 0.06716463714838028, -0.009683717973530293, -0.01602955348789692, -0.017078913748264313, -0.06572582572698593, 0.05413195863366127, -0.061655253171920776, -0.09770044684410095, 0.010538948699831963, 0.0560767762362957, 0.04888450726866722, 0.008515814319252968, 0.10626339912414551, -0.0001057167537510395, 0.017443349584937096, -0.019487544894218445, 0.05477370694279671, -0.10305983573198318, -0.12097514420747757, 0.07454844564199448, -0.0020515532232820988, 0.060157373547554016, 0.0172430332750082, 0.052776999771595, -0.003312080167233944, -0.045733459293842316, -0.1352621167898178, -0.19582189619541168, 0.03531668335199356, -0.026070786640048027, 0.011769265867769718, 0.061768919229507446, -0.02203425019979477, -0.07141921669244766, 0.10349836200475693, -0.053504180163145065, -0.01946994848549366, -0.0016459181206300855, 0.0121150529012084, -0.06953875720500946, -0.0707566887140274, -0.057807933539152145, 0.08632224053144455, -0.051584530621767044, -0.08177193254232407, -0.005617454182356596, 0.039850909262895584, 0.10529046505689621], [0.0077501037158071995, 0.03800715133547783, -0.0017113324720412493, -0.0604647733271122, 0.05022077634930611, -0.033691901713609695, -0.023433348163962364, -0.0369410514831543, 0.004979945719242096, -0.0969221368432045, -0.04085220769047737, 0.05558709055185318, 0.05245755612850189, 0.011402669362723827, 0.06522587686777115, 0.022481366991996765, -0.005364842247217894, -0.03427229821681976, 0.04518035799264908, -0.08073533326387405, 0.010456585325300694, 0.03876394405961037, -0.05030720308423042, -0.07592830806970596, 0.0123080899938941, -0.009360142983496189, 0.02960856631398201, 0.04424966871738434, 0.028228309005498886, 0.045378535985946655, -0.07998371124267578, 0.05167519673705101, -0.15486210584640503, 0.10675086826086044, -0.001429232768714428, -0.05902542546391487, 0.06021080166101456, 0.0007995167979970574, -0.06276898831129074, -0.12332982569932938, -0.004826998803764582, 0.08155659586191177, -0.03879285231232643, 0.07727506756782532, 0.017160898074507713, -0.09283144772052765, 0.0334264412522316, -0.001535741612315178, -0.01373877190053463, -0.06885164231061935, 0.01565498113632202, 0.07665074616670609, -0.028322579339146614, 0.04068947955965996, 0.042823899537324905, -0.022579878568649292, -0.007746962830424309, -0.1341300755739212, -0.11328861862421036, 0.005501667503267527, -0.06262426823377609, 0.021588293835520744, 0.04050574079155922, 0.03737012669444084, -0.028598196804523468, 0.01728770323097706, 0.03265638276934624, 0.02498851716518402, 0.04052771255373955, -0.10442371666431427, 0.0534510537981987, -0.012919695116579533, 0.03175484389066696, 0.0013571333838626742, 0.07255920767784119, -0.030832646414637566, -0.08191753923892975, 0.027498703449964523, 0.05511306971311569, 0.03651246055960655, 0.013327141292393208, 0.004505230113863945, 0.02777758613228798, -0.008346514776349068, -0.007468951866030693, -0.0741308405995369, -0.003518922021612525, -0.14003100991249084, 0.01496976613998413, -0.0030972904060035944, 0.026535889133810997, -0.025852704420685768, 0.00906981248408556, -0.03198161721229553, 0.08616404235363007, 0.07143780589103699, 0.26827335357666016, -0.04937629774212837, 0.09405333548784256, 0.06729080528020859, 0.03994336724281311, -0.06720180809497833, -0.011581872589886189, 0.08904136717319489, -0.054662883281707764, -0.1549796164035797, -0.05554937571287155, -0.06880386918783188, 0.061891090124845505, 0.08711334317922592, 0.03408266603946686, -0.0020600534044206142, -0.02814476564526558, -0.006288428790867329, 0.02256203442811966, -0.060734763741493225, 0.011437954381108284, 0.05794660747051239, -0.08006223291158676, 0.05784223973751068, -0.013161619193851948, 0.055192142724990845, -0.08281249552965164, 0.026534587144851685, 0.022475112229585648, -0.0015785617288202047, 0.010003821924328804, -0.027182959020137787, 0.03066134639084339, 0.054699577391147614, -0.0641937255859375, 0.04100498557090759, 0.05619509890675545, -0.042802825570106506, 0.05419675633311272, 0.02971055544912815, 0.012062066234648228, 0.06026793643832207, -0.03892822563648224, 0.03180631622672081, 0.0008386480621993542, 0.037979673594236374, 0.044097863137722015, -0.4152136743068695, 0.024051262065768242, 0.6211488842964172, -0.12433582544326782, -0.031332697719335556, -0.022130491212010384, 0.009107361547648907, 0.0020976499654352665, -0.00038665530155412853, 0.0025141453370451927, -0.04407181590795517, -0.19087377190589905, 0.013847517780959606, -0.01688099279999733, 0.04932188242673874, 0.0627674013376236, 0.09017042815685272, -0.047137174755334854, 0.030156271532177925, 0.13960619270801544, 0.022239740937948227, -0.010398449376225471, -0.027332348749041557, -0.0701027363538742, -0.010940208099782467, 0.08254096657037735, -0.12815573811531067, -0.055406197905540466, -0.07246116548776627, -0.07893193513154984, -0.0406506285071373, -0.02664250321686268, 0.05433453246951103, -0.15058815479278564, -0.14184297621250153, -0.03172094747424126, 0.03030296601355076, 0.04125109314918518, -0.10642490535974503, 0.03991140052676201, -0.08075008541345596, 0.04745190963149071, -0.08145629614591599, -0.05981241539120674, 0.004215775057673454, -0.0493333637714386, -0.08493082970380783, 0.0511300303041935, -0.02006332390010357, -0.06288593262434006, -0.01836497336626053, 0.04957117885351181, -0.014881559647619724, 0.14691923558712006, -0.024331996217370033, -0.034477729350328445, -0.0560399629175663, -0.031062748283147812, -0.021243443712592125, -0.0018138422165066004, -0.05397066846489906, 0.02776101604104042, -0.01603727601468563, 0.016029151156544685, 0.09531396627426147, -0.011016001924872398, 0.012072536163032055, -0.11499156057834625, 0.0507185198366642, -0.07961839437484741, -0.009957444854080677, 0.036614637821912766, -0.012007799930870533, 0.013920421712100506, 0.09340177476406097, 0.027582190930843353, 0.002248726785182953, 0.39631375670433044, 0.020380452275276184, 0.013080143369734287, 0.004729351494461298, -0.05782092735171318, 0.1271529197692871, 0.08784043043851852, 0.09325011074542999, -0.07020480930805206, 0.01003612857311964, 0.004309977870434523, -0.08963237702846527, 0.012359239161014557, -0.03154132515192032, -0.006057091522961855, 0.02416021190583706, -0.5108611583709717, 0.0779661312699318, -0.051805268973112106, -0.05527006462216377, 0.0348634272813797, 0.1231536790728569, -0.02157587558031082, -0.03069125860929489, 0.17834481596946716, 0.0869864672422409, -0.08422888815402985, -0.09958596527576447, 0.10881829261779785, -0.050290562212467194, -0.031411923468112946, -0.04964029788970947, 0.11352552473545074, -0.0257615614682436, -0.03160050883889198, 0.029538309201598167, -0.00026668215286917984, 0.07541218400001526, 0.0645446702837944, 0.05072112753987312, -0.022319795563817024, -0.10023321956396103, -0.011241450905799866, 0.021675795316696167, -0.03308473527431488, 0.08563963323831558, -0.04555434361100197, 0.04013562574982643, -0.010791006498038769, -0.13823828101158142, -0.07882050424814224, 0.03526515141129494, 0.046750761568546295, 0.010785441845655441, 0.011391764506697655, 0.21444545686244965, -0.06915932893753052, -0.09233275800943375, 0.05440168082714081, 0.00478729885071516, -0.014056618325412273, -0.020301179960370064, -0.07781445980072021, 0.024112751707434654, -0.012545916251838207, 0.061944544315338135, -0.04071849584579468, -0.07778353989124298, 0.0030418166425079107, 0.10522270947694778, 0.07119408994913101, 0.5335611701011658, 0.05504901334643364, -0.028180941939353943, 0.00023639935534447432, 0.036225881427526474, -0.010329710319638252, -0.0609322190284729, -0.082891546189785, -0.021048858761787415, -0.04944358021020889, -0.06552211195230484, 0.007829687558114529, 0.0019340957514941692, 0.031704433262348175, -0.0390072762966156, -0.04343234375119209, 0.06249157339334488, 0.04809189960360527, -0.010924973525106907, -0.03609953075647354, -0.05061207339167595, 0.08506615459918976, 8.079065446509048e-05, 0.030408494174480438, -0.08658064901828766, -0.03305935859680176, -0.034695032984018326, 0.10292043536901474, -0.030688568949699402, 0.032067783176898956, -0.012199015356600285, 0.07342750579118729, 0.012971277348697186, -0.04649269953370094, -0.06213059276342392, 0.049605220556259155, 0.049084797501564026, 0.3028598427772522, 0.09006156772375107, -0.03669902682304382, 0.01644241064786911, 0.09819547086954117, -0.0704953595995903, 0.044492971152067184, 0.10627279430627823, -0.022786827757954597, -0.06438110768795013, 0.0462973527610302, -0.007789704017341137, 0.02234639599919319, -0.013200750574469566, 0.031031368300318718, 0.1344446986913681, 0.0010678472463041544, 0.0180255975574255, -0.049928851425647736, -0.0010483774822205305, 0.021348994225263596, -0.0731472298502922, -0.08815465867519379, -0.1446959376335144, -0.013951905071735382, 0.0016464488580822945, -0.058528125286102295, -0.0004403670027386397, -0.05973377451300621, 0.04613589122891426, -0.10998570173978806, -0.0009233299060724676, -0.026123255491256714, -0.029074106365442276, -0.04991956055164337, 0.08857406675815582, -0.014840756542980671, 0.03449486941099167, 0.10214383155107498, 0.05734088644385338, -0.06506951153278351, -0.1656159907579422, 0.223514586687088, -0.04717574268579483, 0.025918416678905487, 0.02216286025941372, -0.11818908900022507, 0.01730935648083687, -0.050102751702070236, -0.0034403344616293907, -0.031439196318387985, -0.08322694897651672, 0.004516520071774721, 0.04321252927184105, 0.028538012877106667, -0.08305640518665314, -0.014230934903025627, -0.08738973736763, -0.10823052376508713, 0.01920504868030548, 0.016694920137524605, 0.020148340612649918, -0.006886692717671394, 0.05529200658202171, 0.07409728318452835, -0.012620705179870129, -0.0009291500318795443, 0.03140388801693916, -0.05464092642068863, 0.12553875148296356, 0.043438881635665894, -0.06606920808553696, -0.002000780776143074, 0.014563395641744137, -0.04859492555260658, 0.06109204143285751, -0.003203798085451126, -0.047718990594148636, 0.02472003735601902, -0.0514458529651165, 0.052597638219594955, -0.06260690838098526, 0.06902317702770233, 0.049984272569417953, -0.0634823739528656, -0.016320450231432915, 0.01540648564696312, -0.07616717368364334, 0.053710099309682846, 0.057457536458969116, 0.019727976992726326, -0.08425354957580566, 0.00142119568772614, -0.06536880880594254, 0.02334078587591648, 0.041909683495759964, -0.07263849675655365, -0.03198015317320824, 0.0517955981194973, 0.015116619877517223, -0.0022056838497519493, 0.06550449132919312, 0.01588955707848072, 0.08443079888820648, 0.004546819720417261, 0.058807436376810074, -0.011480514891445637, -0.33788707852363586, -0.029665330424904823, -0.040058817714452744, -0.00737762963399291, 0.09454695135354996, -0.05036541447043419, -0.08622042834758759, -0.052371636033058167, 0.04673409461975098, -0.00284396531060338, 0.05968464910984039, 0.021578580141067505, 0.029070548713207245, 0.0514216385781765, -0.009232264943420887, 0.037339311093091965, 0.0023401083890348673, -0.030187025666236877, -0.07397515326738358, -0.009842234663665295, -0.025736797600984573, 0.04639102518558502, -0.00946687813848257, -0.05628552287817001, 0.02323095314204693, 0.05932840332388878, 0.07955220341682434, -0.023430494591593742, -0.0446581095457077, 0.011211489327251911, -0.10490009933710098, -0.02273058332502842, -0.09868162870407104, -0.022105436772108078, -0.06677887588739395, 0.018695944920182228, -0.07859630137681961, -0.06509999930858612, 0.053747110068798065, 0.048234350979328156, 0.05849674716591835, 0.019761256873607635, -0.02856861613690853, -0.06736106425523758, -0.03935630992054939, -0.09537719190120697, -0.001020181574858725, -0.0869370847940445, -0.061402130872011185, -0.058941468596458435, -0.0784471184015274, 0.07952665537595749, 0.08267304301261902, -0.004007816780358553, -0.026131367310881615, 0.004916154779493809, 0.008589542470872402, -0.0071531482972204685, -0.055141631513834, 0.06278418749570847, 0.015800470486283302, 0.06546201556921005, -0.08803597092628479, -0.028524192050099373, 0.20657514035701752, -0.03321700543165207, -0.025407470762729645, -0.04982433468103409, 0.013701911084353924, 0.006937101949006319, -0.00573052279651165, 0.06803126633167267, -0.07394765317440033, 0.01530194841325283, -0.01387715246528387, 0.04035099595785141, -0.030468210577964783, -0.014185418374836445, 0.028927026316523552, -0.0052999528124928474, -0.12400389462709427, 0.08540117740631104, 0.00399703299626708, 0.041911255568265915, -0.04555647075176239, 0.04154709726572037, 0.02103002928197384, 0.004807839635759592, 0.037331581115722656, 0.044590871781110764, 0.021344417706131935, 0.005896972957998514, -0.005879849661141634, -0.007830030284821987, 0.001668403623625636, -0.018733566626906395, 0.0438268780708313, -0.05266537517309189, -0.6008085608482361, -0.052583567798137665, -0.02709224261343479, 0.02289753407239914, -0.0755913108587265, 0.04339177533984184, 0.024148672819137573, -0.06285357475280762, -0.015199407003819942, -0.00486340094357729, -0.01965155266225338, 0.0366775318980217, 0.09072605520486832, 0.0017275599529966712, -0.29249846935272217, -0.07494062185287476, 0.011680827476084232, 0.02379334345459938, 0.04643300920724869, 0.0551086850464344, -0.005906285718083382, 0.05821901932358742, 0.001167172915302217, 0.09121400117874146, -0.004986720625311136, 0.058444175869226456, -0.14109602570533752, 0.03198625519871712, 0.02019594796001911, -0.014323828741908073, -0.0077623468823730946, 0.005166677758097649, -0.14359597861766815, 0.13904109597206116, 0.04626893997192383, -0.05075053498148918, -0.015269049443304539, 0.06936117261648178, 0.026628859341144562, -0.0505320243537426, 0.023273948580026627, 0.021113507449626923, 0.09624424576759338, -0.026078982278704643, -0.06274428218603134, -0.09977725148200989, -0.02225201018154621, -0.03685710206627846, -0.04791799932718277, 0.061091747134923935, 0.05012986809015274, 0.07321812212467194, -0.13319067656993866, 0.014210568740963936, -0.08452533930540085, -0.0017635761760175228, 0.025824399664998055, 0.00937594473361969, 0.016769027337431908, -0.016830958425998688, 0.029416503384709358, 0.01912624016404152, -0.03610963001847267, -0.0013117771595716476, -0.04909876361489296, -0.06230113282799721, -0.026913950219750404, -0.0038735303096473217, 0.0999947339296341, 0.011178539134562016, -0.0031167909037321806, 0.0392986424267292, -0.06277530640363693, 0.009485826827585697, 0.003241667989641428, -0.014585256576538086, -0.045376285910606384, -0.04340672865509987, -0.01900833658874035, 0.006948457099497318, -0.08890493959188461, 0.06702819466590881, -0.031896818429231644, -0.05033184960484505, 0.04861556366086006, -0.016490856185555458, 0.06533237546682358, 0.1038665845990181, 0.03006148524582386, 0.003044353798031807, -0.05968135595321655, 0.054336320608854294, 0.014464630745351315, -0.04308073967695236, 0.10366415232419968, 0.015515022911131382, 0.010804476216435432, 0.017191709950566292, 0.0474553108215332, 0.09537286311388016, 0.08353934437036514, 0.06201940402388573, 0.09947195649147034, 0.18335454165935516, -0.013855956494808197, 0.005633210763335228, -0.09410569071769714, 0.004728386644273996, -0.09307264536619186, 0.0620233416557312, 0.15435799956321716, -0.018777713179588318, -0.005484431982040405, -0.001269345753826201, 0.22977712750434875, -0.08989014476537704, -0.032294757664203644, 0.0731208324432373, 0.033751025795936584, -0.0612051784992218, 0.03926213085651398, -0.05349262058734894, -0.012896455824375153, 0.0007079792558215559, 0.02775002270936966, -0.0169459767639637, 0.048499513417482376, -0.026049718260765076, 0.033916350454092026, -0.007172325626015663, -0.053570784628391266, 0.055848151445388794, 0.09053808450698853, 0.0961194634437561, 0.1162409856915474, 0.0009557349840179086, 0.09104540199041367, 0.040309906005859375, 0.020303677767515182, -0.05596334487199783, -0.020528271794319153, -0.04349576309323311, -0.08382963389158249, 0.035645171999931335, 0.03128437697887421, -0.00947654526680708, 0.009963002055883408, -0.03358854353427887, 0.03725231811404228, 0.03414507955312729, 0.10391548275947571, 0.0764550268650055, -0.021212950348854065, 0.1337672919034958, 0.006850088480859995, -0.0048756361939013, 0.007323217112571001, -0.05083250254392624, -0.034554727375507355, 0.04804813861846924, -0.011581973172724247, -0.0071651749312877655, 0.06616298854351044, -0.04493318125605583, -0.024583620950579643, -0.13023774325847626, 0.01944809779524803, -0.05357322469353676, -0.07196241617202759, 0.00969925057142973, 0.013537755236029625, -0.025381237268447876, 0.014027947559952736, 0.02465132810175419, 0.05857556313276291, -0.08970873057842255, 0.03643399104475975, -0.09205523133277893, -0.03763880208134651, -0.027395544573664665, -0.04015250876545906, -0.04955114424228668, -0.040788259357213974, -0.3631093204021454, 0.00447795120999217, 0.02458033710718155, -0.012855005450546741, 0.09998075664043427, 0.04924023151397705, 0.04519638419151306, 0.08758328855037689, 0.07451025396585464, -0.016597837209701538, 0.0752616599202156, -0.021775921806693077, -0.0068769012577831745, -0.063926562666893, -0.12562547624111176, -0.13710805773735046, 0.007259123958647251, 0.005929036997258663, -0.09195069223642349, -0.02853323519229889, -0.02499978244304657, 0.07233507931232452, 0.045487839728593826, -0.036736391484737396, 0.08596429228782654, 0.015072536654770374, 0.038306787610054016, 0.0005236018332652748, -0.04642145708203316, -0.05682656913995743, 0.028249474242329597, 0.02966589294373989, -0.029474671930074692, 0.11189740151166916, -0.02575084939599037, 0.023187853395938873, -0.0007203055429272354, -0.0551062636077404, 0.004558633081614971, -0.0029228886123746634, -0.08481680601835251, -0.033839885145425797, -0.07675154507160187, 0.05790196359157562, -0.10057791322469711, -0.0555073507130146, -0.008412639610469341, 0.0706186294555664, -0.005551931913942099, 0.08519154042005539, -0.06949388235807419, -0.025076936930418015, -0.07103151828050613, 5.472494602203369, -0.009944040328264236, 0.034694693982601166, -0.020135700702667236, -0.02380921132862568, -0.0789148285984993, 0.051507368683815, 0.00013710593339055777, 0.06102580577135086, 0.002868287032470107, 0.0854249894618988, 0.01565912924706936, 0.005648653022944927, -0.019583970308303833, -0.06813596189022064, 0.20787179470062256, -0.0661567747592926, -0.03333554416894913, -0.029060976579785347, -0.008484222926199436, 0.6087071299552917, 0.01554519310593605, 0.05541452392935753, 0.0011047546286135912, 0.02369004301726818, 0.07388797402381897, -0.03253502398729324, -0.09215031564235687, -0.034170523285865784, 0.025786761194467545, 0.019468409940600395, 0.03094085305929184, 0.012069749645888805, -0.058296069502830505, -0.049595803022384644, -0.059272050857543945, -0.09990803897380829, -0.011387733742594719, -0.0627954751253128, 0.04330573230981827, 0.06464394927024841, -0.03276045247912407, 0.03624611720442772, -0.024361353367567062, 0.03281645104289055, -0.0457366444170475, -0.3513182997703552, -0.050004102289676666, 0.10110766440629959, 0.0428965725004673, 0.03893779218196869, 0.18137389421463013, -0.04606326296925545, 0.04621174558997154, 0.26452717185020447, -2.122558116912842, 0.07637853175401688, -0.034906499087810516, -0.06467633694410324, -0.05386063829064369, -0.05049782991409302, -0.015763841569423676, 0.0672214925289154, 0.0012102203909307718, 0.03932933881878853, -0.005326812621206045, -0.0013997969217598438, 0.08355358988046646, 0.058997880667448044, -0.018681876361370087, 0.04127825051546097, -0.07263121753931046, -0.004020799417048693, -0.026739176362752914, 0.032372187823057175, 0.10257277637720108, 0.018405092880129814, 0.02731999382376671, -0.08342122286558151, 0.062190134078264236, 0.11214829236268997, -0.030695421621203423, 0.019214102998375893, 0.007426677271723747, -0.08022334426641464, 0.026677966117858887, 0.023946449160575867, -0.034738942980766296, -0.049387749284505844, 0.07560211420059204, 0.08246726542711258, -0.03377591818571091, 0.007368497550487518, -0.0011572407092899084, -0.09269807487726212, 0.09045171737670898, 0.04152129217982292, 0.0031680262181907892, 0.06463800370693207, 0.06119507923722267, 0.1594744175672531, -0.09375369548797607, 0.03801794350147247, 0.019841834902763367, -0.11521587520837784, 0.033026572316884995, -0.004398471210151911, 0.08539366722106934, 0.004164782352745533, -0.08424337208271027, 0.11829561740159988, -0.09148044884204865, -0.10892903059720993, 0.06161006540060043, 0.05279824882745743, 0.04547170549631119, -0.11403638869524002, 0.03981897234916687, 0.08447164297103882, 0.04822216555476189, 0.1271854192018509, 0.005085149314254522, 0.022623557597398758, -0.01842101663351059, -0.02054406702518463, -0.04925936833024025, -0.1058867797255516, -0.04922270029783249, -0.1957862228155136, 0.16012458503246307, 0.01124153845012188, -0.04844852164387703, 0.02118711732327938, -0.034329455345869064, -0.10808751732110977, -0.007432220969349146, -0.022468216717243195, -0.07434377074241638, 0.013172240927815437, -0.06835466623306274, -0.017304087057709694, 0.037147387862205505, 0.03595106303691864, 0.02428543195128441, -0.03024199791252613, 0.05361723527312279, 0.040039077401161194, -0.07771789282560349, -0.047055285423994064, -0.07575330883264542, -0.03248848766088486, -0.09655427932739258, -0.030302073806524277, -0.02320871502161026, -0.03447854146361351, 0.01388996746391058, -0.029833875596523285, 0.10661961883306503, 0.0797293484210968, -0.02941640093922615, -0.09042353928089142, -0.05054357647895813, 0.01940450258553028, -0.06187530979514122, 0.08710724860429764, 0.02410087361931801, -0.08860979974269867, -0.02164023369550705, 0.046684205532073975, -0.03998928144574165, -0.0652410238981247, -0.12102793157100677, 0.02377302572131157, -0.010445987805724144, -0.0031171308364719152, -0.00222186092287302, 0.018409067764878273, 0.02700832486152649, 0.006338275969028473, 0.021046631038188934, -0.08200915157794952, -0.022270241752266884, -0.05477079004049301, -0.13389426469802856, 0.14619524776935577, 0.05780354514718056, -0.04264219105243683, -0.04899732768535614, -0.0041262381710112095, -0.005075674969702959, 0.06748460233211517, -0.05633782967925072, -0.06699211150407791, 0.0009188289986923337, -0.08792474120855331, -0.06564715504646301, -0.0038796004373580217, -0.055361293256282806, -0.06889370828866959, -0.05783980339765549, 0.007448957301676273, -0.0074511365965008736, -0.08521718531847, 0.06964001059532166, 0.04750875011086464, 0.05343141034245491, 0.030716128647327423, 0.054636236280202866, 0.0027587583754211664, -0.06566774100065231, 0.026864921674132347, -0.02440078742802143, 0.028814848512411118, 0.03115168958902359, -0.04283330589532852, -0.0017147855833172798, 0.06205058470368385, -0.00851217657327652, 0.004190834239125252, 0.013188265264034271, 0.04272588714957237, 0.0726470872759819, -0.017735090106725693, 0.013498888351023197, -0.0601772703230381, -0.06986502557992935, 0.026598278433084488, 0.0076355477795004845, 0.0208283644169569, -0.05113572999835014, 0.03496040403842926, -0.02625912055373192, -0.02436349354684353, -0.07822578400373459, -0.12217666953802109, -0.01284153200685978, -0.0316799059510231, -0.01529690995812416, 0.030722005292773247, -0.10192390531301498, -0.005461153574287891, -0.055673953145742416, 0.06505056470632553, 0.013505139388144016, -0.005022092256695032, -0.008280671201646328, -0.048748042434453964, -0.1173165962100029, -0.058603473007678986, 0.08373354375362396, 0.030712706968188286, -0.06272052228450775, -0.008773572742938995, -0.024304557591676712, 0.07620314508676529]])]]\n"
          ]
        }
      ]
    },
    {
      "cell_type": "markdown",
      "metadata": {
        "id": "AuRYxkbO-h29"
      },
      "source": [
        "<b>Optional: Remove padding ([PAD]) and special tokens ([CLS],[SEP]) that is added by Bert model<b>"
      ]
    },
    {
      "cell_type": "code",
      "metadata": {
        "id": "HUL5nEBy-h2-"
      },
      "source": [
        "features = []\n",
        "\n",
        "for seq_num in range(len(embedding)):\n",
        "    seq_len = len(sequences_Example[seq_num].replace(\" \", \"\"))\n",
        "    start_Idx = 1\n",
        "    end_Idx = seq_len+1\n",
        "    seq_emd = embedding[seq_num][start_Idx:end_Idx]\n",
        "    features.append(seq_emd)"
      ],
      "execution_count": 12,
      "outputs": []
    },
    {
      "cell_type": "code",
      "metadata": {
        "id": "1-sP8qGp-h3B",
        "colab": {
          "base_uri": "https://localhost:8080/"
        },
        "outputId": "e85e1e52-225e-4a3d-e1a8-70b2d27321cb"
      },
      "source": [
        "print(features)"
      ],
      "execution_count": 13,
      "outputs": [
        {
          "output_type": "stream",
          "name": "stdout",
          "text": [
            "[array([], dtype=object), array([], dtype=object)]\n"
          ]
        }
      ]
    },
    {
      "cell_type": "code",
      "source": [],
      "metadata": {
        "id": "JJ-qT2dV9tr9"
      },
      "execution_count": null,
      "outputs": []
    }
  ]
}